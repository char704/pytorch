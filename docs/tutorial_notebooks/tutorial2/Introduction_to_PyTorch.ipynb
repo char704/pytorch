{
  "cells": [
    {
      "cell_type": "markdown",
      "metadata": {
        "id": "view-in-github",
        "colab_type": "text"
      },
      "source": [
        "<a href=\"https://colab.research.google.com/github/char704/pytorch/blob/main/docs/tutorial_notebooks/tutorial2/Introduction_to_PyTorch.ipynb\" target=\"_parent\"><img src=\"https://colab.research.google.com/assets/colab-badge.svg\" alt=\"Open In Colab\"/></a>"
      ]
    },
    {
      "cell_type": "markdown",
      "metadata": {
        "id": "luh6_bKHgmvT"
      },
      "source": [
        "# Tutorial 2: Introduction to PyTorch\n",
        "\n",
        "![Status](https://img.shields.io/static/v1.svg?label=Status&message=Finished&color=green)\n",
        "\n",
        "**Filled notebook:**\n",
        "[![View filled on Github](https://img.shields.io/static/v1.svg?logo=github&label=Repo&message=View%20On%20Github&color=lightgrey)](https://github.com/phlippe/uvadlc_notebooks/blob/master/docs/tutorial_notebooks/tutorial2/Introduction_to_PyTorch.ipynb)\n",
        "[![Open filled In Collab](https://colab.research.google.com/assets/colab-badge.svg)](https://colab.research.google.com/github/phlippe/uvadlc_notebooks/blob/master/docs/tutorial_notebooks/tutorial2/Introduction_to_PyTorch.ipynb)   \n",
        "**Recordings:**\n",
        "[![YouTube - Part 1](https://img.shields.io/static/v1.svg?logo=youtube&label=YouTube&message=Part%201&color=red)](https://youtu.be/wnKZZgFQY-E)\n",
        "[![YouTube - Part 2](https://img.shields.io/static/v1.svg?logo=youtube&label=YouTube&message=Part%202&color=red)](https://youtu.be/schbjeU5X2g)    \n",
        "**Author:** Phillip Lippe"
      ]
    },
    {
      "cell_type": "markdown",
      "metadata": {
        "id": "1bAzb7kWgmvU"
      },
      "source": [
        "Welcome to our PyTorch tutorial for the Deep Learning course at the University of Amsterdam! The following notebook is meant to give a short introduction to PyTorch basics, and get you setup for writing your own neural networks. PyTorch is an open source machine learning framework that allows you to write your own neural networks and optimize them efficiently. However, PyTorch is not the only framework of its kind. Alternatives to PyTorch include [TensorFlow](https://www.tensorflow.org/), [JAX](https://github.com/google/jax#quickstart-colab-in-the-cloud) and [Caffe](http://caffe.berkeleyvision.org/). We choose to teach PyTorch at the University of Amsterdam because it is well established, has a huge developer community (originally developed by Facebook), is very flexible and especially used in research. Many current papers publish their code in PyTorch, and thus it is good to be familiar with PyTorch as well.\n",
        "Meanwhile, TensorFlow (developed by Google) is usually known for being a production-grade deep learning library. Still, if you know one machine learning framework in depth, it is very easy to learn another one because many of them use the same concepts and ideas. For instance, TensorFlow's version 2 was heavily inspired by the most popular features of PyTorch, making the frameworks even more similar.\n",
        "If you are already familiar with PyTorch and have created your own neural network projects, feel free to just skim this notebook.\n",
        "\n",
        "We are of course not the first ones to create a PyTorch tutorial. There are many great tutorials online, including the [\"60-min blitz\"](https://pytorch.org/tutorials/beginner/deep_learning_60min_blitz.html) on the official [PyTorch website](https://pytorch.org/tutorials/). Yet, we choose to create our own tutorial which is designed to give you the basics particularly necessary for the practicals, but still understand how PyTorch works under the hood. Over the next few weeks, we will also keep exploring new PyTorch features in the series of Jupyter notebook tutorials about deep learning.\n",
        "\n",
        "We will use a set of standard libraries that are often used in machine learning projects. If you are running this notebook on Google Colab, all libraries should be pre-installed. If you are running this notebook locally, make sure you have installed our `dl2024` environment and have activated it."
      ]
    },
    {
      "cell_type": "code",
      "execution_count": 1,
      "metadata": {
        "colab": {
          "base_uri": "https://localhost:8080/"
        },
        "id": "hxRX8mVWgmvU",
        "outputId": "7725277b-cd6a-4941-9d7e-29682b2c21c3"
      },
      "outputs": [
        {
          "output_type": "stream",
          "name": "stderr",
          "text": [
            "<ipython-input-1-ef889392170e>:11: DeprecationWarning: `set_matplotlib_formats` is deprecated since IPython 7.23, directly use `matplotlib_inline.backend_inline.set_matplotlib_formats()`\n",
            "  set_matplotlib_formats('svg', 'pdf') # For export\n"
          ]
        }
      ],
      "source": [
        "## Standard libraries\n",
        "import os\n",
        "import math\n",
        "import numpy as np\n",
        "import time\n",
        "\n",
        "## Imports for plotting\n",
        "import matplotlib.pyplot as plt\n",
        "%matplotlib inline\n",
        "from IPython.display import set_matplotlib_formats\n",
        "set_matplotlib_formats('svg', 'pdf') # For export\n",
        "from matplotlib.colors import to_rgba\n",
        "import seaborn as sns\n",
        "sns.set()\n",
        "\n",
        "## Progress bar\n",
        "from tqdm.notebook import tqdm"
      ]
    },
    {
      "cell_type": "markdown",
      "source": [
        "*download necessary libraries"
      ],
      "metadata": {
        "id": "q4xNFJOYgukJ"
      }
    },
    {
      "cell_type": "markdown",
      "metadata": {
        "id": "siox_frmgmvV"
      },
      "source": [
        "## The Basics of PyTorch\n",
        "\n",
        "We will start with reviewing the very basic concepts of PyTorch. As a prerequisite, we recommend to be familiar with the `numpy` package as most machine learning frameworks are based on very similar concepts. If you are not familiar with numpy yet, don't worry: here is a [tutorial](https://numpy.org/devdocs/user/quickstart.html) to go through.\n",
        "\n",
        "So, let's start with importing PyTorch. The package is called `torch`, based on its original framework [Torch](http://torch.ch/). As a first step, we can check its version:"
      ]
    },
    {
      "cell_type": "code",
      "execution_count": 2,
      "metadata": {
        "colab": {
          "base_uri": "https://localhost:8080/"
        },
        "id": "hA1kbKVXgmvV",
        "outputId": "188ff815-d5e0-4927-ed64-670df8c1f02c"
      },
      "outputs": [
        {
          "output_type": "stream",
          "name": "stdout",
          "text": [
            "Using torch 2.5.1+cu124\n"
          ]
        }
      ],
      "source": [
        "import torch\n",
        "print(\"Using torch\", torch.__version__)"
      ]
    },
    {
      "cell_type": "markdown",
      "source": [
        "*check version torch (v2.5.1)"
      ],
      "metadata": {
        "id": "MfYEDOjkhEuq"
      }
    },
    {
      "cell_type": "markdown",
      "metadata": {
        "id": "G-ChFEFHgmvW"
      },
      "source": [
        "At the time of writing this tutorial (end of October 2024), the current stable version is 2.4. You should therefore see the output `Using torch 2.4.1`, eventually with some extension for the CUDA version on Colab. In case you use the `dl2024` environment, you should see `Using torch 2.4.1`. In general, it is recommended to keep the PyTorch version updated to the newest one. If you see a lower version number than 2.3, make sure you have installed the correct environment, or ask one of your TAs. In case PyTorch 2.5 or newer will be published during the time of the course, don't worry. The interface between PyTorch versions doesn't change too much, and hence all code should also be runnable with newer versions.\n",
        "\n",
        "As in every machine learning framework, PyTorch provides functions that are stochastic like generating random numbers. However, a very good practice is to setup your code to be reproducible with the exact same random numbers. This is why we set a seed below."
      ]
    },
    {
      "cell_type": "code",
      "execution_count": 3,
      "metadata": {
        "colab": {
          "base_uri": "https://localhost:8080/"
        },
        "id": "eB3fIL51gmvW",
        "outputId": "99d129c0-d3f9-4e10-e596-57de76d8aa96"
      },
      "outputs": [
        {
          "output_type": "stream",
          "name": "stdout",
          "text": [
            "tensor([0.3367, 0.1288, 0.2345])\n"
          ]
        }
      ],
      "source": [
        "torch.manual_seed(42) # Setting the seed\n",
        "print(torch.randn(3))"
      ]
    },
    {
      "cell_type": "markdown",
      "source": [
        "*Đặt seed giúp kết quả ngẫu nhiên có thể lặp lại, rất quan trọng khi huấn luyện mô hình để đảm bảo tính tái lập (reproducibility).Thông thường chọn 42"
      ],
      "metadata": {
        "id": "Yt93MnuBjDDa"
      }
    },
    {
      "cell_type": "markdown",
      "metadata": {
        "id": "6RhyEIcAgmvW"
      },
      "source": [
        "### Tensors\n",
        "\n",
        "Tensors are the PyTorch equivalent to Numpy arrays, with the addition to also have support for GPU acceleration (more on that later).\n",
        "The name \"tensor\" is a generalization of concepts you already know. For instance, a vector is a 1-D tensor, and a matrix a 2-D tensor. When working with neural networks, we will use tensors of various shapes and number of dimensions.\n",
        "\n",
        "Most common functions you know from numpy can be used on tensors as well. Actually, since numpy arrays are so similar to tensors, we can convert most tensors to numpy arrays (and back) but we don't need it too often.\n",
        "\n",
        "#### Initialization\n",
        "\n",
        "Let's first start by looking at different ways of creating a tensor. There are many possible options, the simplest one is to call `torch.Tensor` passing the desired shape as input argument:"
      ]
    },
    {
      "cell_type": "code",
      "execution_count": 4,
      "metadata": {
        "colab": {
          "base_uri": "https://localhost:8080/"
        },
        "id": "jn-JDVjEgmvW",
        "outputId": "0b93c962-9775-4992-ab7d-421ab140b609"
      },
      "outputs": [
        {
          "output_type": "stream",
          "name": "stdout",
          "text": [
            "tensor([[[-3.0501e+23,  4.5663e-41, -3.0501e+23,  4.5663e-41],\n",
            "         [ 0.0000e+00,  0.0000e+00,  0.0000e+00,  0.0000e+00],\n",
            "         [ 1.5540e-42,  6.4632e-26,  4.9455e-33,  0.0000e+00]],\n",
            "\n",
            "        [[ 1.6816e-44, -2.0415e+11,  4.9455e-33,  0.0000e+00],\n",
            "         [ 1.5526e-42,  6.4649e-27,  4.9455e-33,  0.0000e+00],\n",
            "         [ 1.6816e-44,  0.0000e+00,  4.9456e-33,  0.0000e+00]]])\n"
          ]
        }
      ],
      "source": [
        "x = torch.Tensor(2, 3, 4)\n",
        "print(x)"
      ]
    },
    {
      "cell_type": "markdown",
      "source": [
        "*2 ma trận, 3 hàng, 4 cột"
      ],
      "metadata": {
        "id": "N1FPLbadkfH6"
      }
    },
    {
      "cell_type": "markdown",
      "metadata": {
        "id": "1Bt01JyCgmvW"
      },
      "source": [
        "The function `torch.Tensor` allocates memory for the desired tensor, but reuses any values that have already been in the memory. To directly assign values to the tensor during initialization, there are many alternatives including:\n",
        "\n",
        "* `torch.zeros`: Creates a tensor filled with zeros\n",
        "* `torch.ones`: Creates a tensor filled with ones\n",
        "* `torch.rand`: Creates a tensor with random values uniformly sampled between 0 and 1\n",
        "* `torch.randn`: Creates a tensor with random values sampled from a normal distribution with mean 0 and variance 1\n",
        "* `torch.arange`: Creates a tensor containing the values $N,N+1,N+2,...,M$\n",
        "* `torch.Tensor` (input list): Creates a tensor from the list elements you provide"
      ]
    },
    {
      "cell_type": "code",
      "execution_count": 5,
      "metadata": {
        "colab": {
          "base_uri": "https://localhost:8080/"
        },
        "id": "f3WauUp_gmvW",
        "outputId": "b43e8451-4981-4dbf-c225-3ca0bb87da8f"
      },
      "outputs": [
        {
          "output_type": "stream",
          "name": "stdout",
          "text": [
            "tensor([[1., 2.],\n",
            "        [3., 4.]])\n"
          ]
        }
      ],
      "source": [
        "# Create a tensor from a (nested) list\n",
        "x = torch.Tensor([[1, 2], [3, 4]])\n",
        "print(x)"
      ]
    },
    {
      "cell_type": "markdown",
      "source": [
        "*tensor 2d (chỉ có hàng và cột)"
      ],
      "metadata": {
        "id": "MULLDd5pljhi"
      }
    },
    {
      "cell_type": "code",
      "execution_count": 6,
      "metadata": {
        "colab": {
          "base_uri": "https://localhost:8080/"
        },
        "id": "oN9UxUXFgmvX",
        "outputId": "5ab927d6-025a-47e8-8630-f33d4af7c824"
      },
      "outputs": [
        {
          "output_type": "stream",
          "name": "stdout",
          "text": [
            "tensor([[[0.9408, 0.1332, 0.9346, 0.5936],\n",
            "         [0.8694, 0.5677, 0.7411, 0.4294],\n",
            "         [0.8854, 0.5739, 0.2666, 0.6274]],\n",
            "\n",
            "        [[0.2696, 0.4414, 0.2969, 0.8317],\n",
            "         [0.1053, 0.2695, 0.3588, 0.1994],\n",
            "         [0.5472, 0.0062, 0.9516, 0.0753]]])\n"
          ]
        }
      ],
      "source": [
        "# Create a tensor with random values between 0 and 1 with the shape [2, 3, 4]\n",
        "x = torch.rand(2, 3, 4)\n",
        "print(x)"
      ]
    },
    {
      "cell_type": "markdown",
      "source": [
        "*giá trị trong torch.rand random chỉ từ 0 đến 1"
      ],
      "metadata": {
        "id": "zENFapA8mPaK"
      }
    },
    {
      "cell_type": "markdown",
      "metadata": {
        "id": "xYDxtTMggmvX"
      },
      "source": [
        "You can obtain the shape of a tensor in the same way as in numpy (`x.shape`), or using the `.size` method:"
      ]
    },
    {
      "cell_type": "code",
      "execution_count": 7,
      "metadata": {
        "colab": {
          "base_uri": "https://localhost:8080/"
        },
        "id": "VTADktVagmvX",
        "outputId": "0597c1cb-a08b-4a3b-96eb-5c6fc007f2c6"
      },
      "outputs": [
        {
          "output_type": "stream",
          "name": "stdout",
          "text": [
            "Shape: torch.Size([2, 3, 4])\n",
            "Size: torch.Size([2, 3, 4])\n",
            "Size: 2 3 4\n"
          ]
        }
      ],
      "source": [
        "shape = x.shape\n",
        "print(\"Shape:\", x.shape)\n",
        "\n",
        "size = x.size()\n",
        "print(\"Size:\", size)\n",
        "\n",
        "dim1, dim2, dim3 = x.size()\n",
        "print(\"Size:\", dim1, dim2, dim3)"
      ]
    },
    {
      "cell_type": "markdown",
      "source": [
        "*in ra kích thước của tensor, phía trên là kích thước 1 tensor 3d"
      ],
      "metadata": {
        "id": "6o8jVc7yoUbJ"
      }
    },
    {
      "cell_type": "markdown",
      "metadata": {
        "id": "Xn7pEIC3gmvX"
      },
      "source": [
        "#### Tensor to Numpy, and Numpy to Tensor\n",
        "\n",
        "Tensors can be converted to numpy arrays, and numpy arrays back to tensors. To transform a numpy array into a tensor, we can use the function `torch.from_numpy`:"
      ]
    },
    {
      "cell_type": "code",
      "execution_count": 8,
      "metadata": {
        "colab": {
          "base_uri": "https://localhost:8080/"
        },
        "id": "igrkl9EDgmvX",
        "outputId": "3f03b71e-51bf-408d-a978-05507dffd072"
      },
      "outputs": [
        {
          "output_type": "stream",
          "name": "stdout",
          "text": [
            "Numpy array: [[1 2]\n",
            " [3 4]]\n",
            "PyTorch tensor: tensor([[1, 2],\n",
            "        [3, 4]])\n"
          ]
        }
      ],
      "source": [
        "np_arr = np.array([[1, 2], [3, 4]])\n",
        "tensor = torch.from_numpy(np_arr)\n",
        "\n",
        "print(\"Numpy array:\", np_arr)\n",
        "print(\"PyTorch tensor:\", tensor)"
      ]
    },
    {
      "cell_type": "markdown",
      "source": [
        "*dùng torch.from_numpy để chuyển numpy array sang tensor. tensor sẽ tự thay đổi theo giá trị của numpy array"
      ],
      "metadata": {
        "id": "I0OUylJwpjDK"
      }
    },
    {
      "cell_type": "markdown",
      "metadata": {
        "id": "UrxW4G8_gmvX"
      },
      "source": [
        "To transform a PyTorch tensor back to a numpy array, we can use the function `.numpy()` on tensors:"
      ]
    },
    {
      "cell_type": "code",
      "execution_count": 9,
      "metadata": {
        "colab": {
          "base_uri": "https://localhost:8080/"
        },
        "id": "3JnSVOLUgmvX",
        "outputId": "e2edaa59-5af2-4884-d106-6eb807a6b0fb"
      },
      "outputs": [
        {
          "output_type": "stream",
          "name": "stdout",
          "text": [
            "PyTorch tensor: tensor([0, 1, 2, 3])\n",
            "Numpy array: [0 1 2 3]\n"
          ]
        }
      ],
      "source": [
        "tensor = torch.arange(4)\n",
        "np_arr = tensor.numpy()\n",
        "\n",
        "print(\"PyTorch tensor:\", tensor)\n",
        "print(\"Numpy array:\", np_arr)"
      ]
    },
    {
      "cell_type": "markdown",
      "source": [
        "*tương tự from_numpy nhưng .numpy() sẽ chuyển tensor sang numpy array"
      ],
      "metadata": {
        "id": "BRwPlaosqghp"
      }
    },
    {
      "cell_type": "markdown",
      "metadata": {
        "id": "Y70KfdifgmvX"
      },
      "source": [
        "The conversion of tensors to numpy require the tensor to be on the CPU, and not the GPU (more on GPU support in a later section). In case you have a tensor on GPU, you need to call `.cpu()` on the tensor beforehand. Hence, you get a line like `np_arr = tensor.cpu().numpy()`."
      ]
    },
    {
      "cell_type": "markdown",
      "source": [
        "*nếu dùng gpu để chạy thì nếu muốn chuyển sang numpy array thì thêm .cpu() vì numpy array chỉ dùng cpu để tính toán"
      ],
      "metadata": {
        "id": "SK2mrQFZqx2H"
      }
    },
    {
      "cell_type": "markdown",
      "metadata": {
        "id": "yutPM0jygmvX"
      },
      "source": [
        "#### Operations\n",
        "\n",
        "Most operations that exist in numpy, also exist in PyTorch. A full list of operations can be found in the [PyTorch documentation](https://pytorch.org/docs/stable/tensors.html#), but we will review the most important ones here.\n",
        "\n",
        "The simplest operation is to add two tensors:"
      ]
    },
    {
      "cell_type": "code",
      "execution_count": 10,
      "metadata": {
        "colab": {
          "base_uri": "https://localhost:8080/"
        },
        "id": "JIoaHSplgmvX",
        "outputId": "f2b3d3df-8505-467a-964f-0785ad82a6ad"
      },
      "outputs": [
        {
          "output_type": "stream",
          "name": "stdout",
          "text": [
            "X1 tensor([[0.8860, 0.5832, 0.3376],\n",
            "        [0.8090, 0.5779, 0.9040]])\n",
            "X2 tensor([[0.5547, 0.3423, 0.6343],\n",
            "        [0.3644, 0.7104, 0.9464]])\n",
            "Y tensor([[1.4407, 0.9255, 0.9720],\n",
            "        [1.1734, 1.2884, 1.8504]])\n"
          ]
        }
      ],
      "source": [
        "x1 = torch.rand(2, 3)\n",
        "x2 = torch.rand(2, 3)\n",
        "y = x1 + x2\n",
        "\n",
        "print(\"X1\", x1)\n",
        "print(\"X2\", x2)\n",
        "print(\"Y\", y)"
      ]
    },
    {
      "cell_type": "markdown",
      "source": [
        "*x1 và x2 là tensor 2d, giá trị y là cộng ma trận giữa x1 và x2"
      ],
      "metadata": {
        "id": "yJSVupJys3Rq"
      }
    },
    {
      "cell_type": "markdown",
      "metadata": {
        "id": "gQOMIQvngmvY"
      },
      "source": [
        "Calling `x1 + x2` creates a new tensor containing the sum of the two inputs. However, we can also use in-place operations that are applied directly on the memory of a tensor. We therefore change the values of `x2` without the chance to re-accessing the values of `x2` before the operation. An example is shown below:"
      ]
    },
    {
      "cell_type": "code",
      "execution_count": 11,
      "metadata": {
        "id": "tw05li3cgmvY",
        "outputId": "b8e7f3a3-4c3c-48e4-8885-75cbe0a71b61",
        "colab": {
          "base_uri": "https://localhost:8080/"
        }
      },
      "outputs": [
        {
          "output_type": "stream",
          "name": "stdout",
          "text": [
            "X1 (before) tensor([[0.7890, 0.2814, 0.7886],\n",
            "        [0.5895, 0.7539, 0.1952]])\n",
            "X2 (before) tensor([[0.0050, 0.3068, 0.1165],\n",
            "        [0.9103, 0.6440, 0.7071]])\n",
            "X1 (after) tensor([[0.7890, 0.2814, 0.7886],\n",
            "        [0.5895, 0.7539, 0.1952]])\n",
            "X2 (after) tensor([[0.7941, 0.5882, 0.9051],\n",
            "        [1.4997, 1.3979, 0.9024]])\n"
          ]
        }
      ],
      "source": [
        "x1 = torch.rand(2, 3)\n",
        "x2 = torch.rand(2, 3)\n",
        "print(\"X1 (before)\", x1)\n",
        "print(\"X2 (before)\", x2)\n",
        "\n",
        "x2.add_(x1)\n",
        "print(\"X1 (after)\", x1)\n",
        "print(\"X2 (after)\", x2)"
      ]
    },
    {
      "cell_type": "markdown",
      "source": [
        "*thêm dấu gạch dưới (_) sau add có nghĩa là cộng in_place tức là giá trị x2 sẽ được cộng thêm x1 và giá trị x2 sẽ thay đổi hoàn toàn. Nếu không có gạch dưới thì phải tạo thêm 1 giá trị mới y (y = x1.add(x2)) khi này giá trị x1 và x2 sẽ được giữ nguyên"
      ],
      "metadata": {
        "id": "RvL5o_4ouHsS"
      }
    },
    {
      "cell_type": "markdown",
      "metadata": {
        "id": "hCCqkJoWgmvY"
      },
      "source": [
        "In-place operations are usually marked with a underscore postfix (e.g. \"add_\" instead of \"add\").\n",
        "\n",
        "Another common operation aims at changing the shape of a tensor. A tensor of size (2,3) can be re-organized to any other shape with the same number of elements (e.g. a tensor of size (6), or (3,2), ...). In PyTorch, this operation is called `view`:"
      ]
    },
    {
      "cell_type": "code",
      "execution_count": 12,
      "metadata": {
        "colab": {
          "base_uri": "https://localhost:8080/"
        },
        "id": "WpY3-kKrgmvY",
        "outputId": "b491bcbf-bd14-4d9e-fa7d-380676096ca7"
      },
      "outputs": [
        {
          "output_type": "stream",
          "name": "stdout",
          "text": [
            "X tensor([0, 1, 2, 3, 4, 5])\n"
          ]
        }
      ],
      "source": [
        "x = torch.arange(6)\n",
        "print(\"X\", x)"
      ]
    },
    {
      "cell_type": "markdown",
      "source": [
        "*torch.arrange(start, end, step) mặc định là (0,n,1)"
      ],
      "metadata": {
        "id": "J2YEj6SfvZAz"
      }
    },
    {
      "cell_type": "code",
      "execution_count": 13,
      "metadata": {
        "colab": {
          "base_uri": "https://localhost:8080/"
        },
        "id": "PCXbMTXygmvY",
        "outputId": "f9b7984e-04ee-4e75-a1fe-c961d7e4ea95"
      },
      "outputs": [
        {
          "output_type": "stream",
          "name": "stdout",
          "text": [
            "X tensor([[0, 1, 2],\n",
            "        [3, 4, 5]])\n"
          ]
        }
      ],
      "source": [
        "x = x.view(2, 3)\n",
        "print(\"X\", x)"
      ]
    },
    {
      "cell_type": "markdown",
      "source": [
        "*tensor.view(*shape) thay đổi hình dạng tensor, như ví dụ là chuyển từ tensor 1 chiều thành tensor 2 chiều. Chỉ có thể chuyển đổi khi số phần tử bằng nhau"
      ],
      "metadata": {
        "id": "gs86xdCmwMrZ"
      }
    },
    {
      "cell_type": "code",
      "execution_count": 14,
      "metadata": {
        "colab": {
          "base_uri": "https://localhost:8080/"
        },
        "id": "uX50yRb4gmvY",
        "outputId": "b70fb1e1-38c4-4303-94ec-3d2f3b6d3dfb"
      },
      "outputs": [
        {
          "output_type": "stream",
          "name": "stdout",
          "text": [
            "X tensor([[0, 3],\n",
            "        [1, 4],\n",
            "        [2, 5]])\n"
          ]
        }
      ],
      "source": [
        "x = x.permute(1, 0) # Swapping dimension 0 and 1\n",
        "print(\"X\", x)"
      ]
    },
    {
      "cell_type": "markdown",
      "source": [
        "*ban đầu tensor 2 hàng 3 cột khi dùng permute(1,0) thì hoán đổi chiều 0(hàng) với chiều 1(cột)->2 cột 3 hàng"
      ],
      "metadata": {
        "id": "zRfjkujexeya"
      }
    },
    {
      "cell_type": "markdown",
      "metadata": {
        "id": "wpaWmM-ygmvY"
      },
      "source": [
        "Other commonly used operations include matrix multiplications, which are essential for neural networks. Quite often, we have an input vector $\\mathbf{x}$, which is transformed using a learned weight matrix $\\mathbf{W}$. There are multiple ways and functions to perform matrix multiplication, some of which we list below:\n",
        "\n",
        "* `torch.matmul`: Performs the matrix product over two tensors, where the specific behavior depends on the dimensions. If both inputs are matrices (2-dimensional tensors), it performs the standard matrix product. For higher dimensional inputs, the function supports broadcasting (for details see the [documentation](https://pytorch.org/docs/stable/generated/torch.matmul.html?highlight=matmul#torch.matmul)). Can also be written as `a @ b`, similar to numpy.\n",
        "* `torch.mm`: Performs the matrix product over two matrices, but doesn't support broadcasting (see [documentation](https://pytorch.org/docs/stable/generated/torch.mm.html?highlight=torch%20mm#torch.mm))\n",
        "* `torch.bmm`: Performs the matrix product with a support batch dimension. If the first tensor $T$ is of shape ($b\\times n\\times m$), and the second tensor $R$ ($b\\times m\\times p$), the output $O$ is of shape ($b\\times n\\times p$), and has been calculated by performing $b$ matrix multiplications of the submatrices of $T$ and $R$: $O_i = T_i @ R_i$\n",
        "* `torch.einsum`: Performs matrix multiplications and more (i.e. sums of products) using the Einstein summation convention. Explanation of the Einstein sum can be found in assignment 1.\n",
        "\n",
        "Usually, we use `torch.matmul` or `torch.bmm`. We can try a matrix multiplication with `torch.matmul` below."
      ]
    },
    {
      "cell_type": "code",
      "execution_count": 15,
      "metadata": {
        "colab": {
          "base_uri": "https://localhost:8080/"
        },
        "id": "Nv21s1zQgmvY",
        "outputId": "8e781047-73b8-4d8d-8425-5b1318c6dd41"
      },
      "outputs": [
        {
          "output_type": "stream",
          "name": "stdout",
          "text": [
            "X tensor([[0, 1, 2],\n",
            "        [3, 4, 5]])\n"
          ]
        }
      ],
      "source": [
        "x = torch.arange(6)\n",
        "x = x.view(2, 3)\n",
        "print(\"X\", x)"
      ]
    },
    {
      "cell_type": "code",
      "execution_count": 16,
      "metadata": {
        "colab": {
          "base_uri": "https://localhost:8080/"
        },
        "id": "fQk47AxogmvY",
        "outputId": "6cfbe907-4fa4-4fca-e8b6-6bbee5f452e8"
      },
      "outputs": [
        {
          "output_type": "stream",
          "name": "stdout",
          "text": [
            "W tensor([[0, 1, 2],\n",
            "        [3, 4, 5],\n",
            "        [6, 7, 8]])\n"
          ]
        }
      ],
      "source": [
        "W = torch.arange(9).view(3, 3) # We can also stack multiple operations in a single line\n",
        "print(\"W\", W)"
      ]
    },
    {
      "cell_type": "code",
      "execution_count": 17,
      "metadata": {
        "colab": {
          "base_uri": "https://localhost:8080/"
        },
        "id": "XX93HbcPgmvY",
        "outputId": "ec486c1f-2078-426e-b7b8-a7e855378252"
      },
      "outputs": [
        {
          "output_type": "stream",
          "name": "stdout",
          "text": [
            "h tensor([[15, 18, 21],\n",
            "        [42, 54, 66]])\n"
          ]
        }
      ],
      "source": [
        "h = torch.matmul(x, W) # Verify the result by calculating it by hand too!\n",
        "print(\"h\", h)"
      ]
    },
    {
      "cell_type": "markdown",
      "source": [
        "*torch.matmul là phép nhân ma trận. Các trường hợp sử dụng: 2 tensor 2d, 2 tensor 1d, tensor 1d * tensor 2d và các tensor là 3d"
      ],
      "metadata": {
        "id": "-DaA-mdeATOA"
      }
    },
    {
      "cell_type": "markdown",
      "metadata": {
        "id": "rRnOy_sAgmvZ"
      },
      "source": [
        "#### Indexing\n",
        "\n",
        "We often have the situation where we need to select a part of a tensor. Indexing works just like in numpy, so let's try it:"
      ]
    },
    {
      "cell_type": "code",
      "execution_count": 18,
      "metadata": {
        "id": "8wxcY0sLgmvZ",
        "outputId": "448fd6d0-157f-4863-c657-c9b897399354",
        "colab": {
          "base_uri": "https://localhost:8080/"
        }
      },
      "outputs": [
        {
          "output_type": "stream",
          "name": "stdout",
          "text": [
            "X tensor([[ 0,  1,  2,  3],\n",
            "        [ 4,  5,  6,  7],\n",
            "        [ 8,  9, 10, 11]])\n"
          ]
        }
      ],
      "source": [
        "x = torch.arange(12).view(3, 4)\n",
        "print(\"X\", x)"
      ]
    },
    {
      "cell_type": "code",
      "execution_count": 19,
      "metadata": {
        "id": "QvqGiqFSgmvZ",
        "outputId": "7242998d-9767-43b7-f7f8-27473f8c764e",
        "colab": {
          "base_uri": "https://localhost:8080/"
        }
      },
      "outputs": [
        {
          "output_type": "stream",
          "name": "stdout",
          "text": [
            "tensor([1, 5, 9])\n"
          ]
        }
      ],
      "source": [
        "print(x[:, 1])   # Second column"
      ]
    },
    {
      "cell_type": "code",
      "execution_count": 20,
      "metadata": {
        "id": "chU1hp8YgmvZ",
        "outputId": "ee4bf86a-43d5-4d42-d674-a411ded0f561",
        "colab": {
          "base_uri": "https://localhost:8080/"
        }
      },
      "outputs": [
        {
          "output_type": "stream",
          "name": "stdout",
          "text": [
            "tensor([0, 1, 2, 3])\n"
          ]
        }
      ],
      "source": [
        "print(x[0])      # First row"
      ]
    },
    {
      "cell_type": "code",
      "execution_count": 21,
      "metadata": {
        "id": "YFcei5dggmvZ",
        "outputId": "de25eb9e-e952-4396-f02b-3c5121780c05",
        "colab": {
          "base_uri": "https://localhost:8080/"
        }
      },
      "outputs": [
        {
          "output_type": "stream",
          "name": "stdout",
          "text": [
            "tensor([3, 7])\n"
          ]
        }
      ],
      "source": [
        "print(x[:2, -1]) # First two rows, last column"
      ]
    },
    {
      "cell_type": "markdown",
      "source": [
        "* :2 nghĩa là lấy 2 hàng đầu tiên, -1 nghĩa là lấy cột cuối cùng tương tự ta có -2 là kế cuối,...."
      ],
      "metadata": {
        "id": "nQ7EJFytMg3n"
      }
    },
    {
      "cell_type": "code",
      "execution_count": 22,
      "metadata": {
        "id": "zpfEqV2jgmvZ",
        "outputId": "634f35b5-f492-4be9-bd86-0fe22c2d6ab7",
        "colab": {
          "base_uri": "https://localhost:8080/"
        }
      },
      "outputs": [
        {
          "output_type": "stream",
          "name": "stdout",
          "text": [
            "tensor([[ 4,  5,  6,  7],\n",
            "        [ 8,  9, 10, 11]])\n",
            "tensor([[ 0,  1,  2,  3],\n",
            "        [ 4,  5,  6,  7],\n",
            "        [ 8,  9, 10, 11]])\n"
          ]
        }
      ],
      "source": [
        "print(x[1:3, :]) # Middle two rows\n",
        "print(x[:,:])"
      ]
    },
    {
      "cell_type": "markdown",
      "source": [
        "* 1:3 là lấy hàng 1 và 2 không bao gồm hàng 3, : nghĩa là lấy hết (ở đây là lấy hết giá trị cột)"
      ],
      "metadata": {
        "id": "xtusqpmgNU8O"
      }
    },
    {
      "cell_type": "markdown",
      "metadata": {
        "id": "hfL0nS5NgmvZ"
      },
      "source": [
        "### Dynamic Computation Graph and Backpropagation\n",
        "\n",
        "One of the main reasons for using PyTorch in Deep Learning projects is that we can automatically get **gradients/derivatives** of functions that we define. We will mainly use PyTorch for implementing neural networks, and they are just fancy functions. If we use weight matrices in our function that we want to learn, then those are called the **parameters** or simply the **weights**.\n",
        "\n",
        "If our neural network would output a single scalar value, we would talk about taking the **derivative**, but you will see that quite often we will have **multiple** output variables (\"values\"); in that case we talk about **gradients**. It's a more general term.\n",
        "\n",
        "Given an input $\\mathbf{x}$, we define our function by **manipulating** that input, usually by matrix-multiplications with weight matrices and additions with so-called bias vectors. As we manipulate our input, we are automatically creating a **computational graph**. This graph shows how to arrive at our output from our input.\n",
        "PyTorch is a **define-by-run** framework; this means that we can just do our manipulations, and PyTorch will keep track of that graph for us. Thus, we create a dynamic computation graph along the way.\n",
        "\n",
        "So, to recap: the only thing we have to do is to compute the **output**, and then we can ask PyTorch to automatically get the **gradients**.\n",
        "\n",
        "> **Note:  Why do we want gradients?** Consider that we have defined a function, a neural net, that is supposed to compute a certain output $y$ for an input vector $\\mathbf{x}$. We then define an **error measure** that tells us how wrong our network is; how bad it is in predicting output $y$ from input $\\mathbf{x}$. Based on this error measure, we can use the gradients to **update** the weights $\\mathbf{W}$ that were responsible for the output, so that the next time we present input $\\mathbf{x}$ to our network, the output will be closer to what we want.\n",
        "\n",
        "The first thing we have to do is to specify which tensors require gradients. By default, when we create a tensor, it does not require gradients."
      ]
    },
    {
      "cell_type": "code",
      "execution_count": 23,
      "metadata": {
        "id": "L_9y94lAgmvZ",
        "outputId": "051193ce-7618-42d4-b23e-d367bdffb78e",
        "colab": {
          "base_uri": "https://localhost:8080/"
        }
      },
      "outputs": [
        {
          "output_type": "stream",
          "name": "stdout",
          "text": [
            "False\n"
          ]
        }
      ],
      "source": [
        "x = torch.ones((3,))\n",
        "print(x.requires_grad)"
      ]
    },
    {
      "cell_type": "markdown",
      "source": [
        "*mặc định pytorch sẽ không tự động tính toán gradients, Gradient cho phép chúng ta cập nhật trọng số trong mạng nơ-ron để cải thiện độ chính xác của mô hình."
      ],
      "metadata": {
        "id": "pj9PUD_uP7xX"
      }
    },
    {
      "cell_type": "markdown",
      "metadata": {
        "id": "E9yMuFWWgmvh"
      },
      "source": [
        "We can change this for an existing tensor using the function `requires_grad_()` (underscore indicating that this is a in-place operation). Alternatively, when creating a tensor, you can pass the argument `requires_grad=True` to most initializers we have seen above."
      ]
    },
    {
      "cell_type": "code",
      "execution_count": 24,
      "metadata": {
        "id": "dmwQoZ3Vgmvh",
        "outputId": "eaca1567-9b1f-4bf9-d00e-738822d17fca",
        "colab": {
          "base_uri": "https://localhost:8080/"
        }
      },
      "outputs": [
        {
          "output_type": "stream",
          "name": "stdout",
          "text": [
            "True\n"
          ]
        }
      ],
      "source": [
        "x.requires_grad_(True)\n",
        "print(x.requires_grad)"
      ]
    },
    {
      "cell_type": "markdown",
      "source": [
        "* requires_grad=True lệnh này dùng để cập nhật lại trạng thái của một tensor đã tồn tại, x.requires_grad dùng khi tạo một tensor mới và xác định rằng tensor đó yêu cầu gradient ngay từ đầu."
      ],
      "metadata": {
        "id": "4I0RDNd6QTK9"
      }
    },
    {
      "cell_type": "markdown",
      "metadata": {
        "id": "mZeTNuwGgmvh"
      },
      "source": [
        "In order to get familiar with the concept of a computation graph, we will create one for the following function:\n",
        "\n",
        "$$y = \\frac{1}{\\ell(x)}\\sum_i \\left[(x_i + 2)^2 + 3\\right],$$\n",
        "\n",
        "where we use $\\ell(x)$ to denote the number of elements in $x$. In other words, we are taking a mean here over the operation within the sum. You could imagine that $x$ are our parameters, and we want to optimize (either maximize or minimize) the output $y$. For this, we want to obtain the gradients $\\partial y / \\partial \\mathbf{x}$. For our example, we'll use $\\mathbf{x}=[0,1,2]$ as our input."
      ]
    },
    {
      "cell_type": "code",
      "execution_count": 25,
      "metadata": {
        "id": "1IP1J2IGgmvh",
        "outputId": "28905178-124d-4043-f2a6-5bf05fc82697",
        "colab": {
          "base_uri": "https://localhost:8080/"
        }
      },
      "outputs": [
        {
          "output_type": "stream",
          "name": "stdout",
          "text": [
            "X tensor([0., 1., 2.], requires_grad=True)\n"
          ]
        }
      ],
      "source": [
        "x = torch.arange(3, dtype=torch.float32, requires_grad=True) # Only float tensors can have gradients\n",
        "print(\"X\", x)"
      ]
    },
    {
      "cell_type": "markdown",
      "source": [
        "* chỉ có các tensor kiểu số thực (floating point) mới có thể yêu cầu gradient trong PyTorch.\n",
        "Gía trị in ra là: X tensor([0., 1., 2.]) vì torch.arange(3)->3 giá trị (mặc định bắt đầu từ 0)"
      ],
      "metadata": {
        "id": "_QlcwRDTRxG_"
      }
    },
    {
      "cell_type": "markdown",
      "metadata": {
        "id": "_ketDrK9gmvh"
      },
      "source": [
        "Now let's build the computation graph step by step. You can combine multiple operations in a single line, but we will separate them here to get a better understanding of how each operation is added to the computation graph."
      ]
    },
    {
      "cell_type": "code",
      "execution_count": 26,
      "metadata": {
        "id": "MzfOXPtLgmvh",
        "outputId": "a75d995f-e666-448c-d506-10e4dc68d535",
        "colab": {
          "base_uri": "https://localhost:8080/"
        }
      },
      "outputs": [
        {
          "output_type": "stream",
          "name": "stdout",
          "text": [
            "Y tensor(12.6667, grad_fn=<MeanBackward0>)\n"
          ]
        }
      ],
      "source": [
        "a = x + 2\n",
        "b = a ** 2\n",
        "c = b + 3\n",
        "y = c.mean()\n",
        "print(\"Y\", y)"
      ]
    },
    {
      "cell_type": "markdown",
      "source": [
        "a=x+2(mỗi phần tử trong x sẽ được cộng với 2)\n",
        "b=a**2(mỗi phần tử của a sẽ được bình phương)\n",
        "c=b+3(mỗi phần tử trong b sẽ được cộng với 3)\n",
        "y=c.mean() (tính trung bình tensor c)\n",
        "mỗi một phép toán trên sẽ được pytorch theo dõi dể tạo ra một đồ thị tính toán và tính toán gradient"
      ],
      "metadata": {
        "id": "p9DVmWLETbyV"
      }
    },
    {
      "cell_type": "markdown",
      "metadata": {
        "id": "6MX-S2UKgmvh"
      },
      "source": [
        "Using the statements above, we have created a computation graph that looks similar to the figure below:\n",
        "\n",
        "<center style=\"width: 100%\"><img src=\"https://github.com/phlippe/uvadlc_notebooks/blob/master/docs/tutorial_notebooks/tutorial2/pytorch_computation_graph.svg?raw=1\" width=\"200px\"></center>\n",
        "\n",
        "We calculate $a$ based on the inputs $x$ and the constant $2$, $b$ is $a$ squared, and so on. The visualization is an abstraction of the dependencies between inputs and outputs of the operations we have applied.\n",
        "Each node of the computation graph has automatically defined a function for calculating the gradients with respect to its inputs, `grad_fn`. You can see this when we printed the output tensor $y$. This is why the computation graph is usually visualized in the reverse direction (arrows point from the result to the inputs). We can perform backpropagation on the computation graph by calling the function `backward()` on the last output, which effectively calculates the gradients for each tensor that has the property `requires_grad=True`:"
      ]
    },
    {
      "cell_type": "code",
      "execution_count": 27,
      "metadata": {
        "id": "XHmSIh3Wgmvh"
      },
      "outputs": [],
      "source": [
        "y.backward()"
      ]
    },
    {
      "cell_type": "markdown",
      "source": [
        "Lệnh y.backward() trong PyTorch được sử dụng để tính toán gradient (đạo hàm) của tensor y đối với tất cả các tensor có requires_grad=True trong đồ thị tính toán. Sau khi y.backward() được gọi, PyTorch sẽ tính toán và lưu trữ gradient của y đối với mỗi tensor trong đồ thị tính toán vào thuộc tính .grad của các tensor đó."
      ],
      "metadata": {
        "id": "A31_beF3WE2W"
      }
    },
    {
      "cell_type": "markdown",
      "metadata": {
        "id": "nowwY7xMgmvh"
      },
      "source": [
        "`x.grad` will now contain the gradient $\\partial y/ \\partial \\mathcal{x}$, and this gradient indicates how a change in $\\mathbf{x}$ will affect output $y$ given the current input $\\mathbf{x}=[0,1,2]$:"
      ]
    },
    {
      "cell_type": "code",
      "execution_count": 28,
      "metadata": {
        "id": "eZSEGSOkgmvi",
        "outputId": "359601b1-1979-4cb4-9a02-bdd5b72be309",
        "colab": {
          "base_uri": "https://localhost:8080/"
        }
      },
      "outputs": [
        {
          "output_type": "stream",
          "name": "stdout",
          "text": [
            "tensor([1.3333, 2.0000, 2.6667])\n"
          ]
        }
      ],
      "source": [
        "print(x.grad)"
      ]
    },
    {
      "cell_type": "markdown",
      "source": [
        "x.grad chỉ được dùng khi đã có y.backward()\n",
        "x.grad  là thông tin rất quan trọng, giúp ta cập nhật các trọng số cho mô hình hoạt động chính xác hơn.\n",
        "Ví dụ, nếu x.grad có giá trị lớn, điều đó có nghĩa là thay đổi giá trị của x sẽ làm thay đổi đáng kể giá trị của hàm mất mát."
      ],
      "metadata": {
        "id": "fBhrQ-t0XtN0"
      }
    },
    {
      "cell_type": "markdown",
      "metadata": {
        "id": "PlnluFmAgmvi"
      },
      "source": [
        "We can also verify these gradients by hand. We will calculate the gradients using the chain rule, in the same way as PyTorch did it:\n",
        "\n",
        "$$\\frac{\\partial y}{\\partial x_i} = \\frac{\\partial y}{\\partial c_i}\\frac{\\partial c_i}{\\partial b_i}\\frac{\\partial b_i}{\\partial a_i}\\frac{\\partial a_i}{\\partial x_i}$$\n",
        "\n",
        "Note that we have simplified this equation to index notation, and by using the fact that all operation besides the mean do not combine the elements in the tensor. The partial derivatives are:\n",
        "\n",
        "$$\n",
        "\\frac{\\partial a_i}{\\partial x_i} = 1,\\hspace{1cm}\n",
        "\\frac{\\partial b_i}{\\partial a_i} = 2\\cdot a_i\\hspace{1cm}\n",
        "\\frac{\\partial c_i}{\\partial b_i} = 1\\hspace{1cm}\n",
        "\\frac{\\partial y}{\\partial c_i} = \\frac{1}{3}\n",
        "$$\n",
        "\n",
        "Hence, with the input being $\\mathbf{x}=[0,1,2]$, our gradients are $\\partial y/\\partial \\mathbf{x}=[4/3,2,8/3]$. The previous code cell should have printed the same result."
      ]
    },
    {
      "cell_type": "markdown",
      "metadata": {
        "id": "F5lTSLsggmvi"
      },
      "source": [
        "### GPU support\n",
        "\n",
        "A crucial feature of PyTorch is the support of GPUs, short for Graphics Processing Unit. A GPU can perform many thousands of small operations in parallel, making it very well suitable for performing large matrix operations in neural networks. When comparing GPUs to CPUs, we can list the following main differences (credit: [Kevin Krewell, 2009](https://blogs.nvidia.com/blog/2009/12/16/whats-the-difference-between-a-cpu-and-a-gpu/))\n",
        "\n",
        "<center style=\"width: 100%\"><img src=\"https://github.com/phlippe/uvadlc_notebooks/blob/master/docs/tutorial_notebooks/tutorial2/comparison_CPU_GPU.png?raw=1\" width=\"700px\"></center>\n",
        "\n",
        "CPUs and GPUs have both different advantages and disadvantages, which is why many computers contain both components and use them for different tasks. In case you are not familiar with GPUs, you can read up more details in this [NVIDIA blog post](https://blogs.nvidia.com/blog/2009/12/16/whats-the-difference-between-a-cpu-and-a-gpu/) or [here](https://www.intel.com/content/www/us/en/products/docs/processors/what-is-a-gpu.html).\n",
        "\n",
        "GPUs can accelerate the training of your network up to a factor of $100$ which is essential for large neural networks. PyTorch implements a lot of functionality for supporting GPUs (mostly those of NVIDIA due to the libraries [CUDA](https://developer.nvidia.com/cuda-zone) and [cuDNN](https://developer.nvidia.com/cudnn)). First, let's check whether you have a GPU available:"
      ]
    },
    {
      "cell_type": "code",
      "execution_count": 29,
      "metadata": {
        "id": "2QaxeCEJgmvi",
        "outputId": "d8178671-1aa8-4567-c37d-404cfa508e5e",
        "colab": {
          "base_uri": "https://localhost:8080/"
        }
      },
      "outputs": [
        {
          "output_type": "stream",
          "name": "stdout",
          "text": [
            "Is the GPU available? True\n"
          ]
        }
      ],
      "source": [
        "gpu_avail = torch.cuda.is_available()\n",
        "print(f\"Is the GPU available? {gpu_avail}\")"
      ]
    },
    {
      "cell_type": "markdown",
      "source": [
        "đoạn code này giúp ta kiểm tra nếu máy có gpu (google colab có thể chuyển đổi từ cpu sang gpu làm phần cứng)"
      ],
      "metadata": {
        "id": "vQz0lVpAZT9F"
      }
    },
    {
      "cell_type": "markdown",
      "metadata": {
        "id": "RA3QqhnRgmvi"
      },
      "source": [
        "If you have a GPU on your computer but the command above returns False, make sure you have the correct CUDA-version installed. The `dl2024` environment comes with the CUDA 12.4, which is selected for the Snellius supercomputer. Please change it if necessary. On Google Colab, make sure that you have selected a GPU in your runtime setup (in the menu, check under `Runtime -> Change runtime type`).\n",
        "\n",
        "By default, all tensors you create are stored on the CPU. We can push a tensor to the GPU by using the function `.to(...)`, or `.cuda()`. However, it is often a good practice to define a `device` object in your code which points to the GPU if you have one, and otherwise to the CPU. Then, you can write your code with respect to this device object, and it allows you to run the same code on both a CPU-only system, and one with a GPU. Let's try it below. We can specify the device as follows:"
      ]
    },
    {
      "cell_type": "code",
      "execution_count": 30,
      "metadata": {
        "id": "IL0i9G4Bgmvi",
        "outputId": "d8389fee-da45-4469-83e2-33ace125a4d9",
        "colab": {
          "base_uri": "https://localhost:8080/"
        }
      },
      "outputs": [
        {
          "output_type": "stream",
          "name": "stdout",
          "text": [
            "Device cuda\n"
          ]
        }
      ],
      "source": [
        "device = torch.device(\"cuda\") if torch.cuda.is_available() else torch.device(\"cpu\")\n",
        "print(\"Device\", device)"
      ]
    },
    {
      "cell_type": "markdown",
      "metadata": {
        "id": "Fk4cxJnagmvi"
      },
      "source": [
        "Now let's create a tensor and push it to the device:"
      ]
    },
    {
      "cell_type": "code",
      "execution_count": 31,
      "metadata": {
        "id": "8Fk3iyKJgmvi",
        "outputId": "1cee293b-5fa8-42a3-ac7e-5309db06a3b8",
        "colab": {
          "base_uri": "https://localhost:8080/"
        }
      },
      "outputs": [
        {
          "output_type": "stream",
          "name": "stdout",
          "text": [
            "X tensor([[0., 0., 0.],\n",
            "        [0., 0., 0.]], device='cuda:0')\n"
          ]
        }
      ],
      "source": [
        "x = torch.zeros(2, 3)\n",
        "x = x.to(device)\n",
        "print(\"X\", x)"
      ]
    },
    {
      "cell_type": "markdown",
      "source": [
        "* có thể thay thế device thành cpu hoặc cuda (cuda>cpu)"
      ],
      "metadata": {
        "id": "2aaloAsibCKV"
      }
    },
    {
      "cell_type": "markdown",
      "metadata": {
        "id": "8h35LfrXgmvi"
      },
      "source": [
        "In case you have a GPU, you should now see the attribute `device='cuda:0'` being printed next to your tensor. The zero next to cuda indicates that this is the zero-th GPU device on your computer. PyTorch also supports multi-GPU systems, but this you will only need once you have very big networks to train (if interested, see the [PyTorch documentation](https://pytorch.org/docs/stable/distributed.html#distributed-basics)). We can also compare the runtime of a large matrix multiplication on the CPU with a operation on the GPU:"
      ]
    },
    {
      "cell_type": "code",
      "execution_count": 32,
      "metadata": {
        "id": "9KZRtgGxgmvi",
        "outputId": "2c669fae-6de0-4c40-f4af-ca8de7b6b8be",
        "colab": {
          "base_uri": "https://localhost:8080/"
        }
      },
      "outputs": [
        {
          "output_type": "stream",
          "name": "stdout",
          "text": [
            "CPU time: 3.85683s\n",
            "GPU time: 0.08761s\n"
          ]
        }
      ],
      "source": [
        "x = torch.randn(5000, 5000)\n",
        "\n",
        "## CPU version\n",
        "start_time = time.time()\n",
        "_ = torch.matmul(x, x)\n",
        "end_time = time.time()\n",
        "print(f\"CPU time: {(end_time - start_time):6.5f}s\")\n",
        "\n",
        "## GPU version\n",
        "x = x.to(device)\n",
        "_ = torch.matmul(x, x)  # First operation to 'burn in' GPU\n",
        "# CUDA is asynchronous, so we need to use different timing functions\n",
        "start = torch.cuda.Event(enable_timing=True)\n",
        "end = torch.cuda.Event(enable_timing=True)\n",
        "start.record()\n",
        "_ = torch.matmul(x, x)\n",
        "end.record()\n",
        "torch.cuda.synchronize()  # Waits for everything to finish running on the GPU\n",
        "print(f\"GPU time: {0.001 * start.elapsed_time(end):6.5f}s\")  # Milliseconds to seconds"
      ]
    },
    {
      "cell_type": "markdown",
      "source": [
        "vì gpu có thể tính toán nhiều tác vụ song song nên sẽ nhanh hơn cpu chỉ tính toán các tác vụ tuần tự"
      ],
      "metadata": {
        "id": "GYMCWD1kbXW1"
      }
    },
    {
      "cell_type": "markdown",
      "metadata": {
        "id": "RFNfUO4Zgmvj"
      },
      "source": [
        "Depending on the size of the operation and the CPU/GPU in your system, the speedup of this operation can be >50x. As `matmul` operations are very common in neural networks, we can already see the great benefit of training a NN on a GPU. The time estimate can be relatively noisy here because we haven't run it for multiple times. Feel free to extend this, but it also takes longer to run.\n",
        "\n",
        "When generating random numbers, the seed between CPU and GPU is not synchronized. Hence, we need to set the seed on the GPU separately to ensure a reproducible code. Note that due to different GPU architectures, running the same code on different GPUs does not guarantee the same random numbers. Still, we don't want that our code gives us a different output every time we run it on the exact same hardware. Hence, we also set the seed on the GPU:"
      ]
    },
    {
      "cell_type": "code",
      "execution_count": 33,
      "metadata": {
        "id": "awNn4VjBgmvj"
      },
      "outputs": [],
      "source": [
        "# GPU operations have a separate seed we also want to set\n",
        "if torch.cuda.is_available():\n",
        "    torch.cuda.manual_seed(42)\n",
        "    torch.cuda.manual_seed_all(42)\n",
        "\n",
        "# Additionally, some operations on a GPU are implemented stochastic for efficiency\n",
        "# We want to ensure that all operations are deterministic on GPU (if used) for reproducibility\n",
        "torch.backends.cudnn.deterministic = True\n",
        "torch.backends.cudnn.benchmark = False"
      ]
    },
    {
      "cell_type": "markdown",
      "source": [
        "Đoạn mã này giúp đảm bảo tính tái tạo kết quả khi sử dụng GPU bằng cách thiết lập seed cho các phép toán ngẫu nhiên và đảm bảo rằng các phép toán trên GPU sẽ luôn tạo ra kết quả giống nhau nếu chạy lại chương trình, miễn là không thay đổi các điều kiện ban đầu (seed, dữ liệu đầu vào, v.v.)."
      ],
      "metadata": {
        "id": "eDZI2vMTcgsF"
      }
    },
    {
      "cell_type": "markdown",
      "metadata": {
        "id": "r6QYxat6gmvj"
      },
      "source": [
        "## Learning by example: Continuous XOR\n",
        "\n",
        "If we want to build a neural network in PyTorch, we could specify all our parameters (weight matrices, bias vectors) using `Tensors` (with `requires_grad=True`), ask PyTorch to calculate the gradients and then adjust the parameters. But things can quickly get cumbersome if we have a lot of parameters. In PyTorch, there is a package called `torch.nn` that makes building neural networks more convenient.\n",
        "\n",
        "We will introduce the libraries and all additional parts you might need to train a neural network in PyTorch, using a simple example classifier on a simple yet well known example: XOR. Given two binary inputs $x_1$ and $x_2$, the label to predict is $1$ if either $x_1$ or $x_2$ is $1$ while the other is $0$, or the label is $0$ in all other cases. The example became famous by the fact that a single neuron, i.e. a linear classifier, cannot learn this simple function.\n",
        "Hence, we will learn how to build a small neural network that can learn this function.\n",
        "To make it a little bit more interesting, we move the XOR into continuous space and introduce some gaussian noise on the binary inputs. Our desired separation of an XOR dataset could look as follows:\n",
        "\n",
        "<center style=\"width: 100%\"><img src=\"https://github.com/phlippe/uvadlc_notebooks/blob/master/docs/tutorial_notebooks/tutorial2/continuous_xor.svg?raw=1\" width=\"350px\"></center>"
      ]
    },
    {
      "cell_type": "markdown",
      "metadata": {
        "id": "DDpoz2KMgmvj"
      },
      "source": [
        "### The model\n",
        "\n",
        "The package `torch.nn` defines a series of useful classes like linear networks layers, activation functions, loss functions etc. A full list can be found [here](https://pytorch.org/docs/stable/nn.html). In case you need a certain network layer, check the documentation of the package first before writing the layer yourself as the package likely contains the code for it already. We import it below:"
      ]
    },
    {
      "cell_type": "code",
      "execution_count": 34,
      "metadata": {
        "id": "Cd2kKK0xgmvj"
      },
      "outputs": [],
      "source": [
        "import torch.nn as nn"
      ]
    },
    {
      "cell_type": "markdown",
      "source": [
        "* ví dụ thai vì dùng torch.nn.Linear thì bây giờ chỉ cần ghi nn.Linear"
      ],
      "metadata": {
        "id": "ia1WRjgzc5Ql"
      }
    },
    {
      "cell_type": "markdown",
      "metadata": {
        "id": "-8CYm0P1gmvj"
      },
      "source": [
        "Additionally to `torch.nn`, there is also `torch.nn.functional`. It contains functions that are used in network layers. This is in contrast to `torch.nn` which defines them as `nn.Modules` (more on it below), and `torch.nn` actually uses a lot of functionalities from `torch.nn.functional`. Hence, the functional package is useful in many situations, and so we import it as well here."
      ]
    },
    {
      "cell_type": "code",
      "execution_count": 35,
      "metadata": {
        "id": "JaSZf0xXgmvj"
      },
      "outputs": [],
      "source": [
        "import torch.nn.functional as F"
      ]
    },
    {
      "cell_type": "markdown",
      "source": [
        "Thư viện torch.nn.functional cung cấp một bộ các hàm (functions) mà không yêu cầu tạo đối tượng lớp như nn.Module"
      ],
      "metadata": {
        "id": "Na4eiw0SdgWA"
      }
    },
    {
      "cell_type": "markdown",
      "metadata": {
        "id": "aK9LpA8Wgmvj"
      },
      "source": [
        "#### nn.Module\n",
        "\n",
        "In PyTorch, a neural network is built up out of modules. Modules can contain other modules, and a neural network is considered to be a module itself as well. The basic template of a module is as follows:"
      ]
    },
    {
      "cell_type": "code",
      "execution_count": 36,
      "metadata": {
        "id": "BpZTCYF4gmvj"
      },
      "outputs": [],
      "source": [
        "class MyModule(nn.Module):\n",
        "\n",
        "    def __init__(self):\n",
        "        super().__init__()\n",
        "        # Some init for my module\n",
        "\n",
        "    def forward(self, x):\n",
        "        # Function for performing the calculation of the module.\n",
        "        pass"
      ]
    },
    {
      "cell_type": "markdown",
      "source": [
        "* định nghĩa một modelu tùy chỉnh"
      ],
      "metadata": {
        "id": "fA997ml5dzFV"
      }
    },
    {
      "cell_type": "markdown",
      "metadata": {
        "id": "7mNa3biWgmvj"
      },
      "source": [
        "The forward function is where the computation of the module is taken place, and is executed when you call the module (`nn = MyModule(); nn(x)`). In the init function, we usually create the parameters of the module, using `nn.Parameter`, or defining other modules that are used in the forward function. The backward calculation is done automatically, but could be overwritten as well if wanted.\n",
        "\n",
        "#### Simple classifier\n",
        "We can now make use of the pre-defined modules in the `torch.nn` package, and define our own small neural network. We will use a minimal network with a input layer, one hidden layer with tanh as activation function, and a output layer. In other words, our networks should look something like this:\n",
        "\n",
        "<center width=\"100%\"><img src=\"https://github.com/phlippe/uvadlc_notebooks/blob/master/docs/tutorial_notebooks/tutorial2/small_neural_network.svg?raw=1\" width=\"300px\"></center>\n",
        "\n",
        "The input neurons are shown in blue, which represent the coordinates $x_1$ and $x_2$ of a data point. The hidden neurons including a tanh activation are shown in white, and the output neuron in red.\n",
        "In PyTorch, we can define this as follows:"
      ]
    },
    {
      "cell_type": "code",
      "execution_count": 37,
      "metadata": {
        "id": "vXwAMF0Hgmvj"
      },
      "outputs": [],
      "source": [
        "class SimpleClassifier(nn.Module):\n",
        "\n",
        "    def __init__(self, num_inputs, num_hidden, num_outputs):\n",
        "        super().__init__()\n",
        "        # Initialize the modules we need to build the network\n",
        "        self.linear1 = nn.Linear(num_inputs, num_hidden)\n",
        "        self.act_fn = nn.Tanh()\n",
        "        self.linear2 = nn.Linear(num_hidden, num_outputs)\n",
        "\n",
        "    def forward(self, x):\n",
        "        # Perform the calculation of the model to determine the prediction\n",
        "        x = self.linear1(x)\n",
        "        x = self.act_fn(x)\n",
        "        x = self.linear2(x)\n",
        "        return x"
      ]
    },
    {
      "cell_type": "markdown",
      "source": [
        "một mô hình đơn giản dùng để phân loại"
      ],
      "metadata": {
        "id": "UChE721D6-Dm"
      }
    },
    {
      "cell_type": "markdown",
      "metadata": {
        "id": "Mry34tSbgmvk"
      },
      "source": [
        "For the examples in this notebook, we will use a tiny neural network with two input neurons and four hidden neurons. As we perform binary classification, we will use a single output neuron. Note that we do not apply a sigmoid on the output yet. This is because other functions, especially the loss, are more efficient and precise to calculate on the original outputs instead of the sigmoid output. We will discuss the detailed reason later."
      ]
    },
    {
      "cell_type": "code",
      "execution_count": 38,
      "metadata": {
        "id": "Wirf4mA9gmvk",
        "outputId": "4789d155-0897-40f5-d517-31cb5284c95d",
        "colab": {
          "base_uri": "https://localhost:8080/"
        }
      },
      "outputs": [
        {
          "output_type": "stream",
          "name": "stdout",
          "text": [
            "SimpleClassifier(\n",
            "  (linear1): Linear(in_features=2, out_features=4, bias=True)\n",
            "  (act_fn): Tanh()\n",
            "  (linear2): Linear(in_features=4, out_features=1, bias=True)\n",
            ")\n"
          ]
        }
      ],
      "source": [
        "model = SimpleClassifier(num_inputs=2, num_hidden=4, num_outputs=1)\n",
        "# Printing a module shows all its submodules\n",
        "print(model)"
      ]
    },
    {
      "cell_type": "markdown",
      "source": [
        "duyệt qua các thuộc tính của model\n",
        "* num_inputs=2 (số lượng đặc trưng đầu vào(vd: chiều cao, cân nặng)\n",
        "* num_hidden=4 (số lượng neural ẩn giúp mô hình học)\n",
        "* num_ouputs=1 (kết quả phân loại)\n",
        "\n",
        "1.   linear1: số lượng đặc trưng đầu vào là 2, đặc trưng đầu ra là 4\n",
        "2.   act_fn: hàm kích hoạt\n",
        "3.  linear2: số lượng đặc trưng đầu vào phải buộc là đầu ra của linear 1 là 4, đặc trưng đầu ra là 1\n",
        "\n"
      ],
      "metadata": {
        "id": "Oc7VpyFp7Gol"
      }
    },
    {
      "cell_type": "markdown",
      "metadata": {
        "id": "DgHCCJWLgmvk"
      },
      "source": [
        "Printing the model lists all submodules it contains. The parameters of a module can be obtained by using its `parameters()` functions, or `named_parameters()` to get a name to each parameter object. For our small neural network, we have the following parameters:"
      ]
    },
    {
      "cell_type": "code",
      "execution_count": 39,
      "metadata": {
        "id": "S0il1z7igmvk",
        "outputId": "4fbc769c-35b0-407f-9842-95ffec6737bd",
        "colab": {
          "base_uri": "https://localhost:8080/"
        }
      },
      "outputs": [
        {
          "output_type": "stream",
          "name": "stdout",
          "text": [
            "Parameter linear1.weight, shape torch.Size([4, 2])\n",
            "Parameter linear1.bias, shape torch.Size([4])\n",
            "Parameter linear2.weight, shape torch.Size([1, 4])\n",
            "Parameter linear2.bias, shape torch.Size([1])\n"
          ]
        }
      ],
      "source": [
        "for name, param in model.named_parameters():\n",
        "    print(f\"Parameter {name}, shape {param.shape}\")"
      ]
    },
    {
      "cell_type": "markdown",
      "source": [
        "weight(out, in)\n",
        "bias(out)"
      ],
      "metadata": {
        "id": "HS8ppSih9OT0"
      }
    },
    {
      "cell_type": "markdown",
      "metadata": {
        "id": "uA6bfMsWgmvk"
      },
      "source": [
        "Each linear layer has a weight matrix of the shape `[output, input]`, and a bias of the shape `[output]`. The tanh activation function does not have any parameters. Note that parameters are only registered for `nn.Module` objects that are direct object attributes, i.e. `self.a = ...`. If you define a list of modules, the parameters of those are not registered for the outer module and can cause some issues when you try to optimize your module. There are alternatives, like `nn.ModuleList`, `nn.ModuleDict` and `nn.Sequential`, that allow you to have different data structures of modules. We will use them in a few later tutorials and explain them there."
      ]
    },
    {
      "cell_type": "markdown",
      "metadata": {
        "id": "-ozgOp4Hgmvk"
      },
      "source": [
        "### The data\n",
        "\n",
        "PyTorch also provides a few functionalities to load the training and test data efficiently, summarized in the package `torch.utils.data`."
      ]
    },
    {
      "cell_type": "code",
      "execution_count": 40,
      "metadata": {
        "id": "JV3G9TLBgmvk"
      },
      "outputs": [],
      "source": [
        "import torch.utils.data as data"
      ]
    },
    {
      "cell_type": "markdown",
      "source": [
        "torch.utils.data cung cấp các lớp quan trọng để quản lý dữ liệu trong quá trình huấn luyện mô hình:\n",
        "* Dataset: Dùng để tạo bộ dữ liệu tùy chỉnh.\n",
        "* DataLoader: Hỗ trợ chia dữ liệu thành batch và shuffle dữ liệu."
      ],
      "metadata": {
        "id": "PD1aJHYS9mBm"
      }
    },
    {
      "cell_type": "markdown",
      "metadata": {
        "id": "8lDTOtkGgmvk"
      },
      "source": [
        "The data package defines two classes which are the standard interface for handling data in PyTorch: `data.Dataset`, and `data.DataLoader`. The dataset class provides an uniform interface to access the training/test data, while the data loader makes sure to efficiently load and stack the data points from the dataset into batches during training."
      ]
    },
    {
      "cell_type": "markdown",
      "metadata": {
        "id": "ajvLCdHZgmvk"
      },
      "source": [
        "#### The dataset class\n",
        "\n",
        "The dataset class summarizes the basic functionality of a dataset in a natural way. To define a dataset in PyTorch, we simply specify two functions: `__getitem__`, and `__len__`. The get-item function has to return the $i$-th data point in the dataset, while the len function returns the size of the dataset. For the XOR dataset, we can define the dataset class as follows:"
      ]
    },
    {
      "cell_type": "code",
      "execution_count": 41,
      "metadata": {
        "id": "AOzlDILGgmvk"
      },
      "outputs": [],
      "source": [
        "class XORDataset(data.Dataset):\n",
        "\n",
        "    def __init__(self, size, std=0.1):\n",
        "        \"\"\"\n",
        "        Inputs:\n",
        "            size - Number of data points we want to generate\n",
        "            std - Standard deviation of the noise (see generate_continuous_xor function)\n",
        "        \"\"\"\n",
        "        super().__init__()\n",
        "        self.size = size\n",
        "        self.std = std\n",
        "        self.generate_continuous_xor()\n",
        "\n",
        "    def generate_continuous_xor(self):\n",
        "        # Each data point in the XOR dataset has two variables, x and y, that can be either 0 or 1\n",
        "        # The label is their XOR combination, i.e. 1 if only x or only y is 1 while the other is 0.\n",
        "        # If x=y, the label is 0.\n",
        "        data = torch.randint(low=0, high=2, size=(self.size, 2), dtype=torch.float32)\n",
        "        label = (data.sum(dim=1) == 1).to(torch.long)\n",
        "        # To make it slightly more challenging, we add a bit of gaussian noise to the data points.\n",
        "        data += self.std * torch.randn(data.shape)\n",
        "\n",
        "        self.data = data\n",
        "        self.label = label\n",
        "\n",
        "    def __len__(self):\n",
        "        # Number of data point we have. Alternatively self.data.shape[0], or self.label.shape[0]\n",
        "        return self.size\n",
        "\n",
        "    def __getitem__(self, idx):\n",
        "        # Return the idx-th data point of the dataset\n",
        "        # If we have multiple things to return (data point and label), we can return them as tuple\n",
        "        data_point = self.data[idx]\n",
        "        data_label = self.label[idx]\n",
        "        return data_point, data_label"
      ]
    },
    {
      "cell_type": "markdown",
      "source": [
        "* label = (data.sum(dim=1) == 1).to(torch.long) class 1 nếu 1 trong 2 giá trị là 1 và class 0 nếu cả 2 giá trị đều là 1 hoặc 0\n",
        "* data += self.std * torch.randn(data.shape) thêm nhiễu để mô hình không bị overfit\n",
        "* _len_(self) số lượng điểm dữ liệu trong dataset\n",
        "* getitem nhận vào giá trị idx trong self.data và trả về cả dữ liệu đầu vào và nhãn"
      ],
      "metadata": {
        "id": "rVGsMzuq-TF-"
      }
    },
    {
      "cell_type": "markdown",
      "metadata": {
        "id": "lHzQTThLgmvk"
      },
      "source": [
        "Let's try to create such a dataset and inspect it:"
      ]
    },
    {
      "cell_type": "code",
      "execution_count": 42,
      "metadata": {
        "id": "RLphGT_Ygmvk",
        "outputId": "b8d98fb6-2ddf-4f45-aca4-bf850ff026d5",
        "colab": {
          "base_uri": "https://localhost:8080/"
        }
      },
      "outputs": [
        {
          "output_type": "stream",
          "name": "stdout",
          "text": [
            "Size of dataset: 200\n",
            "Data point 0: (tensor([1.0373, 0.0439]), tensor(1))\n"
          ]
        }
      ],
      "source": [
        "dataset = XORDataset(size=200)\n",
        "print(\"Size of dataset:\", len(dataset))\n",
        "print(\"Data point 0:\", dataset[0])"
      ]
    },
    {
      "cell_type": "markdown",
      "source": [
        "dữ liệu đầu vào được thêm nhiễu giúp cho mô hình học một cách tổng quát hơn"
      ],
      "metadata": {
        "id": "44Pm2rz9AP7J"
      }
    },
    {
      "cell_type": "markdown",
      "metadata": {
        "id": "ic4pryy_gmvl"
      },
      "source": [
        "To better relate to the dataset, we visualize the samples below."
      ]
    },
    {
      "cell_type": "code",
      "execution_count": 43,
      "metadata": {
        "id": "VWLrxiXDgmvl"
      },
      "outputs": [],
      "source": [
        "def visualize_samples(data, label):\n",
        "    if isinstance(data, torch.Tensor):\n",
        "        data = data.cpu().numpy()\n",
        "    if isinstance(label, torch.Tensor):\n",
        "        label = label.cpu().numpy()\n",
        "    data_0 = data[label == 0]\n",
        "    data_1 = data[label == 1]\n",
        "\n",
        "    plt.figure(figsize=(4,4))\n",
        "    plt.scatter(data_0[:,0], data_0[:,1], edgecolor=\"#333\", label=\"Class 0\")\n",
        "    plt.scatter(data_1[:,0], data_1[:,1], edgecolor=\"#333\", label=\"Class 1\")\n",
        "    plt.title(\"Dataset samples\")\n",
        "    plt.ylabel(r\"$x_2$\")\n",
        "    plt.xlabel(r\"$x_1$\")\n",
        "    plt.legend()"
      ]
    },
    {
      "cell_type": "code",
      "execution_count": 44,
      "metadata": {
        "id": "C-KJllx_gmvl",
        "outputId": "fbc85f81-b096-4972-bdcb-52b46747d7d9",
        "colab": {
          "base_uri": "https://localhost:8080/",
          "height": 404
        }
      },
      "outputs": [
        {
          "output_type": "display_data",
          "data": {
            "text/plain": [
              "<Figure size 400x400 with 1 Axes>"
            ],
            "image/svg+xml": "<?xml version=\"1.0\" encoding=\"utf-8\" standalone=\"no\"?>\n<!DOCTYPE svg PUBLIC \"-//W3C//DTD SVG 1.1//EN\"\n  \"http://www.w3.org/Graphics/SVG/1.1/DTD/svg11.dtd\">\n<svg xmlns:xlink=\"http://www.w3.org/1999/xlink\" width=\"289.424844pt\" height=\"287.037813pt\" viewBox=\"0 0 289.424844 287.037813\" xmlns=\"http://www.w3.org/2000/svg\" version=\"1.1\">\n <metadata>\n  <rdf:RDF xmlns:dc=\"http://purl.org/dc/elements/1.1/\" xmlns:cc=\"http://creativecommons.org/ns#\" xmlns:rdf=\"http://www.w3.org/1999/02/22-rdf-syntax-ns#\">\n   <cc:Work>\n    <dc:type rdf:resource=\"http://purl.org/dc/dcmitype/StillImage\"/>\n    <dc:date>2025-02-17T10:31:17.327981</dc:date>\n    <dc:format>image/svg+xml</dc:format>\n    <dc:creator>\n     <cc:Agent>\n      <dc:title>Matplotlib v3.10.0, https://matplotlib.org/</dc:title>\n     </cc:Agent>\n    </dc:creator>\n   </cc:Work>\n  </rdf:RDF>\n </metadata>\n <defs>\n  <style type=\"text/css\">*{stroke-linejoin: round; stroke-linecap: butt}</style>\n </defs>\n <g id=\"figure_1\">\n  <g id=\"patch_1\">\n   <path d=\"M 0 287.037813 \nL 289.424844 287.037813 \nL 289.424844 0 \nL 0 0 \nz\n\" style=\"fill: #ffffff\"/>\n  </g>\n  <g id=\"axes_1\">\n   <g id=\"patch_2\">\n    <path d=\"M 59.024844 244.078125 \nL 282.224844 244.078125 \nL 282.224844 22.318125 \nL 59.024844 22.318125 \nz\n\" style=\"fill: #eaeaf2\"/>\n   </g>\n   <g id=\"matplotlib.axis_1\">\n    <g id=\"xtick_1\">\n     <g id=\"line2d_1\">\n      <path d=\"M 106.854327 244.078125 \nL 106.854327 22.318125 \n\" clip-path=\"url(#p8009130696)\" style=\"fill: none; stroke: #ffffff; stroke-linecap: round\"/>\n     </g>\n     <g id=\"text_1\">\n      <!-- 0.0 -->\n      <g style=\"fill: #262626\" transform=\"translate(98.107609 261.936406) scale(0.11 -0.11)\">\n       <defs>\n        <path id=\"DejaVuSans-30\" d=\"M 2034 4250 \nQ 1547 4250 1301 3770 \nQ 1056 3291 1056 2328 \nQ 1056 1369 1301 889 \nQ 1547 409 2034 409 \nQ 2525 409 2770 889 \nQ 3016 1369 3016 2328 \nQ 3016 3291 2770 3770 \nQ 2525 4250 2034 4250 \nz\nM 2034 4750 \nQ 2819 4750 3233 4129 \nQ 3647 3509 3647 2328 \nQ 3647 1150 3233 529 \nQ 2819 -91 2034 -91 \nQ 1250 -91 836 529 \nQ 422 1150 422 2328 \nQ 422 3509 836 4129 \nQ 1250 4750 2034 4750 \nz\n\" transform=\"scale(0.015625)\"/>\n        <path id=\"DejaVuSans-2e\" d=\"M 684 794 \nL 1344 794 \nL 1344 0 \nL 684 0 \nL 684 794 \nz\n\" transform=\"scale(0.015625)\"/>\n       </defs>\n       <use xlink:href=\"#DejaVuSans-30\"/>\n       <use xlink:href=\"#DejaVuSans-2e\" transform=\"translate(63.623047 0)\"/>\n       <use xlink:href=\"#DejaVuSans-30\" transform=\"translate(95.410156 0)\"/>\n      </g>\n     </g>\n    </g>\n    <g id=\"xtick_2\">\n     <g id=\"line2d_2\">\n      <path d=\"M 174.122241 244.078125 \nL 174.122241 22.318125 \n\" clip-path=\"url(#p8009130696)\" style=\"fill: none; stroke: #ffffff; stroke-linecap: round\"/>\n     </g>\n     <g id=\"text_2\">\n      <!-- 0.5 -->\n      <g style=\"fill: #262626\" transform=\"translate(165.375522 261.936406) scale(0.11 -0.11)\">\n       <defs>\n        <path id=\"DejaVuSans-35\" d=\"M 691 4666 \nL 3169 4666 \nL 3169 4134 \nL 1269 4134 \nL 1269 2991 \nQ 1406 3038 1543 3061 \nQ 1681 3084 1819 3084 \nQ 2600 3084 3056 2656 \nQ 3513 2228 3513 1497 \nQ 3513 744 3044 326 \nQ 2575 -91 1722 -91 \nQ 1428 -91 1123 -41 \nQ 819 9 494 109 \nL 494 744 \nQ 775 591 1075 516 \nQ 1375 441 1709 441 \nQ 2250 441 2565 725 \nQ 2881 1009 2881 1497 \nQ 2881 1984 2565 2268 \nQ 2250 2553 1709 2553 \nQ 1456 2553 1204 2497 \nQ 953 2441 691 2322 \nL 691 4666 \nz\n\" transform=\"scale(0.015625)\"/>\n       </defs>\n       <use xlink:href=\"#DejaVuSans-30\"/>\n       <use xlink:href=\"#DejaVuSans-2e\" transform=\"translate(63.623047 0)\"/>\n       <use xlink:href=\"#DejaVuSans-35\" transform=\"translate(95.410156 0)\"/>\n      </g>\n     </g>\n    </g>\n    <g id=\"xtick_3\">\n     <g id=\"line2d_3\">\n      <path d=\"M 241.390155 244.078125 \nL 241.390155 22.318125 \n\" clip-path=\"url(#p8009130696)\" style=\"fill: none; stroke: #ffffff; stroke-linecap: round\"/>\n     </g>\n     <g id=\"text_3\">\n      <!-- 1.0 -->\n      <g style=\"fill: #262626\" transform=\"translate(232.643436 261.936406) scale(0.11 -0.11)\">\n       <defs>\n        <path id=\"DejaVuSans-31\" d=\"M 794 531 \nL 1825 531 \nL 1825 4091 \nL 703 3866 \nL 703 4441 \nL 1819 4666 \nL 2450 4666 \nL 2450 531 \nL 3481 531 \nL 3481 0 \nL 794 0 \nL 794 531 \nz\n\" transform=\"scale(0.015625)\"/>\n       </defs>\n       <use xlink:href=\"#DejaVuSans-31\"/>\n       <use xlink:href=\"#DejaVuSans-2e\" transform=\"translate(63.623047 0)\"/>\n       <use xlink:href=\"#DejaVuSans-30\" transform=\"translate(95.410156 0)\"/>\n      </g>\n     </g>\n    </g>\n    <g id=\"text_4\">\n     <!-- $x_1$ -->\n     <g style=\"fill: #262626\" transform=\"translate(164.204844 277.342188) scale(0.12 -0.12)\">\n      <defs>\n       <path id=\"DejaVuSans-Oblique-78\" d=\"M 3841 3500 \nL 2234 1784 \nL 3219 0 \nL 2559 0 \nL 1819 1388 \nL 531 0 \nL -166 0 \nL 1556 1844 \nL 641 3500 \nL 1300 3500 \nL 1972 2234 \nL 3144 3500 \nL 3841 3500 \nz\n\" transform=\"scale(0.015625)\"/>\n      </defs>\n      <use xlink:href=\"#DejaVuSans-Oblique-78\" transform=\"translate(0 0.3125)\"/>\n      <use xlink:href=\"#DejaVuSans-31\" transform=\"translate(59.179688 -16.09375) scale(0.7)\"/>\n     </g>\n    </g>\n   </g>\n   <g id=\"matplotlib.axis_2\">\n    <g id=\"ytick_1\">\n     <g id=\"line2d_4\">\n      <path d=\"M 59.024844 232.026019 \nL 282.224844 232.026019 \n\" clip-path=\"url(#p8009130696)\" style=\"fill: none; stroke: #ffffff; stroke-linecap: round\"/>\n     </g>\n     <g id=\"text_5\">\n      <!-- −0.2 -->\n      <g style=\"fill: #262626\" transform=\"translate(22.81375 236.205159) scale(0.11 -0.11)\">\n       <defs>\n        <path id=\"DejaVuSans-2212\" d=\"M 678 2272 \nL 4684 2272 \nL 4684 1741 \nL 678 1741 \nL 678 2272 \nz\n\" transform=\"scale(0.015625)\"/>\n        <path id=\"DejaVuSans-32\" d=\"M 1228 531 \nL 3431 531 \nL 3431 0 \nL 469 0 \nL 469 531 \nQ 828 903 1448 1529 \nQ 2069 2156 2228 2338 \nQ 2531 2678 2651 2914 \nQ 2772 3150 2772 3378 \nQ 2772 3750 2511 3984 \nQ 2250 4219 1831 4219 \nQ 1534 4219 1204 4116 \nQ 875 4013 500 3803 \nL 500 4441 \nQ 881 4594 1212 4672 \nQ 1544 4750 1819 4750 \nQ 2544 4750 2975 4387 \nQ 3406 4025 3406 3419 \nQ 3406 3131 3298 2873 \nQ 3191 2616 2906 2266 \nQ 2828 2175 2409 1742 \nQ 1991 1309 1228 531 \nz\n\" transform=\"scale(0.015625)\"/>\n       </defs>\n       <use xlink:href=\"#DejaVuSans-2212\"/>\n       <use xlink:href=\"#DejaVuSans-30\" transform=\"translate(83.789062 0)\"/>\n       <use xlink:href=\"#DejaVuSans-2e\" transform=\"translate(147.412109 0)\"/>\n       <use xlink:href=\"#DejaVuSans-32\" transform=\"translate(179.199219 0)\"/>\n      </g>\n     </g>\n    </g>\n    <g id=\"ytick_2\">\n     <g id=\"line2d_5\">\n      <path d=\"M 59.024844 204.320301 \nL 282.224844 204.320301 \n\" clip-path=\"url(#p8009130696)\" style=\"fill: none; stroke: #ffffff; stroke-linecap: round\"/>\n     </g>\n     <g id=\"text_6\">\n      <!-- 0.0 -->\n      <g style=\"fill: #262626\" transform=\"translate(32.031406 208.499442) scale(0.11 -0.11)\">\n       <use xlink:href=\"#DejaVuSans-30\"/>\n       <use xlink:href=\"#DejaVuSans-2e\" transform=\"translate(63.623047 0)\"/>\n       <use xlink:href=\"#DejaVuSans-30\" transform=\"translate(95.410156 0)\"/>\n      </g>\n     </g>\n    </g>\n    <g id=\"ytick_3\">\n     <g id=\"line2d_6\">\n      <path d=\"M 59.024844 176.614584 \nL 282.224844 176.614584 \n\" clip-path=\"url(#p8009130696)\" style=\"fill: none; stroke: #ffffff; stroke-linecap: round\"/>\n     </g>\n     <g id=\"text_7\">\n      <!-- 0.2 -->\n      <g style=\"fill: #262626\" transform=\"translate(32.031406 180.793724) scale(0.11 -0.11)\">\n       <use xlink:href=\"#DejaVuSans-30\"/>\n       <use xlink:href=\"#DejaVuSans-2e\" transform=\"translate(63.623047 0)\"/>\n       <use xlink:href=\"#DejaVuSans-32\" transform=\"translate(95.410156 0)\"/>\n      </g>\n     </g>\n    </g>\n    <g id=\"ytick_4\">\n     <g id=\"line2d_7\">\n      <path d=\"M 59.024844 148.908866 \nL 282.224844 148.908866 \n\" clip-path=\"url(#p8009130696)\" style=\"fill: none; stroke: #ffffff; stroke-linecap: round\"/>\n     </g>\n     <g id=\"text_8\">\n      <!-- 0.4 -->\n      <g style=\"fill: #262626\" transform=\"translate(32.031406 153.088007) scale(0.11 -0.11)\">\n       <defs>\n        <path id=\"DejaVuSans-34\" d=\"M 2419 4116 \nL 825 1625 \nL 2419 1625 \nL 2419 4116 \nz\nM 2253 4666 \nL 3047 4666 \nL 3047 1625 \nL 3713 1625 \nL 3713 1100 \nL 3047 1100 \nL 3047 0 \nL 2419 0 \nL 2419 1100 \nL 313 1100 \nL 313 1709 \nL 2253 4666 \nz\n\" transform=\"scale(0.015625)\"/>\n       </defs>\n       <use xlink:href=\"#DejaVuSans-30\"/>\n       <use xlink:href=\"#DejaVuSans-2e\" transform=\"translate(63.623047 0)\"/>\n       <use xlink:href=\"#DejaVuSans-34\" transform=\"translate(95.410156 0)\"/>\n      </g>\n     </g>\n    </g>\n    <g id=\"ytick_5\">\n     <g id=\"line2d_8\">\n      <path d=\"M 59.024844 121.203149 \nL 282.224844 121.203149 \n\" clip-path=\"url(#p8009130696)\" style=\"fill: none; stroke: #ffffff; stroke-linecap: round\"/>\n     </g>\n     <g id=\"text_9\">\n      <!-- 0.6 -->\n      <g style=\"fill: #262626\" transform=\"translate(32.031406 125.382289) scale(0.11 -0.11)\">\n       <defs>\n        <path id=\"DejaVuSans-36\" d=\"M 2113 2584 \nQ 1688 2584 1439 2293 \nQ 1191 2003 1191 1497 \nQ 1191 994 1439 701 \nQ 1688 409 2113 409 \nQ 2538 409 2786 701 \nQ 3034 994 3034 1497 \nQ 3034 2003 2786 2293 \nQ 2538 2584 2113 2584 \nz\nM 3366 4563 \nL 3366 3988 \nQ 3128 4100 2886 4159 \nQ 2644 4219 2406 4219 \nQ 1781 4219 1451 3797 \nQ 1122 3375 1075 2522 \nQ 1259 2794 1537 2939 \nQ 1816 3084 2150 3084 \nQ 2853 3084 3261 2657 \nQ 3669 2231 3669 1497 \nQ 3669 778 3244 343 \nQ 2819 -91 2113 -91 \nQ 1303 -91 875 529 \nQ 447 1150 447 2328 \nQ 447 3434 972 4092 \nQ 1497 4750 2381 4750 \nQ 2619 4750 2861 4703 \nQ 3103 4656 3366 4563 \nz\n\" transform=\"scale(0.015625)\"/>\n       </defs>\n       <use xlink:href=\"#DejaVuSans-30\"/>\n       <use xlink:href=\"#DejaVuSans-2e\" transform=\"translate(63.623047 0)\"/>\n       <use xlink:href=\"#DejaVuSans-36\" transform=\"translate(95.410156 0)\"/>\n      </g>\n     </g>\n    </g>\n    <g id=\"ytick_6\">\n     <g id=\"line2d_9\">\n      <path d=\"M 59.024844 93.497431 \nL 282.224844 93.497431 \n\" clip-path=\"url(#p8009130696)\" style=\"fill: none; stroke: #ffffff; stroke-linecap: round\"/>\n     </g>\n     <g id=\"text_10\">\n      <!-- 0.8 -->\n      <g style=\"fill: #262626\" transform=\"translate(32.031406 97.676572) scale(0.11 -0.11)\">\n       <defs>\n        <path id=\"DejaVuSans-38\" d=\"M 2034 2216 \nQ 1584 2216 1326 1975 \nQ 1069 1734 1069 1313 \nQ 1069 891 1326 650 \nQ 1584 409 2034 409 \nQ 2484 409 2743 651 \nQ 3003 894 3003 1313 \nQ 3003 1734 2745 1975 \nQ 2488 2216 2034 2216 \nz\nM 1403 2484 \nQ 997 2584 770 2862 \nQ 544 3141 544 3541 \nQ 544 4100 942 4425 \nQ 1341 4750 2034 4750 \nQ 2731 4750 3128 4425 \nQ 3525 4100 3525 3541 \nQ 3525 3141 3298 2862 \nQ 3072 2584 2669 2484 \nQ 3125 2378 3379 2068 \nQ 3634 1759 3634 1313 \nQ 3634 634 3220 271 \nQ 2806 -91 2034 -91 \nQ 1263 -91 848 271 \nQ 434 634 434 1313 \nQ 434 1759 690 2068 \nQ 947 2378 1403 2484 \nz\nM 1172 3481 \nQ 1172 3119 1398 2916 \nQ 1625 2713 2034 2713 \nQ 2441 2713 2670 2916 \nQ 2900 3119 2900 3481 \nQ 2900 3844 2670 4047 \nQ 2441 4250 2034 4250 \nQ 1625 4250 1398 4047 \nQ 1172 3844 1172 3481 \nz\n\" transform=\"scale(0.015625)\"/>\n       </defs>\n       <use xlink:href=\"#DejaVuSans-30\"/>\n       <use xlink:href=\"#DejaVuSans-2e\" transform=\"translate(63.623047 0)\"/>\n       <use xlink:href=\"#DejaVuSans-38\" transform=\"translate(95.410156 0)\"/>\n      </g>\n     </g>\n    </g>\n    <g id=\"ytick_7\">\n     <g id=\"line2d_10\">\n      <path d=\"M 59.024844 65.791713 \nL 282.224844 65.791713 \n\" clip-path=\"url(#p8009130696)\" style=\"fill: none; stroke: #ffffff; stroke-linecap: round\"/>\n     </g>\n     <g id=\"text_11\">\n      <!-- 1.0 -->\n      <g style=\"fill: #262626\" transform=\"translate(32.031406 69.970854) scale(0.11 -0.11)\">\n       <use xlink:href=\"#DejaVuSans-31\"/>\n       <use xlink:href=\"#DejaVuSans-2e\" transform=\"translate(63.623047 0)\"/>\n       <use xlink:href=\"#DejaVuSans-30\" transform=\"translate(95.410156 0)\"/>\n      </g>\n     </g>\n    </g>\n    <g id=\"ytick_8\">\n     <g id=\"line2d_11\">\n      <path d=\"M 59.024844 38.085996 \nL 282.224844 38.085996 \n\" clip-path=\"url(#p8009130696)\" style=\"fill: none; stroke: #ffffff; stroke-linecap: round\"/>\n     </g>\n     <g id=\"text_12\">\n      <!-- 1.2 -->\n      <g style=\"fill: #262626\" transform=\"translate(32.031406 42.265136) scale(0.11 -0.11)\">\n       <use xlink:href=\"#DejaVuSans-31\"/>\n       <use xlink:href=\"#DejaVuSans-2e\" transform=\"translate(63.623047 0)\"/>\n       <use xlink:href=\"#DejaVuSans-32\" transform=\"translate(95.410156 0)\"/>\n      </g>\n     </g>\n    </g>\n    <g id=\"text_13\">\n     <!-- $x_2$ -->\n     <g style=\"fill: #262626\" transform=\"translate(16.318125 139.618125) rotate(-90) scale(0.12 -0.12)\">\n      <use xlink:href=\"#DejaVuSans-Oblique-78\" transform=\"translate(0 0.3125)\"/>\n      <use xlink:href=\"#DejaVuSans-32\" transform=\"translate(59.179688 -16.09375) scale(0.7)\"/>\n     </g>\n    </g>\n   </g>\n   <g id=\"PathCollection_1\">\n    <defs>\n     <path id=\"m8ee0ac457a\" d=\"M 0 3 \nC 0.795609 3 1.55874 2.683901 2.12132 2.12132 \nC 2.683901 1.55874 3 0.795609 3 0 \nC 3 -0.795609 2.683901 -1.55874 2.12132 -2.12132 \nC 1.55874 -2.683901 0.795609 -3 0 -3 \nC -0.795609 -3 -1.55874 -2.683901 -2.12132 -2.12132 \nC -2.683901 -1.55874 -3 -0.795609 -3 0 \nC -3 0.795609 -2.683901 1.55874 -2.12132 2.12132 \nC -1.55874 2.683901 -0.795609 3 0 3 \nz\n\" style=\"stroke: #333333\"/>\n    </defs>\n    <g clip-path=\"url(#p8009130696)\">\n     <use xlink:href=\"#m8ee0ac457a\" x=\"69.170298\" y=\"207.661803\" style=\"fill: #4c72b0; stroke: #333333\"/>\n     <use xlink:href=\"#m8ee0ac457a\" x=\"260.180343\" y=\"50.825798\" style=\"fill: #4c72b0; stroke: #333333\"/>\n     <use xlink:href=\"#m8ee0ac457a\" x=\"231.114571\" y=\"32.697737\" style=\"fill: #4c72b0; stroke: #333333\"/>\n     <use xlink:href=\"#m8ee0ac457a\" x=\"112.093047\" y=\"223.521425\" style=\"fill: #4c72b0; stroke: #333333\"/>\n     <use xlink:href=\"#m8ee0ac457a\" x=\"98.474653\" y=\"194.158336\" style=\"fill: #4c72b0; stroke: #333333\"/>\n     <use xlink:href=\"#m8ee0ac457a\" x=\"134.376616\" y=\"212.0466\" style=\"fill: #4c72b0; stroke: #333333\"/>\n     <use xlink:href=\"#m8ee0ac457a\" x=\"246.957543\" y=\"61.726967\" style=\"fill: #4c72b0; stroke: #333333\"/>\n     <use xlink:href=\"#m8ee0ac457a\" x=\"248.734753\" y=\"73.944053\" style=\"fill: #4c72b0; stroke: #333333\"/>\n     <use xlink:href=\"#m8ee0ac457a\" x=\"108.060072\" y=\"188.475125\" style=\"fill: #4c72b0; stroke: #333333\"/>\n     <use xlink:href=\"#m8ee0ac457a\" x=\"252.527592\" y=\"53.44543\" style=\"fill: #4c72b0; stroke: #333333\"/>\n     <use xlink:href=\"#m8ee0ac457a\" x=\"115.749366\" y=\"196.932577\" style=\"fill: #4c72b0; stroke: #333333\"/>\n     <use xlink:href=\"#m8ee0ac457a\" x=\"242.408258\" y=\"57.934551\" style=\"fill: #4c72b0; stroke: #333333\"/>\n     <use xlink:href=\"#m8ee0ac457a\" x=\"245.032816\" y=\"56.851041\" style=\"fill: #4c72b0; stroke: #333333\"/>\n     <use xlink:href=\"#m8ee0ac457a\" x=\"258.556295\" y=\"59.324971\" style=\"fill: #4c72b0; stroke: #333333\"/>\n     <use xlink:href=\"#m8ee0ac457a\" x=\"111.123675\" y=\"206.641139\" style=\"fill: #4c72b0; stroke: #333333\"/>\n     <use xlink:href=\"#m8ee0ac457a\" x=\"90.969059\" y=\"211.255039\" style=\"fill: #4c72b0; stroke: #333333\"/>\n     <use xlink:href=\"#m8ee0ac457a\" x=\"235.855036\" y=\"56.579124\" style=\"fill: #4c72b0; stroke: #333333\"/>\n     <use xlink:href=\"#m8ee0ac457a\" x=\"244.519987\" y=\"53.836793\" style=\"fill: #4c72b0; stroke: #333333\"/>\n     <use xlink:href=\"#m8ee0ac457a\" x=\"231.969937\" y=\"84.440268\" style=\"fill: #4c72b0; stroke: #333333\"/>\n     <use xlink:href=\"#m8ee0ac457a\" x=\"110.719012\" y=\"224.989826\" style=\"fill: #4c72b0; stroke: #333333\"/>\n     <use xlink:href=\"#m8ee0ac457a\" x=\"229.768444\" y=\"70.908494\" style=\"fill: #4c72b0; stroke: #333333\"/>\n     <use xlink:href=\"#m8ee0ac457a\" x=\"267.767626\" y=\"74.322106\" style=\"fill: #4c72b0; stroke: #333333\"/>\n     <use xlink:href=\"#m8ee0ac457a\" x=\"103.719928\" y=\"213.642217\" style=\"fill: #4c72b0; stroke: #333333\"/>\n     <use xlink:href=\"#m8ee0ac457a\" x=\"247.891302\" y=\"71.289007\" style=\"fill: #4c72b0; stroke: #333333\"/>\n     <use xlink:href=\"#m8ee0ac457a\" x=\"105.837665\" y=\"206.464168\" style=\"fill: #4c72b0; stroke: #333333\"/>\n     <use xlink:href=\"#m8ee0ac457a\" x=\"223.471002\" y=\"65.125956\" style=\"fill: #4c72b0; stroke: #333333\"/>\n     <use xlink:href=\"#m8ee0ac457a\" x=\"124.570506\" y=\"212.956919\" style=\"fill: #4c72b0; stroke: #333333\"/>\n     <use xlink:href=\"#m8ee0ac457a\" x=\"231.959184\" y=\"75.345034\" style=\"fill: #4c72b0; stroke: #333333\"/>\n     <use xlink:href=\"#m8ee0ac457a\" x=\"247.000252\" y=\"75.977021\" style=\"fill: #4c72b0; stroke: #333333\"/>\n     <use xlink:href=\"#m8ee0ac457a\" x=\"246.57329\" y=\"75.33681\" style=\"fill: #4c72b0; stroke: #333333\"/>\n     <use xlink:href=\"#m8ee0ac457a\" x=\"112.624729\" y=\"181.237815\" style=\"fill: #4c72b0; stroke: #333333\"/>\n     <use xlink:href=\"#m8ee0ac457a\" x=\"106.203653\" y=\"198.038191\" style=\"fill: #4c72b0; stroke: #333333\"/>\n     <use xlink:href=\"#m8ee0ac457a\" x=\"130.518864\" y=\"215.28771\" style=\"fill: #4c72b0; stroke: #333333\"/>\n     <use xlink:href=\"#m8ee0ac457a\" x=\"120.120348\" y=\"233.136106\" style=\"fill: #4c72b0; stroke: #333333\"/>\n     <use xlink:href=\"#m8ee0ac457a\" x=\"112.690881\" y=\"218.526445\" style=\"fill: #4c72b0; stroke: #333333\"/>\n     <use xlink:href=\"#m8ee0ac457a\" x=\"121.15269\" y=\"204.381955\" style=\"fill: #4c72b0; stroke: #333333\"/>\n     <use xlink:href=\"#m8ee0ac457a\" x=\"104.868515\" y=\"202.89425\" style=\"fill: #4c72b0; stroke: #333333\"/>\n     <use xlink:href=\"#m8ee0ac457a\" x=\"235.309329\" y=\"76.10502\" style=\"fill: #4c72b0; stroke: #333333\"/>\n     <use xlink:href=\"#m8ee0ac457a\" x=\"237.538841\" y=\"64.11187\" style=\"fill: #4c72b0; stroke: #333333\"/>\n     <use xlink:href=\"#m8ee0ac457a\" x=\"247.500891\" y=\"55.440424\" style=\"fill: #4c72b0; stroke: #333333\"/>\n     <use xlink:href=\"#m8ee0ac457a\" x=\"113.403758\" y=\"223.649134\" style=\"fill: #4c72b0; stroke: #333333\"/>\n     <use xlink:href=\"#m8ee0ac457a\" x=\"241.446496\" y=\"54.865179\" style=\"fill: #4c72b0; stroke: #333333\"/>\n     <use xlink:href=\"#m8ee0ac457a\" x=\"241.323742\" y=\"70.376491\" style=\"fill: #4c72b0; stroke: #333333\"/>\n     <use xlink:href=\"#m8ee0ac457a\" x=\"120.2015\" y=\"223.719014\" style=\"fill: #4c72b0; stroke: #333333\"/>\n     <use xlink:href=\"#m8ee0ac457a\" x=\"77.343854\" y=\"228.20407\" style=\"fill: #4c72b0; stroke: #333333\"/>\n     <use xlink:href=\"#m8ee0ac457a\" x=\"99.467426\" y=\"219.387189\" style=\"fill: #4c72b0; stroke: #333333\"/>\n     <use xlink:href=\"#m8ee0ac457a\" x=\"233.063235\" y=\"52.502305\" style=\"fill: #4c72b0; stroke: #333333\"/>\n     <use xlink:href=\"#m8ee0ac457a\" x=\"247.14416\" y=\"60.46623\" style=\"fill: #4c72b0; stroke: #333333\"/>\n     <use xlink:href=\"#m8ee0ac457a\" x=\"75.94629\" y=\"217.305803\" style=\"fill: #4c72b0; stroke: #333333\"/>\n     <use xlink:href=\"#m8ee0ac457a\" x=\"229.327859\" y=\"77.503574\" style=\"fill: #4c72b0; stroke: #333333\"/>\n     <use xlink:href=\"#m8ee0ac457a\" x=\"128.74594\" y=\"218.76803\" style=\"fill: #4c72b0; stroke: #333333\"/>\n     <use xlink:href=\"#m8ee0ac457a\" x=\"243.887708\" y=\"74.534004\" style=\"fill: #4c72b0; stroke: #333333\"/>\n     <use xlink:href=\"#m8ee0ac457a\" x=\"136.483214\" y=\"211.71983\" style=\"fill: #4c72b0; stroke: #333333\"/>\n     <use xlink:href=\"#m8ee0ac457a\" x=\"255.445371\" y=\"89.04672\" style=\"fill: #4c72b0; stroke: #333333\"/>\n     <use xlink:href=\"#m8ee0ac457a\" x=\"252.088121\" y=\"53.904087\" style=\"fill: #4c72b0; stroke: #333333\"/>\n     <use xlink:href=\"#m8ee0ac457a\" x=\"91.263435\" y=\"183.428165\" style=\"fill: #4c72b0; stroke: #333333\"/>\n     <use xlink:href=\"#m8ee0ac457a\" x=\"259.630435\" y=\"67.220314\" style=\"fill: #4c72b0; stroke: #333333\"/>\n     <use xlink:href=\"#m8ee0ac457a\" x=\"228.610731\" y=\"39.986871\" style=\"fill: #4c72b0; stroke: #333333\"/>\n     <use xlink:href=\"#m8ee0ac457a\" x=\"113.441572\" y=\"213.103329\" style=\"fill: #4c72b0; stroke: #333333\"/>\n     <use xlink:href=\"#m8ee0ac457a\" x=\"90.366175\" y=\"208.161499\" style=\"fill: #4c72b0; stroke: #333333\"/>\n     <use xlink:href=\"#m8ee0ac457a\" x=\"101.193997\" y=\"189.031536\" style=\"fill: #4c72b0; stroke: #333333\"/>\n     <use xlink:href=\"#m8ee0ac457a\" x=\"87.512623\" y=\"196.889057\" style=\"fill: #4c72b0; stroke: #333333\"/>\n     <use xlink:href=\"#m8ee0ac457a\" x=\"248.879864\" y=\"70.678984\" style=\"fill: #4c72b0; stroke: #333333\"/>\n     <use xlink:href=\"#m8ee0ac457a\" x=\"260.608475\" y=\"62.214176\" style=\"fill: #4c72b0; stroke: #333333\"/>\n     <use xlink:href=\"#m8ee0ac457a\" x=\"233.790626\" y=\"86.10941\" style=\"fill: #4c72b0; stroke: #333333\"/>\n     <use xlink:href=\"#m8ee0ac457a\" x=\"95.433639\" y=\"221.749877\" style=\"fill: #4c72b0; stroke: #333333\"/>\n     <use xlink:href=\"#m8ee0ac457a\" x=\"235.78604\" y=\"66.413445\" style=\"fill: #4c72b0; stroke: #333333\"/>\n     <use xlink:href=\"#m8ee0ac457a\" x=\"232.076622\" y=\"66.851699\" style=\"fill: #4c72b0; stroke: #333333\"/>\n     <use xlink:href=\"#m8ee0ac457a\" x=\"92.5796\" y=\"229.890698\" style=\"fill: #4c72b0; stroke: #333333\"/>\n     <use xlink:href=\"#m8ee0ac457a\" x=\"120.258146\" y=\"200.875486\" style=\"fill: #4c72b0; stroke: #333333\"/>\n     <use xlink:href=\"#m8ee0ac457a\" x=\"83.927729\" y=\"212.135922\" style=\"fill: #4c72b0; stroke: #333333\"/>\n     <use xlink:href=\"#m8ee0ac457a\" x=\"110.056697\" y=\"187.077013\" style=\"fill: #4c72b0; stroke: #333333\"/>\n     <use xlink:href=\"#m8ee0ac457a\" x=\"238.315878\" y=\"60.324161\" style=\"fill: #4c72b0; stroke: #333333\"/>\n     <use xlink:href=\"#m8ee0ac457a\" x=\"256.671695\" y=\"72.082789\" style=\"fill: #4c72b0; stroke: #333333\"/>\n     <use xlink:href=\"#m8ee0ac457a\" x=\"118.091783\" y=\"203.819415\" style=\"fill: #4c72b0; stroke: #333333\"/>\n     <use xlink:href=\"#m8ee0ac457a\" x=\"137.556707\" y=\"215.277491\" style=\"fill: #4c72b0; stroke: #333333\"/>\n     <use xlink:href=\"#m8ee0ac457a\" x=\"110.409229\" y=\"208.735125\" style=\"fill: #4c72b0; stroke: #333333\"/>\n     <use xlink:href=\"#m8ee0ac457a\" x=\"245.937114\" y=\"72.433916\" style=\"fill: #4c72b0; stroke: #333333\"/>\n     <use xlink:href=\"#m8ee0ac457a\" x=\"245.070569\" y=\"73.216319\" style=\"fill: #4c72b0; stroke: #333333\"/>\n     <use xlink:href=\"#m8ee0ac457a\" x=\"103.169853\" y=\"213.909998\" style=\"fill: #4c72b0; stroke: #333333\"/>\n     <use xlink:href=\"#m8ee0ac457a\" x=\"233.419453\" y=\"69.037296\" style=\"fill: #4c72b0; stroke: #333333\"/>\n     <use xlink:href=\"#m8ee0ac457a\" x=\"211.818924\" y=\"84.313136\" style=\"fill: #4c72b0; stroke: #333333\"/>\n     <use xlink:href=\"#m8ee0ac457a\" x=\"242.760467\" y=\"67.840939\" style=\"fill: #4c72b0; stroke: #333333\"/>\n     <use xlink:href=\"#m8ee0ac457a\" x=\"130.054707\" y=\"206.286491\" style=\"fill: #4c72b0; stroke: #333333\"/>\n     <use xlink:href=\"#m8ee0ac457a\" x=\"247.863605\" y=\"58.48121\" style=\"fill: #4c72b0; stroke: #333333\"/>\n     <use xlink:href=\"#m8ee0ac457a\" x=\"112.947373\" y=\"198.663459\" style=\"fill: #4c72b0; stroke: #333333\"/>\n     <use xlink:href=\"#m8ee0ac457a\" x=\"115.851402\" y=\"222.94147\" style=\"fill: #4c72b0; stroke: #333333\"/>\n     <use xlink:href=\"#m8ee0ac457a\" x=\"128.177432\" y=\"209.68994\" style=\"fill: #4c72b0; stroke: #333333\"/>\n     <use xlink:href=\"#m8ee0ac457a\" x=\"227.326158\" y=\"42.253551\" style=\"fill: #4c72b0; stroke: #333333\"/>\n     <use xlink:href=\"#m8ee0ac457a\" x=\"248.533942\" y=\"49.816271\" style=\"fill: #4c72b0; stroke: #333333\"/>\n     <use xlink:href=\"#m8ee0ac457a\" x=\"238.467468\" y=\"66.437126\" style=\"fill: #4c72b0; stroke: #333333\"/>\n     <use xlink:href=\"#m8ee0ac457a\" x=\"119.723839\" y=\"208.148481\" style=\"fill: #4c72b0; stroke: #333333\"/>\n     <use xlink:href=\"#m8ee0ac457a\" x=\"95.378704\" y=\"211.446275\" style=\"fill: #4c72b0; stroke: #333333\"/>\n     <use xlink:href=\"#m8ee0ac457a\" x=\"120.480983\" y=\"200.774353\" style=\"fill: #4c72b0; stroke: #333333\"/>\n     <use xlink:href=\"#m8ee0ac457a\" x=\"223.875816\" y=\"72.13759\" style=\"fill: #4c72b0; stroke: #333333\"/>\n     <use xlink:href=\"#m8ee0ac457a\" x=\"120.108273\" y=\"198.453064\" style=\"fill: #4c72b0; stroke: #333333\"/>\n     <use xlink:href=\"#m8ee0ac457a\" x=\"109.834772\" y=\"208.309156\" style=\"fill: #4c72b0; stroke: #333333\"/>\n     <use xlink:href=\"#m8ee0ac457a\" x=\"100.661168\" y=\"215.370255\" style=\"fill: #4c72b0; stroke: #333333\"/>\n     <use xlink:href=\"#m8ee0ac457a\" x=\"107.629456\" y=\"219.232821\" style=\"fill: #4c72b0; stroke: #333333\"/>\n     <use xlink:href=\"#m8ee0ac457a\" x=\"221.303518\" y=\"55.768919\" style=\"fill: #4c72b0; stroke: #333333\"/>\n     <use xlink:href=\"#m8ee0ac457a\" x=\"224.705209\" y=\"71.935848\" style=\"fill: #4c72b0; stroke: #333333\"/>\n     <use xlink:href=\"#m8ee0ac457a\" x=\"89.394719\" y=\"216.170659\" style=\"fill: #4c72b0; stroke: #333333\"/>\n     <use xlink:href=\"#m8ee0ac457a\" x=\"204.033765\" y=\"83.116291\" style=\"fill: #4c72b0; stroke: #333333\"/>\n     <use xlink:href=\"#m8ee0ac457a\" x=\"95.284601\" y=\"185.795766\" style=\"fill: #4c72b0; stroke: #333333\"/>\n     <use xlink:href=\"#m8ee0ac457a\" x=\"98.879453\" y=\"197.426543\" style=\"fill: #4c72b0; stroke: #333333\"/>\n     <use xlink:href=\"#m8ee0ac457a\" x=\"230.290102\" y=\"61.956989\" style=\"fill: #4c72b0; stroke: #333333\"/>\n    </g>\n   </g>\n   <g id=\"PathCollection_2\">\n    <defs>\n     <path id=\"m5904f51383\" d=\"M 0 3 \nC 0.795609 3 1.55874 2.683901 2.12132 2.12132 \nC 2.683901 1.55874 3 0.795609 3 0 \nC 3 -0.795609 2.683901 -1.55874 2.12132 -2.12132 \nC 1.55874 -2.683901 0.795609 -3 0 -3 \nC -0.795609 -3 -1.55874 -2.683901 -2.12132 -2.12132 \nC -2.683901 -1.55874 -3 -0.795609 -3 0 \nC -3 0.795609 -2.683901 1.55874 -2.12132 2.12132 \nC -1.55874 2.683901 -0.795609 3 0 3 \nz\n\" style=\"stroke: #333333\"/>\n    </defs>\n    <g clip-path=\"url(#p8009130696)\">\n     <use xlink:href=\"#m5904f51383\" x=\"246.404074\" y=\"198.244168\" style=\"fill: #dd8452; stroke: #333333\"/>\n     <use xlink:href=\"#m5904f51383\" x=\"96.599018\" y=\"79.555681\" style=\"fill: #dd8452; stroke: #333333\"/>\n     <use xlink:href=\"#m5904f51383\" x=\"238.528356\" y=\"205.322954\" style=\"fill: #dd8452; stroke: #333333\"/>\n     <use xlink:href=\"#m5904f51383\" x=\"105.760424\" y=\"52.191002\" style=\"fill: #dd8452; stroke: #333333\"/>\n     <use xlink:href=\"#m5904f51383\" x=\"251.538277\" y=\"233.998125\" style=\"fill: #dd8452; stroke: #333333\"/>\n     <use xlink:href=\"#m5904f51383\" x=\"240.611378\" y=\"210.634482\" style=\"fill: #dd8452; stroke: #333333\"/>\n     <use xlink:href=\"#m5904f51383\" x=\"229.006226\" y=\"219.585508\" style=\"fill: #dd8452; stroke: #333333\"/>\n     <use xlink:href=\"#m5904f51383\" x=\"93.488227\" y=\"59.115575\" style=\"fill: #dd8452; stroke: #333333\"/>\n     <use xlink:href=\"#m5904f51383\" x=\"115.627979\" y=\"64.039622\" style=\"fill: #dd8452; stroke: #333333\"/>\n     <use xlink:href=\"#m5904f51383\" x=\"108.050331\" y=\"88.283869\" style=\"fill: #dd8452; stroke: #333333\"/>\n     <use xlink:href=\"#m5904f51383\" x=\"92.448715\" y=\"69.683989\" style=\"fill: #dd8452; stroke: #333333\"/>\n     <use xlink:href=\"#m5904f51383\" x=\"99.688863\" y=\"71.160067\" style=\"fill: #dd8452; stroke: #333333\"/>\n     <use xlink:href=\"#m5904f51383\" x=\"257.91481\" y=\"193.084595\" style=\"fill: #dd8452; stroke: #333333\"/>\n     <use xlink:href=\"#m5904f51383\" x=\"248.703719\" y=\"205.773909\" style=\"fill: #dd8452; stroke: #333333\"/>\n     <use xlink:href=\"#m5904f51383\" x=\"220.418433\" y=\"192.596132\" style=\"fill: #dd8452; stroke: #333333\"/>\n     <use xlink:href=\"#m5904f51383\" x=\"96.607032\" y=\"63.364782\" style=\"fill: #dd8452; stroke: #333333\"/>\n     <use xlink:href=\"#m5904f51383\" x=\"239.006022\" y=\"221.720593\" style=\"fill: #dd8452; stroke: #333333\"/>\n     <use xlink:href=\"#m5904f51383\" x=\"235.942731\" y=\"218.050918\" style=\"fill: #dd8452; stroke: #333333\"/>\n     <use xlink:href=\"#m5904f51383\" x=\"235.039138\" y=\"187.221826\" style=\"fill: #dd8452; stroke: #333333\"/>\n     <use xlink:href=\"#m5904f51383\" x=\"228.75237\" y=\"196.677624\" style=\"fill: #dd8452; stroke: #333333\"/>\n     <use xlink:href=\"#m5904f51383\" x=\"228.313187\" y=\"225.086051\" style=\"fill: #dd8452; stroke: #333333\"/>\n     <use xlink:href=\"#m5904f51383\" x=\"123.981621\" y=\"45.324492\" style=\"fill: #dd8452; stroke: #333333\"/>\n     <use xlink:href=\"#m5904f51383\" x=\"240.631409\" y=\"200.380874\" style=\"fill: #dd8452; stroke: #333333\"/>\n     <use xlink:href=\"#m5904f51383\" x=\"98.508064\" y=\"61.803459\" style=\"fill: #dd8452; stroke: #333333\"/>\n     <use xlink:href=\"#m5904f51383\" x=\"257.023054\" y=\"214.262833\" style=\"fill: #dd8452; stroke: #333333\"/>\n     <use xlink:href=\"#m5904f51383\" x=\"81.938297\" y=\"67.878855\" style=\"fill: #dd8452; stroke: #333333\"/>\n     <use xlink:href=\"#m5904f51383\" x=\"134.332303\" y=\"61.404748\" style=\"fill: #dd8452; stroke: #333333\"/>\n     <use xlink:href=\"#m5904f51383\" x=\"241.469944\" y=\"208.859145\" style=\"fill: #dd8452; stroke: #333333\"/>\n     <use xlink:href=\"#m5904f51383\" x=\"238.663765\" y=\"204.579422\" style=\"fill: #dd8452; stroke: #333333\"/>\n     <use xlink:href=\"#m5904f51383\" x=\"113.372849\" y=\"61.852076\" style=\"fill: #dd8452; stroke: #333333\"/>\n     <use xlink:href=\"#m5904f51383\" x=\"231.794988\" y=\"196.889433\" style=\"fill: #dd8452; stroke: #333333\"/>\n     <use xlink:href=\"#m5904f51383\" x=\"120.962856\" y=\"84.02354\" style=\"fill: #dd8452; stroke: #333333\"/>\n     <use xlink:href=\"#m5904f51383\" x=\"105.530214\" y=\"94.530076\" style=\"fill: #dd8452; stroke: #333333\"/>\n     <use xlink:href=\"#m5904f51383\" x=\"233.385645\" y=\"189.094809\" style=\"fill: #dd8452; stroke: #333333\"/>\n     <use xlink:href=\"#m5904f51383\" x=\"259.503206\" y=\"204.643501\" style=\"fill: #dd8452; stroke: #333333\"/>\n     <use xlink:href=\"#m5904f51383\" x=\"114.936929\" y=\"50.444971\" style=\"fill: #dd8452; stroke: #333333\"/>\n     <use xlink:href=\"#m5904f51383\" x=\"100.572391\" y=\"66.957305\" style=\"fill: #dd8452; stroke: #333333\"/>\n     <use xlink:href=\"#m5904f51383\" x=\"79.715939\" y=\"69.266204\" style=\"fill: #dd8452; stroke: #333333\"/>\n     <use xlink:href=\"#m5904f51383\" x=\"246.054143\" y=\"186.357265\" style=\"fill: #dd8452; stroke: #333333\"/>\n     <use xlink:href=\"#m5904f51383\" x=\"118.75302\" y=\"65.674845\" style=\"fill: #dd8452; stroke: #333333\"/>\n     <use xlink:href=\"#m5904f51383\" x=\"265.938277\" y=\"211.010945\" style=\"fill: #dd8452; stroke: #333333\"/>\n     <use xlink:href=\"#m5904f51383\" x=\"115.032493\" y=\"77.220922\" style=\"fill: #dd8452; stroke: #333333\"/>\n     <use xlink:href=\"#m5904f51383\" x=\"123.649289\" y=\"89.776155\" style=\"fill: #dd8452; stroke: #333333\"/>\n     <use xlink:href=\"#m5904f51383\" x=\"132.323423\" y=\"52.646918\" style=\"fill: #dd8452; stroke: #333333\"/>\n     <use xlink:href=\"#m5904f51383\" x=\"229.404985\" y=\"233.266219\" style=\"fill: #dd8452; stroke: #333333\"/>\n     <use xlink:href=\"#m5904f51383\" x=\"123.741702\" y=\"59.385396\" style=\"fill: #dd8452; stroke: #333333\"/>\n     <use xlink:href=\"#m5904f51383\" x=\"111.992603\" y=\"68.757906\" style=\"fill: #dd8452; stroke: #333333\"/>\n     <use xlink:href=\"#m5904f51383\" x=\"223.07756\" y=\"207.889503\" style=\"fill: #dd8452; stroke: #333333\"/>\n     <use xlink:href=\"#m5904f51383\" x=\"237.242067\" y=\"203.322067\" style=\"fill: #dd8452; stroke: #333333\"/>\n     <use xlink:href=\"#m5904f51383\" x=\"110.81395\" y=\"70.766871\" style=\"fill: #dd8452; stroke: #333333\"/>\n     <use xlink:href=\"#m5904f51383\" x=\"108.354127\" y=\"38.902684\" style=\"fill: #dd8452; stroke: #333333\"/>\n     <use xlink:href=\"#m5904f51383\" x=\"239.136145\" y=\"197.920194\" style=\"fill: #dd8452; stroke: #333333\"/>\n     <use xlink:href=\"#m5904f51383\" x=\"234.247667\" y=\"209.044625\" style=\"fill: #dd8452; stroke: #333333\"/>\n     <use xlink:href=\"#m5904f51383\" x=\"109.621565\" y=\"56.557606\" style=\"fill: #dd8452; stroke: #333333\"/>\n     <use xlink:href=\"#m5904f51383\" x=\"100.867544\" y=\"43.334501\" style=\"fill: #dd8452; stroke: #333333\"/>\n     <use xlink:href=\"#m5904f51383\" x=\"91.688221\" y=\"88.331074\" style=\"fill: #dd8452; stroke: #333333\"/>\n     <use xlink:href=\"#m5904f51383\" x=\"113.629358\" y=\"68.191496\" style=\"fill: #dd8452; stroke: #333333\"/>\n     <use xlink:href=\"#m5904f51383\" x=\"107.785727\" y=\"43.125105\" style=\"fill: #dd8452; stroke: #333333\"/>\n     <use xlink:href=\"#m5904f51383\" x=\"106.836061\" y=\"60.533821\" style=\"fill: #dd8452; stroke: #333333\"/>\n     <use xlink:href=\"#m5904f51383\" x=\"101.623369\" y=\"54.395161\" style=\"fill: #dd8452; stroke: #333333\"/>\n     <use xlink:href=\"#m5904f51383\" x=\"224.998326\" y=\"217.394532\" style=\"fill: #dd8452; stroke: #333333\"/>\n     <use xlink:href=\"#m5904f51383\" x=\"84.903025\" y=\"90.806366\" style=\"fill: #dd8452; stroke: #333333\"/>\n     <use xlink:href=\"#m5904f51383\" x=\"238.271333\" y=\"198.828498\" style=\"fill: #dd8452; stroke: #333333\"/>\n     <use xlink:href=\"#m5904f51383\" x=\"236.912063\" y=\"201.688711\" style=\"fill: #dd8452; stroke: #333333\"/>\n     <use xlink:href=\"#m5904f51383\" x=\"258.25228\" y=\"175.139777\" style=\"fill: #dd8452; stroke: #333333\"/>\n     <use xlink:href=\"#m5904f51383\" x=\"234.600606\" y=\"206.500672\" style=\"fill: #dd8452; stroke: #333333\"/>\n     <use xlink:href=\"#m5904f51383\" x=\"108.654954\" y=\"76.906109\" style=\"fill: #dd8452; stroke: #333333\"/>\n     <use xlink:href=\"#m5904f51383\" x=\"219.039709\" y=\"197.778485\" style=\"fill: #dd8452; stroke: #333333\"/>\n     <use xlink:href=\"#m5904f51383\" x=\"230.481578\" y=\"194.70144\" style=\"fill: #dd8452; stroke: #333333\"/>\n     <use xlink:href=\"#m5904f51383\" x=\"111.059699\" y=\"68.843787\" style=\"fill: #dd8452; stroke: #333333\"/>\n     <use xlink:href=\"#m5904f51383\" x=\"129.25008\" y=\"56.413803\" style=\"fill: #dd8452; stroke: #333333\"/>\n     <use xlink:href=\"#m5904f51383\" x=\"272.079389\" y=\"191.197604\" style=\"fill: #dd8452; stroke: #333333\"/>\n     <use xlink:href=\"#m5904f51383\" x=\"110.979954\" y=\"62.834223\" style=\"fill: #dd8452; stroke: #333333\"/>\n     <use xlink:href=\"#m5904f51383\" x=\"111.708655\" y=\"32.398125\" style=\"fill: #dd8452; stroke: #333333\"/>\n     <use xlink:href=\"#m5904f51383\" x=\"116.655298\" y=\"90.119942\" style=\"fill: #dd8452; stroke: #333333\"/>\n     <use xlink:href=\"#m5904f51383\" x=\"244.440471\" y=\"214.260159\" style=\"fill: #dd8452; stroke: #333333\"/>\n     <use xlink:href=\"#m5904f51383\" x=\"229.523946\" y=\"196.949641\" style=\"fill: #dd8452; stroke: #333333\"/>\n     <use xlink:href=\"#m5904f51383\" x=\"231.014695\" y=\"212.275816\" style=\"fill: #dd8452; stroke: #333333\"/>\n     <use xlink:href=\"#m5904f51383\" x=\"106.275492\" y=\"60.877162\" style=\"fill: #dd8452; stroke: #333333\"/>\n     <use xlink:href=\"#m5904f51383\" x=\"251.034222\" y=\"230.831549\" style=\"fill: #dd8452; stroke: #333333\"/>\n     <use xlink:href=\"#m5904f51383\" x=\"232.587053\" y=\"218.174148\" style=\"fill: #dd8452; stroke: #333333\"/>\n     <use xlink:href=\"#m5904f51383\" x=\"246.622382\" y=\"189.779295\" style=\"fill: #dd8452; stroke: #333333\"/>\n     <use xlink:href=\"#m5904f51383\" x=\"132.131122\" y=\"52.676907\" style=\"fill: #dd8452; stroke: #333333\"/>\n     <use xlink:href=\"#m5904f51383\" x=\"88.993944\" y=\"70.279191\" style=\"fill: #dd8452; stroke: #333333\"/>\n     <use xlink:href=\"#m5904f51383\" x=\"232.381639\" y=\"205.574887\" style=\"fill: #dd8452; stroke: #333333\"/>\n     <use xlink:href=\"#m5904f51383\" x=\"119.990722\" y=\"90.761333\" style=\"fill: #dd8452; stroke: #333333\"/>\n     <use xlink:href=\"#m5904f51383\" x=\"125.189277\" y=\"49.895273\" style=\"fill: #dd8452; stroke: #333333\"/>\n     <use xlink:href=\"#m5904f51383\" x=\"114.827863\" y=\"64.768133\" style=\"fill: #dd8452; stroke: #333333\"/>\n     <use xlink:href=\"#m5904f51383\" x=\"118.341816\" y=\"59.568749\" style=\"fill: #dd8452; stroke: #333333\"/>\n     <use xlink:href=\"#m5904f51383\" x=\"245.021493\" y=\"220.902182\" style=\"fill: #dd8452; stroke: #333333\"/>\n     <use xlink:href=\"#m5904f51383\" x=\"246.219093\" y=\"216.547485\" style=\"fill: #dd8452; stroke: #333333\"/>\n     <use xlink:href=\"#m5904f51383\" x=\"93.317275\" y=\"73.559263\" style=\"fill: #dd8452; stroke: #333333\"/>\n     <use xlink:href=\"#m5904f51383\" x=\"247.536287\" y=\"174.414206\" style=\"fill: #dd8452; stroke: #333333\"/>\n     <use xlink:href=\"#m5904f51383\" x=\"129.645397\" y=\"77.078969\" style=\"fill: #dd8452; stroke: #333333\"/>\n    </g>\n   </g>\n   <g id=\"patch_3\">\n    <path d=\"M 59.024844 244.078125 \nL 59.024844 22.318125 \n\" style=\"fill: none; stroke: #ffffff; stroke-width: 1.25; stroke-linejoin: miter; stroke-linecap: square\"/>\n   </g>\n   <g id=\"patch_4\">\n    <path d=\"M 282.224844 244.078125 \nL 282.224844 22.318125 \n\" style=\"fill: none; stroke: #ffffff; stroke-width: 1.25; stroke-linejoin: miter; stroke-linecap: square\"/>\n   </g>\n   <g id=\"patch_5\">\n    <path d=\"M 59.024844 244.078125 \nL 282.224844 244.078125 \n\" style=\"fill: none; stroke: #ffffff; stroke-width: 1.25; stroke-linejoin: miter; stroke-linecap: square\"/>\n   </g>\n   <g id=\"patch_6\">\n    <path d=\"M 59.024844 22.318125 \nL 282.224844 22.318125 \n\" style=\"fill: none; stroke: #ffffff; stroke-width: 1.25; stroke-linejoin: miter; stroke-linecap: square\"/>\n   </g>\n   <g id=\"text_14\">\n    <!-- Dataset samples -->\n    <g style=\"fill: #262626\" transform=\"translate(120.282031 16.318125) scale(0.12 -0.12)\">\n     <defs>\n      <path id=\"DejaVuSans-44\" d=\"M 1259 4147 \nL 1259 519 \nL 2022 519 \nQ 2988 519 3436 956 \nQ 3884 1394 3884 2338 \nQ 3884 3275 3436 3711 \nQ 2988 4147 2022 4147 \nL 1259 4147 \nz\nM 628 4666 \nL 1925 4666 \nQ 3281 4666 3915 4102 \nQ 4550 3538 4550 2338 \nQ 4550 1131 3912 565 \nQ 3275 0 1925 0 \nL 628 0 \nL 628 4666 \nz\n\" transform=\"scale(0.015625)\"/>\n      <path id=\"DejaVuSans-61\" d=\"M 2194 1759 \nQ 1497 1759 1228 1600 \nQ 959 1441 959 1056 \nQ 959 750 1161 570 \nQ 1363 391 1709 391 \nQ 2188 391 2477 730 \nQ 2766 1069 2766 1631 \nL 2766 1759 \nL 2194 1759 \nz\nM 3341 1997 \nL 3341 0 \nL 2766 0 \nL 2766 531 \nQ 2569 213 2275 61 \nQ 1981 -91 1556 -91 \nQ 1019 -91 701 211 \nQ 384 513 384 1019 \nQ 384 1609 779 1909 \nQ 1175 2209 1959 2209 \nL 2766 2209 \nL 2766 2266 \nQ 2766 2663 2505 2880 \nQ 2244 3097 1772 3097 \nQ 1472 3097 1187 3025 \nQ 903 2953 641 2809 \nL 641 3341 \nQ 956 3463 1253 3523 \nQ 1550 3584 1831 3584 \nQ 2591 3584 2966 3190 \nQ 3341 2797 3341 1997 \nz\n\" transform=\"scale(0.015625)\"/>\n      <path id=\"DejaVuSans-74\" d=\"M 1172 4494 \nL 1172 3500 \nL 2356 3500 \nL 2356 3053 \nL 1172 3053 \nL 1172 1153 \nQ 1172 725 1289 603 \nQ 1406 481 1766 481 \nL 2356 481 \nL 2356 0 \nL 1766 0 \nQ 1100 0 847 248 \nQ 594 497 594 1153 \nL 594 3053 \nL 172 3053 \nL 172 3500 \nL 594 3500 \nL 594 4494 \nL 1172 4494 \nz\n\" transform=\"scale(0.015625)\"/>\n      <path id=\"DejaVuSans-73\" d=\"M 2834 3397 \nL 2834 2853 \nQ 2591 2978 2328 3040 \nQ 2066 3103 1784 3103 \nQ 1356 3103 1142 2972 \nQ 928 2841 928 2578 \nQ 928 2378 1081 2264 \nQ 1234 2150 1697 2047 \nL 1894 2003 \nQ 2506 1872 2764 1633 \nQ 3022 1394 3022 966 \nQ 3022 478 2636 193 \nQ 2250 -91 1575 -91 \nQ 1294 -91 989 -36 \nQ 684 19 347 128 \nL 347 722 \nQ 666 556 975 473 \nQ 1284 391 1588 391 \nQ 1994 391 2212 530 \nQ 2431 669 2431 922 \nQ 2431 1156 2273 1281 \nQ 2116 1406 1581 1522 \nL 1381 1569 \nQ 847 1681 609 1914 \nQ 372 2147 372 2553 \nQ 372 3047 722 3315 \nQ 1072 3584 1716 3584 \nQ 2034 3584 2315 3537 \nQ 2597 3491 2834 3397 \nz\n\" transform=\"scale(0.015625)\"/>\n      <path id=\"DejaVuSans-65\" d=\"M 3597 1894 \nL 3597 1613 \nL 953 1613 \nQ 991 1019 1311 708 \nQ 1631 397 2203 397 \nQ 2534 397 2845 478 \nQ 3156 559 3463 722 \nL 3463 178 \nQ 3153 47 2828 -22 \nQ 2503 -91 2169 -91 \nQ 1331 -91 842 396 \nQ 353 884 353 1716 \nQ 353 2575 817 3079 \nQ 1281 3584 2069 3584 \nQ 2775 3584 3186 3129 \nQ 3597 2675 3597 1894 \nz\nM 3022 2063 \nQ 3016 2534 2758 2815 \nQ 2500 3097 2075 3097 \nQ 1594 3097 1305 2825 \nQ 1016 2553 972 2059 \nL 3022 2063 \nz\n\" transform=\"scale(0.015625)\"/>\n      <path id=\"DejaVuSans-20\" transform=\"scale(0.015625)\"/>\n      <path id=\"DejaVuSans-6d\" d=\"M 3328 2828 \nQ 3544 3216 3844 3400 \nQ 4144 3584 4550 3584 \nQ 5097 3584 5394 3201 \nQ 5691 2819 5691 2113 \nL 5691 0 \nL 5113 0 \nL 5113 2094 \nQ 5113 2597 4934 2840 \nQ 4756 3084 4391 3084 \nQ 3944 3084 3684 2787 \nQ 3425 2491 3425 1978 \nL 3425 0 \nL 2847 0 \nL 2847 2094 \nQ 2847 2600 2669 2842 \nQ 2491 3084 2119 3084 \nQ 1678 3084 1418 2786 \nQ 1159 2488 1159 1978 \nL 1159 0 \nL 581 0 \nL 581 3500 \nL 1159 3500 \nL 1159 2956 \nQ 1356 3278 1631 3431 \nQ 1906 3584 2284 3584 \nQ 2666 3584 2933 3390 \nQ 3200 3197 3328 2828 \nz\n\" transform=\"scale(0.015625)\"/>\n      <path id=\"DejaVuSans-70\" d=\"M 1159 525 \nL 1159 -1331 \nL 581 -1331 \nL 581 3500 \nL 1159 3500 \nL 1159 2969 \nQ 1341 3281 1617 3432 \nQ 1894 3584 2278 3584 \nQ 2916 3584 3314 3078 \nQ 3713 2572 3713 1747 \nQ 3713 922 3314 415 \nQ 2916 -91 2278 -91 \nQ 1894 -91 1617 61 \nQ 1341 213 1159 525 \nz\nM 3116 1747 \nQ 3116 2381 2855 2742 \nQ 2594 3103 2138 3103 \nQ 1681 3103 1420 2742 \nQ 1159 2381 1159 1747 \nQ 1159 1113 1420 752 \nQ 1681 391 2138 391 \nQ 2594 391 2855 752 \nQ 3116 1113 3116 1747 \nz\n\" transform=\"scale(0.015625)\"/>\n      <path id=\"DejaVuSans-6c\" d=\"M 603 4863 \nL 1178 4863 \nL 1178 0 \nL 603 0 \nL 603 4863 \nz\n\" transform=\"scale(0.015625)\"/>\n     </defs>\n     <use xlink:href=\"#DejaVuSans-44\"/>\n     <use xlink:href=\"#DejaVuSans-61\" transform=\"translate(77.001953 0)\"/>\n     <use xlink:href=\"#DejaVuSans-74\" transform=\"translate(138.28125 0)\"/>\n     <use xlink:href=\"#DejaVuSans-61\" transform=\"translate(177.490234 0)\"/>\n     <use xlink:href=\"#DejaVuSans-73\" transform=\"translate(238.769531 0)\"/>\n     <use xlink:href=\"#DejaVuSans-65\" transform=\"translate(290.869141 0)\"/>\n     <use xlink:href=\"#DejaVuSans-74\" transform=\"translate(352.392578 0)\"/>\n     <use xlink:href=\"#DejaVuSans-20\" transform=\"translate(391.601562 0)\"/>\n     <use xlink:href=\"#DejaVuSans-73\" transform=\"translate(423.388672 0)\"/>\n     <use xlink:href=\"#DejaVuSans-61\" transform=\"translate(475.488281 0)\"/>\n     <use xlink:href=\"#DejaVuSans-6d\" transform=\"translate(536.767578 0)\"/>\n     <use xlink:href=\"#DejaVuSans-70\" transform=\"translate(634.179688 0)\"/>\n     <use xlink:href=\"#DejaVuSans-6c\" transform=\"translate(697.65625 0)\"/>\n     <use xlink:href=\"#DejaVuSans-65\" transform=\"translate(725.439453 0)\"/>\n     <use xlink:href=\"#DejaVuSans-73\" transform=\"translate(786.962891 0)\"/>\n    </g>\n   </g>\n   <g id=\"legend_1\">\n    <g id=\"patch_7\">\n     <path d=\"M 199.891562 150.994063 \nL 274.524844 150.994063 \nQ 276.724844 150.994063 276.724844 148.794063 \nL 276.724844 117.602188 \nQ 276.724844 115.402188 274.524844 115.402188 \nL 199.891562 115.402188 \nQ 197.691562 115.402188 197.691562 117.602188 \nL 197.691562 148.794063 \nQ 197.691562 150.994063 199.891562 150.994063 \nz\n\" style=\"fill: #eaeaf2; opacity: 0.8; stroke: #cccccc; stroke-linejoin: miter\"/>\n    </g>\n    <g id=\"PathCollection_3\">\n     <g>\n      <use xlink:href=\"#m8ee0ac457a\" x=\"213.091562\" y=\"125.272969\" style=\"fill: #4c72b0; stroke: #333333\"/>\n     </g>\n    </g>\n    <g id=\"text_15\">\n     <!-- Class 0 -->\n     <g style=\"fill: #262626\" transform=\"translate(232.891562 128.160469) scale(0.11 -0.11)\">\n      <defs>\n       <path id=\"DejaVuSans-43\" d=\"M 4122 4306 \nL 4122 3641 \nQ 3803 3938 3442 4084 \nQ 3081 4231 2675 4231 \nQ 1875 4231 1450 3742 \nQ 1025 3253 1025 2328 \nQ 1025 1406 1450 917 \nQ 1875 428 2675 428 \nQ 3081 428 3442 575 \nQ 3803 722 4122 1019 \nL 4122 359 \nQ 3791 134 3420 21 \nQ 3050 -91 2638 -91 \nQ 1578 -91 968 557 \nQ 359 1206 359 2328 \nQ 359 3453 968 4101 \nQ 1578 4750 2638 4750 \nQ 3056 4750 3426 4639 \nQ 3797 4528 4122 4306 \nz\n\" transform=\"scale(0.015625)\"/>\n      </defs>\n      <use xlink:href=\"#DejaVuSans-43\"/>\n      <use xlink:href=\"#DejaVuSans-6c\" transform=\"translate(69.824219 0)\"/>\n      <use xlink:href=\"#DejaVuSans-61\" transform=\"translate(97.607422 0)\"/>\n      <use xlink:href=\"#DejaVuSans-73\" transform=\"translate(158.886719 0)\"/>\n      <use xlink:href=\"#DejaVuSans-73\" transform=\"translate(210.986328 0)\"/>\n      <use xlink:href=\"#DejaVuSans-20\" transform=\"translate(263.085938 0)\"/>\n      <use xlink:href=\"#DejaVuSans-30\" transform=\"translate(294.873047 0)\"/>\n     </g>\n    </g>\n    <g id=\"PathCollection_4\">\n     <g>\n      <use xlink:href=\"#m5904f51383\" x=\"213.091562\" y=\"141.418906\" style=\"fill: #dd8452; stroke: #333333\"/>\n     </g>\n    </g>\n    <g id=\"text_16\">\n     <!-- Class 1 -->\n     <g style=\"fill: #262626\" transform=\"translate(232.891562 144.306406) scale(0.11 -0.11)\">\n      <use xlink:href=\"#DejaVuSans-43\"/>\n      <use xlink:href=\"#DejaVuSans-6c\" transform=\"translate(69.824219 0)\"/>\n      <use xlink:href=\"#DejaVuSans-61\" transform=\"translate(97.607422 0)\"/>\n      <use xlink:href=\"#DejaVuSans-73\" transform=\"translate(158.886719 0)\"/>\n      <use xlink:href=\"#DejaVuSans-73\" transform=\"translate(210.986328 0)\"/>\n      <use xlink:href=\"#DejaVuSans-20\" transform=\"translate(263.085938 0)\"/>\n      <use xlink:href=\"#DejaVuSans-31\" transform=\"translate(294.873047 0)\"/>\n     </g>\n    </g>\n   </g>\n  </g>\n </g>\n <defs>\n  <clipPath id=\"p8009130696\">\n   <rect x=\"59.024844\" y=\"22.318125\" width=\"223.2\" height=\"221.76\"/>\n  </clipPath>\n </defs>\n</svg>\n",
            "application/pdf": "[encoded data removed]"
          },
          "metadata": {}
        }
      ],
      "source": [
        "visualize_samples(dataset.data, dataset.label)\n",
        "plt.show()"
      ]
    },
    {
      "cell_type": "markdown",
      "source": [
        "đồ thị trực quan hóa cách các điểm dữ liệu được phân bố: class 0 (1,1)(0,0) class 1 (1,0)(0,1)"
      ],
      "metadata": {
        "id": "wb2h8KYOAf2M"
      }
    },
    {
      "cell_type": "markdown",
      "metadata": {
        "id": "dTgsgSELgmvl"
      },
      "source": [
        "#### The data loader class\n",
        "\n",
        "The class `torch.utils.data.DataLoader` represents a Python iterable over a dataset with support for automatic batching, multi-process data loading and many more features. The data loader communicates with the dataset using the function `__getitem__`, and stacks its outputs as tensors over the first dimension to form a batch.\n",
        "In contrast to the dataset class, we usually don't have to define our own data loader class, but can just create an object of it with the dataset as input. Additionally, we can configure our data loader with the following input arguments (only a selection, see full list [here](https://pytorch.org/docs/stable/data.html#torch.utils.data.DataLoader)):\n",
        "\n",
        "* `batch_size`: Number of samples to stack per batch\n",
        "* `shuffle`: If True, the data is returned in a random order. This is important during training for introducing stochasticity.\n",
        "* `num_workers`: Number of subprocesses to use for data loading. The default, 0, means that the data will be loaded in the main process which can slow down training for datasets where loading a data point takes a considerable amount of time (e.g. large images). More workers are recommended for those, but can cause issues on Windows computers. For tiny datasets as ours, 0 workers are usually faster.\n",
        "* `pin_memory`: If True, the data loader will copy Tensors into CUDA pinned memory before returning them. This can save some time for large data points on GPUs. Usually a good practice to use for a training set, but not necessarily for validation and test to save memory on the GPU.\n",
        "* `drop_last`: If True, the last batch is dropped in case it is smaller than the specified batch size. This occurs when the dataset size is not a multiple of the batch size. Only potentially helpful during training to keep a consistent batch size.\n",
        "\n",
        "Let's create a simple data loader below:"
      ]
    },
    {
      "cell_type": "code",
      "execution_count": 45,
      "metadata": {
        "id": "gfKNTHD2gmvl"
      },
      "outputs": [],
      "source": [
        "data_loader = data.DataLoader(dataset, batch_size=8, shuffle=True)"
      ]
    },
    {
      "cell_type": "code",
      "execution_count": 46,
      "metadata": {
        "id": "HRHmUyk-gmvl",
        "outputId": "7c4298d6-6ff8-4899-8668-918a7c87b83c",
        "colab": {
          "base_uri": "https://localhost:8080/"
        }
      },
      "outputs": [
        {
          "output_type": "stream",
          "name": "stdout",
          "text": [
            "Data inputs torch.Size([8, 2]) \n",
            " tensor([[ 1.0414,  1.0293],\n",
            "        [ 0.0222, -0.0288],\n",
            "        [ 1.0271,  1.0645],\n",
            "        [ 0.0389, -0.1386],\n",
            "        [ 0.7802,  0.8663],\n",
            "        [ 0.9832,  0.0462],\n",
            "        [-0.2194, -0.1724],\n",
            "        [ 1.1162, -0.0718]])\n",
            "Data labels torch.Size([8]) \n",
            " tensor([0, 0, 0, 0, 0, 1, 0, 1])\n"
          ]
        }
      ],
      "source": [
        "# next(iter(...)) catches the first batch of the data loader\n",
        "# If shuffle is True, this will return a different batch every time we run this cell\n",
        "# For iterating over the whole dataset, we can simple use \"for batch in data_loader: ...\"\n",
        "data_inputs, data_labels = next(iter(data_loader))\n",
        "\n",
        "# The shape of the outputs are [batch_size, d_1,...,d_N] where d_1,...,d_N are the\n",
        "# dimensions of the data point returned from the dataset class\n",
        "print(\"Data inputs\", data_inputs.shape, \"\\n\", data_inputs)\n",
        "print(\"Data labels\", data_labels.shape, \"\\n\", data_labels)"
      ]
    },
    {
      "cell_type": "markdown",
      "source": [],
      "metadata": {
        "id": "eNOHZorKBFE0"
      }
    },
    {
      "cell_type": "markdown",
      "source": [
        "* dataloader giúp ta chia dataset thành các batch (ở đây các batch sẽ chứa 8 điểm dữ liệu)\n",
        "* Khi gọi iter(data_loader), nó tạo một iterator để lặp qua các batch dữ liệu và next() lấy batch đầu tiên từ iterator. Mỗi lần hàm này được gọi lại các batch sẽ không giống nhau vì shuffle=true"
      ],
      "metadata": {
        "id": "JuxO0tlzBFGj"
      }
    },
    {
      "cell_type": "markdown",
      "metadata": {
        "id": "2bu8MD5Hgmvl"
      },
      "source": [
        "### Optimization\n",
        "\n",
        "After defining the model and the dataset, it is time to prepare the optimization of the model. During training, we will perform the following steps:\n",
        "\n",
        "1. Get a batch from the data loader\n",
        "2. Obtain the predictions from the model for the batch\n",
        "3. Calculate the loss based on the difference between predictions and labels\n",
        "4. Backpropagation: calculate the gradients for every parameter with respect to the loss\n",
        "5. Update the parameters of the model in the direction of the gradients\n",
        "\n",
        "We have seen how we can do step 1, 2 and 4 in PyTorch. Now, we will look at step 3 and 5."
      ]
    },
    {
      "cell_type": "markdown",
      "metadata": {
        "id": "4cZuZSX0gmvl"
      },
      "source": [
        "#### Loss modules\n",
        "\n",
        "We can calculate the loss for a batch by simply performing a few tensor operations as those are automatically added to the computation graph. For instance, for binary classification, we can use Binary Cross Entropy (BCE) which is defined as follows:\n",
        "\n",
        "$$\\mathcal{L}_{BCE} = -\\sum_i \\left[ y_i \\log x_i + (1 - y_i) \\log (1 - x_i) \\right]$$\n",
        "\n",
        "where $y$ are our labels, and $x$ our predictions, both in the range of $[0,1]$. However, PyTorch already provides a list of predefined loss functions which we can use (see [here](https://pytorch.org/docs/stable/nn.html#loss-functions) for a full list). For instance, for BCE, PyTorch has two modules: `nn.BCELoss()`, `nn.BCEWithLogitsLoss()`. While `nn.BCELoss` expects the inputs $x$ to be in the range $[0,1]$, i.e. the output of a sigmoid, `nn.BCEWithLogitsLoss` combines a sigmoid layer and the BCE loss in a single class. This version is numerically more stable than using a plain Sigmoid followed by a BCE loss because of the logarithms applied in the loss function. Hence, it is adviced to use loss functions applied on \"logits\" where possible (remember to not apply a sigmoid on the output of the model in this case!). For our model defined above, we therefore use the module `nn.BCEWithLogitsLoss`."
      ]
    },
    {
      "cell_type": "code",
      "execution_count": 47,
      "metadata": {
        "id": "ENUoNdpigmvl"
      },
      "outputs": [],
      "source": [
        "loss_module = nn.BCEWithLogitsLoss()"
      ]
    },
    {
      "cell_type": "markdown",
      "source": [
        "Hàm mất mát trong PyTorch"
      ],
      "metadata": {
        "id": "UwzDH_fzCt9Z"
      }
    },
    {
      "cell_type": "markdown",
      "metadata": {
        "id": "qyuVUb_Vgmvl"
      },
      "source": [
        "#### Stochastic Gradient Descent\n",
        "\n",
        "For updating the parameters, PyTorch provides the package `torch.optim` that has most popular optimizers implemented. We will discuss the specific optimizers and their differences later in the course, but will for now use the simplest of them: `torch.optim.SGD`. Stochastic Gradient Descent updates parameters by multiplying the gradients with a small constant, called learning rate, and subtracting those from the parameters (hence minimizing the loss). Therefore, we slowly move towards the direction of minimizing the loss. A good default value of the learning rate for a small network as ours is 0.1."
      ]
    },
    {
      "cell_type": "code",
      "execution_count": 48,
      "metadata": {
        "id": "_H-Cse3ygmvm"
      },
      "outputs": [],
      "source": [
        "# Input to the optimizer are the parameters of the model: model.parameters()\n",
        "optimizer = torch.optim.SGD(model.parameters(), lr=0.1)"
      ]
    },
    {
      "cell_type": "markdown",
      "source": [
        "* model.parameters(): Hàm này lấy tất cả các tham số (weights và biases) của mô hình\n",
        "* SGD là một trong những phương pháp tối ưu hóa đơn giản nhất, giúp điều chỉnh các tham số của mô hình dựa trên gradient của hàm mất mát (loss function) trong mỗi lần lặp.\n",
        "* lr=0.1 xác định learning rate (tốc độ học). Tốc độ học là một tham số điều chỉnh mức độ mà các tham số của mô hình được thay đổi trong mỗi bước cập nhật.\n"
      ],
      "metadata": {
        "id": "vKf5SRzUC-uF"
      }
    },
    {
      "cell_type": "markdown",
      "metadata": {
        "id": "Klx_I7l5gmvm"
      },
      "source": [
        "The optimizer provides two useful functions: `optimizer.step()`, and `optimizer.zero_grad()`. The step function updates the parameters based on the gradients as explained above. The function `optimizer.zero_grad()` sets the gradients of all parameters to zero. While this function seems less relevant at first, it is a crucial pre-step before performing backpropagation. If we call the `backward` function on the loss while the parameter gradients are non-zero from the previous batch, the new gradients would actually be added to the previous ones instead of overwriting them. This is done because a parameter might occur multiple times in a computation graph, and we need to sum the gradients in this case instead of replacing them. Hence, remember to call `optimizer.zero_grad()` before calculating the gradients of a batch."
      ]
    },
    {
      "cell_type": "markdown",
      "metadata": {
        "id": "wnIy9-SRgmvm"
      },
      "source": [
        "### Training\n",
        "\n",
        "Finally, we are ready to train our model. As a first step, we create a slightly larger dataset and specify a data loader with a larger batch size."
      ]
    },
    {
      "cell_type": "code",
      "execution_count": 49,
      "metadata": {
        "id": "fz9Gh3iHgmvm"
      },
      "outputs": [],
      "source": [
        "train_dataset = XORDataset(size=2500)\n",
        "train_data_loader = data.DataLoader(train_dataset, batch_size=128, shuffle=True)"
      ]
    },
    {
      "cell_type": "markdown",
      "source": [
        "Bắt đầu train: train dataset sẽ có 2500 điểm dữ liệu, một batch để train sẽ có 128 data point và sẽ được xáo trộn."
      ],
      "metadata": {
        "id": "k1q0KLAjD5sH"
      }
    },
    {
      "cell_type": "markdown",
      "metadata": {
        "id": "UFW_L4ZSgmvm"
      },
      "source": [
        "Now, we can write a small training function. Remember our five steps: load a batch, obtain the predictions, calculate the loss, backpropagate, and update. Additionally, we have to push all data and model parameters to the device of our choice (GPU if available). For the tiny neural network we have, communicating the data to the GPU actually takes much more time than we could save from running the operation on CPU. For large networks, the communication time is significantly smaller than the actual runtime making a GPU crucial in these cases. Still, to practice, we will push the data to GPU here."
      ]
    },
    {
      "cell_type": "code",
      "execution_count": 50,
      "metadata": {
        "id": "4UlTK3qFgmvm",
        "outputId": "29c9571b-61d5-4345-b42b-6fc7c801aab0",
        "colab": {
          "base_uri": "https://localhost:8080/"
        }
      },
      "outputs": [
        {
          "output_type": "execute_result",
          "data": {
            "text/plain": [
              "SimpleClassifier(\n",
              "  (linear1): Linear(in_features=2, out_features=4, bias=True)\n",
              "  (act_fn): Tanh()\n",
              "  (linear2): Linear(in_features=4, out_features=1, bias=True)\n",
              ")"
            ]
          },
          "metadata": {},
          "execution_count": 50
        }
      ],
      "source": [
        "# Push model to device. Has to be only done once\n",
        "model.to(device)"
      ]
    },
    {
      "cell_type": "markdown",
      "source": [
        "model sẽ được push cho gpu để train (đã set phía trên)"
      ],
      "metadata": {
        "id": "bZHaHQfCE0V2"
      }
    },
    {
      "cell_type": "markdown",
      "metadata": {
        "id": "avRwyqofgmvm"
      },
      "source": [
        "In addition, we set our model to training mode. This is done by calling `model.train()`. There exist certain modules that need to perform a different forward step during training than during testing (e.g. BatchNorm and Dropout), and we can switch between them using `model.train()` and `model.eval()`."
      ]
    },
    {
      "cell_type": "code",
      "execution_count": 51,
      "metadata": {
        "id": "_fMUooxjgmvm"
      },
      "outputs": [],
      "source": [
        "def train_model(model, optimizer, data_loader, loss_module, num_epochs=100):\n",
        "    # Set model to train mode\n",
        "    model.train()\n",
        "\n",
        "    # Training loop\n",
        "    for epoch in tqdm(range(num_epochs)):\n",
        "        for data_inputs, data_labels in data_loader:\n",
        "\n",
        "            ## Step 1: Move input data to device (only strictly necessary if we use GPU)\n",
        "            data_inputs = data_inputs.to(device)\n",
        "            data_labels = data_labels.to(device)\n",
        "\n",
        "            ## Step 2: Run the model on the input data\n",
        "            preds = model(data_inputs)\n",
        "            preds = preds.squeeze(dim=1) # Output is [Batch size, 1], but we want [Batch size]\n",
        "\n",
        "            ## Step 3: Calculate the loss\n",
        "            loss = loss_module(preds, data_labels.float())\n",
        "\n",
        "            ## Step 4: Perform backpropagation\n",
        "            # Before calculating the gradients, we need to ensure that they are all zero.\n",
        "            # The gradients would not be overwritten, but actually added to the existing ones.\n",
        "            optimizer.zero_grad()\n",
        "            # Perform backpropagation\n",
        "            loss.backward()\n",
        "\n",
        "            ## Step 5: Update the parameters\n",
        "            optimizer.step()"
      ]
    },
    {
      "cell_type": "markdown",
      "source": [
        "optimizer dùng để cập nhật trọng số\n",
        "epoch là số lần huấn luyện mô hình\n",
        "Chuyển mô hình sang chế độ \"train mode\" để nó có thể cập nhật trọng số và sử dụng các cơ chế như dropout hoặc batch normalization.\n",
        "tqdm (thanh tiến trình).\n",
        "\n",
        "1. chọn phần cứng để train mô hình\n",
        "2. truyền dữ liệu đầu vào và squeeze(dim=1): Vì mô hình có thể trả về kích thước [Batch size, 1], ta loại bỏ chiều 1 để có dạng [Batch size] (vì khi tính toán loss (loss_module(preds, data_labels.float())), nhãn thực tế (data_labels) thường có dạng [Batch size] (một tensor 1D).).\n",
        "3. So sánh đầu ra của mô hình (preds) với nhãn thực tế (data_labels) bằng hàm lỗi (loss function).\n",
        "4. Trước khi tính toán gradient mới, ta cần xóa gradient cũ (nếu không, các giá trị gradient sẽ bị cộng dồn qua từng batch).\n",
        "5. Tính toán gradient của từng tham số trong mô hình dựa trên hàm lỗi.\n",
        "6. Cập nhật các trọng số của mô hình dựa trên gradient đã tính toán.(mô hình sẽ cải thiện qua từng vòng lặp)\n",
        "\n",
        "\n"
      ],
      "metadata": {
        "id": "lOP6K5gRFmAW"
      }
    },
    {
      "cell_type": "code",
      "execution_count": 52,
      "metadata": {
        "colab": {
          "referenced_widgets": [
            "54f5de581e684af28b3339cf6ff837c2",
            "2f1e6ce6ea7c4aa3a179bc418616b4b0",
            "473d31c927af43a4984be1d723b50d07",
            "f0049cdb446443bf85758b2a3b8cd101",
            "07eaa37b11b9441eacd3ef960c14468e",
            "cc52ef8cf60b4dbcb9c32df19174c5b3",
            "df50236df145448a9ac1194ba49f7ca0",
            "5287878c505a4b37b46737b476403cda",
            "9cab098bd15445758741209b077ab5f1",
            "7ef48d12eac64c61ae7efcb78c64301b",
            "d25cdb099ab54a76824855c25f789065"
          ],
          "base_uri": "https://localhost:8080/",
          "height": 49
        },
        "id": "yQ0BOL1ogmvm",
        "outputId": "27bd5364-724a-4bdb-c595-f00c3f98ef9c"
      },
      "outputs": [
        {
          "output_type": "display_data",
          "data": {
            "text/plain": [
              "  0%|          | 0/100 [00:00<?, ?it/s]"
            ],
            "application/vnd.jupyter.widget-view+json": {
              "version_major": 2,
              "version_minor": 0,
              "model_id": "54f5de581e684af28b3339cf6ff837c2"
            }
          },
          "metadata": {}
        }
      ],
      "source": [
        "train_model(model, optimizer, train_data_loader, loss_module)"
      ]
    },
    {
      "cell_type": "markdown",
      "metadata": {
        "id": "Oq2gPepfgmvm"
      },
      "source": [
        "#### Saving a model\n",
        "\n",
        "After finish training a model, we save the model to disk so that we can load the same weights at a later time. For this, we extract the so-called `state_dict` from the model which contains all learnable parameters. For our simple model, the state dict contains the following entries:"
      ]
    },
    {
      "cell_type": "code",
      "execution_count": 53,
      "metadata": {
        "id": "UALNYPvHgmvm",
        "outputId": "d85d2d2b-356f-4c3b-b989-2b7c82e7ee1e",
        "colab": {
          "base_uri": "https://localhost:8080/"
        }
      },
      "outputs": [
        {
          "output_type": "stream",
          "name": "stdout",
          "text": [
            "OrderedDict([('linear1.weight', tensor([[-2.6590, -2.6217],\n",
            "        [ 0.6734,  0.4722],\n",
            "        [-2.0732,  3.1868],\n",
            "        [ 3.1828, -2.0347]], device='cuda:0')), ('linear1.bias', tensor([ 0.6938, -0.8504,  0.6923,  0.6226], device='cuda:0')), ('linear2.weight', tensor([[-3.8121, -1.1109, -4.0828, -3.9945]], device='cuda:0')), ('linear2.bias', tensor([0.5063], device='cuda:0'))])\n"
          ]
        }
      ],
      "source": [
        "state_dict = model.state_dict()\n",
        "print(state_dict)"
      ]
    },
    {
      "cell_type": "markdown",
      "source": [
        "* lấy và in ra các trọng số và tham số của mô hình model."
      ],
      "metadata": {
        "id": "Jfz4l38weU6N"
      }
    },
    {
      "cell_type": "markdown",
      "metadata": {
        "id": "hUyPod4hgmvm"
      },
      "source": [
        "To save the state dictionary, we can use `torch.save`:"
      ]
    },
    {
      "cell_type": "code",
      "execution_count": 54,
      "metadata": {
        "id": "qyEIqeRLgmvm"
      },
      "outputs": [],
      "source": [
        "# torch.save(object, filename). For the filename, any extension can be used\n",
        "torch.save(state_dict, \"our_model.tar\")"
      ]
    },
    {
      "cell_type": "markdown",
      "source": [
        "lưu lại các trọng số và tham số cho lần sử dụng sau (có thể thay thế đường dẫn lưu file)"
      ],
      "metadata": {
        "id": "XKkwncq_eiyW"
      }
    },
    {
      "cell_type": "markdown",
      "metadata": {
        "id": "A4hIAuHagmvn"
      },
      "source": [
        "To load a model from a state dict, we use the function `torch.load` to load the state dict from the disk, and the module function `load_state_dict` to overwrite our parameters with the new values:"
      ]
    },
    {
      "cell_type": "code",
      "execution_count": 55,
      "metadata": {
        "id": "i2JEcy5Vgmvn",
        "outputId": "f8d15d65-8348-4933-b72e-224ee36ffbc1",
        "colab": {
          "base_uri": "https://localhost:8080/"
        }
      },
      "outputs": [
        {
          "output_type": "stream",
          "name": "stdout",
          "text": [
            "Original model\n",
            " OrderedDict([('linear1.weight', tensor([[-2.6590, -2.6217],\n",
            "        [ 0.6734,  0.4722],\n",
            "        [-2.0732,  3.1868],\n",
            "        [ 3.1828, -2.0347]], device='cuda:0')), ('linear1.bias', tensor([ 0.6938, -0.8504,  0.6923,  0.6226], device='cuda:0')), ('linear2.weight', tensor([[-3.8121, -1.1109, -4.0828, -3.9945]], device='cuda:0')), ('linear2.bias', tensor([0.5063], device='cuda:0'))])\n",
            "\n",
            "Loaded model\n",
            " OrderedDict([('linear1.weight', tensor([[-2.6590, -2.6217],\n",
            "        [ 0.6734,  0.4722],\n",
            "        [-2.0732,  3.1868],\n",
            "        [ 3.1828, -2.0347]])), ('linear1.bias', tensor([ 0.6938, -0.8504,  0.6923,  0.6226])), ('linear2.weight', tensor([[-3.8121, -1.1109, -4.0828, -3.9945]])), ('linear2.bias', tensor([0.5063]))])\n"
          ]
        },
        {
          "output_type": "stream",
          "name": "stderr",
          "text": [
            "<ipython-input-55-9b8ea49100fa>:2: FutureWarning: You are using `torch.load` with `weights_only=False` (the current default value), which uses the default pickle module implicitly. It is possible to construct malicious pickle data which will execute arbitrary code during unpickling (See https://github.com/pytorch/pytorch/blob/main/SECURITY.md#untrusted-models for more details). In a future release, the default value for `weights_only` will be flipped to `True`. This limits the functions that could be executed during unpickling. Arbitrary objects will no longer be allowed to be loaded via this mode unless they are explicitly allowlisted by the user via `torch.serialization.add_safe_globals`. We recommend you start setting `weights_only=True` for any use case where you don't have full control of the loaded file. Please open an issue on GitHub for any issues related to this experimental feature.\n",
            "  state_dict = torch.load(\"our_model.tar\")\n"
          ]
        }
      ],
      "source": [
        "# Load state dict from the disk (make sure it is the same name as above)\n",
        "state_dict = torch.load(\"our_model.tar\")\n",
        "\n",
        "# Create a new model and load the state\n",
        "new_model = SimpleClassifier(num_inputs=2, num_hidden=4, num_outputs=1)\n",
        "new_model.load_state_dict(state_dict)\n",
        "\n",
        "# Verify that the parameters are the same\n",
        "print(\"Original model\\n\", model.state_dict())\n",
        "print(\"\\nLoaded model\\n\", new_model.state_dict())"
      ]
    },
    {
      "cell_type": "markdown",
      "source": [
        "original model và loaded model đều có các thông  số giống nhau. Khi sử dụng lần sau không cần phải train lại mà chỉ cần dùng model đã saved"
      ],
      "metadata": {
        "id": "p-cWPIp9fVCk"
      }
    },
    {
      "cell_type": "markdown",
      "metadata": {
        "id": "vPUh2bofgmvn"
      },
      "source": [
        "A detailed tutorial on saving and loading models in PyTorch can be found [here](https://pytorch.org/tutorials/beginner/saving_loading_models.html)."
      ]
    },
    {
      "cell_type": "markdown",
      "metadata": {
        "id": "BMbHP6vhgmvn"
      },
      "source": [
        "### Evaluation\n",
        "\n",
        "Once we have trained a model, it is time to evaluate it on a held-out test set. As our dataset consist of randomly generated data points, we need to first create a test set with a corresponding data loader."
      ]
    },
    {
      "cell_type": "code",
      "execution_count": 56,
      "metadata": {
        "id": "SK81Qfzpgmvn"
      },
      "outputs": [],
      "source": [
        "test_dataset = XORDataset(size=500)\n",
        "# drop_last -> Don't drop the last batch although it is smaller than 128\n",
        "test_data_loader = data.DataLoader(test_dataset, batch_size=128, shuffle=False, drop_last=False)"
      ]
    },
    {
      "cell_type": "markdown",
      "source": [
        "* tạo test dataset (như train dataset)\n",
        "* vì batch cuối sẽ chỉ có 116 điểm dữ liệu nên thêm drop_last=False để model không loại bỏ batch cuối cùng ngay cả khi nó có ít hơn 128 mẫu"
      ],
      "metadata": {
        "id": "ibHX5C3gf2Ot"
      }
    },
    {
      "cell_type": "markdown",
      "metadata": {
        "id": "HB2Ezu9Ogmvn"
      },
      "source": [
        "As metric, we will use accuracy which is calculated as follows:\n",
        "\n",
        "$$acc = \\frac{\\#\\text{correct predictions}}{\\#\\text{all predictions}} = \\frac{TP+TN}{TP+TN+FP+FN}$$\n",
        "\n",
        "where TP are the true positives, TN true negatives, FP false positives, and FN the fale negatives.\n",
        "\n",
        "When evaluating the model, we don't need to keep track of the computation graph as we don't intend to calculate the gradients. This reduces the required memory and speed up the model. In PyTorch, we can deactivate the computation graph using `with torch.no_grad(): ...`. Remember to additionally set the model to eval mode."
      ]
    },
    {
      "cell_type": "code",
      "execution_count": 57,
      "metadata": {
        "id": "WFeVAAtIgmvn"
      },
      "outputs": [],
      "source": [
        "def eval_model(model, data_loader):\n",
        "    model.eval() # Set model to eval mode\n",
        "    true_preds, num_preds = 0., 0.\n",
        "\n",
        "    with torch.no_grad(): # Deactivate gradients for the following code\n",
        "        for data_inputs, data_labels in data_loader:\n",
        "\n",
        "            # Determine prediction of model on dev set\n",
        "            data_inputs, data_labels = data_inputs.to(device), data_labels.to(device)\n",
        "            preds = model(data_inputs)\n",
        "            preds = preds.squeeze(dim=1)\n",
        "            preds = torch.sigmoid(preds) # Sigmoid to map predictions between 0 and 1\n",
        "            pred_labels = (preds >= 0.5).long() # Binarize predictions to 0 and 1\n",
        "\n",
        "            # Keep records of predictions for the accuracy metric (true_preds=TP+TN, num_preds=TP+TN+FP+FN)\n",
        "            true_preds += (pred_labels == data_labels).sum()\n",
        "            num_preds += data_labels.shape[0]\n",
        "\n",
        "    acc = true_preds / num_preds\n",
        "    print(f\"Accuracy of the model: {100.0*acc:4.2f}%\")"
      ]
    },
    {
      "cell_type": "markdown",
      "source": [
        "hàm đánh giá mô hình dựa trên accuracy\n",
        "* model.eval(): Đưa mô hình vào chế độ đánh giá (evaluation mode)\n",
        "* Tắt gradient để tiết kiệm bộ nhớ và tăng tốc quá trình đánh giá.\n",
        "* chọn device để train mô hình\n",
        "* load dữ liệu test vào model\n",
        "* preds = preds.squeeze(dim=1) loại bỏ bớt 1 chiều để giúp kết quả có dạng (batch_size,)\n",
        "*  preds = torch.sigmoid(preds) đầu ra mô hình có thể là bất cứ số thực nào nên dùng hàm sigmoid để ánh xạ nó vào khoảng [0, 1]\n",
        "* Nếu xác suất dự đoán ≥ 0.5, gán nhãn 1, ngược lại gán 0.\n",
        "* true_preds += (pred_labels == data_labels).sum() tính tổng dự đoán chính xác\n",
        "*  num_preds += data_labels.shape[0] tổng số mẫu được dự đoán cả dự đoán đúng và sai\n",
        "* tính accuracy= tổng dự đoán đúng/ tổng đã được dự đoán"
      ],
      "metadata": {
        "id": "uYaRVTaJgw32"
      }
    },
    {
      "cell_type": "code",
      "execution_count": 58,
      "metadata": {
        "id": "PQLP_ZVDgmvn",
        "outputId": "4c1f7f0f-ed87-431c-f7d0-5d952609cab0",
        "colab": {
          "base_uri": "https://localhost:8080/"
        }
      },
      "outputs": [
        {
          "output_type": "stream",
          "name": "stdout",
          "text": [
            "Accuracy of the model: 100.00%\n"
          ]
        }
      ],
      "source": [
        "eval_model(model, test_data_loader)"
      ]
    },
    {
      "cell_type": "markdown",
      "source": [
        "chạy model để test"
      ],
      "metadata": {
        "id": "vf4BwZuDkZ9u"
      }
    },
    {
      "cell_type": "markdown",
      "metadata": {
        "id": "H5_y9mZRgmvn"
      },
      "source": [
        "If we trained our model correctly, we should see a score close to 100% accuracy. However, this is only possible because of our simple task, and unfortunately, we usually don't get such high scores on test sets of more complex tasks."
      ]
    },
    {
      "cell_type": "markdown",
      "metadata": {
        "id": "xhzcs3Ungmvn"
      },
      "source": [
        "#### Visualizing classification boundaries\n",
        "\n",
        "To visualize what our model has learned, we can perform a prediction for every data point in a range of $[-0.5, 1.5]$, and visualize the predicted class as in the sample figure at the beginning of this section. This shows where the model has created decision boundaries, and which points would be classified as $0$, and which as $1$. We therefore get a background image out of blue (class 0) and orange (class 1). The spots where the model is uncertain we will see a blurry overlap. The specific code is less relevant compared to the output figure which should hopefully show us a clear separation of classes:"
      ]
    },
    {
      "cell_type": "code",
      "execution_count": 59,
      "metadata": {
        "id": "Wnh73pvagmvn",
        "outputId": "cca23972-18a7-4f60-d607-6e8c23162882",
        "colab": {
          "base_uri": "https://localhost:8080/",
          "height": 404
        }
      },
      "outputs": [
        {
          "output_type": "display_data",
          "data": {
            "text/plain": [
              "<Figure size 2000x2000 with 1 Axes>"
            ],
            "image/svg+xml": "<?xml version=\"1.0\" encoding=\"utf-8\" standalone=\"no\"?>\n<!DOCTYPE svg PUBLIC \"-//W3C//DTD SVG 1.1//EN\"\n  \"http://www.w3.org/Graphics/SVG/1.1/DTD/svg11.dtd\">\n<svg xmlns:xlink=\"http://www.w3.org/1999/xlink\" width=\"303.730313pt\" height=\"287.037813pt\" viewBox=\"0 0 303.730313 287.037813\" xmlns=\"http://www.w3.org/2000/svg\" version=\"1.1\">\n <metadata>\n  <rdf:RDF xmlns:dc=\"http://purl.org/dc/elements/1.1/\" xmlns:cc=\"http://creativecommons.org/ns#\" xmlns:rdf=\"http://www.w3.org/1999/02/22-rdf-syntax-ns#\">\n   <cc:Work>\n    <dc:type rdf:resource=\"http://purl.org/dc/dcmitype/StillImage\"/>\n    <dc:date>2025-02-17T11:03:25.482949</dc:date>\n    <dc:format>image/svg+xml</dc:format>\n    <dc:creator>\n     <cc:Agent>\n      <dc:title>Matplotlib v3.10.0, https://matplotlib.org/</dc:title>\n     </cc:Agent>\n    </dc:creator>\n   </cc:Work>\n  </rdf:RDF>\n </metadata>\n <defs>\n  <style type=\"text/css\">*{stroke-linejoin: round; stroke-linecap: butt}</style>\n </defs>\n <g id=\"figure_1\">\n  <g id=\"patch_1\">\n   <path d=\"M 0 287.037813 \nL 303.730313 287.037813 \nL 303.730313 0 \nL 0 0 \nz\n\" style=\"fill: #ffffff\"/>\n  </g>\n  <g id=\"axes_1\">\n   <g id=\"patch_2\">\n    <path d=\"M 66.023594 244.078125 \nL 287.783594 244.078125 \nL 287.783594 22.318125 \nL 66.023594 22.318125 \nz\n\" style=\"fill: #eaeaf2\"/>\n   </g>\n   <g clip-path=\"url(#pb1facfb168)\">\n    <image xlink:href=\"data:image/png;base64,\niVBORw0KGgoAAAANSUhEUgAABgUAAAYFCAYAAAAGCtmcAADUF0lEQVR4nOz7XXrjPLAu0AGSR5ihZFoZY5O5cPaT5Jytev2xGk3JWOsWQuEfBAl7/j/+n/+vc1w2y9RG4La1Zdft/lR3jtdv9TtnStd9M23X8Xjfnbp273i97pdYrxsrnoteN94rmz1vrff1sjt90m1zZ93P5mBWde/2d5U/9VkqO+cv2hWCd2I/GnlT/jmv5+2mP+bRjP06/zPlDWWn/M+q7Bj7eno7dpH/a/y5nPc7/7p2xdjzdd1zf4exjvO0moep3tfneGd9jDHGoyh75Z6T8lf1+knZK58RK59PSbVX989fK2PX7npHee93wu485V8yHvwd932TedxWMgAAAAAA8E+5FAAAAAAAgE24FAAAAAAAgE24FAAAAAAAgE24FAAAAAAAgE24FAAAAAAAgE24FAAAAAAAgE185Z/MlynnX6zIf9Uv+3W77nRnn/L33Tme7znDx1hbs7rHO+Pxvv2ZVe2esWX3zeK63qtVz766T2bqsoWVz0VXhXsC8TOzNVfC+mmU3cn7o/zFD3Ls6+m5XSG92JQeC+ud0lPZnfTHPMq8zxi7zl/Fj3lD+rOI/WzkHWOMryJ/jN1NX9iuajzTWKfYcbyK9Ec4EOS5Uq2fNEevr5+0rtv7RlG39j7d2EtXPp+Sqk/6eu3q6Pb52rLvct948N8ZD/6O933P9p8CAAAAAACwCZcCAAAAAACwCZcCAAAAAACwCZcCAAAAAACwCZcCAAAAAACwCZcCAAAAAACwia8xZvmD8x9V5O+XXbdrpTv7DP7HXfPwvpX3N0p/3Wvd/ry3X17L7aprftcTJEVe29+p1XXt3nUudFWtXrcyf29/9r3utbm40z73BJbyF30acnbSZ6jXo7HndGPH9Hk0Yr/OO8YYz/k6fz92SC/yV2nt2I28y2MvbFcaryq9moM/iZ3a/SjmYczbmKdVuT+JXa39Tt4xxpixblXsWiy7TO2dz1LZZd7QJzF/mXrfuTPHXvcu8L7nvz3fAz6V8eDv+cwvwf5TAAAAAAAANuFSAAAAAAAANuFSAAAAAAAANuFSAAAAAAAANuFSAAAAAAAANuFSAAAAAAAANuFSAAAAAAAANvF13lh4Lnv+g1r83+7sE/h0K9fP+h2hU0Ld8k6/3LMT/kzVrhlrvm62dCP3+rzOfZ6vazcXD/a7jte+rvfpyqky22NdzPFm2VX+duwQoC471ft6eq53nf4o8ldpP0pfWXaMfbxMexZpP4n9DHWr0p+zLjvVrcof8y6M/dVtV2O87uyzzjxcub66e05Vdn/PqbX2uxB75fMnSf1Sl51cb1dHp17ry77TPePBNcYEXvOfAgAAAAAAsAmXAgAAAAAAsAmXAgAAAAAAsAmXAgAAAAAAsAmXAgAAAAAAsAmXAgAAAAAAsAmXAgAAAAAAsImvlcHP+Iu5svhSrhv/t/vG63OZaX9TtzfXzuBO9Lpl793u17rPgDp17dqqovf783WE86zbNbfdhquGf+4++6nDeW+91433DLHr9E7eMR5F+py92FV6zBvKruqd0h/jWBc71PsZyw7p83X6M9T7WeT9zl/FDnk7sRt5f5Re9tm6dsV5FOd4Krua46nsOna1PjvrI8XOe06tt5cm1+vWKzf3S5m3VfLa5+6d5+33PQf11gD/lvHg3/jcd86K/xQAAAAAAIBNuBQAAAAAAIBNuBQAAAAAAIBNuBQAAAAAAIBNuBQAAAAAAIBNuBQAAAAAAIBNuBQAAAAAAIBNfHUyn/EXsxO+Jdftt3rd5/v2yZ3WrYFe5D1nQ6fVa3ezbvS6ZVXqfbt0Vtc71XzdHE+RV/bpGQqfjcJzu673+Z19lrxz3TrurHdV9gw9nurdij1Xln097xj12n2EdnXS+7GP62WH8XiG2FV6J+8YYzznjWVXsRv1Svlv7bNmu6p5lmKvXF8zlJ32rM7a7eyHab/qlt3Jm/faRtlhT4r5W3nXnVtzve4s+y69eca/ZTz4N/b8RuY/BQAAAAAAYBMuBQAAAAAAYBMuBQAAAAAAYBMuBQAAAAAAYBMuBQAAAAAAYBMuBQAAAAAAYBNf6Qfnv6jFBe9ar75Zpv7edvNf9eZCPc96uX/nLO22qtfj66Kft86k61KtZ6zZunma63Y99beuL64Ic6GYSrM9j1bOw+ux0+rJ+1VddtVvqU876bldjdizzvsIsWP6PIq8r9N+Fvt1eoxd1GuMMZ4hf5X+jLHrdlX5U72+Gu1KsVOfdfq8O8+qPsuxe/OwWkPddrX2nLC2q30lPyO6Z8d1+12ZN/RJzN/Ku+652X22rS37TtfnGf+eMYF7+E8BAAAAAADYhEsBAAAAAADYhEsBAAAAAADYhEsBAAAAAADYhEsBAAAAAADYhEsBAAAAAADYhEsBAAAAAADYxNfZyj7/UjX+d7263el1v3xum+D/q57HvX2hzv25K6hT87U7bYpe17xKXVvvWurv2Wz3fcIKOcPqbAxK7tN73FmvO+f4SqldOf31qKyMPWbv6dQp+5GejLFuVZ/VeVPZj6LsmHccl2On+LneddnPom7PEDunh7KLunXypvwxdiP9Gcay36ev01O901yo59n1vN9lX18jcV9orO30PO/t09299Hr+lDdJe22Zt1Vyv+517Mpd5b63T677b2Q8eA/v+o5/H/8pAAAAAAAAm3ApAAAAAAAAm3ApAAAAAAAAm3ApAAAAAAAAm3ApAAAAAAAAm3ApAAAAAAAAm3ApAAAAAAAAm/jKP5nLCj+XRV7rXNgnsLt6X6jXXl6Zn7nrdGvd27Gu5z6bNV+506aazbL0Xruq3P02hwhnUXq78Ot9lsdjP7+3zev2hdRnMz5hrj+BUtmPELtKT3nnXBf7EWMfZfqzSH/O63lT2d3Ynfztshux43gU+Tv1SrFT/jyPrs/D/hy/np72lLy2i7T2flbVu9bZK3+Sv8zbeDh2n6udeufYyZ1lv6eV48F/96nzCHbnPwUAAAAAAGATLgUAAAAAAGATLgUAAAAAAGATLgUAAAAAAGATLgUAAAAAAGATLgUAAAAAAGATXyuDnyuDL3SOeXcVgAvynlOv7Tr1U3e0uuZrd7sUve7T++qdyu61q5Oz2+6Vffqp84z/zbo+S6M1U9nzdXrMG9JT/ip9FvX6zlsrY4d6PWK9j8t52+lFv6S8z5Q+q3a9Tkt5u2U/U9mNunXyjlH3S4r9aMT+Ti/mQlg/nXnYjV2tn+/0ao7XZtgYOvtCTl+T9yf5y7zxwNCrW533vmffSp/6ZWPleAC/lX3jv/KfAgAAAAAAsAmXAgAAAAAAsAmXAgAAAAAAsAmXAgAAAAAAsAmXAgAAAAAAsAmXAgAAAAAAsAmXAgAAAAAAsImvMebddbjFuWm7f6PzxrLNot+lnkv1aOe5cOdMfa1bq94aSLlf1y7Ve+XazGVfb1e/7OT1L84zrIBWp67rk12l8ZhFn6bRyOmd3bJb9pq8P0qfVZ+mPqnTH0X6oyg35c2xj5C3l/4s0qu0MXLdnkW7njHvfe1KdavGq9uuKr3T3z9Jr+LnOZzmSjHH22uzVu5JYe129o2V+/jqM239/Fr5fFl71uidPa/X7ZPfR1ePCX/PJ88z4DX/KQAAAAAAAJtwKQAAAAAAAJtwKQAAAAAAAJtwKQAAAAAAAJtwKQAAAAAAAJtwKQAAAAAAAJtwKQAAAAAAAJv46mQ+/1Ytlph3V2Ar7z0X1vnUdlsdf1+eC697PY/H+860qmb9eVZFqPsk9djKNZDLvt4u+Ayv5/FMc3zW6XX+Tt6fpF/P+0ixi3Y/xlHnTWWXsXv1fobxqvI/Zt2uZ2h3ld7JO8YYz0bd2u0q8j/TeDTGK+VN8zC1u5wLaY439oX22mysrzv3nE7svJfWZjxkVX3WE58xrdgdvXp97rubc+0n+dx5xj7sKX+b/xQAAAAAAIBNuBQAAAAAAIBNuBQAAAAAAIBNuBQAAAAAAIBNuBQAAAAAAIBNuBQAAAAAAIBNfN1dgetmmXr+o1p8En3C/1g5F+qVyf8mj0fdq7nP71n9qdTeXOnlPkPtVs7jquRuub0+D8/VM/RZkb07F1b2WVaVsHJtvW/s1OedMenE7tZrzrQvvE5/xD2lTq/y57zH5dgp73Om2CF/kf4M7aryjjHGo6hbjB3alcp+FnMl5m2kx7FujFeOfX0Op/RO3m7stL46+0KMXaaujV09B/JeeT32T+J3Ynf0zxPX6/a570/3naf574wH8H/ynwIAAAAAALAJlwIAAAAAALAJlwIAAAAAALAJlwIAAAAAALAJlwIAAAAAALAJlwIAAAAAALAJlwIAAAAAALCJr/SD81/U4oJ3rdfd9At3WzkH58LYnyz1+Sx77r5do1Nyfy7UEc6idivn4Rmiz+Z4VbnvXV+p9OvtzuuD/1N3npWxQ4fn8ajWZl3vnF57NMp+zOt1q8r9SezHOF6mPVPskB7zz6rs12nfeVPZReyi3DHqPkmxY9mNPomxG3nHqMezM49S7JQ/l319/XT3hV7Ztc6e1H12lbFj8N5eel/srh3ftN95PPg/GQ9+hx332vv4TwEAAAAAANiESwEAAAAAANiESwEAAAAAANiESwEAAAAAANiESwEAAAAAANiESwEAAAAAANiESwEAAAAAANjE190VqM27K/B2zrsr8JZ2nSf7zYZui82U/03dK7nP7pmHqdT+WL+OcLZ6tCtFXzkeoeyzKHvXxfem+sOR1sDr9CrtZ7GvpY0xxpx17EejXemvbFK7q7IfzXo/G7Gf46jLnnV6XXbKez095w3tDnV7VGU3+uQ7djXPmnOhqFs3dkwv5lpaH531E2OHNRD3lTKte164/kyPe21Z+OpzTjVe69x5pn3vY9A948E1xgT4m/ynAAAAAAAAbMKlAAAAAAAAbMKlAAAAAAAAbMKlAAAAAAAAbMKlAAAAAAAAbMKlAAAAAAAAbMKlAAAAAAAAbOLr7grw/++8uwLLzLsr8Avd2aefOVM7td51Bqc+m2XP3DdPcr0/s+x3jl3l7+T9Sf5e7uvz9M55lqws+87Ys+j1Kq0bO5Y967yPELtK7+QdY4zHPIq8r9O+89axnyl/kZ7yxvSibqldz6JPvssO7W70aW5XY7xi+vU+S/MsrYFq/cTYC9fmyn0hu163Xrn9/LVen3fUsdeeS9/3XeG+8QDgvflPAQAAAAAA2IRLAQAAAAAA2IRLAQAAAAAA2IRLAQAAAAAA2IRLAQAAAAAA2IRLAQAAAAAA2MTX3RWonHdXYIHPbtO8uwK8jZVz4T1XSbdWv3X11P1St3reONap5FTzTvQqtTtPzlv7vCp7Xbm9sVxtXbtXjmW3z2YRINU7p1fldmPX6Y8ivUr7UXpR98c4QuyU/jr2M9b7euwxxnjO1/lT2VXe77KL2CHvM7Ur5m/0aZinrfFqxO7M0R/lL9I7a2+MtOfU8l56fa/t7Gc/yV/mDeNVl9uz8rmbY7/vs/Eun1rvXRkv4F/ynwIAAAAAALAJlwIAAAAAALAJlwIAAAAAALAJlwIAAAAAALAJlwIAAAAAALAJlwIAAAAAALAJlwIAAAAAALCJr/PW4uetpfN/Mh68g5Xz8L4dr1Pyb12ZZ2jZfNPxyuORfnHnk7eqW12vVOsycsg8Y6der/en6q/71/3SjZ3WZmftprpVsVPeR7Pec1Zlp9hHmf4o0lO9n0W9YuxZ1+sZy76eP5Ud2120K9W76pMUO+XP7erETu26Pg+r+f2dt5t+LW2M/Iyo94V19c5lX8+b5OdmKruTd91zN9frzrLf053nZf67T51nwO/kPwUAAAAAAGATLgUAAAAAAGATLgUAAAAAAGATLgUAAAAAAGATLgUAAAAAAGATLgUAAAAAAGATLgUAAAAAAGATX3dX4Dc6767AS/PuCsDNOmvgvpXdLflTV/5Z1Hy+8Xjk/n79izNE745lFf2d58md9b6t7KXB0yxet75ys66vgbQvpPRHTK/SjjrvvF52zluX/axip3ovTH/Geof0+To99kljPMYY41GW3Y3dGa/GPGuvj+vrL83xztpOe05O7zyXe3vpLIOvOy+sPmPddd5453NO9r5fGPj/99nzDNiN/xQAAAAAAIBNuBQAAAAAAIBNuBQAAAAAAIBNuBQAAAAAAIBNuBQAAAAAAIBNuBQAAAAAAIBNfN1dAf62eXcF4Jfqrq3zr9Tib5f8qTvGGWo+b+zvnrpdZ2hXbzxT7k6froz9uVauv07slHeGH1TJaW3msl/n78cO6UX8VPYj1u11+mMcrdiP+Tr/M+R9Fnm7+VPeqt5j1O1O9U59+ozpRdlpvBrt6s6zR2v9rEvvx+7k7T5Xq3bV0p7TiZ2te+726tar16eea1O7P7ddALwz/ykAAAAAAACbcCkAAAAAAACbcCkAAAAAAACbcCkAAAAAAACbcCkAAAAAAACbcCkAAAAAAACbcCkAAAAAAACb+Lqz8PPOwuHNpfUx/0kt+Hs6I7Zut/yt8+wMNZ/69P/SrXeVP+YNhc+Fnfap4/Xerq+vtDar9DRWndhjjPEo0h/zet6Uv5M35X/M43Lebv6U9xnKfo7X+VO9U+xWnzbmUTf2DPWu5niM3U0Pdatjp/Tr+0JXL37q03eN3bXjV4B3Hg/+K+MFK1UrbMfnx1r+UwAAAAAAADbhUgAAAAAAADbhUgAAAAAAADbhUgAAAAAAADbhUgAAAAAAADbhUgAAAAAAADbhUgAAAAAAADbxdXcFPtF5dwX4qz51PD+13vPuCnyk1GvrZkMn8juP9RlqN2/q09xn9S/OUO/emNw3D2vdPlnZrvfss1SrnH59nsW8jUmaY9fpj9iu1+mdvN/5j8uxq7wp/zPEfobYnfwpdmxXMZ45b7PsIr0/z4q50I5dpTVjh7XbKbu3V/aei53zQJoLK608g+XY69r9zmfLyqfWe1fGC97VnaszPds+c+fwnwIAAAAAALAJlwIAAAAAALAJlwIAAAAAALAJlwIAAAAAALAJlwIAAAAAALAJlwIAAAAAALCJr7srwH81767A2znvrgD/ycrx2nd1dFq+bkRS5Hcer7Oo3dy0zzp1y3lTy15HeOc+W2ltu7pz/HX+VO+0vqr0lPfRiD3GGI/ZKLvIO0Zdt8c8yrzPUPazyP8Ydexc75S/KjvV+3rZqU9S2TG9qFvsk0bZnfWRY9dm+EFv7abY18vOe2Vvv0v9UubtlLvwLLK6z3plvzNvpQC/12c/oV7xnwIAAAAAALAJlwIAAAAAALAJlwIAAAAAALAJlwIAAAAAALAJlwIAAAAAALAJlwIAAAAAALAJlwIAAAAAALCJr7srAMl5dwX4GN25Mv9KLT5NavW6FZgiv+t4nKFm89Zdq67bWdTtXft7jFFPlreu+LvqzdHU5VV6d31UsdNfuqSyHyG9yp/ydtJz3uMtY99Z9mOuG48xenMhzcNZTPKYt5Ge12a37E7e67FzvWvVeKT4/cfTuvPEnY/Oz31s9+YS78NYAXzznwIAAAAAALAJlwIAAAAAALAJlwIAAAAAALAJlwIAAAAAALAJlwIAAAAAALAJlwIAAAAAALAJlwIAAAAAALCJr7srAGOMcd5dARi9eTj/Wi3eTWrZutVbRX7v/l7XZyln7pfqF72xPIvYsx37tfeeC/ep+jz12YydWo9nZ0zSXCnbNXv1SvkfRdlV2nf6UacXZcfYsd6vy37MUK9Q9rORv1t23We92J25kOZwHq/G2m2tnxS7p/scuF5u18p6r9tLe3Z9M3vX8eAK4wWQ+U8BAAAAAADYhEsBAAAAAADYhEsBAAAAAADYhEsBAAAAAADYhEsBAAAAAADYhEsBAAAAAADYhEsBAAAAAADYxNfdFQD4Dc5G3vnXanGHqvadXqmlyHf26TvXrXJnvXPZ98wzrno9JnPW4zXDeFbpnbztskO7HiH2YxyNvNfTU95nUa9u/n67XsfOY9lrVxU//cVVZ57leoWyix+sXj+92L38Zd6wdmP+m/L2Y697dr7rOSf51HoDwFX+UwAAAAAAADbhUgAAAAAAADbhUgAAAAAAADbhUgAAAAAAADbhUgAAAAAAADbhUgAAAAAAADbxdXcF2MN5dwXgjaX1Mf9JLVZINV+3M7xzn55F6bPZJ712rxyv++bC723XSnW9U6ur9E7eHLuu92NhesrbqdtjHiFvSJ/X613lXV92ave6dnXGazZjV+mdvN86sWs5vSo7ub6XzuYDv5O9+0yvY9/nc8+ln/pM5n/zufMQ4H34TwEAAAAAANiESwEAAAAAANiESwEAAAAAANiESwEAAAAAANiESwEAAAAAANiESwEAAAAAANiESwEAAAAAANjE152Fz5B+/pNaALy37l6Y9tr73PcUSJHv67P3fTJ2+mxpf4fg58LBvHdtrZsLuV0ry65jz/k6PdU7xk75i7IfIfajyJvyx9gx/VgYO/Vp1a7X9Up5U9mpvzuxU/72PAvpZd6Qubdn3ff8ee96v+sb67vW6z7vex4GgHv4TwEAAAAAANiESwEAAAAAANiESwEAAAAAANiESwEAAAAAANiESwEAAAAAANiESwEAAAAAANiESwEAAAAAANjE1ww/OP9JNQBYpdrH0zPgXlXtfufTKbWqO16fOxdeW91nK33qeKS6zaJlVVq37BR7zpAe8j8a7arypvwxb2hXlf8xj8v16pe9rs/yeNRyuxt5F7arF7vWWfc5f3NfaGyY3b125V5913PgnZ8/2e88H+7os+chwGfwnwIAAAAAALAJlwIAAAAAALAJlwIAAAAAALAJlwIAAAAAALAJlwIAAAAAALAJlwIAAAAAALCJr7srAMB9zpA+/0ktrkg1Sy27nvvOPjlD6bPZ7lpd9lmUnfusE3vtXKjqVtWrznmvd63XGLlu1RxP878TO6U/GnnHGOMxr8fupK+MndI7/T3GGLPos3bsRnqeZym9iL1w8a59fqSyuz/oPH+ux77Xu9Zrtc987gLAO/KfAgAAAAAAsAmXAgAAAAAAsAmXAgAAAAAAsAmXAgAAAAAAsAmXAgAAAAAAsAmXAgAAAAAAsAmXAgAAAAAAsImve4s/Q/r8J7UA4H/3ubt0qllq2fWc79sntTvb9Vv79H1dn/8/UY3XDGXn9GtpP4n9aNRtzoWxu/Uu6pbyPha2K5bdSO/OhRkCdMYrpXfydtZPv+yk0+77rCx7ZZ/1ywYAfjv/KQAAAAAAAJtwKQAAAAAAAJtwKQAAAAAAAJtwKQAAAAAAAJtwKQAAAAAAAJtwKQAAAAAAAJtwKQAAAAAAAJv4ursCn2iG9POf1ALgftV+l/bKe/3OnfwM7ZpL21WV/c79+TvnQkfqkbi25+s+6+8LVex6rGJ6Ue+Uv1v2o0h/NOqVYrf7LJXdmAud9KrN33m76dfSfmIufHiufQaksq8mjpH24V6X7bfHf7L3PlvyXxlPgHv5TwEAAAAAANiESwEAAAAAANiESwEAAAAAANiESwEAAAAAANiESwEAAAAAANiESwEAAAAAANiESwEAAAAAANjE190VAOB3OkP6/Ce1+Pd+a7s77bq1T24s/HPnQqp5Sr9uzjp22WehQ1N/p/TqL2keoU9yu16nV2k/KrsRe2V6zNvoszRHZ5wr79mnOe91/djX94U798KVZf/Wdq217vkCAPz/858CAAAAAACwCZcCAAAAAACwCZcCAAAAAACwCZcCAAAAAACwCZcCAAAAAACwCZcCAAAAAACwia/0g1mknX+xIu9WNgBrpX28egast+4JVOVe3+ZPfbK+rve5uN73zsPPtLLPZjHeVdrq9NTmR4hdpa+s9yNUPNV7zk6f3TceOXbKf91cuqnct4/3mrWy3u/8bHvnugEAv53/FAAAAAAAgE24FAAAAAAAgE24FAAAAAAAgE24FAAAAAAAgE24FAAAAAAAgE24FAAAAAAAgE24FAAAAAAAgE183V2B2lmkzX9WCwD+vfd9AqTSq5rf6337tNard2+8PrXP3tUM/d3p05S3nT5f173brio9xi7qNUb9F0C53je2a2HsvutzofOMWD3Ha70+nY3C33mvfee6fSL9CQD/jv8UAAAAAACATbgUAAAAAACATbgUAAAAAACATbgUAAAAAACATbgUAAAAAACATbgUAAAAAACATbgUAAAAAACATXzdXYHfaBZpZzt6ilCVDsA7++Qdvqr7jDXvPx33c1+frp2Hdb1nmZ7a3E1/ra7XD9Ln6/TU3zm9ip3qfT12LDsET7Gr8erG7vZLJ29ud8f1efaptOsdeeYDwDvwnwIAAAAAALAJlwIAAAAAALAJlwIAAAAAALAJlwIAAAAAALAJlwIAAAAAALAJlwIAAAAAALCJr07mGdLPTvA3LhuAe6U9Pj0j1vrMJ9QZ6j0X1vu9x/O1pfX+1E5p6jQr5Z3hBzH/0rX7OnYqN9eril3LZaf81/Mm77oE0jzrue/50W/Wez771tqxzQDAp/CfAgAAAAAAsAmXAgAAAAAAsAmXAgAAAAAAsAmXAgAAAAAAsAmXAgAAAAAAsAmXAgAAAAAAsAmXAgAAAAAAsImvMc7wk/lPKvLffWq995RGI40mwH/hCcG/0ZtJZzFTP/u5+Lr23bW3cu3O0OtV2alea2OH9PIHYaaF4KlddfzUJ50+u573J+l3edd6jTFaleu367N3TACAO/hPAQAAAAAA2IRLAQAAAAAA2IRLAQAAAAAA2IRLAQAAAAAA2IRLAQAAAAAA2IRLAQAAAAAA2IRLAQAAAAAA2MTX3RXYzQzpZ7uEKkIqHYD1qr24fgqkZ8Tn7vKdp2Od90y9FpLnvD5e2crY97lrHqZy58I+nbOOnetWpaV6p7Jfp6/us7pdXSvXyPU+7dar0y93PgM+9/kD3MWXC4B7+U8BAAAAAADYhEsBAAAAAADYhEsBAAAAAADYhEsBAAAAAADYhEsBAAAAAADYhEsBAAAAAADYxNfK4DOkn7+0bADeW3oGpGfInq4/WVf29+qxrOJ3zxor283fN5f2ehE7TJTeHO+1aeVeuXYfvm8F3dmuumy7CgDATvynAAAAAAAAbMKlAAAAAAAAbMKlAAAAAAAAbMKlAAAAAAAAbMKlAAAAAAAAbMKlAAAAAAAAbMKlAAAAAAAAbOJrhh+c4yxSU+47VfUe473rvp9qNNJIAvBt5ZPvzqfq2pNIPgnx35y3nbHeeazquq3ssSp2KjfXK/T5rNKb41VUrt+uld55nn4mb3Xw+/iaA7Ce/xQAAAAAAIBNuBQAAAAAAIBNuBQAAAAAAIBNuBQAAAAAAIBNuBQAAAAAAIBNuBQAAAAAAIBNuBQAAAAAAIBNfN1Z+Azp501lryw3WdsnKXcqHWAP1W65dqe888nIf7X2qbpyLvRq9ltn4cq13YntdPa/0y8AAHCd/xQAAAAAAIBNuBQAAAAAAIBNuBQAAAAAAIBNuBQAAAAAAIBNuBQAAAAAAIBNuBQAAAAAAIBNuBQAAAAAAIBNfPWynyF99sIvVdX9neu9nzQaaRYCwG7O4ul53nh+W/vM7tXbeeLvc6LmX/BWB/v55C9RAO/CfwoAAAAAAMAmXAoAAAAAAMAmXAoAAAAAAMAmXAoAAAAAAMAmXAoAAAAAAMAmXAoAAAAAAMAmvtIPZpF2/sWKvJOqzWPc2+61dUu5U+kA7GvliaET+32f6lXJd541fuv57k6dPv3k8VhZ90/uF9jb6+fyGVa2t1F+qppJ5hHAN/8pAAAAAAAAm3ApAAAAAAAAm3ApAAAAAAAAm3ApAAAAAAAAm3ApAAAAAAAAm3ApAAAAAAAAm3ApAAAAAAAAm/haG/4M6fNyaorc06s3/1YajbVzBeBzVPth98nWiX3nU3dl2Wtj3/n0q8vulJzyVum53N5Myn1+veyVo9Xps3aflhtDcw4XyWesVnoHuW/99GZDmmevY89mvbw9/W/WjbX+huusH4Bv/lMAAAAAAAA24VIAAAAAAAA24VIAAAAAAAA24VIAAAAAAAA24VIAAAAAAAA24VIAAAAAAAA24VIAAAAAAAA28dXJPEP62Qn+xt653VXd+vWqIqReAfgd0l66djd85yfQe+qO11kEmLM72veMV7fUTv4z9ng3vSq7l74q77eiXSH42ZqGq89va0+m63T22jrv2Wh39wmwdLQbhffr/anzjP9bb/14I+VvuPesD/Dv+E8BAAAAAADYhEsBAAAAAADYhEsBAAAAAADYhEsBAAAAAADYhEsBAAAAAADYhEsBAAAAAADYxNe9xZ8hfV5I+Vnknuv15t+7d64AwCvVE6r3dOrkbj8Xz6Jd4aGcyq7SzxD8jMe3kL9MDHkb7U7tSp2a81d516V3Y69cP0nVp3Nh2Z/9BnLPeK3usyr+e48HcJV1D/wW/lMAAAAAAAA24VIAAAAAAAA24VIAAAAAAAA24VIAAAAAAAA24VIAAAAAAAA24VIAAAAAAAA24VIAAAAAAAA28bUy+Azp54Zlryw3WdsnKXcqHQD+u/VPn9cRzlB657kbn8mthqea1emp6Fa7luq2q5oL1/Om/J3+Tj844yQN9Z4rz3epz143LPd33Wud5XWGzL0uu+8Nx0l/hXXj+XvH6/ra/tw280m6u7B5CvxL/lMAAAAAAAA24VIAAAAAAAA24VIAAAAAAAA24VIAAAAAAAA24VIAAAAAAAA24VIAAAAAAAA24VIAAAAAAAA28TXDD85/Uo0rpaea3+kz6712LqTc9/VLVfK98x+AfdXPxbPxXE15zxi688wO7TpDelH2Gfus1sm/suwc+3p6t95Jr+wwTy/V6H/0Tr2dk35euStPptf3hbpe3xHK1CI5bSm9t4j73nbf9+3nU99Wf6Izx+F+nR3JHAb+K/8pAAAAAAAAm3ApAAAAAAAAm3ApAAAAAAAAm3ApAAAAAAAAm3ApAAAAAAAAm3ApAAAAAAAAm3ApAAAAAAAAm/ga4yx/MMd8mVbnzF5H/jvxr5Z9V7mry+a/M14AXJWeEekZs7LslbHPxtmxk96p14/yn0W7Zood0luxa/V4NOvdSD9DxVO7qxV0huBFd3+nh3Z13iPy2fKe02V3P+q1+74Tdx7rO0/7d72x/lZpv0rfReC9rf4+B/w+/lMAAAAAAAA24VIAAAAAAAA24VIAAAAAAAA24VIAAAAAAAA24VIAAAAAAAA24VIAAAAAAAA28ZV/chZp869V5L9GP8t6pdx3qus9Q71Tq1eqx6PrvnnWkWp253gB8JutfAL1nrtVyWeMnc5Br9PPM+Sd12PHssuci2OHdh9FcqdeY4xxlKn1Xx/lsuuWd+ZZHq/rZceVGQoP0zTo7Au98UjvMFXZ3T5Z+Rax8o2zF3vdM+BT37KBnvtOjsBd/KcAAAAAAABswqUAAAAAAABswqUAAAAAAABswqUAAAAAAABswqUAAAAAAABswqUAAAAAAABswqUAAAAAAABs4quTeYb0sxO8LZX+uvb3tut6ve+0ts8+s08A4Kr05Os8V8/w3DxD9JS/81zutLvbZ+cZ+mW+Tj9Cm4+VseN4FrFDpxxFvcYY49FoV56H19PzXOjN8Xoe1rFnI3a27i2le9quapbfI+pfzCJ6/y3ivjfDTp+t9HvfzLpr8/UvPrdP4GdWfiOzfmAd/ykAAAAAAACbcCkAAAAAAACbcCkAAAAAAACbcCkAAAAAAACbcCkAAAAAAACbcCkAAAAAAACbcCkAAAAAAACb+OplP0P67IVvRE41+9yy6+jnwj5/X/fNw6QqeeU8AWBv9Xlg7ROoip7OKZ30buzjTcs+zxB7NmIvHI9U9iPFbrT7TOflEHvMdN6u0lKfhfVXJadqt8683XeMOn9dt0afjDFGuQZW73evy07vbb1ya3ku3Fm33+r6nvR7+wT67vy2B7+d/xQAAAAAAIBNuBQAAAAAAIBNuBQAAAAAAIBNuBQAAAAAAIBNuBQAAAAAAIBNuBQAAAAAAIBNfM3wg7MRfGXsftlV6Sn3+6pqvrK/kzvnwrvSJ/CZPvcJwf/uvt34rpNIatEZSs/pRVoo/Jwh9vk6PeU9mu2q8h9FvcYY42jULdU7tquo2zHrvw86wmxJZT/Ksuu8M8Su0lPetAZiuxqx175brYs+Y+zU59d3vFR2ta/MtKeE2J29uNdjPbns+94af+dbeHLfPARee+dvZPAv+E8BAAAAAADYhEsBAAAAAADYhEsBAAAAAADYhEsBAAAAAADYhEsBAAAAAADYhEsBAAAAAADYhEsBAAAAAADYxNfa8GeZOsds5F4plVzXu0pd36aqhLred1rbZ73xvEuq1X3rA4C/o/P86TwFek+YMz5WX8c/m2e/Kv+RYp8hvah3ip/KjulF3Y5Z/w3PEXqtSo95Q58djT57xLlwfTxTvWac42muFGkpdplay2svRbjvLaW3210fz9RnYaosfCvMc2XlG0r9xnjfW8hnvrX9Ddfnyu/tE/jdfuv3HHvSZ/GfAgAAAAAAsAmXAgAAAAAAsAmXAgAAAAAAsAmXAgAAAAAAsAmXAgAAAAAAsAmXAgAAAAAAsAmXAgAAAAAAsImv9INZpJ3t4usIsyi9W3avXekXr6NX5f6s7OtmiH7G2t1jfZ9VEd6zT8a4dy4Bd7Gy/7Wyx8NwzLlup07P7PMsYodqdWdZlT/Fju1q5D2a6edZnEtn/Xc25zgulx3rXdRrjDGOYh52++QIf190FCOW6p3WT/WeUKV91yvFrlXr6wz17qyvmDe+orz+QeqzXPT196P8TpjKbuSN8zC9P10vO/2i6tOVbyh5JO97C+nMss/W+S7SW18A/4W31c/iPwUAAAAAAGATLgUAAAAAAGATLgUAAAAAAGATLgUAAAAAAGATLgUAAAAAAGATLgUAAAAAAGATX53MM6SfneAxQir9uvXtetey6+jnwj7vWNtnKfd79skYvZqtnGfwCd53ZbOLlU+fvMfX0dN5oErPeWtl7JD5nHXZR6hblR7znvXf4RzzWFKvlH6cIe8M9Q6dXuU/wmjP0K4qfYZ2zTgXalXZaQ6n2FWPrzyfnc3oabyq2ud3jOtzJbUrlhznUtWuWt7H17WrI7frvreQe74evLv03H3da/v2GcAe/KcAAAAAAABswqUAAAAAAABswqUAAAAAAABswqUAAAAAAABswqUAAAAAAABswqUAAAAAAABswqUAAAAAAABs4muMM/xk/pOK/Fcz1PtcWO8U+Szr1qtXLnudqs9X9nfX2j77zPWT3DnP4F/4zJXZt2u773LvE6KKns5QPZ3851n3yjlfpx+hR1N6Kvuoym7kHWOMo/g7neOse/SYdfqfIv8j5M1l139fVOVPeWcoexZ9OsNYzzOUPY8yvZxLYQE8wsKvstfvGD9QzNMwhX8SPKRX49V9r3udP82F1Kex5KLjZlhfvWfE2nZ1rGxX5wnTfbb93jNUsS/EvPfNMwD6/KcAAAAAAABswqUAAAAAAABswqUAAAAAAABswqUAAAAAAABswqUAAAAAAABswqUAAAAAAABswqUAAAAAAABs4muGH5zjLFLr3Dn2Ou9adt2fKXe37HVmiH4227XS2j7rRPjMPktWzkP4fFYIf0c1k/IzuftMf52e8qb0o0h/LIyd0lPePyH9cRaxZzN2kf4n/H1QOt89QvpRxP8T8s5UtyJ76LIxxxHS0xyv6lbHzq8C19+98l97vY59xnp1z6Wdd8rOnpTmWdo3Uv4ib7GuxxhjlmPd6bH8izr22rPIynatPEetfYv/VOvWDwDr+U8BAAAAAADYhEsBAAAAAADYhEsBAAAAAADYhEsBAAAAAADYhEsBAAAAAADYhEsBAAAAAADYhEsBAAAAAADYxNeY4Rfn5cQxQvBW0VGdexal98qt5Tb3+rRX9jozRD8b7Vrpzj7rrq931an12v7mk3zm7P/djMm/tfIJkWLH9OIHZ6hYp+x0ljhC4ces088i/zHrv7M5Qsuq9D8h76Pq8DHGn/k6PeVNffLnrNs9i7JnyFvVe4z6LF+l/Sg9TdQiOcXO6+d1v5zzKPPWqfVfg8W8Ya6MMFdq3XfK1/nzO8b1efadu5jjqeQwz6ouTe+MvdG43t9d3cj1eN375lb5vWeozn64bo4D8M1/CgAAAAAAwCZcCgAAAAAAwCZcCgAAAAAAwCZcCgAAAAAAwCZcCgAAAAAAwCZcCgAAAAAAwCa+0g/mfJ12nil3+kERPKTGoqPXEWaoV7/s1+qSxzibfdore51ZRD8bbVrtzj7rrq9P1G3R2vHgb/t9M/h/rJuJ9/aZFfZfVT22dCzj46P3dKue2+mZHtPP1+lHqPejWfZR/C3NEfrkKOo9xhh/iro/zvpveP7MuuxHcWBPeavz2Xd6rcof84YXjT+NF4U4xZPzKGKnv7l6nTeXG+Z4aFdVcrfW1TwbYzQ7/fqZN83h/J6R1kC139Vi3YrkGfozvzMWsUN6v8/WqZ+r7/smsd9b3U90v8lcf/4A7MJ/CgAAAAAAwCZcCgAAAAAAwCZcCgAAAAAAwCZcCgAAAAAAwCZcCgAAAAAAwCZcCgAAAAAAwCZcCgAAAAAAwCa+OpnnrNPPM0VIP3hdQCg6Ru7knqH0Xtm13O6q9JT7etlr23x9noyxtm5Jp8f79e5E6M2Vd3Vnq+6chyv9zpnS9VtH+7fab7xSi3P69VNYyttJT3mPhenHGfLO+u9wjqLP/jTPpY/ib4DSGWuGw/ycKX9Rdsrb+Nul1K4/YbzSS05Zt/Noxa6FPgllP4qiQ63jaKT81XBX9fqZzvtP7z1j5Xm7msfpPXvGeVbt0yF2SO+8m+X3vutWt2vlecJb3RXVeaE3Vvv2KfDb+E8BAAAAAADYhEsBAAAAAADYhEsBAAAAAADYhEsBAAAAAADYhEsBAAAAAADYhEsBAAAAAADYhEsBAAAAAADYxNfK4HPW6eeZIlQ/qIOHosvIWZ17FqX3ys2qdp+x9NRr13Oubff18ci57/POfVq7Po9+M73ym9y3a9w5j1aW3Yn9W9dWfmJff7blPuuekopzUDj8nensWMYOfRIOpkfIfxT5j/B3Nkfo06rsY4bYoU//zNfp86xjzyLvd/6QXnRpJ+93/tdpVZt/JC7Ao0gMf3PVip2ksl/HfoT+TrXKf2n2uuFp7aW5sPav3K6/P+WzfOfdLOSNS6Cod1g/694o6z3+J6X3yu5Jz+W1pV+P/FvPUbVeq/PaXVUywN/lPwUAAAAAAGATLgUAAAAAAGATLgUAAAAAAGATLgUAAAAAAGATLgUAAAAAAGATLgUAAAAAAGATXzP84FxY+GwUfsaa1cFT0ZXcJ69/kZvcqVktl90Z7V5/r5xnKXpVt5Xj0bV2Dnd0o79vn7OTtavklfee/ff0yd1lv/eYrJGefem8cP2p2yv7KHPmsXyEXxxFepU2xhh/znBOmq//TmeeoUeLvCl/OovnskN6kdzJ+52/SAz1bi/sKvxMMzH8TVYrdlKUHce6V3brL9HCcFY1i/Ns6S7fe1+t3yl7+3S9fNJ+VSa33inzaFxv9+rnebl0Y+773uzWfQH4za63vPfNZec+B1bwnwIAAAAAALAJlwIAAAAAALAJlwIAAAAAALAJlwIAAAAAALAJlwIAAAAAALAJlwIAAAAAALAJlwIAAAAAALCJrzHO8gdzzMvB68g/UBSdanWeqfTr7YplX448xoy569J7ZV93NuvdK3udO8djpU5/j7G6XWtHlF286+p731n4rvXi7+ufkK6fhFLZZ3yuvk7v5B1jjCOdVc7X6cdM55z673COMq3utT9lan2WSSOZzkE5vUgLZ/XQpfVkmmGmNRdBmRxjV6M9Rvk3WzF2+kEq+7XHGeZwLLuah3Xe1l+xrXsl/EEBaV+oK1fvWSvfdUO9YtHX273y+ZRPhtf3s17krPcmve5MvLZdv1Wv1fm7y6qSgd/IfwoAAAAAAMAmXAoAAAAAAMAmXAoAAAAAAMAmXAoAAAAAAMAmXAoAAAAAAMAmXAoAAAAAAMAmXAoAAAAAAMAmvvJPzsvB55iLIv+g7LrocZ5V6SFzKrsqtxU5R6j6fGl/h/SzVXodPZe9UhqP66lr693TWyG1O8frPit79E7v2t89v3W0Vo7X7+2zldIzovP8CcJUONMZq3EWqc9nY5zFAa8q9zt2SA+Hxyr+EWLPEPtPkX/O+m94ZuizP0X+lLdbdtXslftCqlf78Fjkf4asOfZRJIa/5zqrvGOcxXieI+StSx6PRp9150KVP/4FXJwrndqF/Sy+KVx/X+29m/UWyEzPkCJ+fIdvfZvo/SJP8XXnqN6b9Lo53LXuC8Fvdr3lub9f/2Lf/obfzX8KAAAAAADAJlwKAAAAAADAJlwKAAAAAADAJlwKAAAAAADAJlwKAAAAAADAJlwKAAAAAADAJlwKAAAAAADAJr7Whj/L1DlmI3fPLIuuSz5jxV4Hr1uc5T55/Ytc9rrx6LT7jCXX0Xtlr5TWR3Lf+lmpu0Yq79sn71uz32rlPHtn823nWnc/XJP3zthdVY+meveeunX+FPuMz7bXEVLeI54XUvrrv6VJfdJJP8LB88+s/8ZnFtn/VIkh7xjpPD2aEzHUbeUBb2W7kjJ2eEeJsY8idvpbsRS9iB2yt8Zy1H/lFmqV12ZaA1VaCL72GdKZ5Gvf4auzSHzPDp1axk6hQ3pSP4PWnXOS+96kf1L6usjvfEZ7X697rfMdqo4M3Ml/CgAAAAAAwCZcCgAAAAAAwCZcCgAAAAAAwCZcCgAAAAAAwCZcCgAAAAAAwCZcCgAAAAAAwCa+ZiPz2S6+jlDXrU7t160oOXTaeXZK77S62+7r43HGml2XI9f1zn3yuoRuq1bOw976SZHXjeed7mzV2rnwO/3OWbjWvHGmve94LeyT9210U++MtfKEdp6vo58znQdCzYrYY4xxFMkznd9C7FkcLv80/4anLDmcWdOZN0+G1z8Iw9U79DbXZpoL4VB8PW8SxitVuw6dYh91epinZ9Exj/juVJdd9WnqkrR2H509a+VcaAdfuIBadQt7Ughd7fPxHb75fFr57WLl+W7dl4uf/OJT28X/rXv6uz5ixguu858CAAAAAACwCZcCAAAAAACwCZcCAAAAAACwCZcCAAAAAACwCZcCAAAAAACwCZcCAAAAAACwCZcCAAAAAACwia9O5tks/FyYO9ft9S969RpjNjrmPFPpdfDOmHTaPduj2Z1Nr+XIr+ueW/We49HVG8+61Xe2607rZji/SWe/Wq03h7vPbP6m9MztP9Ovl51KPstndi/2kfqlCHCEw9+Mff46PeY96/Q/Zd3qvw+q2vz9g5BcnWvTwu+UHfKGLsuK+GeYC2covMp/jqPM+2z0WbW2/j8/CMIPZl33Wj1Pq/enR5jE3f2uGs00zR7N9VVZGPovRH+dP+13ueTiGRGHOuy1oVlxDV0uOT3f7jtjtb+bvOnb8ro3YV673nMr1x78dv5TAAAAAAAANuFSAAAAAAAANuFSAAAAAAAANuFSAAAAAAAANuFSAAAAAAAANuFSAAAAAAAANuFSAAAAAAAANvE1xhl+MpcV3omcat2JkOtV/6JTtxkLr6OfZXId/M7xmL1eK1PXRc7Re2WvW3v99XM9eq9V68Ya/pbuvnGX/o5zT7t6z4+147VuF1/rvpNhLvssSs95r8ceY4yjSEvP7COdwc7Xf6eTz4ZB0fAU+0+z6FJ3olX5O3l/4Kzir2xXEmJX7wnPdKYNsWP+Ivmc6Txdpz+q1Rn6s7u+quzpr++qPWWMMapuSdXutWv1JF751nl9ccZWxbl0vexej3XfjzrfRXrue1ded2btfxfhv7vea531kRhLPoH/FAAAAAAAgE24FAAAAAAAgE24FAAAAAAAgE24FAAAAAAAgE24FAAAAAAAgE24FAAAAAAAgE18zfiT80LK/8jRr+pGznW/nruuW53aq9cYswwfojeS58Kxzn3SGY/6F+3xaOWuS++sv3Wj1e+zTvSV7crWrm3+rs6z75Ot3JPWlXv32ub/dIapUJ1FzoWz8AwVO0PRqW5V9CMFn/Xf4cxxFAV3Y7/2Jy3rNFzd/KtiN+sV52k1JvVhPK6fKnRq1hnmyrOsWzEHR673mNfPrXnthroVf+d2hl57xIaFs2fZ7nRuvX6uTUsrtquYC91lvfas0dmUFn9BKJPDF4K4J608g3Xehe97N+uc1PvfLta9J/Taxd93vVc767ZXMvyc/xQAAAAAAIBNuBQAAAAAAIBNuBQAAAAAAIBNuBQAAAAAAIBNuBQAAAAAAIBNuBQAAAAAAIBNuBQAAAAAAIBNfHUyz/iLsxM+5M6lr8tdq+u9slV1hDgaofA6ObS6UXi3T/IsfP2LW8fjcuR+CZ26zaWrq9bt05Wl39cr/CZr59E7z+Hrq7tb79kK8M59us5ZtqzXJ1Xuutx8FjnigFQB6swzll3lr/+GZ55HHbwROy69zoC1D3hFgLBw01yoQifd2GfxgzO1a9Rzoapbqtczrq+67GeR/Wy/RxQ/CIsv9lko+dGY42maNVbuOOKe1Hj/aT+8Xped9vHZ2JTydpWeT9ffhlO9W+/KaU9ZeobqfCH4yXiu0X209RbBujav/77Af9Pr0c53rMRY8z/8pwAAAAAAAGzCpQAAAAAAAGzCpQAAAAAAAGzCpQAAAAAAAGzCpQAAAAAAAGzCpQAAAAAAAGzCpQAAAAAAAGzi6+4KVGaZerZi17nrkpNe7lpu9etf9Ov1OkKq14yFXx/PM2SdC0fkXcejLrkbOalL7q3c2sqx7lrZbv6t951lY3Rm2p3tmreukHddne9arzHybGk80xsln/G52D07Xj8HHTH69RUYn33n678BmjPV7HrsmL0z2EE6G55xCqcfFHMhHHrPELvKH9uV1kAZO62feq4801Qp6v5MZ8cUu8j/POt6P2b6G7l0rn2dfoYBe6Q30lmlp7fZ62+7cfand68QoFN2R3oG5PeIlW9X18crvgvHF/FiDoec3fFKe1Zd9rpz0tr36H6vrXLf9wOuud7rnTOxsf5d/KcAAAAAAABswqUAAAAAAABswqUAAAAAAABswqUAAAAAAABswqUAAAAAAABswqUAAAAAAABs4mveWPh5Y9l1u9fVLEeua7ZyvHLdXv+iX6/XEVK9Ziy8MZ7tqbBuxM5QubVruzFef7ci/7H0lblrc3HL+STrZtqds+yu52q3zfkZsq7staraLd4rix/k/u7MpJQaCg8NO4vsqU+OkF4GD9We8W98itLPkDeOV2hZFT/F7kzTbuzGVDkb8yjlj3nDePRih/QQ4Fks/lTvZ4h9ztf507p/nqHPQssfRdlJ6tNHY7zSrlBlb//V4Mq1+7FWviGlTSflf112eman9XG95Cw+05d+u7hS6s/kui2cKzdG/rVL/21d7/HOd8OfMBf+Lf8pAAAAAAAAm3ApAAAAAAAAm3ApAAAAAAAAm3ApAAAAAAAAm3ApAAAAAAAAm3ApAAAAAAAAm3ApAAAAAAAAm/ga47yt8PkXfnHVXa3OLVpXsxR5Luzv5Cxqt75Wr0s4Q+FLx7M9FVaunzvHq1KXntfASvfttfeV/DvdO8fXufP5lHT6fC6t9+9cXWfo8U6fptidPs2Re6u3qtkR8qa/wqnqdoYuOWKzqtJDzc9Q81h2UfnQrnQGq7KnPjtnOC+Ewsvx6sYu8nfq1Y6d2hXmUjUmz2bsZznN6smQ5tkz5a/KnnXeR4pdpD/SJA+xZ1G31Gep3mlbqNJDl+XYRYD8rtt9U6jyd0+P19uVW1XMhfhIDueFuI+ve+aX7/gxb2+Od3ROlmu/r609865tN//WuvN2dx6aK/83/ykAAAAAAACbcCkAAAAAAACbcCkAAAAAAACbcCkAAAAAAACbcCkAAAAAAACbcCkAAAAAAACbcCkAAAAAAACb+JqNzOdfq8a/L6HT7jujd3ok12r9iF6zdrTua3doV7vZC9vVCr1yfdQVWz2Trqtr1h3J9203/1V/LO/Z71bWO8ZuFt7Jflfeb3c+06var9vRcuRe2WeVffb28aMz4il4GTr9fdARyq7zn7PKH/K22hXG46zbdYbhqKqW6h1jF/lzvVK7i/WT5nAoPJZdxE/jkWZpFfsR5vAzjlf9g0fR7meaZ2HxPoqyz9CutHwexQ+6z9WUfxa/mKlPQuwye2Nd/yB787ndLf2e2Gm84j5ezYU4Xtef6bnFnWf6fe+ja98ZuzVfdy5deeL1Hv1uVu60vZn0qXPFfwoAAAAAAMAmXAoAAAAAAMAmXAoAAAAAAMAmXAoAAAAAAMAmXAoAAAAAAMAmXAoAAAAAAMAmXAoAAAAAAMAmvjqZ59+qxa9zXkj5mXv7/K7Su722UqdP3rldtTlftzu3al27ZwidSzbH2de9z5d6DRRbTlsO/fvWZ2rRyrlwxsJT6Z3xqGO3Sg4NO0LwR1F6avER0ssAcbDT3w+F0s8if3hox5EufnCG2M9G7O/41XjVnXqeIb2KnfKG8aiyp7WZxqOq93f81+lHyPuMffq63c9UrxD7WcT+zl+898V1X/fqoxiUR4hd1Sulp3qdYbI8wvqbRfzu82cWEWaodyz7bT9+dJ/q656r8XxX5WyeF6p5tvabTNpzkuY8bVg5Ez71u8naPuG99Easeapt6dTcfwoAAAAAAMAmXAoAAAAAAMAmXAoAAAAAAMAmXAoAAAAAAMAmXAoAAAAAAMAmXAoAAAAAAMAmvsY4767DG5ofGPlf2G+uzDhidZ+s7LHOXMr1ut7uXo81hcLTeJ5vOsdnqFav1p+9K/EvXZ9p88ZplotutOtyzn7Z76xq1dqpsPqZ3ah92seL0EcInf7Cp8yfGh2afIbSy+fqGVo2r//t0nn21tYZNq1nUfdUcjXWY4xxFj840zkm1LuMHfIeoewjjOdRZH+GTum0+wz1SrMs9cujWGGxXbOuW7V+0hRPZ9qzOFymvI8Uu9HnMx4Y6rJn4x0lpoc+r/LPkLnzzpnWx9rnbvMh0oid349el53Ppeve8XOPpP3weurKudA90a6dxfect9f2CZ9l9U58fbb5TwEAAAAAANiESwEAAAAAANiESwEAAAAAANiESwEAAAAAANiESwEAAAAAANiESwEAAAAAANiESwEAAAAAANjE17y7Bm/pvLsC2+nMwzxaa6O/Z8m1GWtWl96p28o952y2613HK1Usjee60fzF7uoWD+X/VWeGry07Wbfn3JX3bvU+350LvWdIJ/ZRhH6Eah2h5OovgFLe1OTZmkz13yadZ127c77OfzbnwnmGJ2fR7mfasarMY4xzvm53alWKfRQDdoS8sV1hMlR1O8NM7MSu2jzGT8arrtujiJ/a9Yh9XsyF1CepT4s5ntZPNUfHGOOR1nYR/9FYe99lv5a2q3SenqFfylbHdX/9vJC34bRzdJ6rqc9q1Vzovd+EX8TMoV1lcu/Nq3dGW9dnq8+Oa78vvO1b/rKSP/mszxXXR9x/CgAAAAAAwCZcCgAAAAAAwCZcCgAAAAAAwCZcCgAAAAAAwCZcCgAAAAAAwCZcCgAAAAAAwCZcCgAAAAAAwCa+Opnn36rFxznvrgD/P2acievGa+VMWLu+6pqfofSVdev06Yy565r3yl6nO8/euW7rNFvdyP6+fXLvvnKXO9u87zmpEvbhM/Rpq1PTM6D3DKldjx26JFbruJ41miu7LP3tUtkxoWKhXmkuVEWfoVOeddHjPIu5EBbAWY72GI+y3il2WrshvYh/hNjHWbfrKGI/U71S2aFfnkXdUuzHrNtVzaRH2BgeYY4/i+id+T9GXgPVeT2Vndpd5X806vWdfl3KG/fSTvCgKrr7jEjjmd/j6+hXY+dHV2cNhPfo5vPnesm9CN0+W2nt8ll59lvnc79T8a/5TwEAAAAAANiESwEAAAAAANiESwEAAAAAANiESwEAAAAAANiESwEAAAAAANiESwEAAAAAANjE14w/Of9BNf6+2K7ccD7GfXP0U6fRGbpstvq01ytrR7OOXqeuG+3U5pXzrNvf99UtlfyZ+8JnPnG/fep+mL0elZVt/q3ns5XO5r4wG/lz2cnr2EeIPcNUeDSqlsp+hD49ygNHeCaHhp3juBh5jPOs/y4ql13F7pw1xngWZafzW5qHj/k6/Txf9+dPYh9F7DHGOM7X6c8Q+wyxq7p36/0s6p3in7Pu00cj9iPEzvV+nf8R5v8jzbMwl6p9I6+9VLdq/aR6hb02bbbleaF3qq3SU7Vi7Lc9wHXfkO55n01jnfbxVHY1Xml99Equdc9Bve8P1619F153NrzTO38/4L/znwIAAAAAALAJlwIAAAAAALAJlwIAAAAAALAJlwIAAAAAALAJlwIAAAAAALAJlwIAAAAAALAJlwIAAAAAALCJrzHO8gfzcuJ7m6Hdv9F7D9d+45EtHLEQujca68byXD2Li6qf7Xa9rnu/x+oIVepc2Kfremx92XdJbf7Udq303s+22qfWPc3Dql05b90r5/k6wmx2aF5frwvI58rQrkZqin0U2VOfpb8eOkJ6Z0hmbPbr2qVndkw/65adrbLTHH9d9jMM2BlG5Fmdc5qxH2G8qvipT44zpBexj9gnod2hX46i7qnezzDJq355xHrXsR9F7Gea/2mOx/eM1/mrPf5nZb+u+yPsaCl2nONV3tAnaa+sno3p+RNjV8+IlDfMs/yeUcyFkHftGapz4u7VLI1nvURCnzXWZtIdj857/p3f9tbOlN/5Nnzf6uJ/4z8FAAAAAABgEy4FAAAAAABgEy4FAAAAAABgEy4FAAAAAABgEy4FAAAAAABgEy4FAAAAAABgEy4FAAAAAABgE19zrgs+x7ku+EL9LlnX7oXDtdSnzoV7/c4+O1uzuNcnMXdZtbreuWbX697rsxD77M6z13VbOYPPEH2u7LNlkcdI86zbqt+5q9zHeeGzpL00nVVWrp9qz+o/X4p2h6zH7O211V8fHXXReQ4XVeu/39R/N1U9O9Pz6Qx9WqWmZ/azTB3jLDrmcdYjktbPI3T6WcQ/QuxnjF2tnzpvmuNHEXuMMZ7V2g31PkKfV/2S+iTF7tT7EVbvI/XZfJ0/rp+UXiSntZefAXX6o0hPa/fRqFva7vI+3Xi6haxhKpQ1y9t449nXypuse7dK8WPOxstweq6m9XG95Kzzrnznd6q7zpV9v7XP9uQ/BQAAAAAAYBMuBQAAAAAAYBMuBQAAAAAAYBMuBQAAAAAAYBMuBQAAAAAAYBMuBQAAAAAAYBNfc5x31+Gl2cp9vV29cnvuHI+7+rtf9jr9er3v+up53TO5xev6pB+5GvE6eqfsM860XsvK3LMuuzOeOe/1FXbG4OkH19vd3Rfu3BWuz3Dezbs+N7vyyi2eP2FjCNtd3IurM9rafXzlrhM7pRayH9ez/qDVr38x40MiPNNnnf4o50KIfVa9MsY5X//NVowdeu1RlP2M54G63o8z5X+d/pihT0Lso4h9hHY9w1xJfVrFP0K9n+ksUszDGLsxnt16d8bzkeZZXJtF7LD2qnU9Rt4XqvUZY4d5WOWfoV6d7wt5nw7PzXxgv154sPIsf++bQid+mitFzlitdIaqpedbJ3Zdbm+83vV7ardWvdFMduyz9+U/BQAAAAAAYBMuBQAAAAAAYBMuBQAAAAAAYBMuBQAAAAAAYBMuBQAAAAAAYBMuBQAAAAAAYBMuBQAAAAAAYBNf6QezFf5s5e6V3Sm3V+86dlddt5V9trRfWhW/r09WWj1XeqVfj71uFv2Nsq/3+tlo2Ll8p30d/2yOSKfuuewidig2t6r+RatdofDOaK9cP3nVf+puyt/2qTMhrs24r7z+QToj5fXzOv9br8348Lu+jyfHtVLHGHkvfYQfnEUB+S+u6l+cRZ+m5+Y50zy8Vu4YYzxCrz5mNSL1PH1UHTrGOEPsqm5niH2E2Edo97OIf4ZNJcU+ijF5htix3UXZz8ZYjvGT8XzdrjjPzrpuz2KWp/E4y10lr5Fqfaa1OVPZRVrar+J+WPTLI75n997Dq/TQZTl24xnTeLItj16lpmfEDLGvP0HyeMV3mGLA8hnruu4JqnMGW/l9rWttn77r23DPnfOww38KAAAAAADAJlwKAAAAAADAJlwKAAAAAADAJlwKAAAAAADAJlwKAAAAAADAJlwKAAAAAADAJlwKAAAAAADAJr5m/Mn5MiXn7anjv65XP3ZSl92J3RmPGDsGX9euZHba1S79vjleWTkX3tvrlt/Z4jONSEju1D2W3ckfKpbq3alb7pPrc6HfZ1UJ4enUKDq1q7mNt3b5tE/ftT4784hXPvX5ksa6ueGVW2l3/Vyfp73YvV2nk3uGzOncWsaus8a/ijrSeJ5V5cN4hIY/ivz1s2mMs6xX/XyKsWPZZXLZ7keaZ+HB+hhHUW7IG2KfRewxxjiK+EeI/Yzniddlp9hpDj8b9T7CXKhif8d/3a7UJ48Qu5qnj6Lcn8Su5tl3elV2WPfxPeL6vpCeEVXd0h6f6p324ln8ItU7xi6yx7xvfXS8/o7SiV2NVZ3zZ7+oxiuesRovSN0Tb6fHu++rnW9oK63t03Vz/E4ra9U9EwMAAAAAAL+ESwEAAAAAANiESwEAAAAAANiESwEAAAAAANiESwEAAAAAANiESwEAAAAAANiESwEAAAAAANjE1xznsuDd2LOVuy67E7vTrlhu+MHSsj+1z9603jF2rNjKtfmZ+j1St/xc1+XjLMruFlvFjnnDREx1a5Udx6MqPdW7rnnu82q8UuxOn6SahXbHZ0hVds8sAnT6u2/hwr5Rb6Z8ruu7Qv5FWn/VHE+Fp32hOm/010+n17ozrdVpvaILRzN0Zy99hB9U+3j6a674zD5fR4jPtnIB/OSZ/rrXc9ll8nhUz+yi3DHGeIRz0BHa9SzOKqlPjlR20fBn6LNe7HTWCGWHAavinzOMV4h9Fqs7jfUjzJXcL4053mhXGo9HPLe+To95w8vTI9Stevblffj6czXGDptplX/GNveeu9W+0v1usvJNIbW7Pi2keZhLf5nS/CbT6ZXuWb3zzrnyO1fX2j7t9Pr79lklnkv/SS0AAAAAAIDbuRQAAAAAAIBNuBQAAAAAAIBNuBQAAAAAAIBNuBQAAAAAAIBNuBQAAAAAAIBNfKUfzHFeDj7jL+rYOf+asmPe8INen13P+51/ZexGnzVix7xz5TxaNx4r53/SXZvv6uz2WpE990hntGupXSn2eV7vl07Z7XrPekdrxU75z9cR8jyrS6/yd1debvdrvValAO3oS7J+66yP+6x8RnyqNB7dPivXT7Pwal9IZ5FcdLXnrO6162LNih+kWs/y+ZL7/PrTKf9ils+ful6PMBGr/Cl29VwcY4wj1q1IS3nDOeYxjpdp9VlijMf5Ou937HBemK/zHyHvM7TrKOqe+jvFrvol1fsIc+EZ+ryKf4R6P8Mcr2I/01iHep/FPBujnqfVHP0uO/RpkdZfm409p7lvVPnzO/71fXrpX8a2zwOd7O/7TO+dmnv1ruZKmKKx7Hrb6J3fkk6v9L6b3PcdK1k7y1a27L63Sv8pAAAAAAAAm3ApAAAAAAAAm3ApAAAAAAAAm3ApAAAAAAAAm3ApAAAAAAAAm3ApAAAAAAAAm3ApAAAAAAAAm/ia4yx/MMvUTt4s1a3MGwt/HTtlze3qxL7e5pR/Zdlz9uZCq+zmPOyVnSycZ6HPW7FbenO4dmPNQ7PORt1S3tSjsewieWXZMXajT7t9EtNbfZba/br2eR7VLe+MZ+rTTs16rQryAz8Unvq0KDoG7+wL/Hud8YobWl1yY8/pzZbuc7Wzc3R3nYb0AGo8V1Peo3FujTMhNOtRTLQ0h1N6Ok9XdTvDmTbXrWjXeZR5qz4ZY4xHbNfr/I9Rl32msovYqU+OEPsoYj/THA7jVcVO8XO967I7sZ/xPBDGa74e70fI+wzztCq7Kve77DSHq3NpyBvKbp0d034WYs9yvHv7Wb1P162eYZ7lbwDpB6/lJ9/K03znmd49FV8vu/NsS+V2vlnm1FrvhNX7frD6O/JV982yfu5O7f2nAAAAAAAAbMKlAAAAAAAAbMKlAAAAAAAAbMKlAAAAAAAAbMKlAAAAAAAAbMKlAAAAAAAAbMKlAAAAAAAAbOJrjrP8wWwET7Fj/qLwduwif27z9T7r93ej7Nkru9Nnud3Xx7Pbp1W/dNvVydtZez+J34tdWVdutrBmYUDOVtm9enfKPs+UtxE75a02+THG0Yl9Z7tiuxfGPuvZUuU/40zr9Fkncmp3c8+Jm+313TiNR11q9ynw2p279J267a5HJM/iMrVIzlP0+tpMZ4W8dlPZdek912N396TqSB2G4wdnyyotzcI0z16np78UC4/VnL/4RX52hfRiQI7QZ4+zOm2M8Yxlv47/CGUfod3PIv8xQ73DgFX9coRJ/Az1Tn1exU/1TnOhF7vu09wv1VyoY6czcZX/Edr1SHOl6NPY382yq/iP+Hyq0x/FPE3PgEfcx1//oP1tIqU3zgvp+VTpPjd7Jaw8LyTXy87P5F7Z9Xj2zndluY28P4nQqfm6t6ds5ftVbtf1lvtPAQAAAAAA2IRLAQAAAAAA2IRLAQAAAAAA2IRLAQAAAAAA2IRLAQAAAAAA2IRLAQAAAAAA2MTXDD+Y47wcfIbgrdghb2rXKPJ3+6TKH/M2+6xK77frptgL++Q7fU3eb40+m/eVnXTW7js7Gz2TeqSMHTKnenXKPsMCOxplx3qf18uOsWO7amWfhXqnutXtqkez2+5yvOI8vC6trLWxe+untd+lB1jhTAPSMJtPgd/5BMiqducevb4KYn+HH1TTsPPc+1HhrfjXY6+sVZKWbj7/vf5F91xap4fU0LD0/HoU59r87KvTj6JujxQ7PjfrE8OjLLuO/Zh17Gp9PtIZKrxHPIvYx8LYKf4Rz2+h7FbsOv0Z1kAVP/fJ9T6t1tYYdZ+MUa+vNEfj+opny2JfiO/C1/eNXO/r+1lvH85ntNY3mcbzqXGk/QeuP/Xz6ey+N6CYu8we5lEcz8a5NOhNpd573cpvZCutnIX+UwAAAAAAADbhUgAAAAAAADbhUgAAAAAAADbhUgAAAAAAADbhUgAAAAAAADbhUgAAAAAAADbhUgAAAAAAADbxNcdZ/mDOKjXkDYXHssvUdWW36z0Xxm60uxu7ukGq2twtuzdPxnh0yg7Be+3qxU46ZbfWVw5+n0aXnq0dKcQOE61bdpU/xT7O62XH2I12H6lPQr1j/qrs5njNom79sa5/UbU7z8M6dtXnvd2s3la6sTulp7LTPl6Nd3r+JGdZdK759dR/MSbvpz/HOwOe1ub1yGkepj2r1zPr+qQ7i8u1GyJHRdGxVfHcen03zefWWvWMSGf1M7xnVPnzsyuNda2qW+e5+Z3/eJn2CIP9OF/n/Y5djEc6D4Q+S2esZxE/nTuPdM4pYj+bZ8MjzMMqfu6T6336DGOdzq3Pap6FPnsUecfIc6kq+wjzrLNvpLUZz29F3eI3lfZ3kyotjdf1Z3I6S8RnRGx357R/33mhrnWnzT85QV3/3pPPhp13lN5ztdL/1NR5X+2dk+6S2uU/BQAAAAAAYBMuBQAAAAAAYBMuBQAAAAAAYBMuBQAAAAAAYBMuBQAAAAAAYBMuBQAAAAAAYBMuBQAAAAAAYBNfc57lD+bFtG/XY3+nv85fpbVjN/okxm7W+xHzd9pVp1c3SLldKfa6et/Zrno8yqx/oezreZO89iu9NdAqOQZ//YNej41xNmJXeX+UXjQ8lX2EiVqVfTTqlfLH2KHeR7gTP4q6PULZqW6Pom4r+2yMen0dYTbEeVYkxzkeftBdf5W0LazdLa9HT+NRLoHY391WX9/JV471O+u0u9PfqeS0NpNZTMQUOp1VVp4mct2u545rt3yPCO1qVPyIWa/XO6Wnaj/SnlVULdU77XfxnFQskkd4h0nvddV543HWI1adNcYY4yxG/BHPGnXZz3QGK+I/0xkr9GkVO5/P0tmwbncVP/dJ3a6qX9KZN82Vak96zDDPQp8+F5Yd127RpylvWrvl+ilz5udq6tPq28jKd/z2O3prH691vkvmZ/L12P1eS8/VzreL66eofDZsvKN8l3Ah5Wd6I9I7/V2PvJb/FAAAAAAAgE24FAAAAAAAgE24FAAAAAAAgE24FAAAAAAAgE24FAAAAAAAgE24FAAAAAAAgE24FAAAAAAAgE18zfCDOc4i7Xrebv527NmJfb3sRzd2Ue8Uv9uuTuxHGJAqf7fPYv7GXOjUrb9+Uruu5006+VO779TplbPRsvOs86bYR4pfTIYcO9StqHvKe1STdNR1O8Kd9hH69AijXdUttesRy35d99nss5i/qFvMW6bW6+cM/V3N0THGOIvsaQ7HsuParfJ38tb5c85Gu9IzORSe98rrfdbt0R11+iSt+27p1dqNwr5QZo3rI0f4RHHfKH6Q351CespfpvX28VlMtHRWD4/scYbzRjXXzrAA8rOxiB3PZ/VTu8r/iO+b6axR539W57sw0Z4hdnVGWxk7xU/n0mfnXBpjp3q/LvsZYj/C6TCd76r86Tyd52kRO73jh7lQ7QrVuv1J2WlfeDT28TweC7+/pfNf58AQ9/HLWUPuei/txu6dRdJ4peduJ3YtD3XRp7FLuue/13onw05/51906uY/BQAAAAAAYBMuBQAAAAAAYBMuBQAAAAAAYBMuBQAAAAAAYBMuBQAAAAAAYBMuBQAAAAAAYBNfj3GGn7xOnyHnDLE7+eesY6d2VWXnel8vu1/vRtmNvGPUdV9Z7069fpS/U3ZqV1G3/vq5nt4tu86bfrAu9vXI/xPgdQnd2GdR+6LYmLebfqS8oXLHvB47phdlH2FEqnr1y67v01PZ5do869iPZp/OxnjNNBeqOR7naO2IG0sjeFQVXgdP7e7stZ3YKW9MDtVOvdIqnL+qvTziPLzuPBu1C/twzN6axd3TyvWzyMqtMq37eLYsxqT/zlj1WTirh3kW8xcdk/Km9KOoW3pHeYQ18BjH67TQJ+ks8pivY49RP4Me8dxZ1+1ZnXkXxk7x87k0lN2KXac/i/FOsXOfXO/Tam2NMcbjrOdZFfuMc/T6+e4M9TpDu/Lzp/G9J+53Rd54dOydeevvc6HszvNp6bGz+9TunNLWxU5jnSNfnwv5aJjehavU3htMWW4j708idGruPwUAAAAAAGATLgUAAAAAAGATLgUAAAAAAGATLgUAAAAAAGATLgUAAAAAAGATLgUAAAAAAGATLgUAAAAAAGATX3Oc5Q+q9BmCx9gzlX099qPVrmbsol2dev0kf5We+rsTu9MnOfZRx+72WVG3lfMs563l9bNw7Zapdd4k1W2ls1H42ah5ypvS6xUyxlk07Ehlz1R2Fbu+dz5Chx9F2UeYZ6lduezXdf+Tyj5Du6s+C+s69ekM7ZpF2VXaGHWffJdd5C1z5vSq5LTjHGlp9rashboVr/LXeeN+lpKL8N3uvt4q7tAZk7QnleWezdkQnn2h9BT8tthV7u75K9as+EE+86Zn2/Uzb6r3I/VpMdfSefpsnOXPFDusgWqfP2b9VE7vMM9wFjmLp/4jjPXjrOtWtSvFTn2WzpbP6tyazp3pbFnEfsTY6Xz3uuw0lrlPrvfpM4x1HM9qnoV2pe8P1feDtGekOZzWV7VvxLyNbxtpfVR9MsZPvj9UadefATF2eAjk51P4QWHlaeHes0gqufM1qTfP6mkc5lnssuqZ3dObC2m/AwAAAAAAtuBSAAAAAAAANuFSAAAAAAAANuFSAAAAAAAANuFSAAAAAAAANuFSAAAAAAAANuFSAAAAAAAANvE1x1n+YJZpdd7HTLGvp1f1GmOMRyN2t95V2bleRx071K1TdqxbUfYj1bvTZ402f6fXdSvnQqNPUv7OPPrOX6vXT2rX9dhJqvdoxO57Xbturc4qdghe5f1J+lEMaMyb0s/X6UdYe8es76Wrso8zxA533n/CJD+qfaFo83fsekCruv0JseO6D+2aRYR51n2Wnk/VPIs1D+2u5mmao4+0flLViuFMZeedo8rfyTvGWeZP86QuO+0brWY12/2pes+YTp/cV3KysmZx5aYHcxm82yvX1+7K2HeuzDQc5dMnbledvbT+C7s8z9Lz63XZZzhrpHrX55wya7vs6rn8COe7R+P89gz9nc6tz1R2Ef8ZzqXHDGesMnZ6DwhlF32ezjm5T+q5UNW9PleO8Qyxq7o/Q3+ns2M1T5/pDBXadYZ5WD2f0tpL3y6q/OnbRHpudr6rdL5ZfqcX7z/d2EX2/N4WfhCsPC3cdxap5Wf29bLzMzvFLuZZ7LK0Nq/L384BAAAAAIAtuBQAAAAAAIBNuBQAAAAAAIBNuBQAAAAAAIBNuBQAAAAAAIBNuBQAAAAAAIBNfD3GWf5gztfpMwSfIXYsu0jv1Dvl79a7Sn+Ees1x3Fb2o1F2rFej7E6bf5Q+X5e9ci505ugYvfWX2tVd26vyxooljaLPZuFV0eesY6eyU3q1ss8z5a3vjo+i7kesV73nHOfrsqtyxxjjT1qbod1V/mPWfTLPuuyj3BdCf4fYf8J4zWJMQpeOGfqs+juDuKeEHxyttRtipwBF3dJfVuT1Ve3TqddSy6r8dd60p6R9vMqfxjpM8VHVPfVZYxq15bK7D7ir1j3b+npnleuRc/RydTXm8Hfw6y07Y5+9jp13lM6eU8fP586GsA/HPkt7VlG7zrvud+wibxiO9MjuzIWzcc4Zo34vfITRfpzX31fTeTuVnc5gzyL/UbxvjjHGM54Xqth13mccr+uxj1DvtAaq+LlPQp8WsdP5LH8/qNZPegdJczjUrZhLsd5hLlR1P8Mcbp9aix+kPknfVervivdJ54X8/tR5sq7UOy/0YqeSrz/7OufSfDZMczzlL9ZuyOk/BQAAAAAAYBMuBQAAAAAAYBMuBQAAAAAAYBMuBQAAAAAAYBMuBQAAAAAAYBMuBQAAAAAAYBMuBQAAAAAAYBNfc57lDx7jdfoMwWeRN8VO+R+h3p2yH+O4nHeMum4x79Ky3zh2OdbrYn+nv47f6ZMxwhxuzP+fpD+KBdqNXedNUtkLNYLnHqmDV/nPmDekh8odRf5z1rGPsLaP4m75OFPskF6srz8h7yN0yp/Q7mp9/gmx56zv24/quRrrXcdOU/xPMSZxeYQ+qyZ5Guv4NwpV9jj/WyXH/KXQ7EcxHtU8+Unweh/v7bS5Zq9/kfazOM2uP55utvTp9ktdf65mvbNIr+zre2mud+izhdOwsy90x7rKnd9Xg9hpr2t3hKxpvKo+S2f1M2yW1TnnDGeNs/keUdUtxU7n1ir/eaZ3ynA2DO+k1Vnnmc7E4Z3yWcTO5+0Qu+jTHLueK8/UZ9U5KIz1M5R9FOOdzqWp3tX57UzfReI7SJ2/mktnqHdcX+X6KbOO9F0xlV3uSSlvqluRlvaUzjeb9vMnKaqWHl35e1Dj5avdsnXvMJ0TXDxjNVLjSSNWu3jHT++jKTQAAAAAAPA7uBQAAAAAAIBNuBQAAAAAAIBNuBQAAAAAAIBNuBQAAAAAAIBNuBQAAAAAAIBNuBQAAAAAAIBNfD3GWf5gFumdvGOM8Zjryu6kp3o9xnE9duyT67G/01/nfy4su9uuqm6d/v4u+/pcmN2yq9iNeo0xxixT6/WT1mYndsqcyv5UZ2j4WTY75A3pR+jzKv8R6x3KLtbIMet751T2UXTaI/ZJWF9nXbc/nbVbD/b4U9zHz7R+Yuywtosx+ROXZl25qu4z9PcIe21Zdphnacvp7Eip1h0z7sR1zdO+UZedeiXtWddjd+qd+iT16e98OvG/WzcXuuec3gktBW/ULT2gGvKOc31P6u1mvfRwXMixq0dfyhvneHHGCvOkyjtGPidV+VPs6mw4RnrHr/skvnOGM3GV/0xlh3ZVZ+ZniH3EPr0ndoqf8qayy9jxHSTV+3XZKfbzTN8X0jtO8b2nMUfHqL+bpHo9QrvS2j6LsvPZsfFNJu53tUe5T4d3p/Y3mde/SO2KisK7z9W/EeF1zuvvGfnN63qfdt9BOmfLNBX8pwAAAAAAAGzCpQAAAAAAAGzCpQAAAAAAAGzCpQAAAAAAAGzCpQAAAAAAAGzCpQAAAAAAAGzi6zHO8gezSI95Z52e8lfpOe9Rpxd1Wxs75A1lPxeW/Uztnq/z53pf79OqTSnvd3pjnjXn8KzaFfPW0vqq1m6V9qOyy9hdK2NfLTmXXuets58xdq/s43ydP8U+5vW6HaFmf4p6fZdd7Wd13j9n9/n0Ov4jxP7TWZux3vVdflojf6rwKXMYrzI1Lt7wg7Nqd/0MGKHPjrCAOn89EWpWNvsR6nXkAUulFzl7sWeR/3qt/j+xq720G3xDu3bZyvNEXj85wiv9Vf86QozdXWDhPNFRP9pSvXtnrCp3tRd+p4e9tEieoT87Z/00h1PsdE46i/xn4wwVY8d6pXNpepcunn2h7Px9oThvh/NZeg+vzvopdnqfTe8RVfx01q/eE1Lsaqy+Y6d6vy67Gzt+N6ne6xrvN9+xG9+S4jtjnb9aI3Hdh3ZX+0Lcz1LZVZ/F/azWSW/Hrp4/IW98rWtl7+3j65746bnafgNq5ExzHAAAAAAA2IJLAQAAAAAA2IRLAQAAAAAA2IRLAQAAAAAA2IRLAQAAAAAA2IRLAQAAAAAA2IRLAQAAAAAA2MTXY5zlD2aR/ph13sc4Qvp9ZT+r2KFej3m9Xc/UJ0vbFfI22pVjX29XHI+F49Utexbt7sz/bvosc/4kdpEWxroj1burU/OY93xd+5T3DC2P6fN1er06xjjD3fFRtOuIa7Oud5X/T1Hud+ze2v1zvm53muNx/ZzF2kyxi7w/KruIH2PPei78aS398DcKxT4+i7H6FmZ5aNdRtCvtSa2aheB5q+3smCl42pOq/HXeNIfTfldL6ye1q6PXpytL3tGdfZJH+vp5IUd+HSHHbs7RsoBQejgvdOSVeX3tdld9tSfl80CIXfRp5z1gjNzuR9VnzXPOWTwc62fTD86t4ex5FmeV/E4ZzrVnETusjzN9fyjP8nXs9I5fvSek+M94PqvbVcU+Qp89w9nyKPo0x77+/jPGGM/qvS70yTPNs2IOp7xnKDvO8cb6SftGtfbTu1faN6q6pXp1viWN0f3ec/08HmOnR3rIv/ajz/V3lJWx83O1cwIMa68RGQAAAAAA+CAuBQAAAAAAYBMuBQAAAAAAYBMuBQAAAAAAYBMuBQAAAAAAYBMuBQAAAAAAYBMuBQAAAAAAYBNfj3GUP5jzfJn2GK/T/kr6fF23buxn0e5H0ebv2HWfPYuyqzalen2XHdpV9tn1eqf8qc867Up91p+HnblQp8+qXY283+m1au22Y4f8ndi16+X+zPXaxZoVoc9Qbk6vnefr/EeMXUc/5vXYx1nfSx9F2XOGvGdzfVXrJ9Q7r80iLQxmlXeM0Vsi3didxR3rXfR5eEacYbxGeD6Naq6FeofIrS5bOhdunAytKRyKDdsCS/Se+u/r+mRaOQ3zyl03Hum52jp5xk4rfhA3y56qavm8fP18l8/qIb3qspQ39GmeC9U7Su2R+qzY6NOZtjr7/SR/9YypzrRj/OSd83W7H2d92kjn8Wf5vSed5dO3iZC/iB9jp7pV7yjFu9F3vdJ4dWJfH48UP/dJ6NPynTF8Swpjnb5FPYqyV34PeoR5doZ6V8PdPk2HH1TrM+1nne9B3b8s77S7856d5Cd255nePf2l525VclofAAAAAADAFlwKAAAAAADAJlwKAAAAAADAJlwKAAAAAADAJlwKAAAAAADAJlwKAAAAAADAJlwKAAAAAADAJr4e8yx/8Biv06u07/SjTm+V3Yv9LPKn2M/U7vk6f8ybyi5if+d/Hb9qczd2rvf1dt87z+q8M9btdfps1OsnZc9G3qTKX5X7s+DX65bKjpHLH/RaVoU+Q+xU75h/vk5/hLxHSH+cr9NT3iOMdZV/niHvrO+84/op4qe1uzR2aHeaplX4OMPbC2xV7PT3DfUzIudvdFqjT+LaS/mr7GkeBWnPSbkrs9GpqV45cuqX6+1euXzu1X7qv/TefVI8n5aWW/fKyj7Lc7izPrrtKsruHf7GKM5QXXnHqX6Rzo5pP7x+lk9H9Zi/6NM8F9L7U5W3ltpVHHnHGGMcRenpve4Mz+Wq3dU5P+X9Lrt6Dw9nkfD94AydVsXvvCeMMcazekcJ7wlH+rZRxk7vVqHsYjzGGONRxM99kt6fXud/pve6EDvlL7+hhXkU53gRO+ZNe20xXum9Lu9n1/M/Fu7T+Sx//TtVW9rHi7Q0Xvm5ezXnT6x70fafAgAAAAAAsAmXAgAAAAAAsAmXAgAAAAAAsAmXAgAAAAAAsAmXAgAAAAAAsAmXAgAAAAAAsImvxzjLHzzG8TptprzXY48xxrPI/5jX86aynyF2atez7LNevavYKX7M22pXs96Nsc7z7Hr6bM7xWbWrkfdn6UVaaFdSlV2V+zPX65bKjpHLAL2WVWWf3dhnnf8o4qc+eYS6HfN1+gx5H2d9L/2nyF8U+12vM62Puuwqflo+cW02YncneWvtd+rW23J6Zj3WZ5gro3x+hdhhvKrhSM+I+smYtrO6YqlL0hxPucuyGxMt1etMG0ds9+WsH2zds++3WtvmejxWjla3XfX66Z4e1+1JOXTxg7TnNOSdsvPQ7u3TqdXVsy/mjcP1+gfdd690Xqjin+H8lfr0qN4pG/UaY4xH0anpe80jvoOEbx9V2Wedt3q/GaN+R3mGPuvEzn0Syg6T/FnEz/UO32wasdM3tLTPV/0W692Yp3GOx+9B1+dwWvdp3yj3nOY3slmskfj9IL3/xLPM9W9NrfTQsPheVwZYdx7I0lwAAAAAAAC24FIAAAAAAAA24VIAAAAAAAA24VIAAAAAAAA24VIAAAAAAAA24VIAAAAAAAA24VIAAAAAAAA28fUcR/mDxzxfp6W843Xen+R/NsrutCvlvTd2yn+97E7sOBeKPkn5q3LHGGOmedYoO83hWHYj7wz1jvkbeZNO/qpe761uc6dHz9ArMfas8z+K+PXKHeM8O7HrvEea4+frFXSEXvkz6zvvuH7O1+l5bYayi+wp9ijq9Z2/zt6aqJ3Y3XpV+Xvb2Q/qVo1nvYLO9LcXRdlHGus6cmuvzXk70TuD3YsMv133dLcy97lwhc6i9H6pjT0rFt6I3TxQ14/s9PzpFd45LsxwLq3qHrKWZ9oUe4x6jlfnypR3jPp8mPLG9KJu6Syfvh+kPq3KfsT3m9Su6h2lzvsMZR9F7Gc4+x2hz6rYY9Rj8gzvP8cZyi5jX++T79jX+/wR6p3epat5muboM5Zd7TnpHT/EDvtG1afpG1jcc8pvf9f3lDFy3ervWLVOen7+hB9cLXj8ZDzWvYj7TwEAAAAAANiESwEAAAAAANiESwEAAAAAANiESwEAAAAAANiESwEAAAAAANiESwEAAAAAANiESwEAAAAAANjE12Me5Q8e43yZ9hwh73yd9zt2nf9ZlB3zhnZVsXO7UuzX6d0+S/mr9G7sqs+fzbGu5lmVNkZ/ns1G2VXeMcaYs6pXM3aZmvL3Yl8v90cBriT9FWXNm806y9rXweu8Y5yN/DPFDuvrqGKfdexUdrV+Yt6zrvefcCdelh3mQlyb16dCDJ7q1piGWRE7DEfutCL/WXboGGcoPK6f6pl/1vMoxa6leteqmtVPxTBHf1J4mbW7k1eFpz0nLd7rcynupXXJ4Rern37XdbeNT7Wy3e872rXcJ9VZpFv29RHJ212ndt2HXxW6e2BoFN0r+bYeTefSNI/Ss/FRzvHeWeRRjHc+x6Sz/PV34TP1afhuUtX9EWKnd/yjGLD03eMIZT+LsT7SN5cQu3q3+o5flB32hWqO5tipT+oz8RHmQhW/6u/v2Nf7PM3xqk/GCN/fmuPR+Vbbff+pvrHFvHHfuJ5/hrHufEOL3xc6sZvfD9IPOm8R/lMAAAAAAAA24VIAAAAAAAA24VIAAAAAAAA24VIAAAAAAAA24VIAAAAAAAA24VIAAAAAAAA28fUcZ/mDxzhep80677PIm2KPMcaziJ9ix7Ln6/QcO7S7iB3b3OiTFD/3yfXxfDTmUSo7x+6VPYv8qU9mmVrHrtJ+lt4oO2VuxM55P9PZrvjrPjtDr5ypv0Plqvy57Dq9mgtnmGjzrO+lZ7F2Z6pXLLtMHn86mc+0Por0tOek0GmeVvk7eXNyTzGe51nv8d12lX8/EQbkDHOhHI70vA/1rnolrp86dPxB1ezO8+NHhReWztGmqlXvXO931e+z+04ra8f7Pc9vK8crPwJW9ni3164/tONxoXw+hXo3m9U5itw5D2d8Gbj+7pUjV3O8dxapz/LpHFOnH6HPOt+aHqHXHsX5ML3fpLKPIv8znEuPMBmeoW5Vnx7xO1UjdsqbvsmEuVDFr/p7jDGeYY5XseM3svie/To9z+Hw7S+VXXx3TGszr93q+1xd77RVtl5Xw0ad9oXq/ar//e36Ph1jh3aX+UNw/ykAAAAAAACbcCkAAAAAAACbcCkAAAAAAACbcCkAAAAAAACbcCkAAAAAAACbcCkAAAAAAACbcCkAAAAAAACb+HqMo/zBc75Of4yzztuI/R3/dfozlR1iV3VL9X7E2K/rtrJPUtm53qnsKnY9HqneZeww1il9xrq9Tp/dssvYtVTvEcu+ltaNnaQ+fVe51td75YzR69hnmCtnkf88r+cdY4xZpNerfowZ9qQq9jyv1+u77DK5zpvKDrGr4YrVSj9oTKUwFXplh06JZVdzONQrxe7kj7t0jF39bUaI3qh3frbV4tpupCZpx6qlmqU+v76XdtvN/613mth1PDpnla7rETqjtfL8lnLn810nesrZOBum2N2zY6PLOzttfPf6j3X5P1XPxnxuvf4+2z0aPlrvCb338PodpT5tpLLP6pmdzkGh7KrPjjDBn6FPjzCizyL+Edp1hHn4qGKXZ9Yxjvidqy67qtsRTqZH+s5Vxk79fX28nmkepfej9A2taFf8/tb4Rpb2+LR2U9nV+kzf3/Lafp2Wv89d38dX/zV++RoeHgL+UwAAAAAAADbhUgAAAAAAADbhUgAAAAAAADbhUgAAAAAAADbhUgAAAAAAADbhUgAAAAAAADbhUgAAAAAAADbx9ZxH+YPneJ3+GGedtxE7pafYsW6N2O9a7zHGeBTxnyH2I8Z+nT/VO8Yu8lfl/qTsGev2Oj3ljemzkbdMzflX5f3OX1kZe62q5ivrlXus/sUZR+R1/rOapLHkMc6zWj917COkV/lnqPc86zvvGfakMm8oO3Zalb23fPJE7UzyM8yVIvkMeTtlxzka0uOOVjyDqvn/XXYnvZ6jZ/i7jkc1T0O90+qIz6fGHO8sn+5O3V1+lc7S7PbKnvTJ+7k+Jr212Ttvr4ye94VOyzstW7znFOFjyY2iu63qpLdjF5WPZ+LGWaT37KrrPUY4O4ZzzpHe8YuzTvx2Efq0+rbxCGfeI31LCmUfRfz0vecIsZ9F7NTfKXZV7zHGeBaz7QgTKcWu3jnTWB/hzFzXO/V3Oo+H/MW3v0fIW62P7/zVN83eqTX1abU+q/eylHeMer+L3xVDvcsej6/CvX2881T2nwIAAAAAALAJlwIAAAAAALAJlwIAAAAAALAJlwIAAAAAALAJlwIAAAAAALAJlwIAAAAAALAJlwIAAAAAALCJr+c4yh9U6c95lnkfjdjf8Yuyl8au21XlHaNud6de37FD3Yr4Ke+jUXaMHdr9KOZSij1j2dfzz1lmjWWXsevQMXbSKXtVue+u1y91u88ieio39Wgnf4p9pnYViyTOhPCD1kwK+1nstaLwmfJ2BqQ7GZIi/pnG48Z2lfOsXe/6B50uj+urKvqs/24jrs3W8yel178oU9Pyac3x3gKp9ukxwvMtHBjONFFvekZ87hN7jLWnmXU+u8+vu2+0unt8Outfl8vu7AvXZ1ra47t9lkrvhC6PIs1J2NlrVz53Z3i+xNhFx6T3ujTP0nt49WxMsWc4MFT5U+wj9Omj6NX8TaV3XngU43Wkb0XhzHsUdUvf/o5G7DHGOObrc+/jrPs0xy7aFc7bR/iOVcdOfZK+O4b8Rfz0TTPN02fRp2cYjzTHU9nl2g3ro7NvxLyN/S6v6+Y+Xp4XUr0BAAAAAIAtuBQAAAAAAIBNuBQAAAAAAIBNuBQAAAAAAIBNuBQAAAAAAIBNuBQAAAAAAIBNfD3HUf7gOV+nP8dZ523ETvlT3kcquxG70+5Ho81jjPFIZRfxU97UZ1X+x0yxr6fPkDelp7pV+XPZtTp2sq7sZObKFa6XO8ZP+uUeuVV1zavxOEPw1CepblX+lLeTHusV1uZxVjVP/Z3S6zvxWe3VZ7pPr/fS1oA0J0OZnBZ+HtDXWVO9QtlV/nKajDHO8IMzPZfLsuvYz9TwqlPD+jhD7LOah7Oew3lP6j2fVuU9m0+Q1K5u/Lrsqtw9vXO737lu7+quPuuv2vAMacW+vpd2z6U93cPKTWV3zkij937U7bHrJ+IfnImLh36Mnc5vjW8AKW9V75T/aH67qGLHc2d4TzhT3Yr46XvOkc6txYgfob+rvD8pu4rfj120K35f68QO/d16F677pTOPxhjjKL+X1nnjd8VQdvXNtPNd8bvs63tO+pZb5U5fD9K+kdpVfVdJ+7j/FAAAAAAAgE24FAAAAAAAgE24FAAAAAAAgE24FAAAAAAAgE24FAAAAAAAgE24FAAAAAAAgE24FAAAAAAAgE18PedR/uA5Xqd38n6nn3V6ET/HDumN2I8Y+3W7VsZO+R+hv2N60Wcp72yUHfOGPpllah0/ld2JncSyU+Flu9bJsa/3yZ1maNnZGevQaSly6vOz0eUxdplWF3yE6I8iOdXriG2u99ryzjw8+8aZ7tuL/J0O/0H+ei6kOR5iF/nPWK9QdpGc84b00LAq//Os50Kn3Wn95PTreR9xU7q+qaR13ym6//zpPB1D7OY8LEPHubCuXfnZCPe6cw7mlbdy/Vx/h8nlhn085O6cmZfu0/EQdT05v7dd132yVelpj5/h4RXnQnnWD+8JjXPSI9Q7nrGK7w9H/O4R2hXOltW3j27s6rxQfQsaI5/vnuFQfJR92o39+t3sCO+ER4hdnZlTvY8wD59h46jiH2GsU+xqLp2h3nEepu/InfejELvKH2PHo/712Hk/C2UXP4jjEWIDAAAAAAC/hEsBAAAAAADYhEsBAAAAAADYhEsBAAAAAADYhEsBAAAAAADYhEsBAAAAAADYhEsBAAAAAADYxNfXOMofPOfr9GfKG9IfReyUP5Y9z4WxQ7vG67K7fVLFTvEfoU9S7Fmkp7wxdlG3qtwfxY7p1/MmVf5ZFTzGGI16J9121bF/q954dGdSK3qRPUZeN1XirXRVdL1TjvFoD0hVQggey65aHlrWbNdZ5S8TY/I4ix+k7j5Dw6r8Oe/12Cl/yvtMZRfP/LT28ni8nmdnqHlKT9Ow81ztxE7SXPhJhNfeOfb1yAsfAW/tfdv9e09Z91k32t3IvdHuPPtWn3lfR8ixO726cp8O8dMzPUVunOWTztOnnV4cZtJ5IZ2DHuX5rff94CwOabneafWFtXsWZ8dYdtoXiu89ocPTN5kjlP0s+vQIfXJv7NfpR3jbPcK3vyP0efWeccxQdjGPcuzrecfIc6laI4/0PTXO08730tSuztrs7UnV+ktl+08BAAAAAADYhEsBAAAAAADYhEsBAAAAAADYhEsBAAAAAADYhEsBAAAAAADYhEsBAAAAAADYxNdzHuUPnuN1epU2xhid2LHsZuzHPJfUqxv7EdNfx05lx7yNsmejXin/LHPmsnN6I2+oXMq/Ku93/o7rfcYVdY+muZBmShU9zrI4x4vYIXgqu9qR0o12t1295VfvpXWnpZY1Yo8xzrP4QXiupvFsTbSwmVZlnzFvSG/0WS47nSeKvGEwz7QvFM/dMwxmjl0mj1n8oPNMHiNMlTDP+s+uToRUuSJ2cy/l01yfZ+bCFekM1tEbkZXj2Wl1t17VcyDHvl7z9GzLFj4D4gGuEblxlk9yq66/48TzQDrfFbEfzT6pzmjpm0s8g4XvJkdZdvieE8qu6v4IEymXncbrdf5U9hFiH4125djFeKSxbMQeY4yjqHsa607sZ6O/xxjjGfu8+gYd5mF4n30U+Z/hvS2/HxXvjGF9pH0hfg9qfQcGAAAAAAC24FIAAAAAAAA24VIAAAAAAAA24VIAAAAAAAA24VIAAAAAAAA24VIAAAAAAAA24VIAAAAAAAA28fUcR/mDKv05r+ft5u/HPl+mPZqxH0XsVO8q7xhjPBplp9gzlv06PeZtlD3LnLnsmF4WkGLXUtmd2N26ddSxr7f5s3V6fHWfVXVLZad2FfnrxTXGmfaNS6WOMUbYaX9wI97psqjqs1Dzs675GSqXnkFl7DgVXv/gDO06Q/AqOecN6WE8q/ydeqf86Xkf611M4jRPzjBPzriCXsfPO07daZ2dtvtcTL22rvRe7OosUs2Tn1nX7sbT581d75PPbfPn6vV5b331cvd2rI68du86M6/e7+4qOx02GqWG0CvfN9M8yd8AitihYfHbRfFdpP1mFQKU7Zq994Qq/YjvbaFP07m2yP84wzewdNYvzrWPMBeO0K6j6PNnqHeOHdKL98L0zpdjv05P9a6+G6bYY4zxLOIfIfYzru3X/ZLeGdN34kexRrrrI+1JZ1F2Wvf+UwAAAAAAADbhUgAAAAAAADbhUgAAAAAAADbhUgAAAAAAADbhUgAAAAAAADbhUgAAAAAAADbhUgAAAAAAADbx9TWO8gfP+Tr92cj7o/xF+qMd+1wW+1HFTnnn67wpdi67zjsbZc8Uu5E+y5y53rns63mTuu7X67W67HXl/l7n0vHs9ur18U4lt2bSwuDpxvuIe2lRuRmix3pXz4E69hmeT7HsollnyPsMoc/5OvgzxK7yjlHX7Yh5Q3qYh1X+M+60Kf31eMa84dl3nq9jH6HN86znYTpPVHV7pLnQ2Utju1LZIX8jNanaPduxr+tu01X+dSeRz6Zf+B8r30JWvies3HN6Ne+d1dNzuaf3BOrErtqVnpux5PRcvpj2M9X5rbm6ioZ1v02kulVnsDMc5lPsozq/Neudz+PFt78wGx6h3UeR/xm/gaX3jOq8Xed9hthH6LNqvKo2jzHGI8Z+nX6E99Vn0Scp9nf86p0yzeHrfX6E2Gm8qm+56Tvws7E+xqjXX95TAAAAAACALbgUAAAA4P/dvr0t1K4jWQKVbP7/j9vqByq7qyrTMTkrtvcCNMariNDVsowAAIBNuBQAAAAAAIBNuBQAAAAAAIBNuBQAAAAAAIBNuBQAAAAAAIBNfJzz/5Q/cI7rvmzel33Grpdzp/xHio2579uWch+pX2W769hUPhttO4o+f+Z+vW2zjMy5q/IZkufcyev9qmK/Fl/F1rlz/Lt833b3WlabD7Z8tddZp21p1KrcndgxRtizSiH0CHVf1V6akqfhLsPrPT7f5ddtW+U7PaWuf6DKnawwaFWvcmy3/L5fV3hBHWHMjqI4xpaldb/S+WyFZ2+t188LoVvjCLkrV5jLeJ54bsuJP1G9Q9KYjThmD+7Tb1W1/Tu3G97vuS+Y3vfTO8/q/X28k/tdZ/Ve7nSGmo33U3r35d8/vB6bTrRl7uZnwgyHleq7MH2jxG/KYr5SbDo7Vt9WY9Tn3vj7uVB39d23Vvr9WvhmLObrDOs/nVvPsBauIn8/9315msv0fXSGh7tq+xXmupM7/X477XdHsZaO+FyHdRi/C6u60/MBAAAAAABswaUAAAAAAABswqUAAAAAAABswqUAAAAAAABswqUAAAAAAABswqUAAAAAAABswqUAAAAAAABs4uMcV/kD57wvj7Ex93o5PuU+inZ/xt/XfcTcdbuPTu4i9it1z7Lu12NT+Swjv5C76Fc7d4gfjX4lqW11bNdz/fqpnu3363OdImez5auxFlb4iXqN5+x17vv4qk9jjHH1qh5HUfeV9ulQdTkscRnVP7DCu2+t+9alMU25zyJ8hfk4ww9UxSvEXjPkbtR9xdjX685zmeq+j0+x6bwQ10p5Fqml3NW+0D0PdLaNvEu/vo+//nbp1tyvG/5lWUz/WPnsfuPDfJ7qah9/rvb+Xhreu63c6b1aR/f03m6P1Zw2jXTGqkLrzHGue78XCblDv8vPiDAmaZ1V57949ovtTt8ZVd3pPB3OzFW/wpjF398VZ+or/j40fMOE83r1O830/ZNz35/Yr/CNknJfYT7PWdQd5jrnLuYrtjv8/rrIfcQ1GtZhGPPqdxepbv8pAAAAAAAAm3ApAAAAAAAAm3ApAAAAAAAAm3ApAAAAAAAAm3ApAAAAAAAAm3ApAAAAAAAAm3ApAAAAAAAAm/j4mFf5A+e4L6/KxhjjiLnXy3V3cx9l7tdjP8vv46uyr9Q9Y7/uyzuxKX7OMjTWXYd3YnPdT8V+xnf0+v2kNN87Wo2lkoezTp6qnq3VkrO/HvucdOO9wpBcRdNT7voNEeJDu9ZK75/QuuodE3JHRdtXGPCV3ulF/NWI/aw7lBdDdsXY9HYr+hUWQzqLnEV8Gu8jPLp5zO4TpF0hnYOq3Pk8EMpDv0LTSjn09X6ll3I1Zt3TRIpeZc8dJn6UtC/8nVbc+J1rqXx+Hhzwd57z+926b/zT5+1K3itfH/T0vZrb/a7vhJ707VWOS3pvhrqr6PZZJJYXazwMSlyHxQ8c8Tc2vd9j1WfHOjadx8vf/YUxS/2uzq1xzFLdoV9XMS7p+yd9Z1xFv/q5Q3kxLmlMc+778jN8R6dvzjr36+M9Rh7z8nfQ8fkAAAAAAAC24FIAAAAAAAA24VIAAAAAAAA24VIAAAAAAAA24VIAAAAAAAA24VIAAAAAAAA24VIAAAAAAAA28XGOq/yBqvycdewRc6+6vMifch+t3HVsp3zOXu7ZqbuZe85GbCyvdGJzeZU/x74zd62ar6wec/5dHu/XJ2SF6eis8TTTMz6dnTXeyZ2y99ZwOZ8hdbptr95eqVf5Jj/1+772NevsKyzEar7SWSO1ehUTcobgKnaMMdZK6/C+/Ir9qnNfZb9Cu2K/qnNOHZvOZyv1u0i/VlhnjfNEPg/UP9E7q6S6X/+Jd76R05ikNV7nruX30+ux/AdpL21X8PTJ9zd6z5il931X2asHu5x7ld4Rr9fQHdF6v+sNWrXPd8csq2p4bjHkb6v0A43vulDe+d1G+xxUDEw6nx2h8s47P63xWZx5x6i/cVK/UvlVjNmZvnXT71PDt0D1O9HqG2OM3LaqX1f6jgh1X+FboPq+yrlf//a60u+QW7nDmIVNKc9n8d0X1xEAAAAAALAFlwIAAAAAALAJlwIAAAAAALAJlwIAAAAAALAJlwIAAAAAALAJlwIAAAAAALCJj3Nc5Q+c8748xR5z1blTfFF+jjr3UbT7M/d9fFX2pfKi7tnMPcvSOn+qe4b5quqOucvSHP9U7Gd8pdevjhmT9/rd8WS/f6o8G401Hgc8rOKi6jyXqd2d1fB67hWfzdSutBffq98uWdWyeFMfu5Vad19DGtMV3qvVOluh3Wf4gVWM+oq7eGh3ii8ewCu1O4xZFV/VO8YYK9Zd5A7rJNV9VJM96rUU11lch0XusKW0zyrlmKa6a1V495xTvkRC6u5Jo+p3mmunjb+rf6o0X7/Hs3NZrrW0mQb5zPy63LLXK8/viM63csrdaXd6p+cMr3vfO6TzbdVdo/V5IdTdKI/rKJxL4++5qvNd/G6rv6BWMWEp9xV+R1b1K7Y7jVn8neZ9/JHO+mFGq7qvEJu+j84wplX+nDu17X6tXOGb8Qq5q+/ZOGbpd+eh31X+NN7+UwAAAAAAADbhUgAAAAAAADbhUgAAAAAAADbhUgAAAAAAADbhUgAAAAAAADbhUgAAAAAAADbhUgAAAAAAADbxcc6r/IFz3Jen2GOsl3On+KNZd5k7tWvWuWeZ+/XYz/Ja1bZu7lHEd3PX5d12p7rr/K3cZeOeq3eM/rjwzzw53nmlhGekaNxKLQ+VV89Pyt3Zc/KukfaN12dshndAGrPqNr5++3xhLw0/MNfr774V/o6gGvM0HyudRYrwFTpddPlL8de6Lz9j3SF30e8YG1bDUZRXZZ/l6Yz1+vN3pTNUmLDyjBXno7cvVHX3zyKvl/ZOEyn69TH5zP6u00i3X73swKt6e0a9zfee3HTG6sgtu68871dP7ljdQem0rVN37x3R0vuMeNs67JyRUu4xxjiKc2/69srffa9/o6Rzafn902x39Q0yRn1ej2fi9PvSou70O838bZV+B30ffzW+28ao297NXX2bHbP+jk5jkr77qm/SK6xh/ykAAAAAAACbcCkAAAAAAACbcCkAAAAAAACbcCkAAAAAAACbcCkAAAAAAACbcCkAAAAAAACbcCkAAAAAAACb+DjHVf7AOe/Lj7Hq2JD7SOXzPn+qO+Yu4qt6v1L3LMqrsi/lnmVxq+6Qeowydy3VXccm3X4VsTH4yX6902/tV+31Xo/xZM+7mat+xWczPASrCE+503jPsuc5uq67s8bTRhxyl2NWa9/kV22LzU5rpcpdv5NXY77S+/4Ma/gKbavi1wq5Q7/OonyFfl3x2SxyxzEJ7S7Ohp9135cdzWezKk+x6flJ8VXL43khjGlvt2u8vVLDX9/O2uKQPhTLnZ98wrtnLfx533el9Fq2qpdbt+ZG03KrXn//pOzd56c6U+fcndqf/bp6NTJH1wli7vi7pOeks375u6b0CRIyz+os3/z9XHkuDXvGleoOHa/GdMVvr1T3fe707RW/I8KMXUW/z+63V5E7tTvlrr7NzrgWXs89Rt32s/l9BAAAAAAA/BIuBQAAAAAAYBMuBQAAAAAAYBMuBQAAAAAAYBMuBQAAAAAAYBMuBQAAAAAAYBMf57zKHzjHffkxVhl7xNwhvig/inaNMcacndx17Gy0O8XOWRbn+LLuXu5ObKq7k/sLCZ7N/3rVTZ354j/pjcvr85Ejey2ronPdac+6z75C8tSrVe5nObpb++vipnPrCINWv/nyuFTvpxWandpWtW7N+m8QzlX3rGrbGZq1wpicdXgZn3Jf4aW+io6l2DOtleIMdoTJPhvtHmOMoziDHXGuU93FGg7PbXeNV6Xp2Uttq6LzGyDV3fHcXtodM6eZFzx35P22Nuzy271zzJ/dFV7PHscknrHupd8fxKrr7I3SnL132u68+7qrtDPovXdbfRbpVV3mfv3z5kvl1ekw5w7rtHi+4ikmnR3L74Te7xWrM2/Kf8V2h99pFnVXfR4j/x44fT9V3wrx+yh9mxX9irGh7mvdf+9e4Ss+fXtdYSFWbbvi768BAAAAAIAtuBQAAAAAAIBNuBQAAAAAAIBNuBQAAAAAAIBNuBQAAAAAAIBNuBQAAAAAAIBNuBQAAAAAAIBNfJzjKn/gGOu27Jyvx36Wvx5/zDr3jHXfl3diU/yM7a6ltlXxndhP1Zi9Hvu1+CI2Btd1l7lfjvyK58aEn6X7/OQVfl9Dd52tcr8Lsav+gaq0qvczNvUsjVpd+2PCoIVXSHw/VW/d/FcCr6/D1K40n2dRvsKgnKs+a6ww5quIT7FXWONVfIwNa/wqylc4f1WxY4xxNMqruRwjt62KTk/mCqs8rcOqX3FPilvS6/t03s0ae1bcyF9P3d1Je7t05x3Ad/PgW5kf5sm18Oyu8Hr2tXq9zt/SRd05+8u507ur0+v0ndB/h9S191R1p341vp9Cl+NbNXS7/j1W+mbs/I4sfXu9/g2T+py+vfK5tjg7pvkKP1D1K62j9I2fzvpHMXBHmI/0DXMW/Y6xoV9XI3f67qvG5DP+fjVd8ffuAAAAAADAFlwKAAAAAADAJlwKAAAAAADAJlwKAAAAAADAJlwKAAAAAADAJlwKAAAAAADAJlwKAAAAAADAJj6OscofOOd1W5Zij3Ef+6X4eV+eYmds2315io3lRbtnGfmVul+PT7GjVXev3dUPpDFppP4Dmv3+hX5yn3sr7X3SmK+yZ70Zq6LTeFZ75RhjrHWfPfc51B3K6wzdVf76SpvNjlfh8f0S5usoi8NcF2eNMcZYRfhZRo6xQs/iWaUY9GPVsWd8c96XXyk2LIareH6uEHtWAz6+Ml/3+VO7j1j3ffkVYuPZMO5J1bk0CfPVOL/lHamYjxib9HfbVyM7bX/yHZLb9dyYRb2Gv803bhobeXIdPncaz+pX53Pf+Ek6v3Wqrr+NvpK7817trqT3fG2nMavG5L8SvF53SN05J3XPWFW/ZzrTds+lRfwRTqbVmTblvtI3YfxdbPoWKH4HHesO309V7nRWb3w/pe+6nPv174iU238KAAAAAADAJlwKAAAAAADAJlwKAAAAAADAJlwKAAAAAADAJlwKAAAAAADAJlwKAAAAAADAJlwKAAAAAADAJj7OeZU/cIxVlL0eO8YYxwzlRfxMuUN5FZ9yz9Du+WK9Xyuvpfi35U7JH2x3R6fP7/bkuPxWT47ZO1dS3a+6ZasxKikyjUm1165VZ0/P7pP9+kLPXo7trtEqPv+VQOhXkXytdF6oa1/lWkhnjbruM6ylVZx10jpaoe6rqPsML84qNsWn2NSvK5RX58Mjxqa2FefScD5La6XKPUY6O9by2bIoi4/e67t8+5yTDnhl+u4+Xffsp3r9DQH/3Xd+Bqzk/+3JEemthM5XxBgjvHfLmptLuHOizm+fzu8ummPaWi3vfK++/s5P56DUtDJ3+/dvz8SOkb93q3Nv50yb4mfzPF19133G3/c7fVPmuu9zx99vN74Zj7ChpblO315nMabpu89/CgAAAAAAwCZcCgAAAAAAwCZcCgAAAAAAwCZcCgAAAAAAwCZcCgAAAAAAwCZcCgAAAAAAwCY+jnGVP3CM9VLZGGMcM5SH+Nmou4odY4xZtC3nrtV1P5k7x3dyl7Gx4ufanb2z7te9t12vr4V91TPWmc93zkbaFzpPVxqTKne1h48xxlqp7jSq9/Er9rrVs5A7CD9wrPu6r1j367Od/gIhjWn1Xk6xZ1rDM5yDivAzvPyusA7Pou60hq9QdxWf5jrlPkPbVhF/FWtwjDGOMB9Vv9L5La2VWF7sO909p9o30hlrhjHt7Cr998/r+11HZxf+2k9819MjP8v3XEfPnzuL/e7xujt+5vdRp9X9+Xg9wwrvtlhzo/G55tfXcDpr5Jqrb5TkyXdbOmM9dxppncE6C2X0TjnpmzF+r1bdSnWn74jG72LjeTo821V8+kaJv98u6j7CqMVvlCL+WHVs/PZK325Fv1Ks/xQAAAAAAIBNuBQAAAAAAIBNuBQAAAAAAIBNuBQAAAAAAIBNuBQAAAAAAIBNuBQAAAAAAIBNuBQAAAAAAIBNfBxjlT9QlR/z9dgxxpjjCvFVbKg7tK2KT7lnWZrjO7Gp7lH2q2eGMS1jm3XXuV9v19Oe7Hc117xDZz7qldJdR0+ulKptK9b8er9j5jBoKySo95U6ea/f3XdAqvo+wwyDkuqu3tkrBB9pQopxWbM+S6TUR+jZWdUdzjFnXCv35Vcz91WUn+EBucKErUZ8Z0w+674flyO2u14MV3wGijNxeHbzrvD6+S2X3/9Ep11fUq2VmPr1vfTJ989n/mdi+W2e+xL4revoO/er2kv7vmfPn27Vk19A9Ss9vO8bVecx675/Or+TSWew10uf/GJNZ8NOzfmbMJQ/+wufUnXWj79XbHz3xe+65rdyVZ7andpW5Y7tSt8ZxbfbERZK+hau5nqMMc7iGyfF+k8BAAAAAADYhEsBAAAAAADYhEsBAAAAAADYhEsBAAAAAADYhEsBAAAAAADYhEsBAAAAAADYhEsBAAAAAADYxMcxVvkDx7wvP8ZVx4bcM5YXuYt2fS33fXlV71dyd2JT3aMTH5L3+tX1+nw86dm6Xx9vfpvuWqhXalX65CpMz8+Ktd9n6Oaes86wyvC0D+fWVdE9z+3j6a8IqhPBEV9AdbtXMSGpXSvkPld9lllF04+qcIxxzjr3VcSfcY3W/bqKfsfYsI5S+Vmshiv0K41ptZbSuXSFdZjOrdW+ktbZER7NKnc8l4YxncV85x0nrMMY34l+7hTW2aXzTzy5j7/zVMx/9vqc+BL4WZ6dr9fP8tn3XWmdlvXGpPMdMEb5u4vmNp3H5Lnvo7rW3nkg/a4pndFq7ztPVGsln99CeYp/KPazvFhn4QFJ6+wIlXdOQWvVX4ZV26pvpzHyd0L5jRK+N9Pvt9O39Cryp1j/KQAAAAAAAJtwKQAAAAAAAJtwKQAAAAAAAJtwKQAAAAAAAJtwKQAAAAAAAJtwKQAAAAAAAJv4OOZV/sAx1ktlY4wxY3ntmPfxOffrdXfbPYr4FJvqTmZZQTN3K7o7ps95sl/f1TvH+6f63jOdWnc/42ktPNnvXHdVex3dyz3GrDbTMCgxd9m67oi//nTP4p07xohNe/K9eoz7s8oKf9+Qzippvqr4M5yh1qp7VsWn2Kt+4Y+ziL/CiJ8h99Vo27nCfIQxreo+QrvXCmfeGH/f9rSOwpCNWeSu94zumTfp1d3Jnb3+jkjz1XnHvPe9+WTu3pjt6HufHflJnvyK/6nfwu98+1QZwjFntH8v8vonSsxev9ve+I0Sz/KdGX3ju6336VX+7i//3vH18103d3WeTnVXvyMe4wvn8apf6RslnvWr74TeN0quu/g+Kr6jP8sBAAAAAIAtuBQAAAAAAIBNuBQAAAAAAIBNuBQAAAAAAIBNuBQAAAAAAIBNuBQAAAAAAIBNuBQAAAAAAIBNfBxjlT9Qlc9G7BhjzFkWl/lT3SF1yJ28Xndqd5LGrGpb7tfruv3q1d31vrZXnpwv/rkn5+P5FVjVUPcs9fvJtld1G7M/n32mlqfiour2O7t4+R2rzr3iWSScZYr8KfcxrlBe9CvEnmHUVlF+hcPEterysxFftWuMMa5QfhZjvsKYpbrTmFezndqd1nh1Zo5rOOSunp+w/L9Qd1qHZXCoPO1nP/Ok9N53ROHbNgx4UvO3E43S5LlN513fL1/5idi24t0Y6w4/0Dlt5FdIZ9S77/vXv+uezN0+5RQJYu7GZ1/+Xetz5St8oxzhYFutw/T767SGV/FsXumbMUxI/KYs6q6+Nz/LAQAAAACALbgUAAAAAACATbgUAAAAAACATbgUAAAAAACATbgUAAAAAACATbgUAAAAAACATbgUAAAAAACATXwcY5U/MIvyGDvryqvcqTyk/kLuSic2113GpuTNtnV0+tWrt+s97R7j2fng90jr5NkV3Ms+i9Y/2e60H60wqp0xnzPUvVLdZfYyNo9qZ9fproV7/b9AKNoWurxWWitXXV7kD6nHGV7qa93XvRqxY4xxFfFnWKNV7GfdIb6YlJS707YjxB6zHrMUv4pn/wjzscJTUOfu7ned83RPL75zWk/n5V7LOnU/u087ef55xhRe9dzJ8itP5nt+B9CtNfer8e2VDq5Vrem8nTO8XLr+wqhWtX/X3NW4xHNOY0jTN0rvd7F12+PvJENxuc6a/arnI/3+IJSnb7PiezY9P/5TAAAAAAAANuFSAAAAAAAANuFSAAAAAAAANuFSAAAAAAAANuFSAAAAAAAANuFSAAAAAAAANvExxyp/4CjK56yTp9y5/Lncr9bbzj1fj/2su+P18X5aXXdvzJ70zjFjH9119uwTVLwj3vhkp316hbZVpand6d24ygRpn06roTOqvZVWvt9Cs1K/qvlMra7OMWPkEVvFT1Rln+VXWX4UrT9SbFhoZ7HQUruuMKqp/Czadq2QO/brvjw916ndacyr/Ec43636wW+ts9Z5Oox3OrbG/bARmx7uWY5p9/3zes+6u3Tr/dOsm3/OmMJ75Gfv9X36T9T+jsy5X6/3PJ1jYs3p+6iObpTmc1Sts1q6b+0nvf6tXJ+/Rp7shs5z/1lafFOGfsV1VvxA+mv89A2zVvp2u68hfaP4TwEAAAAAANiESwEAAAAAANiESwEAAAAAANiESwEAAAAAANiESwEAAAAAANiESwEAAAAAANiESwEAAAAAANjExzFW+QNzFmUpNpbXqvhu7lfr/VL8fD2+0+5P1Zg958l2P+3JcYHvoFrjzz55aZ+un753tq0atbRnrPheLTKEZr13TGrlfIZBm+v1d3o8S4R38hHH/P4HVsi9Qr+Oed2WnSs9H/exn+X38Ve1BscYZ2j3Ffp9FfFnWGdXo/wI7TpXGLMwLtV8pvN02hc6/UrrrCrtn9Vf1z9/3WfIu1nv/fR65q/8xPc8meZ3H8DP0N+vXv9OeHK37Gau2957N6WzSllzqDpnfu677tV6v+a588KTJ5E01fnb7fXY+qTf/KZMT0jR8bSO4lk//D1/9R0Sv0fLUgAAAAAA4NdwKQAAAAAAAJtwKQAAAAAAAJtwKQAAAAAAAJtwKQAAAAAAAJtwKQAAAAAAAJtwKQAAAAAAAJv4mLP+gTnWS2VfK+/U3ZPaVsbORuzLkf/SG9OOXu7Xx6zryTGBny49H+97cuu2dduV+13V0N1VXs+d312dGX2yX7V8HriX/rqhnstc91HEp9yp/Kxyz6tu16pbfhTxZ4i9wuEwxhej2s5dxK9mv45Vz1c1pmk+Vjg7VnXnNRxyF/MRc6fvhNTvKrZOnXeUIsEMc5lqz7tZZx9/PXPWfUc0QptjDmO899y5K0/mn5XXcO8d8eRT0smc2/36Souvl8ZZ5sn5Smes7MkTw+u5V3sNh5qLbsVvxvj77aqs9x1e566lb5jqe3SM+jsjfycAAAAAAABbcCkAAAAAAACbcCkAAAAAAACbcCkAAAAAAACbcCkAAAAAAACbcCkAAAAAAACbcCkAAAAAAACb+JhjlT9QlefYWi++V3cZO+vcMb4V26u7o9PuNB8dvXbxmvetw2dZTf9UGrHeSknR97U/2646/+utzvEzBK/YsfRu7PQsuc8dxyz0u/NaPlLtcczv41PuNa+Q+77ylPsYde6z6NjViB1jjBXKr2JCr6LPY4yxwmKo4q/QrtSvFH8U5Wk+cu77+V5xnYXycg3X0lx3vwWeiu19RXzlJ97zfurmfvINAF9lrX0v75wPX2b/Ls/H66OWI19fDU9+e3Wj6++ncI5J3wl1dKM0n/96o/ZTc/eq7nyH599vV2W983Qa0aP4Pkq/3/afAgAAAAAAsAmXAgAAAAAAsAmXAgAAAAAAsAmXAgAAAAAAsAmXAgAAAAAAsAmXAgAAAAAAsImPOVb5A1X5DMlz7uT1utMPpLY1Uj9Wb1dnvJ/WGdN9vWcN/2Tr0TW+56hWve6PdpXhfeOd9vEV2laPWXhvztDvMOjP7vKNd3ZQdjt0Kp9Vase8r2Ct3jlnzuu+3tCvM6yFte5zd2LHGOMK8ee6L7/CqKTysyhP7bqKdo3xlXF5ve4zjOkq4tM6u8JDcBTlaU+oYscYIwzpmOkHqthQXrYstiv1/PV257NGekdU89XdTZ97r7bm6425+fPMB1/1rrWy51fbV8b7fmSe/l3S+77S09kvZS++f3qfbaPT8vhNmfrdKI1jGqNfP6u0WtZchNVZvvu78Txf9/nTN6X/FAAAAAAAgE24FAAAAAAAgE24FAAAAAAAgE24FAAAAAAAgE24FAAAAAAAgE24FAAAAAAAgE24FAAAAAAAgE18zLHKH5hl2euxnxp1x+R17lfr/Vr863V31W3/ru3aVff54Z96ckxXfL72m9HU496OlJ6fd+6GT66FXu76/dSdsef61cmcYtNaqcbsCO1OI1btG2lPWeMqy4+iX0eKDYesc9Vtu4q2nzPEptxFfKddXymv5vsMY7rCOqvm5IqxYa0UYzZXZ8/oPT/dHaX3Vn3fO+LJd2Mnd7tdMUGndr6T931RPs06/PO+52p55x7/U+UxS+eBfg2vevK9Wv1EOJaO+P0TKu99PXV+X9o9Q33Pb+X07RXPvN/0mFN/ofhPAQAAAAAA2IZLAQAAAAAA2IRLAQAAAAAA2IRLAQAAAAAA2IRLAQAAAAAA2IRLAQAAAAAA2IRLAQAAAAAA2MTHDD8wxyrKkvvYr8TP8gd6uTuqMenn7vrObfuN3rcO+V7SXK/Ws/k7V1Ies470bNa1PzlbVe7umNTvzTFWmaA3ZqHmUF7nLktDs2aoOr3Tq/QzJD9C3dW+sELuVU/mOOZ1W3autP7vY8cY4wqDfhYL8Qp1V7EpvtOulHuMMa4i/gix1Xyk+BS74nx21llZPI7w/FRNm6HdSRUd9/DmvtHZyfN5oNOz33leeK/X343PfZXxGs/H3/fOMX/PE9it9beu0jwu9z3v/t6x49kv+HBeaJxF4jfho991td53+Hc+BxXn7XDm7f1uPHyvhuz+UwAAAAAAADbhUgAAAAAAADbhUgAAAAAAADbhUgAAAAAAADbhUgAAAAAAADbhUgAAAAAAADbxMccqf2CWpZ3YMWb6gSJ/DI2ezH3vyXZ3Pdnv7+09a4G9dNbSis+9lfqnVSPa3YWr9+4Kc5lmOq6V4sU7Q2jud/UTueWVzgqPZ5FQXv/1RN3uNGZHuRZS7rq8zD2vOnbVo3KG+FXEX+HwV8WOMcZVzFjKfcV+vR6fnt2q3WPU81WVjZHns2p3+g5Ifz2U12E1Zr3dtBrRp9+Kab47eueFjmfPGs++V5/LzXfjzMtXvWutPLsTd/zUpyePSef76bkRf/Ldln5irea3VfED/TNQZ2SerLuX+7nMY4TprM/EoXL/KQAAAAAAAJtwKQAAAAAAAJtwKQAAAAAAAJtwKQAAAAAAAJtwKQAAAAAAAJtwKQAAAAAAAJtwKQAAAAAAAJv4mPFH1m1Jip0x+X3ur+R/X+7ak+3ueLLP39v71gL8CWmNrrhv/MxVXrW6v1N+1zF7tl2zyL9C7ir2Xz9x733jPWdd97Hquq8qd+jXEbq11n38EXKv2K9qrkNs2esxjjBfVfwZYq9QfhaHyyvNZTiYXqv+W5mzGLcrzMe56jGt2naGfnXmMz2Za9ZjMot1Nkb9jKTnI81nVdrdUULVo57u3n5Xz2c+EdQ138d3d+n4Xi5fEd/1nQzwTz29X73+FdT5fvrJu3Dnt0Hv/N1eb77SWSNV/vrvgdMP5G/OKrb7W4DOjD73LdwZkyg0238KAAAAAADAJlwKAAAAAADAJlwKAAAAAADAJlwKAAAAAADAJlwKAAAAAADAJlwKAAAAAADAJlwKAAAAAADAJj7GWOUPzKqsKhxjdHJnT+auPdnurif7/T7vm2v4CdIzsMpn6Gc+QbnPXfcZZqi9U3e3X5349E5fz76+gtcrj/M1wzumKE7jncqPIvkKAz7HFXLfl6W5PMJiOFdd9yrir1D5Geajij/DOrlied2vq+jXueoxq2I/44u1kOY6rLTOOqvfH73y/Pw0vlFC7u5eWud+33v12Xfjk6PGd/LW1711BEHvDfX3I7/muz75vX7Xvcp9ft98Vd9PMXf8hgnh5Q/0xjSdW2utL+1GvSl3nT9F+k8BAAAAAADYhEsBAAAAAADYhEsBAAAAAADYhEsBAAAAAADYhEsBAAAAAADYhEsBAAAAAADYhEsBAAAAAADYxMcMPzDLH1h17D9tzT/I389978l2dz3Z7/d6z1zDDqpnaMX9yhP4T6UR670hevP15FqYZXx3VDrr8LmzSjxDNcbsCO1OI1bNZ5rrc1whd92vo4g/Q+wVyqv4qz60jnOFukP8VcR32p3ij9CuY9XzdRS501q40vMz6/JjVeswPB8hd1Wcn72eaimFZo/efpf2hdf32jRm3V26fEOE4GIZRc++k1MGZyjgO3lyT3r2C6fyU3fa3OfOWead89FsWfHSj+eFlLtoWz4vvO97tTPb9Te6/xQAAAAAAIBtuBQAAAAAAIBNuBQAAAAAAIBNuBQAAAAAAIBNuBQAAAAAAIBNuBQAAAAAAIBNfMyZfmTdlsTQ6D73n8n/au66XU96ss/v9b65Bu6lZ2/F/fB7Pr25Xx3vG5Nn+xXqDpWvsvL0DuiMWZ17hdyx5uIHZhjw2Xj3zZD8CHVXz+4KuVc9meOYV12+7nuWYs8idowxVrEQrxB7hUVctXuMMc5ixlLu1Laz0a8j9ut+zKvx/IxNz9fr5Z3nY4wxZtH2Gdrd3Ut7O9b73ptVze/7+vkKZxF4yo7r8HvuGD/dk6OazhrP+c5rpXPSyf16fVS781F9F4bjXay9Ovbmdr8+pum8nL6Fc9uqnwhn/ZgbAAAAAAD4FVwKAAAAAADAJlwKAAAAAADAJlwKAAAAAADAJlwKAAAAAADAJlwKAAAAAADAJlwKAAAAAADAJj7GWOUPzFb6J3PXcu66bc/W/VPdj9nv7TPsLT3bz+2kz3q2X+ndd197dzxnyLCKuvOYhH7NIkPoWO539RN1y9OYdKQxS+XVX2bE8Y5138cfcZ3U5Sn+nNd97lW3fM0697Xuc59hVK5u+byfsXOFdocxq8rPOF/3Y/KZu9pzenOd4qv5XGHM0pNbrfH8fKR943VhiY8Z+h2iU+2h9PWedd8RnVH9rWcR+BOs/3/uO4+Z36v8J91ReX3Gn3xjv1Pu1+vfjE9+See6w3dG2bT0rVvX/Oxvv5/7/YL/FAAAAAAAgE24FAAAAAAAgE24FAAAAAAAgE24FAAAAAAAgE24FAAAAAAAgE24FAAAAAAAgE24FAAAAAAAgE18zFb4Kkt7uWs5d922Z+v+qd43n8BPVe0bdo3v58n5ej33jO/sKr4Tm5W9Cqln4yhyhH6tUPex7uNXet+Hhle5U/5jXHXuMF9nUX6Fdp+h3Sn+Wvdtv1K7w2K5igm9QuwRFsNZ9GsVfRpjjCPUvdKYFmshPfdpLVTrbIZ2z9DutGv0dtLUr/dI87Gae2lnF88T0nn/hNSh/DcyJn+fMeVfnlwL+36ZdXr++ox05/K7zlfuV++9W9Xw7JimM2/KXp1LX438fxlerjvxnwIAAAAAALAJlwIAAAAAALAJlwIAAAAAALAJlwIAAAAAALAJlwIAAAAAALAJlwIAAAAAALCJj/wj67Zk/sGG/PP89+16tt6frB6z39tv4CnVvrHiPv19d526X13Ve/XZN1+nX2m2qvgZgtdzr/QveO7d+GTskdbKvO/XEQY8Pbud8qNo1xi5bce8bsvOVY/JFRZijC/GPOW+Qu6ziE+xVbvGqNdKWkfHuB/vr9V9P5/VGh1jjJXWQhXbfK7TXtx5tsN0jtnaEF9v2ZPvl8/85VuiWft39XPPQcDv8+Rx+/fuZk/2LJ2nX/ed5yP36771uV/vHNP7n8hHu3BuTd/SjRn3nwIAAAAAALAJlwIAAAAAALAJlwIAAAAAALAJlwIAAAAAALAJlwIAAAAAALAJlwIAAAAAALAJlwIAAAAAALCJjzFW+QPzwcpz7rptz9b9U92P2e/tM/AdpT3nuR3+We/s17N1p+i69qp0tXNX8d1R6bwdwxmq0bTZGpP6rz7SfBzjKstX6Ncq0h+hX2equ4i/QuwZ6r5S24oJvcKgXGExXOt+xs4wX9esy9e6H5fUriP065hhvor4tA5z+b30fMzQ71kt4pH2u1recaox63p9L01jWj2bSXsXLxKEqXyr33pO4t+ZS367d37//Fzdnt2Penc+vuuY5369/r2asnfGtHP2G+MrZ5ni98Chcv8pAAAAAAAAm3ApAAAAAAAAm3ApAAAAAAAAm3ApAAAAAAAAm3ApAAAAAAAAm3ApAAAAAAAAm3ApAAAAAAAAm/iYDybPudcb6/6p6jH7vf0Gfp/0DthxR3vfmKTMz72xx5ih8lVW3huzzllldXMXPzDrTsfcVfkx69yh6nGEMV9F/mNdIbbuWRV/htgVOnbNum3Xus9/hr+zucKYXeO+7iv06yzaleLPNCZFu8YY4wwrcRVjWo3nGGPMsE6r4rhGm+fpqnw29+lqWNK+kL3etiffAc+++559Rzw7LgA8+g3yYO7nPfdu7Iz5dx7Tzumv983Yk+u+/4n8XQcAAAAAAGzBpQAAAAAAAGzCpQAAAAAAAGzCpQAAAAAAAGzCpQAAAAAAAGzCpQAAAAAAAGzioxM840+sTvpm3T9VPWa/t9/AbtJ+tsr98PvuhrlfP7PuGaJXUXtvrusM3ZXwbN1pzF6p9avlVbvrdh0hexqzKv8Rx+Qqy6u2HY3YMcY4Q/lVtP2add3nCrnnffmVYhv9irFFu8YYY620lqq1UI9ZejLXvP/bpk67PnPXdc/iB9LzlZRVx/no1Pz6XvhZ+np8r+beXvrkOznr9pzv5L1rCXjFO7/L3qvTute/b77iu45b7tdzZ8PeN3zNfwoAAAAAAMAmXAoAAAAAAMAmXAoAAAAAAMAmXAoAAAAAAMAmXAoAAAAAAMAmXAoAAAAAAMAmXAoAAAAAAMAmPtIPzLJ0/bGG/PO6f6b58JgB/BbVO2DfnTT1/De+OceYRbdWXAz1D8zWmPXmoywNzZqh6uq8kXo8Q/Ij1L2KulfIvcKEHvMq2lX3rIr9SvxZLMQrxF7VIh5jnEX8FWYs5b7W/d8AnWFMUr+OUHc1pkdzLZTrLDybqfyIX0CvP1+rsS/kHafzduy9P559Lzf22jghz+3j3TH5ruegvMYBePId8F7dlqUz2nPeNabp7Jd0zncp0n8KAAAAAADAJlwKAAAAAADAJlwKAAAAAADAJlwKAAAAAADAJlwKAAAAAADAJlwKAAAAAADAJlwKAAAAAADAJj5m/JH1WOW57p9pPjhmAIyR303f9w1Ttaz/9qgzzKL2bt3Vu2+F+UiztYrcc4bo0LHc7+oncssrnVWaYqvy9Bch1Xh/pe6jXAt17lRe5T7nVededcvXrOu+1n3+M4zK1Sg/Zj1j5wrtHvftTu06w3xccb7u6z5C3WktVHXPMJczjFk6y1fbzgzrrPOdEPeMsB+Gbge9927d77QWXq/5Z3+Vdd4/APxkT76/3vsGebL29J3xuneOWfqWrqRzp/8UAAAAAACATbgUAAAAAACATbgUAAAAAACATbgUAAAAAACATbgUAAAAAACATbgUAAAAAACATbgUAAAAAACATXyMsR5LPh/L/F7zwTEDIEvvF7v0d5NmpHNi6OXO7/Qq/rl+xcwh9Ww8BEeofcW67+PTeM/Q8KPIvULuY1yhvO7YWZRfod1n0e4Uf6263Vdqd7FYrjCZV1hoZ4hfZd11v6rYMXproVte/VVViu3sdjNE5x2p83bsfdk9+16usod3QOjWCs/u7/3iBeC3et9p4GnPfVP+1DFboXb/KQAAAAAAAJtwKQAAAAAAAJtwKQAAAAAAAJtwKQAAAAAAAJtwKQAAAAAAAJtwKQAAAAAAAJv46ATPP9WKt1i3JT+7XwBUe/yn77nTp1alXmXVu6+uvVN3t19VfIwNla/+oDY8dxbpxKfYI62Ved+vIwz4CjNalafYo2jXGGMc6wrx9/0+Vz0mV1iIVfwVxjvlvorcVZ9Su8bIbavWyhn3nDAfRXxcR2EtrLhOqzENm0oc03sz9Cs+98V89/fC13fy1K/Us7du44Un3+nPnxfe5Wee3wB20X2/fN9dvNuy6hul58kx858CAAAAAACwCZcCAAAAAACwCZcCAAAAAACwCZcCAAAAAACwCZcCAAAAAACwCZcCAAAAAACwCZcCAAAAAACwiY/0A/NvtOIRqyz9uf0CIEl7/ArvCG+Jv+3J+ejlnmV8XmmdujvmLOoOzZqtMan/4iQ9e8e4yvJVNG2Ffh2hX2doW9X2K7T7DHVfRfk5Q2w1KGOMq4i/Vv33QVcYk7NaZ2OMq5iUY9ZjdoR+VfErjUn8Tni9PD3VOfdrZZ/l9U9Ua7i/G72eIe2UHWm8V9rvQrfSvvOc73uO6b4ZAfi9Ou+A7/2F/tz36pNj5j8FAAAAAABgEy4FAAAAAABgEy4FAAAAAABgEy4FAAAAAABgEy4FAAAAAABgEy4FAAAAAABgEy4FAAAAAABgEx/z3S142SpLf26/AOA/S++2+s2YpPdqXXun7k6/umMyQ4LVG9SGXsXlfIU+z9DpNOZV+THr3Gm8j2JcVsh9rKuuOyyGKv4MsSt07Jr3ua9V5z7D3/hcxZhdox6TK/Qrt+2+/AorqZrrVL4asWPktVTNZ95zwvNVFKd9eHb28eZmmnes13fy1K8q/vktvNOv1zMnz54XAODve/Ld9d7fIXdrf/1c6j8FAAAAAABgEy4FAAAAAABgEy4FAAAAAABgEy4FAAAAAABgEy4FAAAAAABgEy4FAAAAAABgEx/vbkBt3ZbMv9gKeMJvXcP3Ty18H+n5W+VK/r5Pb+7Xe+ru1/v6fPTmus4wG7H/qv312OQ+d7fVufz1MTtC9mq+cu66fI0rxN+37WjEjjHGWZRfod3XrOs+V5F71u26itgxxrhCv6r8VbvGGGM12rbCmByp7rhWquerl3sW/Z4rxJalvV2lu290an/Xu+srdVfLNEwXwH/wfb8zvi+bLX3dVfTeJ/f12v2nAAAAAAAAbMKlAAAAAAAAbMKlAAAAAAAAbMKlAAAAAAAAbMKlAAAAAAAAbMKlAAAAAAAAbMKlAAAAAAAAbOLjvdWvsnT+pVbAq6zRf9cdk3pXAN4nPZ3P7YhV5qf3jFlUvmLl6ZzTGbM69ypyx1rDD8zQ71m0LdU9Q/KjKF5pTELuFSb0mFfRrrpnVWyKP6tFOMa4Qt1XEZ/afYYZu2b990VXMaZXnOt6zKq2Vet/jDwfaUyrdTrTOipL63Ucn5/wE529NCzDmCA9n6H2UFrlrmNzu57bp5/9knhn3a/XnFfJ9+0XfLIG/753jrnfXvDpuVPOs/ynAAAAAAAAbMKlAAAAAAAAbMKlAAAAAAAAbMKlAAAAAAAAbMKlAAAAAAAAbMKlAAAAAAAAbMKlAAAAAAAAbOLj2fSrLJ3PVg5fYh1+L9V81DsK/Dn1Okwr8fvuKu96vtKI9OruzUduW5W/m/v10l7dvRFP/arKc+zrZ8cjjmivvMp/zqvOvcKMzPvc16pzn2FUr6K8KhtjjGvWfz90hra16g7lRzFmR2jXkXKPMJ9VWVjka9VjWj0Dc4bnfr3+/HTfXHnH6tSQnt3n3rudfTxM1wjT9eg723n7zzOmv8n7zvLWys/Se7d1WS2/xZPv9MR/CgAAAAAAwCZcCgAAAAAAwCZcCgAAAAAAwCZcCgAAAAAAwCZcCgAAAAAAwCZcCgAAAAAAwCY+euGrLJ295PAl1tk+0lzXOxLwrOoJfG6nfue+MEPlK1Z+/wOzPWavz0dqdur3LBLkv0apa19F3TMM+Ezn1qrhY4yjyL9C7mNcofy+Y2eYryu0+yzanWKvVbf7Cm07isVyVpM5xrjCQltFfIo9Qr+qdn/W/fpa6JSn2LRrVPtKdy9N+0KVIPWr8w5Jz33eD59r2xdGtZG7U7evK3iK79Xf5Z3z2f9WqFipP0lntvynAAAAAAAAbMKlAAAAAAAAbMKlAAAAAAAAbMKlAAAAAAAAbMKlAAAAAAAAbMKlAAAAAAAAbMKlAAAAAAAAbOIj/8i6LZl/sCFwxzrjq9Jaud/N4Ot+6zp7Z7+erTtF17VXpSvlniF3EZ773OlXHdt973biU+xR/MSqBnSMcay6PM1nVZ5ij9i2q4itR+VcdflVxMfYMCNV7jHGuIr8KbbTtjO0e8Xy19fClZ6vsBZmsU6P1K7wAFW507PX3Reqls8Hs6e57np9p42viFFtWU++N3/2eaBeafDpubXwU78D+Hme3Yuf3C89Jd+J/xQAAAAAAIBNuBQAAAAAAIBNuBQAAAAAAIBNuBQAAAAAAIBNuBQAAAAAAIBNuBQAAAAAAIBNuBQAAAAAAIBNfIyxyh+Yf6kh/G7WEbCP+r265474vjFJmVPL3ld3Op91svfGO85mlT4Ep5bNIkH6S5cVKj/SjMzrviz06wg9O4u6U7uvcd+uz9z3dV+pXeVkjnGtUF7MyhX7VZef8778ChNyFLFjjHGsekyPYlyOUHeaz6o8r+F6Pqr4/Oz19o3OvpB3y9fbVu0p//qJuu7n9ton9/HX6326bvhTnlunT54d4Tt49vvone8v/jf/KQAAAAAAAJtwKQAAAAAAAJtwKQAAAAAAAJtwKQAAAAAAAJtwKQAAAAAAAJtwKQAAAAAAAJtwKQAAAAAAAJv4mO9uAb+CdcRPkNbp+iut4Lezzv68akz745ky3Nee5zrknkXuEPrsOqqzd975KwSnflfhqV1HSL7W6/2eIfexrrruYi2k2LOIHaPu1zXr3FeYsDP8fVGVP+W+Qr+q+DOshiuUH7H8vl8pNu0Lq1hLaY2m3EfRtBXmYzZ3nd4+ntpWSWP23FdM9zzQGbMnzyLOOfx21jA858nna/a+Uv5YO34S/ykAAAAAAACbcCkAAAAAAACbcCkAAAAAAACbcCkAAAAAAACbcCkAAAAAAACbcCkAAAAAAACb+Hh3A/g55rsbAPArrKLs++60qWVVr7IU/dy4PNuvVPd99hVaVsX+6yfuvXO8eyNatWw2x+wI5VXpirGp/LotO0K/jiI2xZ8h9xXafc267nPd579mqLuIHWOMq2h7yl216yvxRxF/hDFZsV/3Y57WcC6/11n/n+Xp+SvK2hvx63tp0tlr03Mf99pyG3/fPv5OvaWy51kDYBfPfWV03xDfd5f3nwIAAAAAALAJlwIAAAAAALAJlwIAAAAAALAJlwIAAAAAALAJlwIAAAAAALAJlwIAAAAAALAJlwIAAAAAALCJj3c3gO9jvrsB8GbVM7D+WiuAfyK9u7rP7iwyrFB7p20zBK+3bkqvVz7TqKTioupqrr6Qeswq+RjjKIpXqHuF3KuY0GNeoV11z6r4FHuGhXiF+KuIj3WHGbvm/d82XeEBucJ8nCF+jfsxTftCFTvGGEcR31lHn3Xfy+u/t9tWve5+g1RjnnOnMXvuC6n1jmjEpvi8w3eyA8DP0/n0it8/j9Ze858CAAAAAACwCZcCAAAAAACwCZcCAAAAAACwCZcCAAAAAACwCZcCAAAAAACwCZcCAAAAAACwCZcCAAAAAACwiY93N4C/Z767AQCUe/EaqxH9XnW/uqoM33dMenprYbbG7Ml1WOfu1JxaNVtjluquY4/Y7/vyFHvOq8697lu+Zp37WnXuM4zpVZRXZWOMcc36b5eOom2ddn2l/Jj35VW7UmyKX6Fd6R1SxafYGdZKKA7PT+hXeLjrunv7WY5+fa9tvfPjNv6+80T3DfNU3U/Wy89iLQB/U3/PSd8wr/OfAgAAAAAAsAmXAgAAAAAAsAmXAgAAAAAAsAmXAgAAAAAAsAmXAgAAAAAAsAmXAgAAAAAAsImPdzeAP2u+uwHwS6Vna/2VVgD/1JPP7gzRK9RelaZ2zdCx9eCmlM8a95V3xiT9wAx9TvOV6p7FoB9hwFequ2h8N/cxrqKs7vUZyq8w6GfR9hR7rft2jzHGVbTtCg/IuVK/QnkRf4TYNJ9HMS4rjUmoexbxR/hbsbiGy9IxZvET3Wez+oEV5jqn7u3zvbqrel+PTfH992a3de/yvnb7zgDgVZ13hP8UAAAAAACATbgUAAAAAACATbgUAAAAAACATbgUAAAAAACATbgUAAAAAACATbgUAAAAAACATbgUAAAAAACATXy8uwH8M/PdDQDgMWmPX3+lFX/es/1K0b/1zfl6v2dzzFar7uT11ZByp/L8lzL3bUutPsJPVGOaxjuVH/O+/Fgp9irLz1WP6jXvy2NsmLEq99Vo1xhjnKteDVc5X/WYpX4dRXmc61D3mvf9WmEtpH1jhjGdRf7us7ta+13SeYc8udeGdsVBa+RuqrL/1HMOAPxE/lMAAAAAAAA24VIAAAAAAAA24VIAAAAAAAA24VIAAAAAAAA24VIAAAAAAAA24VIAAAAAAAA24VIAAAAAAAA28fHuBvA/zXc3AIBvbIVyb5F/Ko1YGvE6dx29itq77ZpFghU71VtndWkvdxVd9XmMMWZnMkc9n0eoe4VBP4rca14hd115lfsYde4zzMfViL9C7jNM6FX0+wp/93SFdRj7VbStatdnbNgX1n3dK4zJEdbZqtZZ3K965VXLZ2tPCXttGLO8HyblrtRN/nLmzk7bPWnkIf2ZY+YMBsBv4z8FAAAAAABgEy4FAAAAAABgEy4FAAAAAABgEy4FAAAAAABgEy4FAAAAAABgEy4FAAAAAABgEy4FAAAAAABgEx/vbsBu5rsbAADfTHo3rlb2FP1b38xVv+s+d0dkNepOZmM1dPtVxc+Q/Zh1u9e6L0/tnvOq6y6qPmedfa06d46/r/wK7b5Wnfss/rapm/sK/arizzBjV1orRfkxwlyH3NWzeYU1Oou5/Kw7rPGiaSl3fAZC+VOx/Qyvv5/qfbaOjcVhPp58bz57Hvi5yun6a60A4LfxnwIAAAAAALAJlwIAAAAAALAJlwIAAAAAALAJlwIAAAAAALAJlwIAAAAAALAJlwIAAAAAALCJj3c34Dea724AAL9Ser+ssZoZ+N+qEUujnXPfZ1hhrvJaKGJD8Iodq39gttbZ62s4RnYGray5nssUm+LTX/Ck574qX+MqY4/Q8qMRf4bcV+jXNe/rPlfIHRbDleKLtqfcnbYdIfYoxmSMMVYRfzTW0VfKq7WQYvPz8759IY1KqD2Uv671jmjE9uN/5pgBwE/kPwUAAAAAAGATLgUAAAAAAGATLgUAAAAAAGATLgUAAAAAAGATLgUAAAAAAGATLgUAAAAAAGATLgUAAAAAAGATH+9uwE80390A4NtJ+8L6K62A36l6vvrPVsrwG9/6vT739rvueN/Hd2eq07JUdyo/5n3tKzTsSCNe5q5jj3nV5avuWRWfYs9Zl19F/BViY91hxq55/3dVVxjTq5iPMcY4i/g16vm4Qrur+CPFhnantbSKdXqEB2SF+ZrfdF94tvY0142Wx234fe/N733efn2+AOAd/KcAAAAAAABswqUAAAAAAABswqUAAAAAAABswqUAAAAAAABswqUAAAAAAABswqUAAAAAAABswqUAAAAAAABs4uPdDfiO5rsbAAAvSO+v9VdawZ8ww2ytMNtVaVoHMyykFRfS/Q/M9ip97pQ2Z6i7KE6tSv2u5vsIsSuMWZU7rbMjlJ/zKsvXum/7CuN9rTr3WYzLFcYsls/676bOom3tuovyIzycZ3g4qzE/wninPedqrKX01Kd1WJXmPaeW9sOq8vzO7ex3vb2yevY775fP+FqnV299R4Tyd52xvmu7vjNjBvDJfwoAAAAAAMAmXAoAAAAAAMAmXAoAAAAAAMAmXAoAAAAAAMAmXAoAAAAAAMAmXAoAAAAAAMAmPt7dgHeZ724AAPx1qyj7mW/G1Oqqx19zn2GG2vt1d7J35rOXuyp975jU0nxWxTNUPUPbqppnSH6EuldR9wq51wrloV/HuIqyerzPUH4VbT9Du6vYMca41n27xxjjKtp2zNCvlfp1X36F2FT3UcQfcS3UY5LqrtZS2q3yM3CfIa3RpPOOybvw+967rVGJg/Lk++n1zM++f5L3jcm+ft+ZF+BP858CAAAAAACwCZcCAAAAAACwCZcCAAAAAACwCZcCAAAAAACwCZcCAAAAAACwCZcCAAAAAACwCZcCAAAAAACwiY93N+Ap890NAAB4SDrnrIdixxhjhgSrTFBnn4/2LKnb1qk5l9//xIxjVjuK+BX73Cs/5n35US+UccyrLD/Xfc+vsEir2DHGuMKoVvmvlDu27f5vtq44H/WYVf06Qp/jXIe6V9HvsBRi3bNcZ3XuutV5Tyqns9mvWm8nr/uV1lkYk7L02ffTs+8IAPhd/KcAAAAAAABswqUAAAAAAABswqUAAAAAAABswqUAAAAAAABswqUAAAAAAABswqUAAAAAAABswqUAAAAAAABs4uPdDXjVfHcDAOCHqd6da6xGNP9JGrE04t/X62vlvWPSW+NlaejYDFXPom3pL3hWrPs+d1XvGGMcoeFXkXuMMY6yX1cZe4ZBvYr4HFuXnzPEF4N+xdh6Rst+Ndr1GX8/H2vV87FC3UdYC6vo1wqrPL2fqvK058z43Nd1d96Mqe4nPbrXxo2+qv25MXn6/VOfsd7n955FAOjynwIAAAAAALAJlwIAAAAAALAJlwIAAAAAALAJlwIAAAAAALAJlwIAAAAAALAJlwIAAAAAALCJj3c3oDLf3QAA4EdLZ4nVyp6i33eSmUXbVmhXd8xmkWDFAa9/YJate3o+qjHt1dxp2RGi17xv3REmZI2rrjs0vEp/VgtljLFWXXcVv0K/rlnnvlbdtrP4u6orrIYrjOlV9Cu3qy6/ivK0jo60FtI6LMblKtboGGPMMJ9H9WyGdZZy52e3WIchOHR7dPaczk5e77O59viOabwjui3rZX/Sd24bAL+V/xQAAAAAAIBNuBQAAAAAAIBNuBQAAAAAAIBNuBQAAAAAAIBNuBQAAAAAAIBNuBQAAAAAAIBNuBQAAAAAAIBNfLyz8vnOygEA3qg6B62/1oonVK2vT3/pbPjsuKTs962LZ9rwA7PRsRnaXf0F0GrEfiW+Kl/jCnXXg3YU8Sn2DOVX6Nc17+s+V8g9Q3kRf6V2h9xV21LsEfp1FGMyxhiriD8a6yiVp+cjPbsz7llV3TF5qRqz/B39+n7W3Wd7+/jr7e568v3z3ndb7feeRSppX6hn7PeOC7Ab/ykAAAAAAACbcCkAAAAAAACbcCkAAAAAAACbcCkAAAAAAACbcCkAAAAAAACbcCkAAAAAAACbcCkAAAAAAACb+Hgy+XwyOcA3st7dAGhK7+wVV/nPfOvnfnd8zzGboV0rtKszZjMErzjg9z8w27PZmY/eSunUnGKrcTlmWAurzn6ktVTkX2Gyj3nV5UXbOrFjjHGGhXoV8VeIPUPdVzFfKfe16r/3uor5OMN8rFGPadXuFH+k2LhOi3UW12hZPGYYlyq8u8P34tN8vF6a9trOeaH7jqjC8y79Pd/Zn8o3619rBQC/i/8UAAAAAACATbgUAAAAAACATbgUAAAAAACATbgUAAAAAACATbgUAAAAAACATbgUAAAAAACATbgUAAAAAACATXx0guefagUAAP9POmOtv9KKJ6SW1z2vSrtjks+19zWs5ql4FuErdCzVPIt2p9gjjGqezaruOjrVfc7rtmytumdr1rmvdZ97jDHOYuSuMKqp/Jz3f7N1hcVwjbrdVd2pXUe1SMcYZxizVcQfKTaOaWed1VaIr1o2Q7vj89PYF5J6XHrtznV3cvfeIR1Pvpe/6zv/u7YLgD/DfwoAAAAAAMAmXAoAAAAAAMAmXAoAAAAAAMAmXAoAAAAAAMAmXAoAAAAAAMAmXAoAAAAAAMAmPtIPzL/RCgCAb6g6B6129irD+05gM/RshbZ1xmyGbq8yQZ19hnav3LoXSv5/9ld1V0IVn3LPWbf7CN2qxnSF3Kue7DL3Ma4y9gg9P0P5VbT9DO2uYscY41r3bY/tDg/Qte7LrxC7itivxB/FuBxxLYT5LOrO66iW21btC2lPel3/DdHJ8Ppe+Rn9+ruv845IPc67dK/fz/mu7QLgu/OfAgAAAAAAsAmXAgAAAAAAsAmXAgAAAAAAsAmXAgAAAAAAsAmXAgAAAAAAsAmXAgAAAAAAsAmXAgAAAAAAsImP+e4WAADfXjovrLEa0fxTeT5+qtDyed/zGUK7Y1KPecr+evRsdqyqeYZ2zZA8rcMq/gi56z2lLj/CmB0rlM+rLD/Xfc9XsUbHGOMqYscY4ypG9WrmPov4TrvGGOMM5VX8EZ+PMF/jfr7SfISlkOsu1lrKnZ6/Mrb5EkhPV6g9lL+u/25731mkyv7k++fnvu+/s/TuK94Bf7opAA/ynwIAAAAAALAJlwIAAAAAALAJlwIAAAAAALAJlwIAAAAAALAJlwIAAAAAALAJlwIAAAAAALAJlwIAAAAAALCJj3c3AACA/22F8vlXWvGfvd621OpOr3Nsb0xXGd/rWR0d2hWqnkXVaUxSr+asf+JY9/nr8RzjqBo+xriK3EfKPa6y/Aw9v4r4I8TG3MWYXmGyq9jP+Pu/BzvDmF2N+RhjjLOIX6uej9VaZyF3+Bu5tE6r8vzXd2FMi7In99L+++X12tN4x5YXxWGJtse0/omf+c5O+mMGwDv5TwEAAAAAANiESwEAAAAAANiESwEAAAAAANiESwEAAAAAANiESwEAAAAAANiESwEAAAAAANjEx7sbAPATrHc3APh2Zih/575Rta3brvf2u8g+Q8sebFgakyfNRsdSu2f4iVR3FX2E2BXKj3EVsbUzrJW17nOn+BR7hbrPdV9+hfm4wt97XcWYddr1mfv18iPEVnOd4tM6umZYwyutw/vyFcY05a6i47PZ2KjTmGXP7Yi990/q13dt9/tyA/C7+U8BAAAAAADYhEsBAAAAAADYhEsBAAAAAADYhEsBAAAAAADYhEsBAAAAAADYhEsBAAAAAADYhEsBAAAAAADYxMe7GwAA/HYrlM+/0orf5TuPadW2ul2p1a9n/sqIvT6mqz0fKb7KHHIXxTNUm8Yk/nVRUfdaKXddvhq517hC3fWYHkV8ij1Dv66i/AwTdq26X9e8b9tVDegY40r9KnKn/KsRO8YYx7zv90qxaZ01ytPzk3aF6tnu5n613j/j9Z28s9eGZTbCttHcxX/nOzt57s33btVzn9YwwPfhPwUAAAAAAGATLgUAAAAAAGATLgUAAAAAAGATLgUAAAAAAGATLgUAAAAAAGATLgUAAAAAAGATLgUAAAAAAGATH+9uAADw882ibP21Vnwv1ZiM8b5xebpd71sLIfsMPW80Lo3ps+qGV6Wp3d1+zSLDMUO7V11e/WXTCrmvlHtedfmq+vV67BhjnMU6vRqxKf4Ks301co8xxjnvZ+xa9ZidoW2rKF8jzEfK3VinKz2b4QGbRe7us7uK+QxdHp09579qaETXPeu9f3p1dzz5Xv6uZxGA72TXvdB/CgAAAAAAwCZcCgAAAAAAwCZcCgAAAAAAwCZcCgAAAAAAwCZcCgAAAAAAwCZcCgAAAAAAwCZcCgAAAAAAwCY+3t0AgO9ivbsBAL9e2mnny6W9zF+Jv/+J9QeyPxMbSkOzZ/PFWI1ZGrEj9Lsqrer9Wu66/JzXfeyqe7aK2DHGuIr4M4zaFcqr+GuG3Kv+W7IrLJZr3fc79ivkPorcR+hXFTtGfravco2ndVir1mF6fmbcF4q2heRpjae2pae3o352Q7tjv+vyzi7ef4M95dl29cYM4H+yb/xz/lMAAAAAAAA24VIAAAAAAAA24VIAAAAAAAA24VIAAAAAAAA24VIAAAAAAAA24VIAAAAAAAA28fHuBgAA8Ketomz+tVb805qrVveF7DO0rgyvc89Wz7vz9fqodmuu4lPuOcOYFsVH6PMKudcK5UX+Y1xl7BF6fha516xzX6vOfRVr/Fz134pdoV9X6FdVXrVrjDHORr+OMJdHXAthPou68zqqVW1bYUxm3JNe19+ROhk6e22aj+4b6rl36+u9em/uPfXOA8Yc7nk+/jz/KQAAAAAAAJtwKQAAAAAAAJtwKQAAAAAAAJtwKQAAAAAAAJtwKQAAAAAAAJtwKQAAAAAAAJtwKQAAAAAAAJv4eHcDAP6W9e4GwKZmKF/x6UwZfqaqV+/cr/J8Pen1tdBtdyf+p45ZMkPoClVX4alVM/Sr+sumtKccoTzFV+XHDHWvqy4vBv1Y9aidoe6rmLBr1O06w2K4QtuuIj7GhtVyFuUrxObytJbuxy10a6xV/31eZ53lZ/N77gvd/ezJvbbT7/47ovMGetKD759mzcDP5Nn+u/ynAAAAAAAAbMKlAAAAAAAAbMKlAAAAAAAAbMKlAAAAAAAAbMKlAAAAAAAAbMKlAAAAAAAAbMKlAAAAAAAAbOLj3Q0AAOBvWqF8/pVWvFJzanlPnX3O+9at2LCQu+z5k/PVG9FOzSk2lhfzcYQJWXGuQ3mR/wi5z1BetW2Nq4y9wqidRflVjOcYY1yrLj9C/FnEp3Zfs/47tquaj1mP2dHsV7XW0jrrlKfY/Jd/9/H1iPWf3Sej6z2t94ZZrfjn3qtPvjff+07+rTrnAWPOz2cNfy/+UwAAAAAAADbhUgAAAAAAADbhUgAAAAAAADbhUgAAAAAAADbhUgAAAAAAADbhUgAAAAAAADbx8e4GAPwp690NAPhDZih/53733rZV2euWvbPdP3XMkhk7dl93Cp1xPl/PfYQRX7H8KspqKwzase5zHyH2LGLHGOMq4s9V565ixxjjSvHF36Kdsx61q9GvFdtV130Uc/1ZXtQdcl+h37N4fuIaDvNV5W4/m40NL++F6Sd6e1orc/EDqxjvz9A6e9qRas+NSfad2wY8we9kfhb/KQAAAAAAAJtwKQAAAAAAAJtwKQAAAAAAAJtwKQAAAAAAAJtwKQAAAAAAAJtwKQAAAAAAAJtwKQAAAAAAAJv4eHcDAAD4TlYon3+lFf+05tTqvvsa5qzHZMXGFbnjeD85X71RXcW4zJB6hrqrXoXpGDNMyBHqXkX+FXKvcYW675MfKTZ0/Czaltp1hXV0hb81u+Z9/qsa0DHGGeu+L0/tPuOzG8qLfqXYuM6K8qpsjObzE8ask3uMelfJu9WT+1mY60Z8dxfveLLu39ovgF34TwEAAAAAANiESwEAAAAAANiESwEAAAAAANiESwEAAAAAANiESwEAAAAAANiESwEAAAAAANiESwEAAAAAANjEx7sbAPBV690NAB4xQ/kqn/4Uzd9Wzciz+3jKXq+VvA6f864xm80xy9Gvtz7NR/2XTaHds27XXKG8KDtC7hVyH/O6LTtXmo/72DHGuIqWH7POfYZ2X0W7xxjjKtpeteszd2pbkTvEVu0aI4/LUcRXc5lix6jXaVpH9XtzjKrqzvr/Unk1pmHLSP0KNTdie9nDVI8Rx/w+QR6R3j7/LOe7f/fkWgD4n/ynAAAAAAAAbMKlAAAAAAAAbMKlAAAAAAAAbMKlAAAAAAAAbMKlAAAAAAAAbMKlAAAAAAAAbOLj3Q0A+O/WuxsA8APMUL7jXvreMamzz1m3bpXhIXej5yvG1mYc1SJ/qHqG1FVxalf6q6jViE+xuW3FfM2rjl31oJ5F/AqxV1jDZ4ovJjzlvhptO1c921eYjzXqMa/6dYRFfoTc1fOZ1lkufz027RppTyqfgbgv9PasWmM/G2ncwpiEbtXviJ6q6m6173wvP9kvgN/CfwoAAAAAAMAmXAoAAAAAAMAmXAoAAAAAAMAmXAoAAAAAAMAmXAoAAAAAAMAmXAoAAAAAAMAmXAoAAAAAAMAmPt7dAGAv690NAKAp7eTzhZKvZe55vd2pNLf7e45Zyt0dszpznTtlfr3mMWaIPmbdtlUUH6FfK+a+L09jdowrlN/3O8WeYcyuUH7O+/JrhdxF7Gf8/d+5XalfMXfqVzFfq657hbqr+Cs8ADO0uyrN6z/l7j3bT8XmvbK72z65j9//RNrPeu+nzoh3Pff++dmeXAuQWUe/i/8UAAAAAACATbgUAAAAAACATbgUAAAAAACATbgUAAAAAACATbgUAAAAAACATbgUAAAAAACATbgUAAAAAACATXy8uwEAAPxZsyhbf60V30s1JmO8d1xm0bgVG1b/wCx6vmKvnxu1ql1fqXo2JmzGMasdjTE9QnkVH3OHQTnXdZ+7WoRjjCssxHPe5/6Mv89/hr9Tu0K/r3Ff9xX7VZefYTVcRXm1Tj7L6zGr4uM6CvOx1v2Yd9dZ2rPis1/FhtCq7lxrdz+sMvdyd94RnV386ffmu84q3/k8APA3+U8BAAAAAADYhEsBAAAAAADYhEsBAAAAAADYhEsBAAAAAADYhEsBAAAAAADYhEsBAAAAAADYhEsBAAAAAADYxMe7GwD8LuvdDQA2k3ad+VdawX9XzUk9H2m2nn3HvL6W+u3+nmP27NNTt+zJJzvFxvJ537ojNHyFnlW556pjjzimRbvHVcaeYVRWKL+Kuq8Z6l4h97wvv1JsaneRe4y6bSn2CG07inFJsWmdVeWd2DG+8leHxVoIkd1ntxPd2cdns2Xv2y2/8xnrO7ftXYwJ8M/4TwEAAAAAANiESwEAAAAAANiESwEAAAAAANiESwEAAAAAANiESwEAAAAAANiESwEAAAAAANjEx7sbAPw8690NALYyizL7EX9Ktc7GeN9am6FhKzbs/gdm6PWKve6MWh2bMlc/kMYk5c7l1ZjWjjCm1ZivcYXY2ioW0xEG7ZihfNVtO4u6rxXWYXgIqvgrzMjVyD3GGGve/43dFcZkxefvvjyvhdTuYp2FtZD2hTRfs8ifn72Qu3FgyLvd6/thfn+8nrv7juicsZ58b77znfxdzwNdv7VfwOv8pwAAAAAAAGzCpQAAAAAAAGzCpQAAAAAAAGzCpQAAAAAAAGzCpQAAAAAAAGzCpQAAAAAAAGzCpQAAAAAAAGzi/wKpCp7i420+qgAAAABJRU5ErkJggg==\" id=\"image4af28fe403\" transform=\"scale(1 -1) translate(0 -221.904)\" x=\"66.023594\" y=\"-22.174125\" width=\"221.904\" height=\"221.904\"/>\n   </g>\n   <g id=\"matplotlib.axis_1\">\n    <g id=\"xtick_1\">\n     <g id=\"text_1\">\n      <!-- −0.5 -->\n      <g style=\"fill: #262626\" transform=\"translate(52.668047 261.936406) scale(0.11 -0.11)\">\n       <defs>\n        <path id=\"DejaVuSans-2212\" d=\"M 678 2272 \nL 4684 2272 \nL 4684 1741 \nL 678 1741 \nL 678 2272 \nz\n\" transform=\"scale(0.015625)\"/>\n        <path id=\"DejaVuSans-30\" d=\"M 2034 4250 \nQ 1547 4250 1301 3770 \nQ 1056 3291 1056 2328 \nQ 1056 1369 1301 889 \nQ 1547 409 2034 409 \nQ 2525 409 2770 889 \nQ 3016 1369 3016 2328 \nQ 3016 3291 2770 3770 \nQ 2525 4250 2034 4250 \nz\nM 2034 4750 \nQ 2819 4750 3233 4129 \nQ 3647 3509 3647 2328 \nQ 3647 1150 3233 529 \nQ 2819 -91 2034 -91 \nQ 1250 -91 836 529 \nQ 422 1150 422 2328 \nQ 422 3509 836 4129 \nQ 1250 4750 2034 4750 \nz\n\" transform=\"scale(0.015625)\"/>\n        <path id=\"DejaVuSans-2e\" d=\"M 684 794 \nL 1344 794 \nL 1344 0 \nL 684 0 \nL 684 794 \nz\n\" transform=\"scale(0.015625)\"/>\n        <path id=\"DejaVuSans-35\" d=\"M 691 4666 \nL 3169 4666 \nL 3169 4134 \nL 1269 4134 \nL 1269 2991 \nQ 1406 3038 1543 3061 \nQ 1681 3084 1819 3084 \nQ 2600 3084 3056 2656 \nQ 3513 2228 3513 1497 \nQ 3513 744 3044 326 \nQ 2575 -91 1722 -91 \nQ 1428 -91 1123 -41 \nQ 819 9 494 109 \nL 494 744 \nQ 775 591 1075 516 \nQ 1375 441 1709 441 \nQ 2250 441 2565 725 \nQ 2881 1009 2881 1497 \nQ 2881 1984 2565 2268 \nQ 2250 2553 1709 2553 \nQ 1456 2553 1204 2497 \nQ 953 2441 691 2322 \nL 691 4666 \nz\n\" transform=\"scale(0.015625)\"/>\n       </defs>\n       <use xlink:href=\"#DejaVuSans-2212\"/>\n       <use xlink:href=\"#DejaVuSans-30\" transform=\"translate(83.789062 0)\"/>\n       <use xlink:href=\"#DejaVuSans-2e\" transform=\"translate(147.412109 0)\"/>\n       <use xlink:href=\"#DejaVuSans-35\" transform=\"translate(179.199219 0)\"/>\n      </g>\n     </g>\n    </g>\n    <g id=\"xtick_2\">\n     <g id=\"text_2\">\n      <!-- 0.0 -->\n      <g style=\"fill: #262626\" transform=\"translate(112.716875 261.936406) scale(0.11 -0.11)\">\n       <use xlink:href=\"#DejaVuSans-30\"/>\n       <use xlink:href=\"#DejaVuSans-2e\" transform=\"translate(63.623047 0)\"/>\n       <use xlink:href=\"#DejaVuSans-30\" transform=\"translate(95.410156 0)\"/>\n      </g>\n     </g>\n    </g>\n    <g id=\"xtick_3\">\n     <g id=\"text_3\">\n      <!-- 0.5 -->\n      <g style=\"fill: #262626\" transform=\"translate(168.156875 261.936406) scale(0.11 -0.11)\">\n       <use xlink:href=\"#DejaVuSans-30\"/>\n       <use xlink:href=\"#DejaVuSans-2e\" transform=\"translate(63.623047 0)\"/>\n       <use xlink:href=\"#DejaVuSans-35\" transform=\"translate(95.410156 0)\"/>\n      </g>\n     </g>\n    </g>\n    <g id=\"xtick_4\">\n     <g id=\"text_4\">\n      <!-- 1.0 -->\n      <g style=\"fill: #262626\" transform=\"translate(223.596875 261.936406) scale(0.11 -0.11)\">\n       <defs>\n        <path id=\"DejaVuSans-31\" d=\"M 794 531 \nL 1825 531 \nL 1825 4091 \nL 703 3866 \nL 703 4441 \nL 1819 4666 \nL 2450 4666 \nL 2450 531 \nL 3481 531 \nL 3481 0 \nL 794 0 \nL 794 531 \nz\n\" transform=\"scale(0.015625)\"/>\n       </defs>\n       <use xlink:href=\"#DejaVuSans-31\"/>\n       <use xlink:href=\"#DejaVuSans-2e\" transform=\"translate(63.623047 0)\"/>\n       <use xlink:href=\"#DejaVuSans-30\" transform=\"translate(95.410156 0)\"/>\n      </g>\n     </g>\n    </g>\n    <g id=\"xtick_5\">\n     <g id=\"text_5\">\n      <!-- 1.5 -->\n      <g style=\"fill: #262626\" transform=\"translate(279.036875 261.936406) scale(0.11 -0.11)\">\n       <use xlink:href=\"#DejaVuSans-31\"/>\n       <use xlink:href=\"#DejaVuSans-2e\" transform=\"translate(63.623047 0)\"/>\n       <use xlink:href=\"#DejaVuSans-35\" transform=\"translate(95.410156 0)\"/>\n      </g>\n     </g>\n    </g>\n    <g id=\"text_6\">\n     <!-- $x_1$ -->\n     <g style=\"fill: #262626\" transform=\"translate(170.483594 277.342188) scale(0.12 -0.12)\">\n      <defs>\n       <path id=\"DejaVuSans-Oblique-78\" d=\"M 3841 3500 \nL 2234 1784 \nL 3219 0 \nL 2559 0 \nL 1819 1388 \nL 531 0 \nL -166 0 \nL 1556 1844 \nL 641 3500 \nL 1300 3500 \nL 1972 2234 \nL 3144 3500 \nL 3841 3500 \nz\n\" transform=\"scale(0.015625)\"/>\n      </defs>\n      <use xlink:href=\"#DejaVuSans-Oblique-78\" transform=\"translate(0 0.3125)\"/>\n      <use xlink:href=\"#DejaVuSans-31\" transform=\"translate(59.179688 -16.09375) scale(0.7)\"/>\n     </g>\n    </g>\n   </g>\n   <g id=\"matplotlib.axis_2\">\n    <g id=\"ytick_1\">\n     <g id=\"text_7\">\n      <!-- −0.50 -->\n      <g style=\"fill: #262626\" transform=\"translate(22.81375 248.257266) scale(0.11 -0.11)\">\n       <use xlink:href=\"#DejaVuSans-2212\"/>\n       <use xlink:href=\"#DejaVuSans-30\" transform=\"translate(83.789062 0)\"/>\n       <use xlink:href=\"#DejaVuSans-2e\" transform=\"translate(147.412109 0)\"/>\n       <use xlink:href=\"#DejaVuSans-35\" transform=\"translate(179.199219 0)\"/>\n       <use xlink:href=\"#DejaVuSans-30\" transform=\"translate(242.822266 0)\"/>\n      </g>\n     </g>\n    </g>\n    <g id=\"ytick_2\">\n     <g id=\"text_8\">\n      <!-- −0.25 -->\n      <g style=\"fill: #262626\" transform=\"translate(22.81375 220.537266) scale(0.11 -0.11)\">\n       <defs>\n        <path id=\"DejaVuSans-32\" d=\"M 1228 531 \nL 3431 531 \nL 3431 0 \nL 469 0 \nL 469 531 \nQ 828 903 1448 1529 \nQ 2069 2156 2228 2338 \nQ 2531 2678 2651 2914 \nQ 2772 3150 2772 3378 \nQ 2772 3750 2511 3984 \nQ 2250 4219 1831 4219 \nQ 1534 4219 1204 4116 \nQ 875 4013 500 3803 \nL 500 4441 \nQ 881 4594 1212 4672 \nQ 1544 4750 1819 4750 \nQ 2544 4750 2975 4387 \nQ 3406 4025 3406 3419 \nQ 3406 3131 3298 2873 \nQ 3191 2616 2906 2266 \nQ 2828 2175 2409 1742 \nQ 1991 1309 1228 531 \nz\n\" transform=\"scale(0.015625)\"/>\n       </defs>\n       <use xlink:href=\"#DejaVuSans-2212\"/>\n       <use xlink:href=\"#DejaVuSans-30\" transform=\"translate(83.789062 0)\"/>\n       <use xlink:href=\"#DejaVuSans-2e\" transform=\"translate(147.412109 0)\"/>\n       <use xlink:href=\"#DejaVuSans-32\" transform=\"translate(179.199219 0)\"/>\n       <use xlink:href=\"#DejaVuSans-35\" transform=\"translate(242.822266 0)\"/>\n      </g>\n     </g>\n    </g>\n    <g id=\"ytick_3\">\n     <g id=\"text_9\">\n      <!-- 0.00 -->\n      <g style=\"fill: #262626\" transform=\"translate(32.031406 192.817266) scale(0.11 -0.11)\">\n       <use xlink:href=\"#DejaVuSans-30\"/>\n       <use xlink:href=\"#DejaVuSans-2e\" transform=\"translate(63.623047 0)\"/>\n       <use xlink:href=\"#DejaVuSans-30\" transform=\"translate(95.410156 0)\"/>\n       <use xlink:href=\"#DejaVuSans-30\" transform=\"translate(159.033203 0)\"/>\n      </g>\n     </g>\n    </g>\n    <g id=\"ytick_4\">\n     <g id=\"text_10\">\n      <!-- 0.25 -->\n      <g style=\"fill: #262626\" transform=\"translate(32.031406 165.097266) scale(0.11 -0.11)\">\n       <use xlink:href=\"#DejaVuSans-30\"/>\n       <use xlink:href=\"#DejaVuSans-2e\" transform=\"translate(63.623047 0)\"/>\n       <use xlink:href=\"#DejaVuSans-32\" transform=\"translate(95.410156 0)\"/>\n       <use xlink:href=\"#DejaVuSans-35\" transform=\"translate(159.033203 0)\"/>\n      </g>\n     </g>\n    </g>\n    <g id=\"ytick_5\">\n     <g id=\"text_11\">\n      <!-- 0.50 -->\n      <g style=\"fill: #262626\" transform=\"translate(32.031406 137.377266) scale(0.11 -0.11)\">\n       <use xlink:href=\"#DejaVuSans-30\"/>\n       <use xlink:href=\"#DejaVuSans-2e\" transform=\"translate(63.623047 0)\"/>\n       <use xlink:href=\"#DejaVuSans-35\" transform=\"translate(95.410156 0)\"/>\n       <use xlink:href=\"#DejaVuSans-30\" transform=\"translate(159.033203 0)\"/>\n      </g>\n     </g>\n    </g>\n    <g id=\"ytick_6\">\n     <g id=\"text_12\">\n      <!-- 0.75 -->\n      <g style=\"fill: #262626\" transform=\"translate(32.031406 109.657266) scale(0.11 -0.11)\">\n       <defs>\n        <path id=\"DejaVuSans-37\" d=\"M 525 4666 \nL 3525 4666 \nL 3525 4397 \nL 1831 0 \nL 1172 0 \nL 2766 4134 \nL 525 4134 \nL 525 4666 \nz\n\" transform=\"scale(0.015625)\"/>\n       </defs>\n       <use xlink:href=\"#DejaVuSans-30\"/>\n       <use xlink:href=\"#DejaVuSans-2e\" transform=\"translate(63.623047 0)\"/>\n       <use xlink:href=\"#DejaVuSans-37\" transform=\"translate(95.410156 0)\"/>\n       <use xlink:href=\"#DejaVuSans-35\" transform=\"translate(159.033203 0)\"/>\n      </g>\n     </g>\n    </g>\n    <g id=\"ytick_7\">\n     <g id=\"text_13\">\n      <!-- 1.00 -->\n      <g style=\"fill: #262626\" transform=\"translate(32.031406 81.937266) scale(0.11 -0.11)\">\n       <use xlink:href=\"#DejaVuSans-31\"/>\n       <use xlink:href=\"#DejaVuSans-2e\" transform=\"translate(63.623047 0)\"/>\n       <use xlink:href=\"#DejaVuSans-30\" transform=\"translate(95.410156 0)\"/>\n       <use xlink:href=\"#DejaVuSans-30\" transform=\"translate(159.033203 0)\"/>\n      </g>\n     </g>\n    </g>\n    <g id=\"ytick_8\">\n     <g id=\"text_14\">\n      <!-- 1.25 -->\n      <g style=\"fill: #262626\" transform=\"translate(32.031406 54.217266) scale(0.11 -0.11)\">\n       <use xlink:href=\"#DejaVuSans-31\"/>\n       <use xlink:href=\"#DejaVuSans-2e\" transform=\"translate(63.623047 0)\"/>\n       <use xlink:href=\"#DejaVuSans-32\" transform=\"translate(95.410156 0)\"/>\n       <use xlink:href=\"#DejaVuSans-35\" transform=\"translate(159.033203 0)\"/>\n      </g>\n     </g>\n    </g>\n    <g id=\"ytick_9\">\n     <g id=\"text_15\">\n      <!-- 1.50 -->\n      <g style=\"fill: #262626\" transform=\"translate(32.031406 26.497266) scale(0.11 -0.11)\">\n       <use xlink:href=\"#DejaVuSans-31\"/>\n       <use xlink:href=\"#DejaVuSans-2e\" transform=\"translate(63.623047 0)\"/>\n       <use xlink:href=\"#DejaVuSans-35\" transform=\"translate(95.410156 0)\"/>\n       <use xlink:href=\"#DejaVuSans-30\" transform=\"translate(159.033203 0)\"/>\n      </g>\n     </g>\n    </g>\n    <g id=\"text_16\">\n     <!-- $x_2$ -->\n     <g style=\"fill: #262626\" transform=\"translate(16.318125 139.618125) rotate(-90) scale(0.12 -0.12)\">\n      <use xlink:href=\"#DejaVuSans-Oblique-78\" transform=\"translate(0 0.3125)\"/>\n      <use xlink:href=\"#DejaVuSans-32\" transform=\"translate(59.179688 -16.09375) scale(0.7)\"/>\n     </g>\n    </g>\n   </g>\n   <g id=\"PathCollection_1\">\n    <defs>\n     <path id=\"m7ad53f7a63\" d=\"M 0 3 \nC 0.795609 3 1.55874 2.683901 2.12132 2.12132 \nC 2.683901 1.55874 3 0.795609 3 0 \nC 3 -0.795609 2.683901 -1.55874 2.12132 -2.12132 \nC 1.55874 -2.683901 0.795609 -3 0 -3 \nC -0.795609 -3 -1.55874 -2.683901 -2.12132 -2.12132 \nC -2.683901 -1.55874 -3 -0.795609 -3 0 \nC -3 0.795609 -2.683901 1.55874 -2.12132 2.12132 \nC -1.55874 2.683901 -0.795609 3 0 3 \nz\n\" style=\"stroke: #333333\"/>\n    </defs>\n    <g clip-path=\"url(#pb1facfb168)\">\n     <use xlink:href=\"#m7ad53f7a63\" x=\"90.405658\" y=\"191.312705\" style=\"fill: #4c72b0; stroke: #333333\"/>\n     <use xlink:href=\"#m7ad53f7a63\" x=\"247.829848\" y=\"65.779221\" style=\"fill: #4c72b0; stroke: #333333\"/>\n     <use xlink:href=\"#m7ad53f7a63\" x=\"223.874796\" y=\"51.269296\" style=\"fill: #4c72b0; stroke: #333333\"/>\n     <use xlink:href=\"#m7ad53f7a63\" x=\"125.781174\" y=\"204.006943\" style=\"fill: #4c72b0; stroke: #333333\"/>\n     <use xlink:href=\"#m7ad53f7a63\" x=\"114.557342\" y=\"180.504362\" style=\"fill: #4c72b0; stroke: #333333\"/>\n     <use xlink:href=\"#m7ad53f7a63\" x=\"144.146558\" y=\"194.822351\" style=\"fill: #4c72b0; stroke: #333333\"/>\n     <use xlink:href=\"#m7ad53f7a63\" x=\"236.932051\" y=\"74.504651\" style=\"fill: #4c72b0; stroke: #333333\"/>\n     <use xlink:href=\"#m7ad53f7a63\" x=\"238.396769\" y=\"84.283359\" style=\"fill: #4c72b0; stroke: #333333\"/>\n     <use xlink:href=\"#m7ad53f7a63\" x=\"122.457329\" y=\"175.95545\" style=\"fill: #4c72b0; stroke: #333333\"/>\n     <use xlink:href=\"#m7ad53f7a63\" x=\"241.522703\" y=\"67.876007\" style=\"fill: #4c72b0; stroke: #333333\"/>\n     <use xlink:href=\"#m7ad53f7a63\" x=\"128.794592\" y=\"182.724899\" style=\"fill: #4c72b0; stroke: #333333\"/>\n     <use xlink:href=\"#m7ad53f7a63\" x=\"233.182681\" y=\"71.469155\" style=\"fill: #4c72b0; stroke: #333333\"/>\n     <use xlink:href=\"#m7ad53f7a63\" x=\"235.345755\" y=\"70.6019\" style=\"fill: #4c72b0; stroke: #333333\"/>\n     <use xlink:href=\"#m7ad53f7a63\" x=\"246.491361\" y=\"72.582064\" style=\"fill: #4c72b0; stroke: #333333\"/>\n     <use xlink:href=\"#m7ad53f7a63\" x=\"124.98225\" y=\"190.495752\" style=\"fill: #4c72b0; stroke: #333333\"/>\n     <use xlink:href=\"#m7ad53f7a63\" x=\"108.371478\" y=\"194.188775\" style=\"fill: #4c72b0; stroke: #333333\"/>\n     <use xlink:href=\"#m7ad53f7a63\" x=\"227.781731\" y=\"70.384254\" style=\"fill: #4c72b0; stroke: #333333\"/>\n     <use xlink:href=\"#m7ad53f7a63\" x=\"234.923098\" y=\"68.189259\" style=\"fill: #4c72b0; stroke: #333333\"/>\n     <use xlink:href=\"#m7ad53f7a63\" x=\"224.579761\" y=\"92.68466\" style=\"fill: #4c72b0; stroke: #333333\"/>\n     <use xlink:href=\"#m7ad53f7a63\" x=\"124.64874\" y=\"205.182269\" style=\"fill: #4c72b0; stroke: #333333\"/>\n     <use xlink:href=\"#m7ad53f7a63\" x=\"222.765362\" y=\"81.85366\" style=\"fill: #4c72b0; stroke: #333333\"/>\n     <use xlink:href=\"#m7ad53f7a63\" x=\"254.083037\" y=\"84.585957\" style=\"fill: #4c72b0; stroke: #333333\"/>\n     <use xlink:href=\"#m7ad53f7a63\" x=\"118.880325\" y=\"196.099502\" style=\"fill: #4c72b0; stroke: #333333\"/>\n     <use xlink:href=\"#m7ad53f7a63\" x=\"237.701625\" y=\"82.158227\" style=\"fill: #4c72b0; stroke: #333333\"/>\n     <use xlink:href=\"#m7ad53f7a63\" x=\"120.625694\" y=\"190.354103\" style=\"fill: #4c72b0; stroke: #333333\"/>\n     <use xlink:href=\"#m7ad53f7a63\" x=\"217.575218\" y=\"77.225244\" style=\"fill: #4c72b0; stroke: #333333\"/>\n     <use xlink:href=\"#m7ad53f7a63\" x=\"136.064685\" y=\"195.550981\" style=\"fill: #4c72b0; stroke: #333333\"/>\n     <use xlink:href=\"#m7ad53f7a63\" x=\"224.570898\" y=\"85.404722\" style=\"fill: #4c72b0; stroke: #333333\"/>\n     <use xlink:href=\"#m7ad53f7a63\" x=\"236.967251\" y=\"85.910572\" style=\"fill: #4c72b0; stroke: #333333\"/>\n     <use xlink:href=\"#m7ad53f7a63\" x=\"236.615363\" y=\"85.398139\" style=\"fill: #4c72b0; stroke: #333333\"/>\n     <use xlink:href=\"#m7ad53f7a63\" x=\"126.219369\" y=\"170.162617\" style=\"fill: #4c72b0; stroke: #333333\"/>\n     <use xlink:href=\"#m7ad53f7a63\" x=\"120.927329\" y=\"183.609846\" style=\"fill: #4c72b0; stroke: #333333\"/>\n     <use xlink:href=\"#m7ad53f7a63\" x=\"140.967126\" y=\"197.416575\" style=\"fill: #4c72b0; stroke: #333333\"/>\n     <use xlink:href=\"#m7ad53f7a63\" x=\"132.397011\" y=\"211.702652\" style=\"fill: #4c72b0; stroke: #333333\"/>\n     <use xlink:href=\"#m7ad53f7a63\" x=\"126.273889\" y=\"200.008899\" style=\"fill: #4c72b0; stroke: #333333\"/>\n     <use xlink:href=\"#m7ad53f7a63\" x=\"133.247833\" y=\"188.687474\" style=\"fill: #4c72b0; stroke: #333333\"/>\n     <use xlink:href=\"#m7ad53f7a63\" x=\"119.826952\" y=\"187.496696\" style=\"fill: #4c72b0; stroke: #333333\"/>\n     <use xlink:href=\"#m7ad53f7a63\" x=\"227.331977\" y=\"86.013024\" style=\"fill: #4c72b0; stroke: #333333\"/>\n     <use xlink:href=\"#m7ad53f7a63\" x=\"229.169467\" y=\"76.413558\" style=\"fill: #4c72b0; stroke: #333333\"/>\n     <use xlink:href=\"#m7ad53f7a63\" x=\"237.379861\" y=\"69.472825\" style=\"fill: #4c72b0; stroke: #333333\"/>\n     <use xlink:href=\"#m7ad53f7a63\" x=\"126.861419\" y=\"204.109162\" style=\"fill: #4c72b0; stroke: #333333\"/>\n     <use xlink:href=\"#m7ad53f7a63\" x=\"232.390028\" y=\"69.012392\" style=\"fill: #4c72b0; stroke: #333333\"/>\n     <use xlink:href=\"#m7ad53f7a63\" x=\"232.288858\" y=\"81.427838\" style=\"fill: #4c72b0; stroke: #333333\"/>\n     <use xlink:href=\"#m7ad53f7a63\" x=\"132.463894\" y=\"204.165095\" style=\"fill: #4c72b0; stroke: #333333\"/>\n     <use xlink:href=\"#m7ad53f7a63\" x=\"97.142033\" y=\"207.75499\" style=\"fill: #4c72b0; stroke: #333333\"/>\n     <use xlink:href=\"#m7ad53f7a63\" x=\"115.375553\" y=\"200.697849\" style=\"fill: #4c72b0; stroke: #333333\"/>\n     <use xlink:href=\"#m7ad53f7a63\" x=\"225.48082\" y=\"67.121118\" style=\"fill: #4c72b0; stroke: #333333\"/>\n     <use xlink:href=\"#m7ad53f7a63\" x=\"237.085855\" y=\"73.495542\" style=\"fill: #4c72b0; stroke: #333333\"/>\n     <use xlink:href=\"#m7ad53f7a63\" x=\"95.990207\" y=\"199.031882\" style=\"fill: #4c72b0; stroke: #333333\"/>\n     <use xlink:href=\"#m7ad53f7a63\" x=\"222.402246\" y=\"87.132443\" style=\"fill: #4c72b0; stroke: #333333\"/>\n     <use xlink:href=\"#m7ad53f7a63\" x=\"139.505941\" y=\"200.202266\" style=\"fill: #4c72b0; stroke: #333333\"/>\n     <use xlink:href=\"#m7ad53f7a63\" x=\"234.401995\" y=\"84.755563\" style=\"fill: #4c72b0; stroke: #333333\"/>\n     <use xlink:href=\"#m7ad53f7a63\" x=\"145.882747\" y=\"194.5608\" style=\"fill: #4c72b0; stroke: #333333\"/>\n     <use xlink:href=\"#m7ad53f7a63\" x=\"243.92744\" y=\"96.371721\" style=\"fill: #4c72b0; stroke: #333333\"/>\n     <use xlink:href=\"#m7ad53f7a63\" x=\"241.160506\" y=\"68.243122\" style=\"fill: #4c72b0; stroke: #333333\"/>\n     <use xlink:href=\"#m7ad53f7a63\" x=\"108.614093\" y=\"171.9158\" style=\"fill: #4c72b0; stroke: #333333\"/>\n     <use xlink:href=\"#m7ad53f7a63\" x=\"247.376632\" y=\"78.901595\" style=\"fill: #4c72b0; stroke: #333333\"/>\n     <use xlink:href=\"#m7ad53f7a63\" x=\"221.811213\" y=\"57.103609\" style=\"fill: #4c72b0; stroke: #333333\"/>\n     <use xlink:href=\"#m7ad53f7a63\" x=\"126.892584\" y=\"195.668169\" style=\"fill: #4c72b0; stroke: #333333\"/>\n     <use xlink:href=\"#m7ad53f7a63\" x=\"107.874602\" y=\"191.712667\" style=\"fill: #4c72b0; stroke: #333333\"/>\n     <use xlink:href=\"#m7ad53f7a63\" x=\"116.798536\" y=\"176.400808\" style=\"fill: #4c72b0; stroke: #333333\"/>\n     <use xlink:href=\"#m7ad53f7a63\" x=\"105.522798\" y=\"182.690065\" style=\"fill: #4c72b0; stroke: #333333\"/>\n     <use xlink:href=\"#m7ad53f7a63\" x=\"238.516365\" y=\"81.669957\" style=\"fill: #4c72b0; stroke: #333333\"/>\n     <use xlink:href=\"#m7ad53f7a63\" x=\"248.182701\" y=\"74.89462\" style=\"fill: #4c72b0; stroke: #333333\"/>\n     <use xlink:href=\"#m7ad53f7a63\" x=\"226.080313\" y=\"94.020661\" style=\"fill: #4c72b0; stroke: #333333\"/>\n     <use xlink:href=\"#m7ad53f7a63\" x=\"112.051038\" y=\"202.588973\" style=\"fill: #4c72b0; stroke: #333333\"/>\n     <use xlink:href=\"#m7ad53f7a63\" x=\"227.724867\" y=\"78.255767\" style=\"fill: #4c72b0; stroke: #333333\"/>\n     <use xlink:href=\"#m7ad53f7a63\" x=\"224.667686\" y=\"78.606551\" style=\"fill: #4c72b0; stroke: #333333\"/>\n     <use xlink:href=\"#m7ad53f7a63\" x=\"109.698833\" y=\"209.104988\" style=\"fill: #4c72b0; stroke: #333333\"/>\n     <use xlink:href=\"#m7ad53f7a63\" x=\"132.51058\" y=\"185.880852\" style=\"fill: #4c72b0; stroke: #333333\"/>\n     <use xlink:href=\"#m7ad53f7a63\" x=\"102.568246\" y=\"194.893845\" style=\"fill: #4c72b0; stroke: #333333\"/>\n     <use xlink:href=\"#m7ad53f7a63\" x=\"124.102881\" y=\"174.836383\" style=\"fill: #4c72b0; stroke: #333333\"/>\n     <use xlink:href=\"#m7ad53f7a63\" x=\"229.809876\" y=\"73.381828\" style=\"fill: #4c72b0; stroke: #333333\"/>\n     <use xlink:href=\"#m7ad53f7a63\" x=\"244.938136\" y=\"82.79358\" style=\"fill: #4c72b0; stroke: #333333\"/>\n     <use xlink:href=\"#m7ad53f7a63\" x=\"130.725135\" y=\"188.237209\" style=\"fill: #4c72b0; stroke: #333333\"/>\n     <use xlink:href=\"#m7ad53f7a63\" x=\"146.767484\" y=\"197.408396\" style=\"fill: #4c72b0; stroke: #333333\"/>\n     <use xlink:href=\"#m7ad53f7a63\" x=\"124.393427\" y=\"192.171805\" style=\"fill: #4c72b0; stroke: #333333\"/>\n     <use xlink:href=\"#m7ad53f7a63\" x=\"236.091048\" y=\"83.074626\" style=\"fill: #4c72b0; stroke: #333333\"/>\n     <use xlink:href=\"#m7ad53f7a63\" x=\"235.37687\" y=\"83.700871\" style=\"fill: #4c72b0; stroke: #333333\"/>\n     <use xlink:href=\"#m7ad53f7a63\" x=\"118.426971\" y=\"196.313837\" style=\"fill: #4c72b0; stroke: #333333\"/>\n     <use xlink:href=\"#m7ad53f7a63\" x=\"225.774403\" y=\"80.35593\" style=\"fill: #4c72b0; stroke: #333333\"/>\n     <use xlink:href=\"#m7ad53f7a63\" x=\"207.971959\" y=\"92.582901\" style=\"fill: #4c72b0; stroke: #333333\"/>\n     <use xlink:href=\"#m7ad53f7a63\" x=\"233.47296\" y=\"79.398351\" style=\"fill: #4c72b0; stroke: #333333\"/>\n     <use xlink:href=\"#m7ad53f7a63\" x=\"140.584583\" y=\"190.211887\" style=\"fill: #4c72b0; stroke: #333333\"/>\n     <use xlink:href=\"#m7ad53f7a63\" x=\"237.678798\" y=\"71.906708\" style=\"fill: #4c72b0; stroke: #333333\"/>\n     <use xlink:href=\"#m7ad53f7a63\" x=\"126.485281\" y=\"184.110318\" style=\"fill: #4c72b0; stroke: #333333\"/>\n     <use xlink:href=\"#m7ad53f7a63\" x=\"128.878687\" y=\"203.542739\" style=\"fill: #4c72b0; stroke: #333333\"/>\n     <use xlink:href=\"#m7ad53f7a63\" x=\"139.037395\" y=\"192.936051\" style=\"fill: #4c72b0; stroke: #333333\"/>\n     <use xlink:href=\"#m7ad53f7a63\" x=\"220.75251\" y=\"58.917888\" style=\"fill: #4c72b0; stroke: #333333\"/>\n     <use xlink:href=\"#m7ad53f7a63\" x=\"238.231268\" y=\"64.971183\" style=\"fill: #4c72b0; stroke: #333333\"/>\n     <use xlink:href=\"#m7ad53f7a63\" x=\"229.934812\" y=\"78.274721\" style=\"fill: #4c72b0; stroke: #333333\"/>\n     <use xlink:href=\"#m7ad53f7a63\" x=\"132.070222\" y=\"191.702247\" style=\"fill: #4c72b0; stroke: #333333\"/>\n     <use xlink:href=\"#m7ad53f7a63\" x=\"112.005763\" y=\"194.341843\" style=\"fill: #4c72b0; stroke: #333333\"/>\n     <use xlink:href=\"#m7ad53f7a63\" x=\"132.694235\" y=\"185.799904\" style=\"fill: #4c72b0; stroke: #333333\"/>\n     <use xlink:href=\"#m7ad53f7a63\" x=\"217.908852\" y=\"82.837444\" style=\"fill: #4c72b0; stroke: #333333\"/>\n     <use xlink:href=\"#m7ad53f7a63\" x=\"132.38706\" y=\"183.941915\" style=\"fill: #4c72b0; stroke: #333333\"/>\n     <use xlink:href=\"#m7ad53f7a63\" x=\"123.919978\" y=\"191.830854\" style=\"fill: #4c72b0; stroke: #333333\"/>\n     <use xlink:href=\"#m7ad53f7a63\" x=\"116.359396\" y=\"197.482645\" style=\"fill: #4c72b0; stroke: #333333\"/>\n     <use xlink:href=\"#m7ad53f7a63\" x=\"122.10243\" y=\"200.574291\" style=\"fill: #4c72b0; stroke: #333333\"/>\n     <use xlink:href=\"#m7ad53f7a63\" x=\"215.788849\" y=\"69.735756\" style=\"fill: #4c72b0; stroke: #333333\"/>\n     <use xlink:href=\"#m7ad53f7a63\" x=\"218.59241\" y=\"82.675967\" style=\"fill: #4c72b0; stroke: #333333\"/>\n     <use xlink:href=\"#m7ad53f7a63\" x=\"107.07396\" y=\"198.123298\" style=\"fill: #4c72b0; stroke: #333333\"/>\n     <use xlink:href=\"#m7ad53f7a63\" x=\"201.555687\" y=\"91.624932\" style=\"fill: #4c72b0; stroke: #333333\"/>\n     <use xlink:href=\"#m7ad53f7a63\" x=\"111.928206\" y=\"173.810857\" style=\"fill: #4c72b0; stroke: #333333\"/>\n     <use xlink:href=\"#m7ad53f7a63\" x=\"114.890965\" y=\"183.120276\" style=\"fill: #4c72b0; stroke: #333333\"/>\n     <use xlink:href=\"#m7ad53f7a63\" x=\"223.195295\" y=\"74.688764\" style=\"fill: #4c72b0; stroke: #333333\"/>\n    </g>\n   </g>\n   <g id=\"PathCollection_2\">\n    <defs>\n     <path id=\"m75dcb506d3\" d=\"M 0 3 \nC 0.795609 3 1.55874 2.683901 2.12132 2.12132 \nC 2.683901 1.55874 3 0.795609 3 0 \nC 3 -0.795609 2.683901 -1.55874 2.12132 -2.12132 \nC 1.55874 -2.683901 0.795609 -3 0 -3 \nC -0.795609 -3 -1.55874 -2.683901 -2.12132 -2.12132 \nC -2.683901 -1.55874 -3 -0.795609 -3 0 \nC -3 0.795609 -2.683901 1.55874 -2.12132 2.12132 \nC -1.55874 2.683901 -0.795609 3 0 3 \nz\n\" style=\"stroke: #333333\"/>\n    </defs>\n    <g clip-path=\"url(#pb1facfb168)\">\n     <use xlink:href=\"#m75dcb506d3\" x=\"236.475901\" y=\"183.774713\" style=\"fill: #dd8452; stroke: #333333\"/>\n     <use xlink:href=\"#m75dcb506d3\" x=\"113.011506\" y=\"88.774976\" style=\"fill: #dd8452; stroke: #333333\"/>\n     <use xlink:href=\"#m75dcb506d3\" x=\"229.984994\" y=\"189.440661\" style=\"fill: #dd8452; stroke: #333333\"/>\n     <use xlink:href=\"#m75dcb506d3\" x=\"120.562035\" y=\"66.871947\" style=\"fill: #dd8452; stroke: #333333\"/>\n     <use xlink:href=\"#m75dcb506d3\" x=\"240.707342\" y=\"212.392623\" style=\"fill: #dd8452; stroke: #333333\"/>\n     <use xlink:href=\"#m75dcb506d3\" x=\"231.701751\" y=\"193.692073\" style=\"fill: #dd8452; stroke: #333333\"/>\n     <use xlink:href=\"#m75dcb506d3\" x=\"222.137167\" y=\"200.856586\" style=\"fill: #dd8452; stroke: #333333\"/>\n     <use xlink:href=\"#m75dcb506d3\" x=\"110.447694\" y=\"72.414461\" style=\"fill: #dd8452; stroke: #333333\"/>\n     <use xlink:href=\"#m75dcb506d3\" x=\"128.694549\" y=\"76.355729\" style=\"fill: #dd8452; stroke: #333333\"/>\n     <use xlink:href=\"#m75dcb506d3\" x=\"122.4493\" y=\"95.761125\" style=\"fill: #dd8452; stroke: #333333\"/>\n     <use xlink:href=\"#m75dcb506d3\" x=\"109.590963\" y=\"80.873551\" style=\"fill: #dd8452; stroke: #333333\"/>\n     <use xlink:href=\"#m75dcb506d3\" x=\"115.558054\" y=\"82.055022\" style=\"fill: #dd8452; stroke: #333333\"/>\n     <use xlink:href=\"#m75dcb506d3\" x=\"245.962671\" y=\"179.644927\" style=\"fill: #dd8452; stroke: #333333\"/>\n     <use xlink:href=\"#m75dcb506d3\" x=\"238.371193\" y=\"189.80161\" style=\"fill: #dd8452; stroke: #333333\"/>\n     <use xlink:href=\"#m75dcb506d3\" x=\"215.059391\" y=\"179.253954\" style=\"fill: #dd8452; stroke: #333333\"/>\n     <use xlink:href=\"#m75dcb506d3\" x=\"113.018111\" y=\"75.815579\" style=\"fill: #dd8452; stroke: #333333\"/>\n     <use xlink:href=\"#m75dcb506d3\" x=\"230.37867\" y=\"202.565535\" style=\"fill: #dd8452; stroke: #333333\"/>\n     <use xlink:href=\"#m75dcb506d3\" x=\"227.854006\" y=\"199.628281\" style=\"fill: #dd8452; stroke: #333333\"/>\n     <use xlink:href=\"#m75dcb506d3\" x=\"227.109295\" y=\"174.952293\" style=\"fill: #dd8452; stroke: #333333\"/>\n     <use xlink:href=\"#m75dcb506d3\" x=\"221.927947\" y=\"182.520831\" style=\"fill: #dd8452; stroke: #333333\"/>\n     <use xlink:href=\"#m75dcb506d3\" x=\"221.565988\" y=\"205.259289\" style=\"fill: #dd8452; stroke: #333333\"/>\n     <use xlink:href=\"#m75dcb506d3\" x=\"135.579346\" y=\"61.375907\" style=\"fill: #dd8452; stroke: #333333\"/>\n     <use xlink:href=\"#m75dcb506d3\" x=\"231.71826\" y=\"185.484958\" style=\"fill: #dd8452; stroke: #333333\"/>\n     <use xlink:href=\"#m75dcb506d3\" x=\"114.584878\" y=\"74.565877\" style=\"fill: #dd8452; stroke: #333333\"/>\n     <use xlink:href=\"#m75dcb506d3\" x=\"245.227714\" y=\"196.596251\" style=\"fill: #dd8452; stroke: #333333\"/>\n     <use xlink:href=\"#m75dcb506d3\" x=\"100.928622\" y=\"79.428699\" style=\"fill: #dd8452; stroke: #333333\"/>\n     <use xlink:href=\"#m75dcb506d3\" x=\"144.110037\" y=\"74.246743\" style=\"fill: #dd8452; stroke: #333333\"/>\n     <use xlink:href=\"#m75dcb506d3\" x=\"232.409353\" y=\"192.271072\" style=\"fill: #dd8452; stroke: #333333\"/>\n     <use xlink:href=\"#m75dcb506d3\" x=\"230.096593\" y=\"188.845528\" style=\"fill: #dd8452; stroke: #333333\"/>\n     <use xlink:href=\"#m75dcb506d3\" x=\"126.835945\" y=\"74.60479\" style=\"fill: #dd8452; stroke: #333333\"/>\n     <use xlink:href=\"#m75dcb506d3\" x=\"224.435573\" y=\"182.690366\" style=\"fill: #dd8452; stroke: #333333\"/>\n     <use xlink:href=\"#m75dcb506d3\" x=\"133.091378\" y=\"92.351105\" style=\"fill: #dd8452; stroke: #333333\"/>\n     <use xlink:href=\"#m75dcb506d3\" x=\"120.372303\" y=\"100.760667\" style=\"fill: #dd8452; stroke: #333333\"/>\n     <use xlink:href=\"#m75dcb506d3\" x=\"225.74654\" y=\"176.451452\" style=\"fill: #dd8452; stroke: #333333\"/>\n     <use xlink:href=\"#m75dcb506d3\" x=\"247.271774\" y=\"188.896818\" style=\"fill: #dd8452; stroke: #333333\"/>\n     <use xlink:href=\"#m75dcb506d3\" x=\"128.125008\" y=\"65.474402\" style=\"fill: #dd8452; stroke: #333333\"/>\n     <use xlink:href=\"#m75dcb506d3\" x=\"116.286228\" y=\"78.691079\" style=\"fill: #dd8452; stroke: #333333\"/>\n     <use xlink:href=\"#m75dcb506d3\" x=\"99.097027\" y=\"80.53915\" style=\"fill: #dd8452; stroke: #333333\"/>\n     <use xlink:href=\"#m75dcb506d3\" x=\"236.187499\" y=\"174.260288\" style=\"fill: #dd8452; stroke: #333333\"/>\n     <use xlink:href=\"#m75dcb506d3\" x=\"131.270104\" y=\"77.664582\" style=\"fill: #dd8452; stroke: #333333\"/>\n     <use xlink:href=\"#m75dcb506d3\" x=\"252.575348\" y=\"193.993399\" style=\"fill: #dd8452; stroke: #333333\"/>\n     <use xlink:href=\"#m75dcb506d3\" x=\"128.203769\" y=\"86.906205\" style=\"fill: #dd8452; stroke: #333333\"/>\n     <use xlink:href=\"#m75dcb506d3\" x=\"135.305448\" y=\"96.95557\" style=\"fill: #dd8452; stroke: #333333\"/>\n     <use xlink:href=\"#m75dcb506d3\" x=\"142.454384\" y=\"67.236867\" style=\"fill: #dd8452; stroke: #333333\"/>\n     <use xlink:href=\"#m75dcb506d3\" x=\"222.465811\" y=\"211.806797\" style=\"fill: #dd8452; stroke: #333333\"/>\n     <use xlink:href=\"#m75dcb506d3\" x=\"135.381612\" y=\"72.630429\" style=\"fill: #dd8452; stroke: #333333\"/>\n     <use xlink:href=\"#m75dcb506d3\" x=\"125.698391\" y=\"80.132302\" style=\"fill: #dd8452; stroke: #333333\"/>\n     <use xlink:href=\"#m75dcb506d3\" x=\"217.250956\" y=\"191.494959\" style=\"fill: #dd8452; stroke: #333333\"/>\n     <use xlink:href=\"#m75dcb506d3\" x=\"228.924876\" y=\"187.839126\" style=\"fill: #dd8452; stroke: #333333\"/>\n     <use xlink:href=\"#m75dcb506d3\" x=\"124.726984\" y=\"81.740303\" style=\"fill: #dd8452; stroke: #333333\"/>\n     <use xlink:href=\"#m75dcb506d3\" x=\"122.699679\" y=\"56.235812\" style=\"fill: #dd8452; stroke: #333333\"/>\n     <use xlink:href=\"#m75dcb506d3\" x=\"230.485913\" y=\"183.5154\" style=\"fill: #dd8452; stroke: #333333\"/>\n     <use xlink:href=\"#m75dcb506d3\" x=\"226.45699\" y=\"192.419532\" style=\"fill: #dd8452; stroke: #333333\"/>\n     <use xlink:href=\"#m75dcb506d3\" x=\"123.74426\" y=\"70.367031\" style=\"fill: #dd8452; stroke: #333333\"/>\n     <use xlink:href=\"#m75dcb506d3\" x=\"116.529484\" y=\"59.783094\" style=\"fill: #dd8452; stroke: #333333\"/>\n     <use xlink:href=\"#m75dcb506d3\" x=\"108.964188\" y=\"95.798909\" style=\"fill: #dd8452; stroke: #333333\"/>\n     <use xlink:href=\"#m75dcb506d3\" x=\"127.047351\" y=\"79.678941\" style=\"fill: #dd8452; stroke: #333333\"/>\n     <use xlink:href=\"#m75dcb506d3\" x=\"122.231223\" y=\"59.615491\" style=\"fill: #dd8452; stroke: #333333\"/>\n     <use xlink:href=\"#m75dcb506d3\" x=\"121.448539\" y=\"73.549643\" style=\"fill: #dd8452; stroke: #333333\"/>\n     <use xlink:href=\"#m75dcb506d3\" x=\"117.15241\" y=\"68.636183\" style=\"fill: #dd8452; stroke: #333333\"/>\n     <use xlink:href=\"#m75dcb506d3\" x=\"218.833988\" y=\"199.102902\" style=\"fill: #dd8452; stroke: #333333\"/>\n     <use xlink:href=\"#m75dcb506d3\" x=\"103.372053\" y=\"97.780163\" style=\"fill: #dd8452; stroke: #333333\"/>\n     <use xlink:href=\"#m75dcb506d3\" x=\"229.773163\" y=\"184.242418\" style=\"fill: #dd8452; stroke: #333333\"/>\n     <use xlink:href=\"#m75dcb506d3\" x=\"228.652898\" y=\"186.531768\" style=\"fill: #dd8452; stroke: #333333\"/>\n     <use xlink:href=\"#m75dcb506d3\" x=\"246.240802\" y=\"165.281671\" style=\"fill: #dd8452; stroke: #333333\"/>\n     <use xlink:href=\"#m75dcb506d3\" x=\"226.747871\" y=\"190.383321\" style=\"fill: #dd8452; stroke: #333333\"/>\n     <use xlink:href=\"#m75dcb506d3\" x=\"122.947611\" y=\"86.654225\" style=\"fill: #dd8452; stroke: #333333\"/>\n     <use xlink:href=\"#m75dcb506d3\" x=\"213.923092\" y=\"183.401974\" style=\"fill: #dd8452; stroke: #333333\"/>\n     <use xlink:href=\"#m75dcb506d3\" x=\"223.353104\" y=\"180.939069\" style=\"fill: #dd8452; stroke: #333333\"/>\n     <use xlink:href=\"#m75dcb506d3\" x=\"124.929523\" y=\"80.201042\" style=\"fill: #dd8452; stroke: #333333\"/>\n     <use xlink:href=\"#m75dcb506d3\" x=\"139.921436\" y=\"70.251929\" style=\"fill: #dd8452; stroke: #333333\"/>\n     <use xlink:href=\"#m75dcb506d3\" x=\"257.63665\" y=\"178.134555\" style=\"fill: #dd8452; stroke: #333333\"/>\n     <use xlink:href=\"#m75dcb506d3\" x=\"124.863799\" y=\"75.390913\" style=\"fill: #dd8452; stroke: #333333\"/>\n     <use xlink:href=\"#m75dcb506d3\" x=\"125.464371\" y=\"51.029483\" style=\"fill: #dd8452; stroke: #333333\"/>\n     <use xlink:href=\"#m75dcb506d3\" x=\"129.541231\" y=\"97.230741\" style=\"fill: #dd8452; stroke: #333333\"/>\n     <use xlink:href=\"#m75dcb506d3\" x=\"234.857564\" y=\"196.59411\" style=\"fill: #dd8452; stroke: #333333\"/>\n     <use xlink:href=\"#m75dcb506d3\" x=\"222.563855\" y=\"182.738557\" style=\"fill: #dd8452; stroke: #333333\"/>\n     <use xlink:href=\"#m75dcb506d3\" x=\"223.792481\" y=\"195.005818\" style=\"fill: #dd8452; stroke: #333333\"/>\n     <use xlink:href=\"#m75dcb506d3\" x=\"120.986536\" y=\"73.824457\" style=\"fill: #dd8452; stroke: #333333\"/>\n     <use xlink:href=\"#m75dcb506d3\" x=\"240.291916\" y=\"209.858056\" style=\"fill: #dd8452; stroke: #333333\"/>\n     <use xlink:href=\"#m75dcb506d3\" x=\"225.088367\" y=\"199.726916\" style=\"fill: #dd8452; stroke: #333333\"/>\n     <use xlink:href=\"#m75dcb506d3\" x=\"236.655823\" y=\"176.999323\" style=\"fill: #dd8452; stroke: #333333\"/>\n     <use xlink:href=\"#m75dcb506d3\" x=\"142.295896\" y=\"67.260871\" style=\"fill: #dd8452; stroke: #333333\"/>\n     <use xlink:href=\"#m75dcb506d3\" x=\"106.743654\" y=\"81.349958\" style=\"fill: #dd8452; stroke: #333333\"/>\n     <use xlink:href=\"#m75dcb506d3\" x=\"224.919071\" y=\"189.642311\" style=\"fill: #dd8452; stroke: #333333\"/>\n     <use xlink:href=\"#m75dcb506d3\" x=\"132.290178\" y=\"97.744118\" style=\"fill: #dd8452; stroke: #333333\"/>\n     <use xlink:href=\"#m75dcb506d3\" x=\"136.574656\" y=\"65.034417\" style=\"fill: #dd8452; stroke: #333333\"/>\n     <use xlink:href=\"#m75dcb506d3\" x=\"128.035119\" y=\"76.938838\" style=\"fill: #dd8452; stroke: #333333\"/>\n     <use xlink:href=\"#m75dcb506d3\" x=\"130.931203\" y=\"72.777188\" style=\"fill: #dd8452; stroke: #333333\"/>\n     <use xlink:href=\"#m75dcb506d3\" x=\"235.336423\" y=\"201.910468\" style=\"fill: #dd8452; stroke: #333333\"/>\n     <use xlink:href=\"#m75dcb506d3\" x=\"236.323445\" y=\"198.424915\" style=\"fill: #dd8452; stroke: #333333\"/>\n     <use xlink:href=\"#m75dcb506d3\" x=\"110.306801\" y=\"83.975368\" style=\"fill: #dd8452; stroke: #333333\"/>\n     <use xlink:href=\"#m75dcb506d3\" x=\"237.409033\" y=\"164.700915\" style=\"fill: #dd8452; stroke: #333333\"/>\n     <use xlink:href=\"#m75dcb506d3\" x=\"140.247243\" y=\"86.792584\" style=\"fill: #dd8452; stroke: #333333\"/>\n    </g>\n   </g>\n   <g id=\"patch_3\">\n    <path d=\"M 66.023594 244.078125 \nL 66.023594 22.318125 \n\" style=\"fill: none; stroke: #ffffff; stroke-width: 1.25; stroke-linejoin: miter; stroke-linecap: square\"/>\n   </g>\n   <g id=\"patch_4\">\n    <path d=\"M 287.783594 244.078125 \nL 287.783594 22.318125 \n\" style=\"fill: none; stroke: #ffffff; stroke-width: 1.25; stroke-linejoin: miter; stroke-linecap: square\"/>\n   </g>\n   <g id=\"patch_5\">\n    <path d=\"M 66.023594 244.078125 \nL 287.783594 244.078125 \n\" style=\"fill: none; stroke: #ffffff; stroke-width: 1.25; stroke-linejoin: miter; stroke-linecap: square\"/>\n   </g>\n   <g id=\"patch_6\">\n    <path d=\"M 66.023594 22.318125 \nL 287.783594 22.318125 \n\" style=\"fill: none; stroke: #ffffff; stroke-width: 1.25; stroke-linejoin: miter; stroke-linecap: square\"/>\n   </g>\n   <g id=\"text_17\">\n    <!-- Dataset samples -->\n    <g style=\"fill: #262626\" transform=\"translate(126.560781 16.318125) scale(0.12 -0.12)\">\n     <defs>\n      <path id=\"DejaVuSans-44\" d=\"M 1259 4147 \nL 1259 519 \nL 2022 519 \nQ 2988 519 3436 956 \nQ 3884 1394 3884 2338 \nQ 3884 3275 3436 3711 \nQ 2988 4147 2022 4147 \nL 1259 4147 \nz\nM 628 4666 \nL 1925 4666 \nQ 3281 4666 3915 4102 \nQ 4550 3538 4550 2338 \nQ 4550 1131 3912 565 \nQ 3275 0 1925 0 \nL 628 0 \nL 628 4666 \nz\n\" transform=\"scale(0.015625)\"/>\n      <path id=\"DejaVuSans-61\" d=\"M 2194 1759 \nQ 1497 1759 1228 1600 \nQ 959 1441 959 1056 \nQ 959 750 1161 570 \nQ 1363 391 1709 391 \nQ 2188 391 2477 730 \nQ 2766 1069 2766 1631 \nL 2766 1759 \nL 2194 1759 \nz\nM 3341 1997 \nL 3341 0 \nL 2766 0 \nL 2766 531 \nQ 2569 213 2275 61 \nQ 1981 -91 1556 -91 \nQ 1019 -91 701 211 \nQ 384 513 384 1019 \nQ 384 1609 779 1909 \nQ 1175 2209 1959 2209 \nL 2766 2209 \nL 2766 2266 \nQ 2766 2663 2505 2880 \nQ 2244 3097 1772 3097 \nQ 1472 3097 1187 3025 \nQ 903 2953 641 2809 \nL 641 3341 \nQ 956 3463 1253 3523 \nQ 1550 3584 1831 3584 \nQ 2591 3584 2966 3190 \nQ 3341 2797 3341 1997 \nz\n\" transform=\"scale(0.015625)\"/>\n      <path id=\"DejaVuSans-74\" d=\"M 1172 4494 \nL 1172 3500 \nL 2356 3500 \nL 2356 3053 \nL 1172 3053 \nL 1172 1153 \nQ 1172 725 1289 603 \nQ 1406 481 1766 481 \nL 2356 481 \nL 2356 0 \nL 1766 0 \nQ 1100 0 847 248 \nQ 594 497 594 1153 \nL 594 3053 \nL 172 3053 \nL 172 3500 \nL 594 3500 \nL 594 4494 \nL 1172 4494 \nz\n\" transform=\"scale(0.015625)\"/>\n      <path id=\"DejaVuSans-73\" d=\"M 2834 3397 \nL 2834 2853 \nQ 2591 2978 2328 3040 \nQ 2066 3103 1784 3103 \nQ 1356 3103 1142 2972 \nQ 928 2841 928 2578 \nQ 928 2378 1081 2264 \nQ 1234 2150 1697 2047 \nL 1894 2003 \nQ 2506 1872 2764 1633 \nQ 3022 1394 3022 966 \nQ 3022 478 2636 193 \nQ 2250 -91 1575 -91 \nQ 1294 -91 989 -36 \nQ 684 19 347 128 \nL 347 722 \nQ 666 556 975 473 \nQ 1284 391 1588 391 \nQ 1994 391 2212 530 \nQ 2431 669 2431 922 \nQ 2431 1156 2273 1281 \nQ 2116 1406 1581 1522 \nL 1381 1569 \nQ 847 1681 609 1914 \nQ 372 2147 372 2553 \nQ 372 3047 722 3315 \nQ 1072 3584 1716 3584 \nQ 2034 3584 2315 3537 \nQ 2597 3491 2834 3397 \nz\n\" transform=\"scale(0.015625)\"/>\n      <path id=\"DejaVuSans-65\" d=\"M 3597 1894 \nL 3597 1613 \nL 953 1613 \nQ 991 1019 1311 708 \nQ 1631 397 2203 397 \nQ 2534 397 2845 478 \nQ 3156 559 3463 722 \nL 3463 178 \nQ 3153 47 2828 -22 \nQ 2503 -91 2169 -91 \nQ 1331 -91 842 396 \nQ 353 884 353 1716 \nQ 353 2575 817 3079 \nQ 1281 3584 2069 3584 \nQ 2775 3584 3186 3129 \nQ 3597 2675 3597 1894 \nz\nM 3022 2063 \nQ 3016 2534 2758 2815 \nQ 2500 3097 2075 3097 \nQ 1594 3097 1305 2825 \nQ 1016 2553 972 2059 \nL 3022 2063 \nz\n\" transform=\"scale(0.015625)\"/>\n      <path id=\"DejaVuSans-20\" transform=\"scale(0.015625)\"/>\n      <path id=\"DejaVuSans-6d\" d=\"M 3328 2828 \nQ 3544 3216 3844 3400 \nQ 4144 3584 4550 3584 \nQ 5097 3584 5394 3201 \nQ 5691 2819 5691 2113 \nL 5691 0 \nL 5113 0 \nL 5113 2094 \nQ 5113 2597 4934 2840 \nQ 4756 3084 4391 3084 \nQ 3944 3084 3684 2787 \nQ 3425 2491 3425 1978 \nL 3425 0 \nL 2847 0 \nL 2847 2094 \nQ 2847 2600 2669 2842 \nQ 2491 3084 2119 3084 \nQ 1678 3084 1418 2786 \nQ 1159 2488 1159 1978 \nL 1159 0 \nL 581 0 \nL 581 3500 \nL 1159 3500 \nL 1159 2956 \nQ 1356 3278 1631 3431 \nQ 1906 3584 2284 3584 \nQ 2666 3584 2933 3390 \nQ 3200 3197 3328 2828 \nz\n\" transform=\"scale(0.015625)\"/>\n      <path id=\"DejaVuSans-70\" d=\"M 1159 525 \nL 1159 -1331 \nL 581 -1331 \nL 581 3500 \nL 1159 3500 \nL 1159 2969 \nQ 1341 3281 1617 3432 \nQ 1894 3584 2278 3584 \nQ 2916 3584 3314 3078 \nQ 3713 2572 3713 1747 \nQ 3713 922 3314 415 \nQ 2916 -91 2278 -91 \nQ 1894 -91 1617 61 \nQ 1341 213 1159 525 \nz\nM 3116 1747 \nQ 3116 2381 2855 2742 \nQ 2594 3103 2138 3103 \nQ 1681 3103 1420 2742 \nQ 1159 2381 1159 1747 \nQ 1159 1113 1420 752 \nQ 1681 391 2138 391 \nQ 2594 391 2855 752 \nQ 3116 1113 3116 1747 \nz\n\" transform=\"scale(0.015625)\"/>\n      <path id=\"DejaVuSans-6c\" d=\"M 603 4863 \nL 1178 4863 \nL 1178 0 \nL 603 0 \nL 603 4863 \nz\n\" transform=\"scale(0.015625)\"/>\n     </defs>\n     <use xlink:href=\"#DejaVuSans-44\"/>\n     <use xlink:href=\"#DejaVuSans-61\" transform=\"translate(77.001953 0)\"/>\n     <use xlink:href=\"#DejaVuSans-74\" transform=\"translate(138.28125 0)\"/>\n     <use xlink:href=\"#DejaVuSans-61\" transform=\"translate(177.490234 0)\"/>\n     <use xlink:href=\"#DejaVuSans-73\" transform=\"translate(238.769531 0)\"/>\n     <use xlink:href=\"#DejaVuSans-65\" transform=\"translate(290.869141 0)\"/>\n     <use xlink:href=\"#DejaVuSans-74\" transform=\"translate(352.392578 0)\"/>\n     <use xlink:href=\"#DejaVuSans-20\" transform=\"translate(391.601562 0)\"/>\n     <use xlink:href=\"#DejaVuSans-73\" transform=\"translate(423.388672 0)\"/>\n     <use xlink:href=\"#DejaVuSans-61\" transform=\"translate(475.488281 0)\"/>\n     <use xlink:href=\"#DejaVuSans-6d\" transform=\"translate(536.767578 0)\"/>\n     <use xlink:href=\"#DejaVuSans-70\" transform=\"translate(634.179688 0)\"/>\n     <use xlink:href=\"#DejaVuSans-6c\" transform=\"translate(697.65625 0)\"/>\n     <use xlink:href=\"#DejaVuSans-65\" transform=\"translate(725.439453 0)\"/>\n     <use xlink:href=\"#DejaVuSans-73\" transform=\"translate(786.962891 0)\"/>\n    </g>\n   </g>\n   <g id=\"legend_1\">\n    <g id=\"patch_7\">\n     <path d=\"M 205.450312 150.994063 \nL 280.083594 150.994063 \nQ 282.283594 150.994063 282.283594 148.794063 \nL 282.283594 117.602188 \nQ 282.283594 115.402188 280.083594 115.402188 \nL 205.450312 115.402188 \nQ 203.250313 115.402188 203.250313 117.602188 \nL 203.250313 148.794063 \nQ 203.250313 150.994063 205.450312 150.994063 \nz\n\" style=\"fill: #eaeaf2; opacity: 0.8; stroke: #cccccc; stroke-linejoin: miter\"/>\n    </g>\n    <g id=\"PathCollection_3\">\n     <g>\n      <use xlink:href=\"#m7ad53f7a63\" x=\"218.650313\" y=\"125.272969\" style=\"fill: #4c72b0; stroke: #333333\"/>\n     </g>\n    </g>\n    <g id=\"text_18\">\n     <!-- Class 0 -->\n     <g style=\"fill: #262626\" transform=\"translate(238.450313 128.160469) scale(0.11 -0.11)\">\n      <defs>\n       <path id=\"DejaVuSans-43\" d=\"M 4122 4306 \nL 4122 3641 \nQ 3803 3938 3442 4084 \nQ 3081 4231 2675 4231 \nQ 1875 4231 1450 3742 \nQ 1025 3253 1025 2328 \nQ 1025 1406 1450 917 \nQ 1875 428 2675 428 \nQ 3081 428 3442 575 \nQ 3803 722 4122 1019 \nL 4122 359 \nQ 3791 134 3420 21 \nQ 3050 -91 2638 -91 \nQ 1578 -91 968 557 \nQ 359 1206 359 2328 \nQ 359 3453 968 4101 \nQ 1578 4750 2638 4750 \nQ 3056 4750 3426 4639 \nQ 3797 4528 4122 4306 \nz\n\" transform=\"scale(0.015625)\"/>\n      </defs>\n      <use xlink:href=\"#DejaVuSans-43\"/>\n      <use xlink:href=\"#DejaVuSans-6c\" transform=\"translate(69.824219 0)\"/>\n      <use xlink:href=\"#DejaVuSans-61\" transform=\"translate(97.607422 0)\"/>\n      <use xlink:href=\"#DejaVuSans-73\" transform=\"translate(158.886719 0)\"/>\n      <use xlink:href=\"#DejaVuSans-73\" transform=\"translate(210.986328 0)\"/>\n      <use xlink:href=\"#DejaVuSans-20\" transform=\"translate(263.085938 0)\"/>\n      <use xlink:href=\"#DejaVuSans-30\" transform=\"translate(294.873047 0)\"/>\n     </g>\n    </g>\n    <g id=\"PathCollection_4\">\n     <g>\n      <use xlink:href=\"#m75dcb506d3\" x=\"218.650313\" y=\"141.418906\" style=\"fill: #dd8452; stroke: #333333\"/>\n     </g>\n    </g>\n    <g id=\"text_19\">\n     <!-- Class 1 -->\n     <g style=\"fill: #262626\" transform=\"translate(238.450313 144.306406) scale(0.11 -0.11)\">\n      <use xlink:href=\"#DejaVuSans-43\"/>\n      <use xlink:href=\"#DejaVuSans-6c\" transform=\"translate(69.824219 0)\"/>\n      <use xlink:href=\"#DejaVuSans-61\" transform=\"translate(97.607422 0)\"/>\n      <use xlink:href=\"#DejaVuSans-73\" transform=\"translate(158.886719 0)\"/>\n      <use xlink:href=\"#DejaVuSans-73\" transform=\"translate(210.986328 0)\"/>\n      <use xlink:href=\"#DejaVuSans-20\" transform=\"translate(263.085938 0)\"/>\n      <use xlink:href=\"#DejaVuSans-31\" transform=\"translate(294.873047 0)\"/>\n     </g>\n    </g>\n   </g>\n  </g>\n </g>\n <defs>\n  <clipPath id=\"pb1facfb168\">\n   <rect x=\"66.023594\" y=\"22.318125\" width=\"221.76\" height=\"221.76\"/>\n  </clipPath>\n </defs>\n</svg>\n",
            "application/pdf": "[encoded data removed]"
          },
          "metadata": {}
        }
      ],
      "source": [
        "@torch.no_grad() # Decorator, same effect as \"with torch.no_grad(): ...\" over the whole function.\n",
        "def visualize_classification(model, data, label):\n",
        "    if isinstance(data, torch.Tensor):\n",
        "        data = data.cpu().numpy()\n",
        "    if isinstance(label, torch.Tensor):\n",
        "        label = label.cpu().numpy()\n",
        "    data_0 = data[label == 0]\n",
        "    data_1 = data[label == 1]\n",
        "\n",
        "    fig = plt.figure(figsize=(4,4), dpi=500)\n",
        "    plt.scatter(data_0[:,0], data_0[:,1], edgecolor=\"#333\", label=\"Class 0\")\n",
        "    plt.scatter(data_1[:,0], data_1[:,1], edgecolor=\"#333\", label=\"Class 1\")\n",
        "    plt.title(\"Dataset samples\")\n",
        "    plt.ylabel(r\"$x_2$\")\n",
        "    plt.xlabel(r\"$x_1$\")\n",
        "    plt.legend()\n",
        "\n",
        "    # Let's make use of a lot of operations we have learned above\n",
        "    model.to(device)\n",
        "    c0 = torch.Tensor(to_rgba(\"C0\")).to(device)\n",
        "    c1 = torch.Tensor(to_rgba(\"C1\")).to(device)\n",
        "    x1 = torch.arange(-0.5, 1.5, step=0.01, device=device)\n",
        "    x2 = torch.arange(-0.5, 1.5, step=0.01, device=device)\n",
        "    xx1, xx2 = torch.meshgrid(x1, x2, indexing='ij')  # Meshgrid function as in numpy\n",
        "    model_inputs = torch.stack([xx1, xx2], dim=-1)\n",
        "    preds = model(model_inputs)\n",
        "    preds = torch.sigmoid(preds)\n",
        "    output_image = (1 - preds) * c0[None,None] + preds * c1[None,None]  # Specifying \"None\" in a dimension creates a new one\n",
        "    output_image = output_image.cpu().numpy()  # Convert to numpy array. This only works for tensors on CPU, hence first push to CPU\n",
        "    plt.imshow(output_image, origin='lower', extent=(-0.5, 1.5, -0.5, 1.5))\n",
        "    plt.grid(False)\n",
        "    return fig\n",
        "\n",
        "_ = visualize_classification(model, dataset.data, dataset.label)\n",
        "plt.show()"
      ]
    },
    {
      "cell_type": "markdown",
      "source": [
        "hàm trực quan hóa dữ liệu\n",
        "* if isinstance(data, torch.Tensor):\n",
        "        data = data.cpu().numpy()\n",
        "    if isinstance(label, torch.Tensor):\n",
        "        label = label.cpu().numpy()\n",
        "Nếu data và label là tensor, chuyển sang NumPy để có thể vẽ bằng Matplotlib.\n",
        "* torch.meshgrid() tạo ra hai tensor 2D, đại diện cho tất cả các cặp giá trị (x1, x2) có thể có trong không gian tọa độ.\n"
      ],
      "metadata": {
        "id": "YncHZoLHlBi_"
      }
    },
    {
      "cell_type": "markdown",
      "metadata": {
        "id": "QwrUktzIgmvo"
      },
      "source": [
        "The decision boundaries might not look exactly as in the figure in the preamble of this section which can be caused by running it on CPU or a different GPU architecture. Nevertheless, the result on the accuracy metric should be the approximately the same."
      ]
    },
    {
      "cell_type": "markdown",
      "metadata": {
        "id": "QzzZbQL5gmvo"
      },
      "source": [
        "## Additional features we didn't get to discuss yet\n",
        "\n",
        "Finally, you are all set to start with your own PyTorch project! In summary, we have looked at how we can build neural networks in PyTorch, and train and test them on data. However, there is still much more to PyTorch we haven't discussed yet. In the coming series of Jupyter notebooks, we will discover more and more functionalities of PyTorch, so that you also get familiar to PyTorch concepts beyond the basics. If you are already interested in learning more of PyTorch, we recommend the official [tutorial website](https://pytorch.org/tutorials/) that contains many tutorials on various topics. Especially logging with Tensorboard ([official tutorial here](https://pytorch.org/tutorials/intermediate/tensorboard_tutorial.html)) is a good practice that we will explore further from Tutorial 5 on in combination with PyTorch Lightning.\n",
        "Nonetheless, let's check it shortly out how we could use TensorBoard in our small example."
      ]
    },
    {
      "cell_type": "markdown",
      "metadata": {
        "id": "1eM9O1m6gmvo"
      },
      "source": [
        "### TensorBoard logging\n",
        "\n",
        "TensorBoard is a logging and visualization tool that is a popular choice for training deep learning models. Although initially published for TensorFlow, TensorBoard is also integrated in PyTorch allowing us to easily use it. First, let's import it below."
      ]
    },
    {
      "cell_type": "code",
      "execution_count": 60,
      "metadata": {
        "id": "rkM10VoOgmvo"
      },
      "outputs": [],
      "source": [
        "# Import tensorboard logger from PyTorch\n",
        "from torch.utils.tensorboard import SummaryWriter\n",
        "\n",
        "# Load tensorboard extension for Jupyter Notebook, only need to start TB in the notebook\n",
        "%load_ext tensorboard"
      ]
    },
    {
      "cell_type": "markdown",
      "source": [
        "* SummaryWriter là một class trong PyTorch giúp ghi lại các số liệu (loss, accuracy, histogram, hình ảnh,...) vào TensorBoard để trực quan hóa quá trình huấn luyện.\n",
        "* Đây là magic command trong Jupyter Notebook để tải extension TensorBoard."
      ],
      "metadata": {
        "id": "Ivl3-MTdnYYo"
      }
    },
    {
      "cell_type": "markdown",
      "metadata": {
        "id": "Oawu8oyEgmvo"
      },
      "source": [
        "The last line is required if you want to run TensorBoard directly in the Jupyter Notebook. Otherwise, you can start TensorBoard from the terminal.\n",
        "\n",
        "PyTorch's TensorBoard API is simple to use. We start the logging process by creating a new object, `writer = SummaryWriter(...)`, where we specify the directory in which the logging file should be saved. With this object, we can log different aspects of our model by calling functions of the style `writer.add_...`. For example, we can visualize the computation graph with the function `writer.add_graph`, or add a scalar value like the loss with `writer.add_scalar`. Let's adapt our initial training function with adding a TensorBoard logger below."
      ]
    },
    {
      "cell_type": "code",
      "execution_count": 61,
      "metadata": {
        "id": "IkviKsakgmvo"
      },
      "outputs": [],
      "source": [
        "def train_model_with_logger(model, optimizer, data_loader, loss_module, val_dataset, num_epochs=100, logging_dir='runs/our_experiment'):\n",
        "    # Create TensorBoard logger\n",
        "    writer = SummaryWriter(logging_dir)\n",
        "    model_plotted = False\n",
        "\n",
        "    # Set model to train mode\n",
        "    model.train()\n",
        "\n",
        "    # Training loop\n",
        "    for epoch in tqdm(range(num_epochs)):\n",
        "        epoch_loss = 0.0\n",
        "        for data_inputs, data_labels in data_loader:\n",
        "\n",
        "            ## Step 1: Move input data to device (only strictly necessary if we use GPU)\n",
        "            data_inputs = data_inputs.to(device)\n",
        "            data_labels = data_labels.to(device)\n",
        "\n",
        "            # For the very first batch, we visualize the computation graph in TensorBoard\n",
        "            if not model_plotted:\n",
        "                writer.add_graph(model, data_inputs)\n",
        "                model_plotted = True\n",
        "\n",
        "            ## Step 2: Run the model on the input data\n",
        "            preds = model(data_inputs)\n",
        "            preds = preds.squeeze(dim=1) # Output is [Batch size, 1], but we want [Batch size]\n",
        "\n",
        "            ## Step 3: Calculate the loss\n",
        "            loss = loss_module(preds, data_labels.float())\n",
        "\n",
        "            ## Step 4: Perform backpropagation\n",
        "            # Before calculating the gradients, we need to ensure that they are all zero.\n",
        "            # The gradients would not be overwritten, but actually added to the existing ones.\n",
        "            optimizer.zero_grad()\n",
        "            # Perform backpropagation\n",
        "            loss.backward()\n",
        "\n",
        "            ## Step 5: Update the parameters\n",
        "            optimizer.step()\n",
        "\n",
        "            ## Step 6: Take the running average of the loss\n",
        "            epoch_loss += loss.item()\n",
        "\n",
        "        # Add average loss to TensorBoard\n",
        "        epoch_loss /= len(data_loader)\n",
        "        writer.add_scalar('training_loss',\n",
        "                          epoch_loss,\n",
        "                          global_step = epoch + 1)\n",
        "\n",
        "        # Visualize prediction and add figure to TensorBoard\n",
        "        # Since matplotlib figures can be slow in rendering, we only do it every 10th epoch\n",
        "        if (epoch + 1) % 10 == 0:\n",
        "            fig = visualize_classification(model, val_dataset.data, val_dataset.label)\n",
        "            writer.add_figure('predictions',\n",
        "                              fig,\n",
        "                              global_step = epoch + 1)\n",
        "\n",
        "    writer.close()"
      ]
    },
    {
      "cell_type": "markdown",
      "source": [
        "* hàm dùng để huấn luyện mô hình trong PyTorch và ghi lại thông tin bằng TensorBoard.\n",
        "* SummaryWriter(logging_dir): Tạo một logger để ghi dữ liệu vào thư mục logging_dir, mặc định là 'runs/our_experiment', Logger này sẽ ghi nhận các thông tin như đồ thị mạng, loss trong mỗi epoch, hình ảnh dự đoán,..."
      ],
      "metadata": {
        "id": "auhseMuXoD1H"
      }
    },
    {
      "cell_type": "markdown",
      "metadata": {
        "id": "4g9_IpwGgmvp"
      },
      "source": [
        "Let's use this method to train a model as before, with a new model and optimizer."
      ]
    },
    {
      "cell_type": "code",
      "execution_count": 62,
      "metadata": {
        "colab": {
          "referenced_widgets": [
            "85a500ad32234cf0b8f1291dfba65ea9",
            "bf66616d4e6b4ead8b4f7ae5878d4ba2",
            "018c06be2bc943d79d142ab6d94a8314",
            "2ea3a279c17545e49575e60c0e285c41",
            "5e02179367024cf3834eb0b643c609c2",
            "36f6d50baf5143f58656fbdc7040f53a",
            "037a0758b0e14016b15ba0487e276460",
            "83f6e732fb7d4b6cbda9fd65a63ca8bb",
            "8f5b4d625a854221af6b22f7234d6294",
            "894cf3829f5b4247814379fd09de73a0",
            "06560b289ddb4e3ca3c2f1c80abdc79e"
          ],
          "base_uri": "https://localhost:8080/",
          "height": 49
        },
        "id": "45caXqW3gmvp",
        "outputId": "a4feaf24-e9f9-4283-b3c0-76994396a93c"
      },
      "outputs": [
        {
          "output_type": "display_data",
          "data": {
            "text/plain": [
              "  0%|          | 0/100 [00:00<?, ?it/s]"
            ],
            "application/vnd.jupyter.widget-view+json": {
              "version_major": 2,
              "version_minor": 0,
              "model_id": "85a500ad32234cf0b8f1291dfba65ea9"
            }
          },
          "metadata": {}
        }
      ],
      "source": [
        "model = SimpleClassifier(num_inputs=2, num_hidden=4, num_outputs=1).to(device)\n",
        "optimizer = torch.optim.SGD(model.parameters(), lr=0.1)\n",
        "train_model_with_logger(model, optimizer, train_data_loader, loss_module, val_dataset=dataset)"
      ]
    },
    {
      "cell_type": "markdown",
      "metadata": {
        "id": "9SNrefk8gmvp"
      },
      "source": [
        "The TensorBoard file in the folder `runs/our_experiment` now contains a loss curve, the computation graph of our network, and a visualization of the learned predictions over number of epochs. To start the TensorBoard visualizer, simply run the following statement:"
      ]
    },
    {
      "cell_type": "code",
      "execution_count": null,
      "metadata": {
        "id": "UxSWUR7igmvp"
      },
      "outputs": [],
      "source": [
        "%tensorboard --logdir runs/our_experiment"
      ]
    },
    {
      "cell_type": "markdown",
      "metadata": {
        "id": "8vmFRZbOgmvp"
      },
      "source": [
        "<center><img src=\"https://github.com/phlippe/uvadlc_notebooks/blob/master/docs/tutorial_notebooks/tutorial2/tensorboard_screenshot.png?raw=1\" width=\"1100px\"></center>\n",
        "\n",
        "TensorBoard visualizations can help to identify possible issues with your model, and identify situations such as overfitting. You can also track the training progress while a model is training, since the logger automatically writes everything added to it to the logging file. Feel free to explore the TensorBoard functionalities, and we will make use of TensorBoards a couple of times from Tutorial 5 on."
      ]
    },
    {
      "cell_type": "markdown",
      "metadata": {
        "id": "NQcpq4wTgmvp"
      },
      "source": [
        "---\n",
        "\n",
        "[![Star our repository](https://img.shields.io/static/v1.svg?logo=star&label=⭐&message=Star%20Our%20Repository&color=yellow)](https://github.com/phlippe/uvadlc_notebooks/)  If you found this tutorial helpful, consider ⭐-ing our repository.    \n",
        "[![Ask questions](https://img.shields.io/static/v1.svg?logo=star&label=❔&message=Ask%20Questions&color=9cf)](https://github.com/phlippe/uvadlc_notebooks/issues)  For any questions, typos, or bugs that you found, please raise an issue on GitHub.\n",
        "\n",
        "---"
      ]
    }
  ],
  "metadata": {
    "kernelspec": {
      "display_name": "Python 3",
      "name": "python3"
    },
    "language_info": {
      "codemirror_mode": {
        "name": "ipython",
        "version": 3
      },
      "file_extension": ".py",
      "mimetype": "text/x-python",
      "name": "python",
      "nbconvert_exporter": "python",
      "pygments_lexer": "ipython3",
      "version": "3.10.6"
    },
    "colab": {
      "provenance": [],
      "gpuType": "T4",
      "include_colab_link": true
    },
    "accelerator": "GPU",
    "widgets": {
      "application/vnd.jupyter.widget-state+json": {
        "54f5de581e684af28b3339cf6ff837c2": {
          "model_module": "@jupyter-widgets/controls",
          "model_name": "HBoxModel",
          "model_module_version": "1.5.0",
          "state": {
            "_dom_classes": [],
            "_model_module": "@jupyter-widgets/controls",
            "_model_module_version": "1.5.0",
            "_model_name": "HBoxModel",
            "_view_count": null,
            "_view_module": "@jupyter-widgets/controls",
            "_view_module_version": "1.5.0",
            "_view_name": "HBoxView",
            "box_style": "",
            "children": [
              "IPY_MODEL_2f1e6ce6ea7c4aa3a179bc418616b4b0",
              "IPY_MODEL_473d31c927af43a4984be1d723b50d07",
              "IPY_MODEL_f0049cdb446443bf85758b2a3b8cd101"
            ],
            "layout": "IPY_MODEL_07eaa37b11b9441eacd3ef960c14468e"
          }
        },
        "2f1e6ce6ea7c4aa3a179bc418616b4b0": {
          "model_module": "@jupyter-widgets/controls",
          "model_name": "HTMLModel",
          "model_module_version": "1.5.0",
          "state": {
            "_dom_classes": [],
            "_model_module": "@jupyter-widgets/controls",
            "_model_module_version": "1.5.0",
            "_model_name": "HTMLModel",
            "_view_count": null,
            "_view_module": "@jupyter-widgets/controls",
            "_view_module_version": "1.5.0",
            "_view_name": "HTMLView",
            "description": "",
            "description_tooltip": null,
            "layout": "IPY_MODEL_cc52ef8cf60b4dbcb9c32df19174c5b3",
            "placeholder": "​",
            "style": "IPY_MODEL_df50236df145448a9ac1194ba49f7ca0",
            "value": "100%"
          }
        },
        "473d31c927af43a4984be1d723b50d07": {
          "model_module": "@jupyter-widgets/controls",
          "model_name": "FloatProgressModel",
          "model_module_version": "1.5.0",
          "state": {
            "_dom_classes": [],
            "_model_module": "@jupyter-widgets/controls",
            "_model_module_version": "1.5.0",
            "_model_name": "FloatProgressModel",
            "_view_count": null,
            "_view_module": "@jupyter-widgets/controls",
            "_view_module_version": "1.5.0",
            "_view_name": "ProgressView",
            "bar_style": "success",
            "description": "",
            "description_tooltip": null,
            "layout": "IPY_MODEL_5287878c505a4b37b46737b476403cda",
            "max": 100,
            "min": 0,
            "orientation": "horizontal",
            "style": "IPY_MODEL_9cab098bd15445758741209b077ab5f1",
            "value": 100
          }
        },
        "f0049cdb446443bf85758b2a3b8cd101": {
          "model_module": "@jupyter-widgets/controls",
          "model_name": "HTMLModel",
          "model_module_version": "1.5.0",
          "state": {
            "_dom_classes": [],
            "_model_module": "@jupyter-widgets/controls",
            "_model_module_version": "1.5.0",
            "_model_name": "HTMLModel",
            "_view_count": null,
            "_view_module": "@jupyter-widgets/controls",
            "_view_module_version": "1.5.0",
            "_view_name": "HTMLView",
            "description": "",
            "description_tooltip": null,
            "layout": "IPY_MODEL_7ef48d12eac64c61ae7efcb78c64301b",
            "placeholder": "​",
            "style": "IPY_MODEL_d25cdb099ab54a76824855c25f789065",
            "value": " 100/100 [00:04&lt;00:00, 27.34it/s]"
          }
        },
        "07eaa37b11b9441eacd3ef960c14468e": {
          "model_module": "@jupyter-widgets/base",
          "model_name": "LayoutModel",
          "model_module_version": "1.2.0",
          "state": {
            "_model_module": "@jupyter-widgets/base",
            "_model_module_version": "1.2.0",
            "_model_name": "LayoutModel",
            "_view_count": null,
            "_view_module": "@jupyter-widgets/base",
            "_view_module_version": "1.2.0",
            "_view_name": "LayoutView",
            "align_content": null,
            "align_items": null,
            "align_self": null,
            "border": null,
            "bottom": null,
            "display": null,
            "flex": null,
            "flex_flow": null,
            "grid_area": null,
            "grid_auto_columns": null,
            "grid_auto_flow": null,
            "grid_auto_rows": null,
            "grid_column": null,
            "grid_gap": null,
            "grid_row": null,
            "grid_template_areas": null,
            "grid_template_columns": null,
            "grid_template_rows": null,
            "height": null,
            "justify_content": null,
            "justify_items": null,
            "left": null,
            "margin": null,
            "max_height": null,
            "max_width": null,
            "min_height": null,
            "min_width": null,
            "object_fit": null,
            "object_position": null,
            "order": null,
            "overflow": null,
            "overflow_x": null,
            "overflow_y": null,
            "padding": null,
            "right": null,
            "top": null,
            "visibility": null,
            "width": null
          }
        },
        "cc52ef8cf60b4dbcb9c32df19174c5b3": {
          "model_module": "@jupyter-widgets/base",
          "model_name": "LayoutModel",
          "model_module_version": "1.2.0",
          "state": {
            "_model_module": "@jupyter-widgets/base",
            "_model_module_version": "1.2.0",
            "_model_name": "LayoutModel",
            "_view_count": null,
            "_view_module": "@jupyter-widgets/base",
            "_view_module_version": "1.2.0",
            "_view_name": "LayoutView",
            "align_content": null,
            "align_items": null,
            "align_self": null,
            "border": null,
            "bottom": null,
            "display": null,
            "flex": null,
            "flex_flow": null,
            "grid_area": null,
            "grid_auto_columns": null,
            "grid_auto_flow": null,
            "grid_auto_rows": null,
            "grid_column": null,
            "grid_gap": null,
            "grid_row": null,
            "grid_template_areas": null,
            "grid_template_columns": null,
            "grid_template_rows": null,
            "height": null,
            "justify_content": null,
            "justify_items": null,
            "left": null,
            "margin": null,
            "max_height": null,
            "max_width": null,
            "min_height": null,
            "min_width": null,
            "object_fit": null,
            "object_position": null,
            "order": null,
            "overflow": null,
            "overflow_x": null,
            "overflow_y": null,
            "padding": null,
            "right": null,
            "top": null,
            "visibility": null,
            "width": null
          }
        },
        "df50236df145448a9ac1194ba49f7ca0": {
          "model_module": "@jupyter-widgets/controls",
          "model_name": "DescriptionStyleModel",
          "model_module_version": "1.5.0",
          "state": {
            "_model_module": "@jupyter-widgets/controls",
            "_model_module_version": "1.5.0",
            "_model_name": "DescriptionStyleModel",
            "_view_count": null,
            "_view_module": "@jupyter-widgets/base",
            "_view_module_version": "1.2.0",
            "_view_name": "StyleView",
            "description_width": ""
          }
        },
        "5287878c505a4b37b46737b476403cda": {
          "model_module": "@jupyter-widgets/base",
          "model_name": "LayoutModel",
          "model_module_version": "1.2.0",
          "state": {
            "_model_module": "@jupyter-widgets/base",
            "_model_module_version": "1.2.0",
            "_model_name": "LayoutModel",
            "_view_count": null,
            "_view_module": "@jupyter-widgets/base",
            "_view_module_version": "1.2.0",
            "_view_name": "LayoutView",
            "align_content": null,
            "align_items": null,
            "align_self": null,
            "border": null,
            "bottom": null,
            "display": null,
            "flex": null,
            "flex_flow": null,
            "grid_area": null,
            "grid_auto_columns": null,
            "grid_auto_flow": null,
            "grid_auto_rows": null,
            "grid_column": null,
            "grid_gap": null,
            "grid_row": null,
            "grid_template_areas": null,
            "grid_template_columns": null,
            "grid_template_rows": null,
            "height": null,
            "justify_content": null,
            "justify_items": null,
            "left": null,
            "margin": null,
            "max_height": null,
            "max_width": null,
            "min_height": null,
            "min_width": null,
            "object_fit": null,
            "object_position": null,
            "order": null,
            "overflow": null,
            "overflow_x": null,
            "overflow_y": null,
            "padding": null,
            "right": null,
            "top": null,
            "visibility": null,
            "width": null
          }
        },
        "9cab098bd15445758741209b077ab5f1": {
          "model_module": "@jupyter-widgets/controls",
          "model_name": "ProgressStyleModel",
          "model_module_version": "1.5.0",
          "state": {
            "_model_module": "@jupyter-widgets/controls",
            "_model_module_version": "1.5.0",
            "_model_name": "ProgressStyleModel",
            "_view_count": null,
            "_view_module": "@jupyter-widgets/base",
            "_view_module_version": "1.2.0",
            "_view_name": "StyleView",
            "bar_color": null,
            "description_width": ""
          }
        },
        "7ef48d12eac64c61ae7efcb78c64301b": {
          "model_module": "@jupyter-widgets/base",
          "model_name": "LayoutModel",
          "model_module_version": "1.2.0",
          "state": {
            "_model_module": "@jupyter-widgets/base",
            "_model_module_version": "1.2.0",
            "_model_name": "LayoutModel",
            "_view_count": null,
            "_view_module": "@jupyter-widgets/base",
            "_view_module_version": "1.2.0",
            "_view_name": "LayoutView",
            "align_content": null,
            "align_items": null,
            "align_self": null,
            "border": null,
            "bottom": null,
            "display": null,
            "flex": null,
            "flex_flow": null,
            "grid_area": null,
            "grid_auto_columns": null,
            "grid_auto_flow": null,
            "grid_auto_rows": null,
            "grid_column": null,
            "grid_gap": null,
            "grid_row": null,
            "grid_template_areas": null,
            "grid_template_columns": null,
            "grid_template_rows": null,
            "height": null,
            "justify_content": null,
            "justify_items": null,
            "left": null,
            "margin": null,
            "max_height": null,
            "max_width": null,
            "min_height": null,
            "min_width": null,
            "object_fit": null,
            "object_position": null,
            "order": null,
            "overflow": null,
            "overflow_x": null,
            "overflow_y": null,
            "padding": null,
            "right": null,
            "top": null,
            "visibility": null,
            "width": null
          }
        },
        "d25cdb099ab54a76824855c25f789065": {
          "model_module": "@jupyter-widgets/controls",
          "model_name": "DescriptionStyleModel",
          "model_module_version": "1.5.0",
          "state": {
            "_model_module": "@jupyter-widgets/controls",
            "_model_module_version": "1.5.0",
            "_model_name": "DescriptionStyleModel",
            "_view_count": null,
            "_view_module": "@jupyter-widgets/base",
            "_view_module_version": "1.2.0",
            "_view_name": "StyleView",
            "description_width": ""
          }
        },
        "85a500ad32234cf0b8f1291dfba65ea9": {
          "model_module": "@jupyter-widgets/controls",
          "model_name": "HBoxModel",
          "model_module_version": "1.5.0",
          "state": {
            "_dom_classes": [],
            "_model_module": "@jupyter-widgets/controls",
            "_model_module_version": "1.5.0",
            "_model_name": "HBoxModel",
            "_view_count": null,
            "_view_module": "@jupyter-widgets/controls",
            "_view_module_version": "1.5.0",
            "_view_name": "HBoxView",
            "box_style": "",
            "children": [
              "IPY_MODEL_bf66616d4e6b4ead8b4f7ae5878d4ba2",
              "IPY_MODEL_018c06be2bc943d79d142ab6d94a8314",
              "IPY_MODEL_2ea3a279c17545e49575e60c0e285c41"
            ],
            "layout": "IPY_MODEL_5e02179367024cf3834eb0b643c609c2"
          }
        },
        "bf66616d4e6b4ead8b4f7ae5878d4ba2": {
          "model_module": "@jupyter-widgets/controls",
          "model_name": "HTMLModel",
          "model_module_version": "1.5.0",
          "state": {
            "_dom_classes": [],
            "_model_module": "@jupyter-widgets/controls",
            "_model_module_version": "1.5.0",
            "_model_name": "HTMLModel",
            "_view_count": null,
            "_view_module": "@jupyter-widgets/controls",
            "_view_module_version": "1.5.0",
            "_view_name": "HTMLView",
            "description": "",
            "description_tooltip": null,
            "layout": "IPY_MODEL_36f6d50baf5143f58656fbdc7040f53a",
            "placeholder": "​",
            "style": "IPY_MODEL_037a0758b0e14016b15ba0487e276460",
            "value": "100%"
          }
        },
        "018c06be2bc943d79d142ab6d94a8314": {
          "model_module": "@jupyter-widgets/controls",
          "model_name": "FloatProgressModel",
          "model_module_version": "1.5.0",
          "state": {
            "_dom_classes": [],
            "_model_module": "@jupyter-widgets/controls",
            "_model_module_version": "1.5.0",
            "_model_name": "FloatProgressModel",
            "_view_count": null,
            "_view_module": "@jupyter-widgets/controls",
            "_view_module_version": "1.5.0",
            "_view_name": "ProgressView",
            "bar_style": "success",
            "description": "",
            "description_tooltip": null,
            "layout": "IPY_MODEL_83f6e732fb7d4b6cbda9fd65a63ca8bb",
            "max": 100,
            "min": 0,
            "orientation": "horizontal",
            "style": "IPY_MODEL_8f5b4d625a854221af6b22f7234d6294",
            "value": 100
          }
        },
        "2ea3a279c17545e49575e60c0e285c41": {
          "model_module": "@jupyter-widgets/controls",
          "model_name": "HTMLModel",
          "model_module_version": "1.5.0",
          "state": {
            "_dom_classes": [],
            "_model_module": "@jupyter-widgets/controls",
            "_model_module_version": "1.5.0",
            "_model_name": "HTMLModel",
            "_view_count": null,
            "_view_module": "@jupyter-widgets/controls",
            "_view_module_version": "1.5.0",
            "_view_name": "HTMLView",
            "description": "",
            "description_tooltip": null,
            "layout": "IPY_MODEL_894cf3829f5b4247814379fd09de73a0",
            "placeholder": "​",
            "style": "IPY_MODEL_06560b289ddb4e3ca3c2f1c80abdc79e",
            "value": " 100/100 [00:10&lt;00:00, 12.94it/s]"
          }
        },
        "5e02179367024cf3834eb0b643c609c2": {
          "model_module": "@jupyter-widgets/base",
          "model_name": "LayoutModel",
          "model_module_version": "1.2.0",
          "state": {
            "_model_module": "@jupyter-widgets/base",
            "_model_module_version": "1.2.0",
            "_model_name": "LayoutModel",
            "_view_count": null,
            "_view_module": "@jupyter-widgets/base",
            "_view_module_version": "1.2.0",
            "_view_name": "LayoutView",
            "align_content": null,
            "align_items": null,
            "align_self": null,
            "border": null,
            "bottom": null,
            "display": null,
            "flex": null,
            "flex_flow": null,
            "grid_area": null,
            "grid_auto_columns": null,
            "grid_auto_flow": null,
            "grid_auto_rows": null,
            "grid_column": null,
            "grid_gap": null,
            "grid_row": null,
            "grid_template_areas": null,
            "grid_template_columns": null,
            "grid_template_rows": null,
            "height": null,
            "justify_content": null,
            "justify_items": null,
            "left": null,
            "margin": null,
            "max_height": null,
            "max_width": null,
            "min_height": null,
            "min_width": null,
            "object_fit": null,
            "object_position": null,
            "order": null,
            "overflow": null,
            "overflow_x": null,
            "overflow_y": null,
            "padding": null,
            "right": null,
            "top": null,
            "visibility": null,
            "width": null
          }
        },
        "36f6d50baf5143f58656fbdc7040f53a": {
          "model_module": "@jupyter-widgets/base",
          "model_name": "LayoutModel",
          "model_module_version": "1.2.0",
          "state": {
            "_model_module": "@jupyter-widgets/base",
            "_model_module_version": "1.2.0",
            "_model_name": "LayoutModel",
            "_view_count": null,
            "_view_module": "@jupyter-widgets/base",
            "_view_module_version": "1.2.0",
            "_view_name": "LayoutView",
            "align_content": null,
            "align_items": null,
            "align_self": null,
            "border": null,
            "bottom": null,
            "display": null,
            "flex": null,
            "flex_flow": null,
            "grid_area": null,
            "grid_auto_columns": null,
            "grid_auto_flow": null,
            "grid_auto_rows": null,
            "grid_column": null,
            "grid_gap": null,
            "grid_row": null,
            "grid_template_areas": null,
            "grid_template_columns": null,
            "grid_template_rows": null,
            "height": null,
            "justify_content": null,
            "justify_items": null,
            "left": null,
            "margin": null,
            "max_height": null,
            "max_width": null,
            "min_height": null,
            "min_width": null,
            "object_fit": null,
            "object_position": null,
            "order": null,
            "overflow": null,
            "overflow_x": null,
            "overflow_y": null,
            "padding": null,
            "right": null,
            "top": null,
            "visibility": null,
            "width": null
          }
        },
        "037a0758b0e14016b15ba0487e276460": {
          "model_module": "@jupyter-widgets/controls",
          "model_name": "DescriptionStyleModel",
          "model_module_version": "1.5.0",
          "state": {
            "_model_module": "@jupyter-widgets/controls",
            "_model_module_version": "1.5.0",
            "_model_name": "DescriptionStyleModel",
            "_view_count": null,
            "_view_module": "@jupyter-widgets/base",
            "_view_module_version": "1.2.0",
            "_view_name": "StyleView",
            "description_width": ""
          }
        },
        "83f6e732fb7d4b6cbda9fd65a63ca8bb": {
          "model_module": "@jupyter-widgets/base",
          "model_name": "LayoutModel",
          "model_module_version": "1.2.0",
          "state": {
            "_model_module": "@jupyter-widgets/base",
            "_model_module_version": "1.2.0",
            "_model_name": "LayoutModel",
            "_view_count": null,
            "_view_module": "@jupyter-widgets/base",
            "_view_module_version": "1.2.0",
            "_view_name": "LayoutView",
            "align_content": null,
            "align_items": null,
            "align_self": null,
            "border": null,
            "bottom": null,
            "display": null,
            "flex": null,
            "flex_flow": null,
            "grid_area": null,
            "grid_auto_columns": null,
            "grid_auto_flow": null,
            "grid_auto_rows": null,
            "grid_column": null,
            "grid_gap": null,
            "grid_row": null,
            "grid_template_areas": null,
            "grid_template_columns": null,
            "grid_template_rows": null,
            "height": null,
            "justify_content": null,
            "justify_items": null,
            "left": null,
            "margin": null,
            "max_height": null,
            "max_width": null,
            "min_height": null,
            "min_width": null,
            "object_fit": null,
            "object_position": null,
            "order": null,
            "overflow": null,
            "overflow_x": null,
            "overflow_y": null,
            "padding": null,
            "right": null,
            "top": null,
            "visibility": null,
            "width": null
          }
        },
        "8f5b4d625a854221af6b22f7234d6294": {
          "model_module": "@jupyter-widgets/controls",
          "model_name": "ProgressStyleModel",
          "model_module_version": "1.5.0",
          "state": {
            "_model_module": "@jupyter-widgets/controls",
            "_model_module_version": "1.5.0",
            "_model_name": "ProgressStyleModel",
            "_view_count": null,
            "_view_module": "@jupyter-widgets/base",
            "_view_module_version": "1.2.0",
            "_view_name": "StyleView",
            "bar_color": null,
            "description_width": ""
          }
        },
        "894cf3829f5b4247814379fd09de73a0": {
          "model_module": "@jupyter-widgets/base",
          "model_name": "LayoutModel",
          "model_module_version": "1.2.0",
          "state": {
            "_model_module": "@jupyter-widgets/base",
            "_model_module_version": "1.2.0",
            "_model_name": "LayoutModel",
            "_view_count": null,
            "_view_module": "@jupyter-widgets/base",
            "_view_module_version": "1.2.0",
            "_view_name": "LayoutView",
            "align_content": null,
            "align_items": null,
            "align_self": null,
            "border": null,
            "bottom": null,
            "display": null,
            "flex": null,
            "flex_flow": null,
            "grid_area": null,
            "grid_auto_columns": null,
            "grid_auto_flow": null,
            "grid_auto_rows": null,
            "grid_column": null,
            "grid_gap": null,
            "grid_row": null,
            "grid_template_areas": null,
            "grid_template_columns": null,
            "grid_template_rows": null,
            "height": null,
            "justify_content": null,
            "justify_items": null,
            "left": null,
            "margin": null,
            "max_height": null,
            "max_width": null,
            "min_height": null,
            "min_width": null,
            "object_fit": null,
            "object_position": null,
            "order": null,
            "overflow": null,
            "overflow_x": null,
            "overflow_y": null,
            "padding": null,
            "right": null,
            "top": null,
            "visibility": null,
            "width": null
          }
        },
        "06560b289ddb4e3ca3c2f1c80abdc79e": {
          "model_module": "@jupyter-widgets/controls",
          "model_name": "DescriptionStyleModel",
          "model_module_version": "1.5.0",
          "state": {
            "_model_module": "@jupyter-widgets/controls",
            "_model_module_version": "1.5.0",
            "_model_name": "DescriptionStyleModel",
            "_view_count": null,
            "_view_module": "@jupyter-widgets/base",
            "_view_module_version": "1.2.0",
            "_view_name": "StyleView",
            "description_width": ""
          }
        }
      }
    }
  },
  "nbformat": 4,
  "nbformat_minor": 0
}